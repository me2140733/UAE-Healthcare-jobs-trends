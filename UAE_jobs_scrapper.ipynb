{
 "cells": [
  {
   "cell_type": "code",
   "execution_count": 1,
   "metadata": {},
   "outputs": [
    {
     "name": "stdout",
     "output_type": "stream",
     "text": [
      "Requirement already satisfied: jobs_scraper in c:\\users\\admin\\anaconda3\\lib\\site-packages (0.0.10)\n",
      "Requirement already satisfied: pandas in c:\\users\\admin\\anaconda3\\lib\\site-packages (from jobs_scraper) (1.2.3)\n",
      "Requirement already satisfied: lxml in c:\\users\\admin\\anaconda3\\lib\\site-packages (from jobs_scraper) (4.6.3)\n",
      "Requirement already satisfied: tqdm in c:\\users\\admin\\anaconda3\\lib\\site-packages (from jobs_scraper) (4.59.0)\n",
      "Requirement already satisfied: requests in c:\\users\\admin\\anaconda3\\lib\\site-packages (from jobs_scraper) (2.25.1)\n",
      "Requirement already satisfied: bs4 in c:\\users\\admin\\anaconda3\\lib\\site-packages (from jobs_scraper) (0.0.1)\n",
      "Requirement already satisfied: beautifulsoup4 in c:\\users\\admin\\anaconda3\\lib\\site-packages (from bs4->jobs_scraper) (4.9.3)\n",
      "Requirement already satisfied: soupsieve>1.2 in c:\\users\\admin\\anaconda3\\lib\\site-packages (from beautifulsoup4->bs4->jobs_scraper) (2.2.1)\n",
      "Requirement already satisfied: pytz>=2017.3 in c:\\users\\admin\\anaconda3\\lib\\site-packages (from pandas->jobs_scraper) (2021.1)\n",
      "Requirement already satisfied: numpy>=1.16.5 in c:\\users\\admin\\anaconda3\\lib\\site-packages (from pandas->jobs_scraper) (1.20.2)\n",
      "Requirement already satisfied: python-dateutil>=2.7.3 in c:\\users\\admin\\anaconda3\\lib\\site-packages (from pandas->jobs_scraper) (2.8.1)\n",
      "Requirement already satisfied: six>=1.5 in c:\\users\\admin\\anaconda3\\lib\\site-packages (from python-dateutil>=2.7.3->pandas->jobs_scraper) (1.15.0)\n",
      "Requirement already satisfied: certifi>=2017.4.17 in c:\\users\\admin\\anaconda3\\lib\\site-packages (from requests->jobs_scraper) (2020.12.5)\n",
      "Requirement already satisfied: chardet<5,>=3.0.2 in c:\\users\\admin\\anaconda3\\lib\\site-packages (from requests->jobs_scraper) (4.0.0)\n",
      "Requirement already satisfied: urllib3<1.27,>=1.21.1 in c:\\users\\admin\\anaconda3\\lib\\site-packages (from requests->jobs_scraper) (1.26.4)\n",
      "Requirement already satisfied: idna<3,>=2.5 in c:\\users\\admin\\anaconda3\\lib\\site-packages (from requests->jobs_scraper) (2.10)\n",
      "Note: you may need to restart the kernel to use updated packages.\n"
     ]
    }
   ],
   "source": [
    "pip install jobs_scraper\n"
   ]
  },
  {
   "cell_type": "code",
   "execution_count": 4,
   "metadata": {},
   "outputs": [],
   "source": [
    "from jobs_scraper import JobsScraper\n",
    "\n",
    "\n",
    "scraper = JobsScraper(country=\"uae\", position=\"healthcare operations\", location=\"\", pages=400)\n",
    "\n"
   ]
  },
  {
   "cell_type": "code",
   "execution_count": 5,
   "metadata": {},
   "outputs": [
    {
     "data": {
      "application/vnd.jupyter.widget-view+json": {
       "model_id": "9e427a6539fb4005ba7ff316d45d1280",
       "version_major": 2,
       "version_minor": 0
      },
      "text/plain": [
       "Scraping in progress...:   0%|          | 0/400 [00:00<?, ?it/s]"
      ]
     },
     "metadata": {},
     "output_type": "display_data"
    }
   ],
   "source": [
    "df = scraper.scrape()\n"
   ]
  },
  {
   "cell_type": "code",
   "execution_count": null,
   "metadata": {},
   "outputs": [],
   "source": []
  },
  {
   "cell_type": "code",
   "execution_count": 6,
   "metadata": {},
   "outputs": [],
   "source": [
    " \n",
    "df.to_csv(\"jobs_uae_hom.csv\") \n",
    " \n",
    "\n"
   ]
  },
  {
   "cell_type": "code",
   "execution_count": 6,
   "metadata": {},
   "outputs": [
    {
     "name": "stdout",
     "output_type": "stream",
     "text": [
      "Collecting linkedin-jobs-scraper\n",
      "  Downloading linkedin_jobs_scraper-1.7.2-py3-none-any.whl (30 kB)\n",
      "Collecting selenium\n",
      "  Downloading selenium-3.141.0-py2.py3-none-any.whl (904 kB)\n",
      "Collecting websocket-client\n",
      "  Downloading websocket_client-0.58.0-py2.py3-none-any.whl (61 kB)\n",
      "Requirement already satisfied: urllib3 in c:\\users\\admin\\anaconda3\\lib\\site-packages (from selenium->linkedin-jobs-scraper) (1.26.4)\n",
      "Requirement already satisfied: six in c:\\users\\admin\\anaconda3\\lib\\site-packages (from websocket-client->linkedin-jobs-scraper) (1.15.0)\n",
      "Installing collected packages: websocket-client, selenium, linkedin-jobs-scraper\n",
      "Successfully installed linkedin-jobs-scraper-1.7.2 selenium-3.141.0 websocket-client-0.58.0\n",
      "Note: you may need to restart the kernel to use updated packages.\n"
     ]
    }
   ],
   "source": [
    "pip install linkedin-jobs-scraper"
   ]
  },
  {
   "cell_type": "code",
   "execution_count": 8,
   "metadata": {},
   "outputs": [],
   "source": [
    "import pandas as pd\n",
    "df = pd.DataFrame(columns=['Title','Company','Date','Link','Description'])"
   ]
  },
  {
   "cell_type": "code",
   "execution_count": 10,
   "metadata": {},
   "outputs": [
    {
     "name": "stderr",
     "output_type": "stream",
     "text": [
      "INFO:li:scraper:('Using strategy AnonymousStrategy',)\n",
      "INFO:li:scraper:('Starting new query', \"Query(query=healthcare options=QueryOptions(limit=1500 locations=['United Arab Emirates'] optimize=True))\")\n",
      "INFO:li:scraper:('[healthcare][United Arab Emirates]', 'Opening https://www.linkedin.com/jobs/search?keywords=healthcare&location=United+Arab+Emirates')\n",
      "INFO:li:scraper:('[healthcare][United Arab Emirates]', 'Waiting selector', '.results__container.results__container--two-pane')\n",
      "INFO:li:scraper:('[healthcare][United Arab Emirates]', 'Starting pagination loop')\n",
      "INFO:li:scraper:('[healthcare][United Arab Emirates]', 'Found 24 jobs')\n",
      "INFO:li:scraper:('[healthcare][United Arab Emirates][1]', 'Processed')\n"
     ]
    },
    {
     "name": "stdout",
     "output_type": "stream",
     "text": [
      "[ON_DATA] Healthcare Assistant I Healthcare I Dubai- UAE Al-Futtaim 2021-04-04 https://ae.linkedin.com/jobs/view/healthcare-assistant-i-healthcare-i-dubai-uae-at-al-futtaim-2476433909?refId=6f19520d-f7d0-4ec3-9883-2ca979a4e0a7&trackingId=Ep88l7BPHMItn0lJWhrj8A%3D%3D&position=1&pageNum=0&trk=public_jobs_job-result-card_result-card_full-click\n"
     ]
    },
    {
     "name": "stderr",
     "output_type": "stream",
     "text": [
      "INFO:li:scraper:('[healthcare][United Arab Emirates][2]', 'Processed')\n"
     ]
    },
    {
     "name": "stdout",
     "output_type": "stream",
     "text": [
      "[ON_DATA] Patient Relations Executive I Healthcare I Dubai - UAE Al-Futtaim 2021-04-05 https://ae.linkedin.com/jobs/view/patient-relations-executive-i-healthcare-i-dubai-uae-at-al-futtaim-2476453437?refId=6f19520d-f7d0-4ec3-9883-2ca979a4e0a7&trackingId=zc6tP6WkLzlLKNnEWOUdxQ%3D%3D&position=2&pageNum=0&trk=public_jobs_job-result-card_result-card_full-click\n"
     ]
    },
    {
     "name": "stderr",
     "output_type": "stream",
     "text": [
      "INFO:li:scraper:('[healthcare][United Arab Emirates][3]', 'Processed')\n"
     ]
    },
    {
     "name": "stdout",
     "output_type": "stream",
     "text": [
      "[ON_DATA] Principal Advisor - Healthcare Consulting Lead Mott MacDonald 2021-04-06 https://ae.linkedin.com/jobs/view/principal-advisor-healthcare-consulting-lead-at-mott-macdonald-2467695547?refId=6f19520d-f7d0-4ec3-9883-2ca979a4e0a7&trackingId=CtTibnnzzUO0WZ7gOhrpNA%3D%3D&position=3&pageNum=0&trk=public_jobs_job-result-card_result-card_full-click\n"
     ]
    },
    {
     "name": "stderr",
     "output_type": "stream",
     "text": [
      "INFO:li:scraper:('[healthcare][United Arab Emirates][4]', 'Processed')\n"
     ]
    },
    {
     "name": "stdout",
     "output_type": "stream",
     "text": [
      "[ON_DATA] Quality Officer - Healthcare Experience A Leading Healthcare Entity In The UAE 2021-03-07 https://ae.linkedin.com/jobs/view/quality-officer-healthcare-experience-at-a-leading-healthcare-entity-in-the-uae-2453686084?refId=6f19520d-f7d0-4ec3-9883-2ca979a4e0a7&trackingId=B8b7iLT2NqFly3J%2BrhKnwg%3D%3D&position=4&pageNum=0&trk=public_jobs_job-result-card_result-card_full-click\n"
     ]
    },
    {
     "name": "stderr",
     "output_type": "stream",
     "text": [
      "INFO:li:scraper:('[healthcare][United Arab Emirates][5]', 'Processed')\n"
     ]
    },
    {
     "name": "stdout",
     "output_type": "stream",
     "text": [
      "[ON_DATA] Medical Representative Confidential 2021-04-04 https://ae.linkedin.com/jobs/view/medical-representative-at-confidential-2464295722?refId=6f19520d-f7d0-4ec3-9883-2ca979a4e0a7&trackingId=9DzNgyNTDp3vCDllRxGOjA%3D%3D&position=5&pageNum=0&trk=public_jobs_job-result-card_result-card_full-click\n"
     ]
    },
    {
     "name": "stderr",
     "output_type": "stream",
     "text": [
      "INFO:li:scraper:('[healthcare][United Arab Emirates][6]', 'Processed')\n"
     ]
    },
    {
     "name": "stdout",
     "output_type": "stream",
     "text": [
      "[ON_DATA] Consulting Analyst/ Consultant Health Service Planning, Dubai TAHPI - A to Z of Health Planning 2021-03-30 https://ae.linkedin.com/jobs/view/consulting-analyst-consultant-health-service-planning-dubai-at-tahpi-a-to-z-of-health-planning-2458098088?refId=6f19520d-f7d0-4ec3-9883-2ca979a4e0a7&trackingId=G%2FyfrRZGTAXfwNHHcYwEQA%3D%3D&position=6&pageNum=0&trk=public_jobs_job-result-card_result-card_full-click\n"
     ]
    },
    {
     "name": "stderr",
     "output_type": "stream",
     "text": [
      "INFO:li:scraper:('[healthcare][United Arab Emirates][7]', 'Processed')\n"
     ]
    },
    {
     "name": "stdout",
     "output_type": "stream",
     "text": [
      "[ON_DATA] Healthcare Coach - Patient Coordinator IQVIA 2021-04-01 https://ae.linkedin.com/jobs/view/healthcare-coach-patient-coordinator-at-iqvia-2465454438?refId=6f19520d-f7d0-4ec3-9883-2ca979a4e0a7&trackingId=vFyRZTT%2F53yTxQem3MozhA%3D%3D&position=7&pageNum=0&trk=public_jobs_job-result-card_result-card_full-click\n"
     ]
    },
    {
     "name": "stderr",
     "output_type": "stream",
     "text": [
      "INFO:li:scraper:('[healthcare][United Arab Emirates][8]', 'Processed')\n"
     ]
    },
    {
     "name": "stdout",
     "output_type": "stream",
     "text": [
      "[ON_DATA] Medical Representative Novo Nordisk 2021-03-15 https://ae.linkedin.com/jobs/view/medical-representative-at-novo-nordisk-2483494430?refId=6f19520d-f7d0-4ec3-9883-2ca979a4e0a7&trackingId=JfkdFakbTBpBLP5gnEhQoA%3D%3D&position=8&pageNum=0&trk=public_jobs_job-result-card_result-card_full-click\n"
     ]
    },
    {
     "name": "stderr",
     "output_type": "stream",
     "text": [
      "INFO:li:scraper:('[healthcare][United Arab Emirates][9]', 'Processed')\n"
     ]
    },
    {
     "name": "stdout",
     "output_type": "stream",
     "text": [
      "[ON_DATA] Senior Manager – Health Care Recruitment Global Placements 2021-04-05 https://ae.linkedin.com/jobs/view/senior-manager-%E2%80%93-health-care-recruitment-at-global-placements-2476465547?refId=6f19520d-f7d0-4ec3-9883-2ca979a4e0a7&trackingId=l2R5UpeTvS82HptSO62Xig%3D%3D&position=9&pageNum=0&trk=public_jobs_job-result-card_result-card_full-click\n"
     ]
    },
    {
     "name": "stderr",
     "output_type": "stream",
     "text": [
      "INFO:li:scraper:('[healthcare][United Arab Emirates][10]', 'Processed')\n"
     ]
    },
    {
     "name": "stdout",
     "output_type": "stream",
     "text": [
      "[ON_DATA] Key Accounts Manager, Hospitality/Healthcare – MEA Johnson Controls 2021-04-04 https://ae.linkedin.com/jobs/view/key-accounts-manager-hospitality-healthcare-%E2%80%93-mea-at-johnson-controls-2489182488?refId=6f19520d-f7d0-4ec3-9883-2ca979a4e0a7&trackingId=V2SP0sBLekU9Oo0%2BuVer3g%3D%3D&position=10&pageNum=0&trk=public_jobs_job-result-card_result-card_full-click\n"
     ]
    },
    {
     "name": "stderr",
     "output_type": "stream",
     "text": [
      "INFO:li:scraper:('[healthcare][United Arab Emirates][11]', 'Processed')\n"
     ]
    },
    {
     "name": "stdout",
     "output_type": "stream",
     "text": [
      "[ON_DATA] Executive Assistant To Chief Executive Officer First Response Healthcare 2021-04-06 https://ae.linkedin.com/jobs/view/executive-assistant-to-chief-executive-officer-at-first-response-healthcare-2467610717?refId=6f19520d-f7d0-4ec3-9883-2ca979a4e0a7&trackingId=wMZoiAg7MGjXkMyloH7IEw%3D%3D&position=11&pageNum=0&trk=public_jobs_job-result-card_result-card_full-click\n"
     ]
    },
    {
     "name": "stderr",
     "output_type": "stream",
     "text": [
      "INFO:li:scraper:('[healthcare][United Arab Emirates][12]', 'Processed')\n"
     ]
    },
    {
     "name": "stdout",
     "output_type": "stream",
     "text": [
      "[ON_DATA] Office Coordinator Reyada Home Health Care Services L.L.C. 2021-04-06 https://ae.linkedin.com/jobs/view/office-coordinator-at-reyada-home-health-care-services-l-l-c-2491440841?refId=6f19520d-f7d0-4ec3-9883-2ca979a4e0a7&trackingId=PqOTkUo7DqCyXknBEwQYRg%3D%3D&position=12&pageNum=0&trk=public_jobs_job-result-card_result-card_full-click\n"
     ]
    },
    {
     "name": "stderr",
     "output_type": "stream",
     "text": [
      "INFO:li:scraper:('[healthcare][United Arab Emirates][13]', 'Processed')\n"
     ]
    },
    {
     "name": "stdout",
     "output_type": "stream",
     "text": [
      "[ON_DATA] Key Accounts Manager, Hospitality/Healthcare – MEA Johnson Controls 2021-03-30 https://ae.linkedin.com/jobs/view/key-accounts-manager-hospitality-healthcare-%E2%80%93-mea-at-johnson-controls-2482546836?refId=6f19520d-f7d0-4ec3-9883-2ca979a4e0a7&trackingId=zDQUnA30Tit9TuCNGxPchw%3D%3D&position=13&pageNum=0&trk=public_jobs_job-result-card_result-card_full-click\n"
     ]
    },
    {
     "name": "stderr",
     "output_type": "stream",
     "text": [
      "INFO:li:scraper:('[healthcare][United Arab Emirates][14]', 'Processed')\n"
     ]
    },
    {
     "name": "stdout",
     "output_type": "stream",
     "text": [
      "[ON_DATA] Patient Relations Executive I Healthcare I Dubai - UAE Al Futtaim 2021-04-05 https://ae.linkedin.com/jobs/view/patient-relations-executive-i-healthcare-i-dubai-uae-at-al-futtaim-2490419918?refId=6f19520d-f7d0-4ec3-9883-2ca979a4e0a7&trackingId=k0Hi0%2B0oKmj11XOzxxpFmw%3D%3D&position=14&pageNum=0&trk=public_jobs_job-result-card_result-card_full-click\n"
     ]
    },
    {
     "name": "stderr",
     "output_type": "stream",
     "text": [
      "INFO:li:scraper:('[healthcare][United Arab Emirates][15]', 'Processed')\n"
     ]
    },
    {
     "name": "stdout",
     "output_type": "stream",
     "text": [
      "[ON_DATA] VP, Healthcare Investment Leap29 2021-03-03 https://ae.linkedin.com/jobs/view/vp-healthcare-investment-at-leap29-2446473623?refId=6f19520d-f7d0-4ec3-9883-2ca979a4e0a7&trackingId=BNa5W%2BKFQ8o7Rrwn2aDq4Q%3D%3D&position=15&pageNum=0&trk=public_jobs_job-result-card_result-card_full-click\n"
     ]
    },
    {
     "name": "stderr",
     "output_type": "stream",
     "text": [
      "INFO:li:scraper:('[healthcare][United Arab Emirates][16]', 'Processed')\n"
     ]
    },
    {
     "name": "stdout",
     "output_type": "stream",
     "text": [
      "[ON_DATA] Adoption Specialist 3M 2021-03-15 https://ae.linkedin.com/jobs/view/adoption-specialist-at-3m-2447980955?refId=6f19520d-f7d0-4ec3-9883-2ca979a4e0a7&trackingId=2qNY%2FbabaD4kVNMGLsDg3w%3D%3D&position=16&pageNum=0&trk=public_jobs_job-result-card_result-card_full-click\n"
     ]
    },
    {
     "name": "stderr",
     "output_type": "stream",
     "text": [
      "INFO:li:scraper:('[healthcare][United Arab Emirates][17]', 'Processed')\n"
     ]
    },
    {
     "name": "stdout",
     "output_type": "stream",
     "text": [
      "[ON_DATA] Key Accounts Manager, Hospitality/Healthcare – M Johnson Controls 2021-03-30 https://ae.linkedin.com/jobs/view/key-accounts-manager-hospitality-healthcare-%E2%80%93-m-at-johnson-controls-2482546800?refId=6f19520d-f7d0-4ec3-9883-2ca979a4e0a7&trackingId=oLy5eTwYX3JA6aTGwvUgHA%3D%3D&position=17&pageNum=0&trk=public_jobs_job-result-card_result-card_full-click\n"
     ]
    },
    {
     "name": "stderr",
     "output_type": "stream",
     "text": [
      "INFO:li:scraper:('[healthcare][United Arab Emirates][18]', 'Processed')\n"
     ]
    },
    {
     "name": "stdout",
     "output_type": "stream",
     "text": [
      "[ON_DATA] Service Delivery Manager Abu Dhabi Telemedicine Centre - A Mubadala Company 2021-04-01 https://ae.linkedin.com/jobs/view/service-delivery-manager-at-abu-dhabi-telemedicine-centre-a-mubadala-company-2484457024?refId=6f19520d-f7d0-4ec3-9883-2ca979a4e0a7&trackingId=781ZdOAV%2B%2BPpIdVRUaMXTA%3D%3D&position=18&pageNum=0&trk=public_jobs_job-result-card_result-card_full-click\n"
     ]
    },
    {
     "name": "stderr",
     "output_type": "stream",
     "text": [
      "INFO:li:scraper:('[healthcare][United Arab Emirates][19]', 'Processed')\n"
     ]
    },
    {
     "name": "stdout",
     "output_type": "stream",
     "text": [
      "[ON_DATA] Business Development Executive - Healthcare Ibm 2021-03-20 https://ae.linkedin.com/jobs/view/business-development-executive-healthcare-at-ibm-2489500259?refId=6f19520d-f7d0-4ec3-9883-2ca979a4e0a7&trackingId=QOYjCuMDWBdLCKu9kjAziQ%3D%3D&position=19&pageNum=0&trk=public_jobs_job-result-card_result-card_full-click\n"
     ]
    },
    {
     "name": "stderr",
     "output_type": "stream",
     "text": [
      "INFO:li:scraper:('[healthcare][United Arab Emirates][20]', 'Processed')\n"
     ]
    },
    {
     "name": "stdout",
     "output_type": "stream",
     "text": [
      "[ON_DATA] Medical Representative Pharmalink Drug Store 2021-03-30 https://ae.linkedin.com/jobs/view/medical-representative-at-pharmalink-drug-store-2345288045?refId=6f19520d-f7d0-4ec3-9883-2ca979a4e0a7&trackingId=gIBH3rw6YLpmck2a2ct3ZQ%3D%3D&position=20&pageNum=0&trk=public_jobs_job-result-card_result-card_full-click\n"
     ]
    },
    {
     "name": "stderr",
     "output_type": "stream",
     "text": [
      "INFO:li:scraper:('[healthcare][United Arab Emirates][21]', 'Processed')\n"
     ]
    },
    {
     "name": "stdout",
     "output_type": "stream",
     "text": [
      "[ON_DATA] Strategy Associate Marc Ellis 2021-03-24 https://ae.linkedin.com/jobs/view/strategy-associate-at-marc-ellis-2475236536?refId=6f19520d-f7d0-4ec3-9883-2ca979a4e0a7&trackingId=xf3RTK9AJ3UhXtwGcUQdTg%3D%3D&position=21&pageNum=0&trk=public_jobs_job-result-card_result-card_full-click\n"
     ]
    },
    {
     "name": "stderr",
     "output_type": "stream",
     "text": [
      "INFO:li:scraper:('[healthcare][United Arab Emirates][22]', 'Processed')\n"
     ]
    },
    {
     "name": "stdout",
     "output_type": "stream",
     "text": [
      "[ON_DATA] Medical Representative Boehringer Ingelheim 2021-04-03 https://ae.linkedin.com/jobs/view/medical-representative-at-boehringer-ingelheim-2488601919?refId=6f19520d-f7d0-4ec3-9883-2ca979a4e0a7&trackingId=82UJlsm8br8vnrRaHxEdHg%3D%3D&position=22&pageNum=0&trk=public_jobs_job-result-card_result-card_full-click\n"
     ]
    },
    {
     "name": "stderr",
     "output_type": "stream",
     "text": [
      "INFO:li:scraper:('[healthcare][United Arab Emirates][23]', 'Processed')\n"
     ]
    },
    {
     "name": "stdout",
     "output_type": "stream",
     "text": [
      "[ON_DATA] Sr. Medical Representative / Product Specialist Eli Lilly and Company 2021-03-28 https://ae.linkedin.com/jobs/view/sr-medical-representative-product-specialist-at-eli-lilly-and-company-2456672458?refId=6f19520d-f7d0-4ec3-9883-2ca979a4e0a7&trackingId=bAjky7g8YyYQU73SDzBRBg%3D%3D&position=23&pageNum=0&trk=public_jobs_job-result-card_result-card_full-click\n"
     ]
    },
    {
     "name": "stderr",
     "output_type": "stream",
     "text": [
      "INFO:li:scraper:('[healthcare][United Arab Emirates][24]', 'Processed')\n"
     ]
    },
    {
     "name": "stdout",
     "output_type": "stream",
     "text": [
      "[ON_DATA] Healthcare Administration Under PR Visa For Canada | New Zealand Electrobrain modern technologies pvt ltd 2021-03-09 https://ae.linkedin.com/jobs/view/healthcare-administration-under-pr-visa-for-canada-new-zealand-at-electrobrain-modern-technologies-pvt-ltd-2453356521?refId=6f19520d-f7d0-4ec3-9883-2ca979a4e0a7&trackingId=kNx3JN%2F60G9j90hwzX8CDw%3D%3D&position=24&pageNum=0&trk=public_jobs_job-result-card_result-card_full-click\n"
     ]
    },
    {
     "name": "stderr",
     "output_type": "stream",
     "text": [
      "INFO:li:scraper:('[healthcare][United Arab Emirates][25]', 'Processed')\n"
     ]
    },
    {
     "name": "stdout",
     "output_type": "stream",
     "text": [
      "[ON_DATA] Future Consulting Opportunities IQVIA 2021-03-20 https://ae.linkedin.com/jobs/view/future-consulting-opportunities-at-iqvia-2331670771?refId=f20b07fd-9183-4500-ac60-afed83ae865d&trackingId=v89ORpayIY4dBIH0QP4%2FFQ%3D%3D&position=1&pageNum=1&trk=public_jobs_job-result-card_result-card_full-click\n"
     ]
    },
    {
     "name": "stderr",
     "output_type": "stream",
     "text": [
      "INFO:li:scraper:('[healthcare][United Arab Emirates][26]', 'Processed')\n"
     ]
    },
    {
     "name": "stdout",
     "output_type": "stream",
     "text": [
      "[ON_DATA] Performance Improvement Manager Mediclinic Middle East 2021-03-14 https://ae.linkedin.com/jobs/view/performance-improvement-manager-at-mediclinic-middle-east-2439349957?refId=f20b07fd-9183-4500-ac60-afed83ae865d&trackingId=KJTSxqhCrROQnPiVzvQMJw%3D%3D&position=2&pageNum=1&trk=public_jobs_job-result-card_result-card_full-click\n"
     ]
    },
    {
     "name": "stderr",
     "output_type": "stream",
     "text": [
      "INFO:li:scraper:('[healthcare][United Arab Emirates][27]', 'Processed')\n"
     ]
    },
    {
     "name": "stdout",
     "output_type": "stream",
     "text": [
      "[ON_DATA] Intership Axios International 2021-03-19 https://ae.linkedin.com/jobs/view/intership-at-axios-international-2490440806?refId=f20b07fd-9183-4500-ac60-afed83ae865d&trackingId=o2Bn4svL5RIYiuoptVHVIg%3D%3D&position=3&pageNum=1&trk=public_jobs_job-result-card_result-card_full-click\n"
     ]
    },
    {
     "name": "stderr",
     "output_type": "stream",
     "text": [
      "INFO:li:scraper:('[healthcare][United Arab Emirates][28]', 'Processed')\n"
     ]
    },
    {
     "name": "stdout",
     "output_type": "stream",
     "text": [
      "[ON_DATA] Patient Coordinator Confidential HealthCare Consultancy 2021-03-08 https://ae.linkedin.com/jobs/view/patient-coordinator-at-confidential-healthcare-consultancy-2435718814?refId=f20b07fd-9183-4500-ac60-afed83ae865d&trackingId=1QG25lEcV9cjuYt7WiXQRQ%3D%3D&position=4&pageNum=1&trk=public_jobs_job-result-card_result-card_full-click\n"
     ]
    },
    {
     "name": "stderr",
     "output_type": "stream",
     "text": [
      "INFO:li:scraper:('[healthcare][United Arab Emirates][29]', 'Processed')\n"
     ]
    },
    {
     "name": "stdout",
     "output_type": "stream",
     "text": [
      "[ON_DATA] AVP - STRATEGY (HEALTHCARE/DATA ANALYTICS/HIS) in Dubai Nadia Recruitment & Management Consultants 2021-03-20 https://ae.linkedin.com/jobs/view/avp-strategy-healthcare-data-analytics-his-in-dubai-at-nadia-recruitment-management-consultants-2469917189?refId=f20b07fd-9183-4500-ac60-afed83ae865d&trackingId=BbNU7vNf88s8CMypR%2B9D2w%3D%3D&position=5&pageNum=1&trk=public_jobs_job-result-card_result-card_full-click\n"
     ]
    },
    {
     "name": "stderr",
     "output_type": "stream",
     "text": [
      "INFO:li:scraper:('[healthcare][United Arab Emirates][30]', 'Processed')\n"
     ]
    },
    {
     "name": "stdout",
     "output_type": "stream",
     "text": [
      "[ON_DATA] Deals, Strategy - Healthcare - Manager PwC Middle East 2021-03-06 https://ae.linkedin.com/jobs/view/deals-strategy-healthcare-manager-at-pwc-middle-east-2461197160?refId=f20b07fd-9183-4500-ac60-afed83ae865d&trackingId=b%2FB4VCD2Jp2IjEPZxq22Qg%3D%3D&position=6&pageNum=1&trk=public_jobs_job-result-card_result-card_full-click\n"
     ]
    },
    {
     "name": "stderr",
     "output_type": "stream",
     "text": [
      "INFO:li:scraper:('[healthcare][United Arab Emirates][31]', 'Processed')\n"
     ]
    },
    {
     "name": "stdout",
     "output_type": "stream",
     "text": [
      "[ON_DATA] Data Management Coordinator - Clinical Governance American Hospital Dubai 2021-03-21 https://ae.linkedin.com/jobs/view/data-management-coordinator-clinical-governance-at-american-hospital-dubai-2447251363?refId=f20b07fd-9183-4500-ac60-afed83ae865d&trackingId=EiofGL9qzNKmaCRPk44%2BAw%3D%3D&position=7&pageNum=1&trk=public_jobs_job-result-card_result-card_full-click\n"
     ]
    },
    {
     "name": "stderr",
     "output_type": "stream",
     "text": [
      "INFO:li:scraper:('[healthcare][United Arab Emirates][32]', 'Processed')\n"
     ]
    },
    {
     "name": "stdout",
     "output_type": "stream",
     "text": [
      "[ON_DATA] Oncology Product Specialist AstraZeneca 2021-03-10 https://ae.linkedin.com/jobs/view/oncology-product-specialist-at-astrazeneca-2437103770?refId=f20b07fd-9183-4500-ac60-afed83ae865d&trackingId=vvkCWFLlWZn05gE%2FkAy2kw%3D%3D&position=8&pageNum=1&trk=public_jobs_job-result-card_result-card_full-click\n"
     ]
    },
    {
     "name": "stderr",
     "output_type": "stream",
     "text": [
      "INFO:li:scraper:('[healthcare][United Arab Emirates][33]', 'Processed')\n"
     ]
    },
    {
     "name": "stdout",
     "output_type": "stream",
     "text": [
      "[ON_DATA] Population Health Analyst Win Win Hr Consultancy 2021-03-19 https://ae.linkedin.com/jobs/view/population-health-analyst-at-win-win-hr-consultancy-2468543766?refId=f20b07fd-9183-4500-ac60-afed83ae865d&trackingId=%2F3My7t1qP%2B%2BJoNZux3VBZg%3D%3D&position=9&pageNum=1&trk=public_jobs_job-result-card_result-card_full-click\n"
     ]
    },
    {
     "name": "stderr",
     "output_type": "stream",
     "text": [
      "INFO:li:scraper:('[healthcare][United Arab Emirates][34]', 'Processed')\n"
     ]
    },
    {
     "name": "stdout",
     "output_type": "stream",
     "text": [
      "[ON_DATA] Project Manager - Healthcare IBM Middle East 2020-11-24 https://ae.linkedin.com/jobs/view/project-manager-healthcare-at-ibm-middle-east-2320854991?refId=f20b07fd-9183-4500-ac60-afed83ae865d&trackingId=LkcfKn0gELX151a8jUJYuQ%3D%3D&position=10&pageNum=1&trk=public_jobs_job-result-card_result-card_full-click\n"
     ]
    },
    {
     "name": "stderr",
     "output_type": "stream",
     "text": [
      "INFO:li:scraper:('[healthcare][United Arab Emirates][35]', 'Processed')\n"
     ]
    },
    {
     "name": "stdout",
     "output_type": "stream",
     "text": [
      "[ON_DATA] Market Access Head Abbott 2021-03-10 https://ae.linkedin.com/jobs/view/market-access-head-at-abbott-2489047109?refId=f20b07fd-9183-4500-ac60-afed83ae865d&trackingId=X6j1j96Q45gqbMWeIn7AJg%3D%3D&position=11&pageNum=1&trk=public_jobs_job-result-card_result-card_full-click\n"
     ]
    },
    {
     "name": "stderr",
     "output_type": "stream",
     "text": [
      "INFO:li:scraper:('[healthcare][United Arab Emirates][36]', 'Processed')\n"
     ]
    },
    {
     "name": "stdout",
     "output_type": "stream",
     "text": [
      "[ON_DATA] Medical Representative Al Mufid Trading 2021-01-21 https://ae.linkedin.com/jobs/view/medical-representative-at-al-mufid-trading-2390349728?refId=f20b07fd-9183-4500-ac60-afed83ae865d&trackingId=ywd3nHzskYu1s%2F3hgVnoXQ%3D%3D&position=12&pageNum=1&trk=public_jobs_job-result-card_result-card_full-click\n"
     ]
    },
    {
     "name": "stderr",
     "output_type": "stream",
     "text": [
      "INFO:li:scraper:('[healthcare][United Arab Emirates][37]', 'Processed')\n"
     ]
    },
    {
     "name": "stdout",
     "output_type": "stream",
     "text": [
      "[ON_DATA] Business Development Executive - Healthcare IBM Middle East 2021-02-25 https://ae.linkedin.com/jobs/view/business-development-executive-healthcare-at-ibm-middle-east-2438074743?refId=f20b07fd-9183-4500-ac60-afed83ae865d&trackingId=SAsGgZ9UWid%2FVEN%2B6cYhCw%3D%3D&position=13&pageNum=1&trk=public_jobs_job-result-card_result-card_full-click\n"
     ]
    },
    {
     "name": "stderr",
     "output_type": "stream",
     "text": [
      "INFO:li:scraper:('[healthcare][United Arab Emirates][38]', 'Processed')\n"
     ]
    },
    {
     "name": "stdout",
     "output_type": "stream",
     "text": [
      "[ON_DATA] Business Analyst McKinsey & Company 2021-03-11 https://ae.linkedin.com/jobs/view/business-analyst-at-mckinsey-company-2489904357?refId=f20b07fd-9183-4500-ac60-afed83ae865d&trackingId=qEf9MQjfJmsTJSbrHskqLQ%3D%3D&position=14&pageNum=1&trk=public_jobs_job-result-card_result-card_full-click\n"
     ]
    },
    {
     "name": "stderr",
     "output_type": "stream",
     "text": [
      "INFO:li:scraper:('[healthcare][United Arab Emirates][39]', 'Processed')\n"
     ]
    },
    {
     "name": "stdout",
     "output_type": "stream",
     "text": [
      "[ON_DATA] Healthcare Assistant Global Human Capital Group (CHCG) 2021-03-15 https://ae.linkedin.com/jobs/view/healthcare-assistant-at-global-human-capital-group-chcg-2462759313?refId=f20b07fd-9183-4500-ac60-afed83ae865d&trackingId=yGVKLV8EKHDfkYUAgsuUrg%3D%3D&position=15&pageNum=1&trk=public_jobs_job-result-card_result-card_full-click\n"
     ]
    },
    {
     "name": "stderr",
     "output_type": "stream",
     "text": [
      "INFO:li:scraper:('[healthcare][United Arab Emirates][40]', 'Processed')\n"
     ]
    },
    {
     "name": "stdout",
     "output_type": "stream",
     "text": [
      "[ON_DATA] Future Roles in Change Management IQVIA 2021-03-20 https://ae.linkedin.com/jobs/view/future-roles-in-change-management-at-iqvia-2331671644?refId=f20b07fd-9183-4500-ac60-afed83ae865d&trackingId=lSo6F3qYC4%2FtKdMcsFcWLw%3D%3D&position=16&pageNum=1&trk=public_jobs_job-result-card_result-card_full-click\n"
     ]
    },
    {
     "name": "stderr",
     "output_type": "stream",
     "text": [
      "INFO:li:scraper:('[healthcare][United Arab Emirates][41]', 'Processed')\n"
     ]
    },
    {
     "name": "stdout",
     "output_type": "stream",
     "text": [
      "[ON_DATA] Health Economist for Health Information System 3m 2021-03-19 https://ae.linkedin.com/jobs/view/health-economist-for-health-information-system-at-3m-2489504831?refId=f20b07fd-9183-4500-ac60-afed83ae865d&trackingId=ws%2FEfv7FE8hjPpGt2aGC4A%3D%3D&position=17&pageNum=1&trk=public_jobs_job-result-card_result-card_full-click\n"
     ]
    },
    {
     "name": "stderr",
     "output_type": "stream",
     "text": [
      "INFO:li:scraper:('[healthcare][United Arab Emirates][42]', 'Processed')\n"
     ]
    },
    {
     "name": "stdout",
     "output_type": "stream",
     "text": [
      "[ON_DATA] Facilities Manager King's College Hospital London – UAE 2021-03-29 https://ae.linkedin.com/jobs/view/facilities-manager-at-king-s-college-hospital-london-%E2%80%93-uae-2458011031?refId=f20b07fd-9183-4500-ac60-afed83ae865d&trackingId=dD%2Fzg5mytuGSuxGq5od2uA%3D%3D&position=18&pageNum=1&trk=public_jobs_job-result-card_result-card_full-click\n"
     ]
    },
    {
     "name": "stderr",
     "output_type": "stream",
     "text": [
      "INFO:li:scraper:('[healthcare][United Arab Emirates][43]', 'Processed')\n"
     ]
    },
    {
     "name": "stdout",
     "output_type": "stream",
     "text": [
      "[ON_DATA] Adoption Specialist 3m 2021-03-19 https://ae.linkedin.com/jobs/view/adoption-specialist-at-3m-2468548147?refId=f20b07fd-9183-4500-ac60-afed83ae865d&trackingId=YAUBVNi5kZgtVcZ5S1ulAw%3D%3D&position=19&pageNum=1&trk=public_jobs_job-result-card_result-card_full-click\n"
     ]
    },
    {
     "name": "stderr",
     "output_type": "stream",
     "text": [
      "INFO:li:scraper:('[healthcare][United Arab Emirates][44]', 'Processed')\n"
     ]
    },
    {
     "name": "stdout",
     "output_type": "stream",
     "text": [
      "[ON_DATA] Health Economist for Health Information System 3M 2021-02-02 https://ae.linkedin.com/jobs/view/health-economist-for-health-information-system-at-3m-2392327213?refId=f20b07fd-9183-4500-ac60-afed83ae865d&trackingId=kAlQDBj%2BZkK2J%2B6dzsLH0Q%3D%3D&position=20&pageNum=1&trk=public_jobs_job-result-card_result-card_full-click\n"
     ]
    },
    {
     "name": "stderr",
     "output_type": "stream",
     "text": [
      "INFO:li:scraper:('[healthcare][United Arab Emirates][45]', 'Processed')\n"
     ]
    },
    {
     "name": "stdout",
     "output_type": "stream",
     "text": [
      "[ON_DATA] Program Manager (Healthcare Domain) Najma Consultancy 2021-02-22 https://ae.linkedin.com/jobs/view/program-manager-healthcare-domain-at-najma-consultancy-2435166370?refId=f20b07fd-9183-4500-ac60-afed83ae865d&trackingId=AK2uTj1G6mclHxjDZX4cmA%3D%3D&position=21&pageNum=1&trk=public_jobs_job-result-card_result-card_full-click\n"
     ]
    },
    {
     "name": "stderr",
     "output_type": "stream",
     "text": [
      "INFO:li:scraper:('[healthcare][United Arab Emirates][46]', 'Processed')\n"
     ]
    },
    {
     "name": "stdout",
     "output_type": "stream",
     "text": [
      "[ON_DATA] Healthcare Assistant Global Human Capital Group 2021-03-19 https://ae.linkedin.com/jobs/view/healthcare-assistant-at-global-human-capital-group-2490406684?refId=f20b07fd-9183-4500-ac60-afed83ae865d&trackingId=lRwlXj6by0VLu9uqpNca3g%3D%3D&position=22&pageNum=1&trk=public_jobs_job-result-card_result-card_full-click\n"
     ]
    },
    {
     "name": "stderr",
     "output_type": "stream",
     "text": [
      "INFO:li:scraper:('[healthcare][United Arab Emirates][47]', 'Processed')\n"
     ]
    },
    {
     "name": "stdout",
     "output_type": "stream",
     "text": [
      "[ON_DATA] Project Manager- Healthcare IT Intersystems Corporation 2021-03-17 https://ae.linkedin.com/jobs/view/project-manager-healthcare-it-at-intersystems-corporation-2465290996?refId=f20b07fd-9183-4500-ac60-afed83ae865d&trackingId=Oj92FCsHPMW383kQVhuvlQ%3D%3D&position=23&pageNum=1&trk=public_jobs_job-result-card_result-card_full-click\n"
     ]
    },
    {
     "name": "stderr",
     "output_type": "stream",
     "text": [
      "INFO:li:scraper:('[healthcare][United Arab Emirates][48]', 'Processed')\n",
      "INFO:li:scraper:('[healthcare][United Arab Emirates][48]', 'Checking for new jobs to load...')\n"
     ]
    },
    {
     "name": "stdout",
     "output_type": "stream",
     "text": [
      "[ON_DATA] Medical Coordinator Nathan & Nathan 2021-03-30 https://ae.linkedin.com/jobs/view/medical-coordinator-at-nathan-nathan-2482548607?refId=f20b07fd-9183-4500-ac60-afed83ae865d&trackingId=cROs%2F7PZQaAlyMO3hb%2FnPw%3D%3D&position=24&pageNum=1&trk=public_jobs_job-result-card_result-card_full-click\n"
     ]
    },
    {
     "name": "stderr",
     "output_type": "stream",
     "text": [
      "INFO:li:scraper:('[healthcare][United Arab Emirates][48]', 'Found 68 jobs')\n",
      "INFO:li:scraper:('[healthcare][United Arab Emirates][49]', 'Processed')\n"
     ]
    },
    {
     "name": "stdout",
     "output_type": "stream",
     "text": [
      "[ON_DATA] Quality Coordinator Iqarus 2021-03-24 https://ae.linkedin.com/jobs/view/quality-coordinator-at-iqarus-2478463573?refId=a2483376-cbde-4c69-81ad-485460be04a2&trackingId=f3T3zKSNbjMekyGuTzcGXw%3D%3D&position=1&pageNum=2&trk=public_jobs_job-result-card_result-card_full-click\n"
     ]
    },
    {
     "name": "stderr",
     "output_type": "stream",
     "text": [
      "INFO:li:scraper:('[healthcare][United Arab Emirates][50]', 'Processed')\n"
     ]
    },
    {
     "name": "stdout",
     "output_type": "stream",
     "text": [
      "[ON_DATA] Oliver Wyman – Engagement Manager – Health & Life Science – Dubai Oliver Wyman 2021-03-31 https://ae.linkedin.com/jobs/view/oliver-wyman-%E2%80%93-engagement-manager-%E2%80%93-health-life-science-%E2%80%93-dubai-at-oliver-wyman-2255361187?refId=a2483376-cbde-4c69-81ad-485460be04a2&trackingId=2r2SFegkAXLHl0ZBoYZy0w%3D%3D&position=2&pageNum=2&trk=public_jobs_job-result-card_result-card_full-click\n"
     ]
    },
    {
     "name": "stderr",
     "output_type": "stream",
     "text": [
      "INFO:li:scraper:('[healthcare][United Arab Emirates][51]', 'Processed')\n"
     ]
    },
    {
     "name": "stdout",
     "output_type": "stream",
     "text": [
      "[ON_DATA] Senior Manager - Healthcare Sector Strategy Consulting Reach International 2020-10-15 https://ae.linkedin.com/jobs/view/senior-manager-healthcare-sector-strategy-consulting-at-reach-international-2294357487?refId=a2483376-cbde-4c69-81ad-485460be04a2&trackingId=oNvXricaZW4Q9VIM5iv7%2BA%3D%3D&position=3&pageNum=2&trk=public_jobs_job-result-card_result-card_full-click\n"
     ]
    },
    {
     "name": "stderr",
     "output_type": "stream",
     "text": [
      "INFO:li:scraper:('[healthcare][United Arab Emirates][52]', 'Processed')\n"
     ]
    },
    {
     "name": "stdout",
     "output_type": "stream",
     "text": [
      "[ON_DATA] Knowledge Analyst - IT/GEM/Banking/Healthcare Procurement McKinsey & Company 2021-04-03 https://ae.linkedin.com/jobs/view/knowledge-analyst-it-gem-banking-healthcare-procurement-at-mckinsey-company-2466695837?refId=a2483376-cbde-4c69-81ad-485460be04a2&trackingId=ra2UVP3LY4czzzmQ9Upjvg%3D%3D&position=4&pageNum=2&trk=public_jobs_job-result-card_result-card_full-click\n"
     ]
    },
    {
     "name": "stderr",
     "output_type": "stream",
     "text": [
      "INFO:li:scraper:('[healthcare][United Arab Emirates][53]', 'Processed')\n"
     ]
    },
    {
     "name": "stdout",
     "output_type": "stream",
     "text": [
      "[ON_DATA] Training Advisor BSI 2021-03-29 https://ae.linkedin.com/jobs/view/training-advisor-at-bsi-2458004870?refId=a2483376-cbde-4c69-81ad-485460be04a2&trackingId=MjJLEJKfjB5juWylFG6OFQ%3D%3D&position=5&pageNum=2&trk=public_jobs_job-result-card_result-card_full-click\n"
     ]
    },
    {
     "name": "stderr",
     "output_type": "stream",
     "text": [
      "INFO:li:scraper:('[healthcare][United Arab Emirates][54]', 'Processed')\n"
     ]
    },
    {
     "name": "stdout",
     "output_type": "stream",
     "text": [
      "[ON_DATA] Training Advisor Bsi 2021-03-29 https://ae.linkedin.com/jobs/view/training-advisor-at-bsi-2490444042?refId=a2483376-cbde-4c69-81ad-485460be04a2&trackingId=ji2FabbmbXtjb8uYKq6J5w%3D%3D&position=6&pageNum=2&trk=public_jobs_job-result-card_result-card_full-click\n"
     ]
    },
    {
     "name": "stderr",
     "output_type": "stream",
     "text": [
      "INFO:li:scraper:('[healthcare][United Arab Emirates][55]', 'Processed')\n"
     ]
    },
    {
     "name": "stdout",
     "output_type": "stream",
     "text": [
      "[ON_DATA] Project Manager (Healthcare Domain) Najma Consultancy 2021-02-22 https://ae.linkedin.com/jobs/view/project-manager-healthcare-domain-at-najma-consultancy-2435161833?refId=a2483376-cbde-4c69-81ad-485460be04a2&trackingId=ir42QM2DqUxsQdMemf7NUA%3D%3D&position=7&pageNum=2&trk=public_jobs_job-result-card_result-card_full-click\n"
     ]
    },
    {
     "name": "stderr",
     "output_type": "stream",
     "text": [
      "INFO:li:scraper:('[healthcare][United Arab Emirates][56]', 'Processed')\n"
     ]
    },
    {
     "name": "stdout",
     "output_type": "stream",
     "text": [
      "[ON_DATA] Medical Representative - Saudi Nationals Merck Kgaa 2021-04-06 https://ae.linkedin.com/jobs/view/medical-representative-saudi-nationals-at-merck-kgaa-2492239084?refId=a2483376-cbde-4c69-81ad-485460be04a2&trackingId=2NZcn1KsjYVZmry9FSrF7Q%3D%3D&position=8&pageNum=2&trk=public_jobs_job-result-card_result-card_full-click\n"
     ]
    },
    {
     "name": "stderr",
     "output_type": "stream",
     "text": [
      "INFO:li:scraper:('[healthcare][United Arab Emirates][57]', 'Processed')\n"
     ]
    },
    {
     "name": "stdout",
     "output_type": "stream",
     "text": [
      "[ON_DATA] Administration & Finance Officer Reyada Home Health Care Services L.L.C. 2021-04-06 https://ae.linkedin.com/jobs/view/administration-finance-officer-at-reyada-home-health-care-services-l-l-c-2491446108?refId=a2483376-cbde-4c69-81ad-485460be04a2&trackingId=j7SO1rsXIqpq2h7ZSTEC0w%3D%3D&position=9&pageNum=2&trk=public_jobs_job-result-card_result-card_full-click\n"
     ]
    },
    {
     "name": "stderr",
     "output_type": "stream",
     "text": [
      "INFO:li:scraper:('[healthcare][United Arab Emirates][58]', 'Processed')\n"
     ]
    },
    {
     "name": "stdout",
     "output_type": "stream",
     "text": [
      "[ON_DATA] Vice President NSI & Bluefin Talent 2021-03-23 https://ae.linkedin.com/jobs/view/vice-president-at-nsi-bluefin-talent-2473207658?refId=a2483376-cbde-4c69-81ad-485460be04a2&trackingId=ZUVDz11xqoLoHBbFKNSH%2Bw%3D%3D&position=10&pageNum=2&trk=public_jobs_job-result-card_result-card_full-click\n"
     ]
    },
    {
     "name": "stderr",
     "output_type": "stream",
     "text": [
      "INFO:li:scraper:('[healthcare][United Arab Emirates][59]', 'Processed')\n"
     ]
    },
    {
     "name": "stdout",
     "output_type": "stream",
     "text": [
      "[ON_DATA] Compliance and Assurance Manager - Insurance Bupa Global 2021-03-31 https://ae.linkedin.com/jobs/view/compliance-and-assurance-manager-insurance-at-bupa-global-2483705242?refId=a2483376-cbde-4c69-81ad-485460be04a2&trackingId=%2FqXl9fD%2BN6jbVOWfoh%2BtLg%3D%3D&position=11&pageNum=2&trk=public_jobs_job-result-card_result-card_full-click\n"
     ]
    },
    {
     "name": "stderr",
     "output_type": "stream",
     "text": [
      "INFO:li:scraper:('[healthcare][United Arab Emirates][60]', 'Processed')\n"
     ]
    },
    {
     "name": "stdout",
     "output_type": "stream",
     "text": [
      "[ON_DATA] Product Manager Marc Ellis 2021-03-31 https://ae.linkedin.com/jobs/view/product-manager-at-marc-ellis-2483721647?refId=a2483376-cbde-4c69-81ad-485460be04a2&trackingId=YetZelrVOhuGVvLk37Me3Q%3D%3D&position=12&pageNum=2&trk=public_jobs_job-result-card_result-card_full-click\n"
     ]
    },
    {
     "name": "stderr",
     "output_type": "stream",
     "text": [
      "INFO:li:scraper:('[healthcare][United Arab Emirates][61]', 'Processed')\n"
     ]
    },
    {
     "name": "stdout",
     "output_type": "stream",
     "text": [
      "[ON_DATA] Sales Manager ZoonoUAE 2021-04-06 https://ae.linkedin.com/jobs/view/sales-manager-at-zoonouae-2490881268?refId=a2483376-cbde-4c69-81ad-485460be04a2&trackingId=jyI77ukAfRcIlrBtiOg37Q%3D%3D&position=13&pageNum=2&trk=public_jobs_job-result-card_result-card_full-click\n"
     ]
    },
    {
     "name": "stderr",
     "output_type": "stream",
     "text": [
      "INFO:li:scraper:('[healthcare][United Arab Emirates][62]', 'Processed')\n"
     ]
    },
    {
     "name": "stdout",
     "output_type": "stream",
     "text": [
      "[ON_DATA] Executive- Leasing and Tenant Relations Dubai Healthcare City 2021-03-28 https://ae.linkedin.com/jobs/view/executive-leasing-and-tenant-relations-at-dubai-healthcare-city-2468030447?refId=a2483376-cbde-4c69-81ad-485460be04a2&trackingId=thiaX1%2BvCtBNqlkeyh3qIA%3D%3D&position=14&pageNum=2&trk=public_jobs_job-result-card_result-card_full-click\n"
     ]
    },
    {
     "name": "stderr",
     "output_type": "stream",
     "text": [
      "INFO:li:scraper:('[healthcare][United Arab Emirates][63]', 'Processed')\n"
     ]
    },
    {
     "name": "stdout",
     "output_type": "stream",
     "text": [
      "[ON_DATA] Head Corporate Affairs – Gulf and Levant Viatris 2021-03-29 https://ae.linkedin.com/jobs/view/head-corporate-affairs-%E2%80%93-gulf-and-levant-at-viatris-2458011682?refId=a2483376-cbde-4c69-81ad-485460be04a2&trackingId=n%2BRVXlJNLEKBBqeR8qz5zw%3D%3D&position=15&pageNum=2&trk=public_jobs_job-result-card_result-card_full-click\n"
     ]
    },
    {
     "name": "stderr",
     "output_type": "stream",
     "text": [
      "INFO:li:scraper:('[healthcare][United Arab Emirates][64]', 'Processed')\n"
     ]
    },
    {
     "name": "stdout",
     "output_type": "stream",
     "text": [
      "[ON_DATA] Technical Support Specialist- Healthcare Intersystems Corporation 2021-03-15 https://ae.linkedin.com/jobs/view/technical-support-specialist-healthcare-at-intersystems-corporation-2463773318?refId=a2483376-cbde-4c69-81ad-485460be04a2&trackingId=a8QxjwxrE37f3YqU6fj%2B%2FA%3D%3D&position=16&pageNum=2&trk=public_jobs_job-result-card_result-card_full-click\n"
     ]
    },
    {
     "name": "stderr",
     "output_type": "stream",
     "text": [
      "INFO:li:scraper:('[healthcare][United Arab Emirates][65]', 'Processed')\n"
     ]
    },
    {
     "name": "stdout",
     "output_type": "stream",
     "text": [
      "[ON_DATA] Radiology Technician| AlFuttaim- Healthcare | Dubai Al-Futtaim 2021-03-16 https://ae.linkedin.com/jobs/view/radiology-technician-alfuttaim-healthcare-dubai-at-al-futtaim-2451153777?refId=a2483376-cbde-4c69-81ad-485460be04a2&trackingId=NsK0siHYvk2z%2FUJuNjSg5w%3D%3D&position=17&pageNum=2&trk=public_jobs_job-result-card_result-card_full-click\n"
     ]
    },
    {
     "name": "stderr",
     "output_type": "stream",
     "text": [
      "INFO:li:scraper:('[healthcare][United Arab Emirates][66]', 'Processed')\n"
     ]
    },
    {
     "name": "stdout",
     "output_type": "stream",
     "text": [
      "[ON_DATA] Research Assistant United Arab Emirates University 2021-02-23 https://ae.linkedin.com/jobs/view/research-assistant-at-united-arab-emirates-university-2438080087?refId=a2483376-cbde-4c69-81ad-485460be04a2&trackingId=deaQRv35KsCqOZY7B4%2BYBQ%3D%3D&position=18&pageNum=2&trk=public_jobs_job-result-card_result-card_full-click\n"
     ]
    },
    {
     "name": "stderr",
     "output_type": "stream",
     "text": [
      "INFO:li:scraper:('[healthcare][United Arab Emirates][67]', 'Processed')\n"
     ]
    },
    {
     "name": "stdout",
     "output_type": "stream",
     "text": [
      "[ON_DATA] Government Affairs Manager- MEA AstraZeneca 2021-03-09 https://ae.linkedin.com/jobs/view/government-affairs-manager-mea-at-astrazeneca-2454175231?refId=a2483376-cbde-4c69-81ad-485460be04a2&trackingId=buuQRId8BtTdpFzxm%2Ft1bw%3D%3D&position=19&pageNum=2&trk=public_jobs_job-result-card_result-card_full-click\n"
     ]
    },
    {
     "name": "stderr",
     "output_type": "stream",
     "text": [
      "INFO:li:scraper:('[healthcare][United Arab Emirates][68]', 'Processed')\n"
     ]
    },
    {
     "name": "stdout",
     "output_type": "stream",
     "text": [
      "[ON_DATA] Senior Consultant Grmc Advisory Services 2021-03-19 https://ae.linkedin.com/jobs/view/senior-consultant-at-grmc-advisory-services-2490413262?refId=a2483376-cbde-4c69-81ad-485460be04a2&trackingId=oiD5kUoXQnYtaa1dvgEKRQ%3D%3D&position=20&pageNum=2&trk=public_jobs_job-result-card_result-card_full-click\n"
     ]
    },
    {
     "name": "stderr",
     "output_type": "stream",
     "text": [
      "INFO:li:scraper:('[healthcare][United Arab Emirates][69]', 'Processed')\n"
     ]
    },
    {
     "name": "stdout",
     "output_type": "stream",
     "text": [
      "[ON_DATA] CHANNEL SALES (HEALTHCARE/DATA ANALYTICS/HIS) in Dubai Nadia Recruitment & Management Consultants 2021-03-20 https://ae.linkedin.com/jobs/view/channel-sales-healthcare-data-analytics-his-in-dubai-at-nadia-recruitment-management-consultants-2469915302?refId=3d7e8f85-bdc6-48a6-9e1d-edded5e887f6&trackingId=ixnbAeWPJmX9OmGb%2Fxb2wg%3D%3D&position=1&pageNum=3&trk=public_jobs_job-result-card_result-card_full-click\n"
     ]
    },
    {
     "name": "stderr",
     "output_type": "stream",
     "text": [
      "INFO:li:scraper:('[healthcare][United Arab Emirates][70]', 'Processed')\n"
     ]
    },
    {
     "name": "stdout",
     "output_type": "stream",
     "text": [
      "[ON_DATA] Faculty Position in Periodontology Mohammed Bin Rashid University of Medicine and Health Sciences (MBRU) 2021-04-06 https://ae.linkedin.com/jobs/view/faculty-position-in-periodontology-at-mohammed-bin-rashid-university-of-medicine-and-health-sciences-mbru-2467698954?refId=3d7e8f85-bdc6-48a6-9e1d-edded5e887f6&trackingId=LQQ39G7fmiSR7bvbtJNLPw%3D%3D&position=2&pageNum=3&trk=public_jobs_job-result-card_result-card_full-click\n"
     ]
    },
    {
     "name": "stderr",
     "output_type": "stream",
     "text": [
      "INFO:li:scraper:('[healthcare][United Arab Emirates][71]', 'Processed')\n"
     ]
    },
    {
     "name": "stdout",
     "output_type": "stream",
     "text": [
      "[ON_DATA] Medical Director - Mediclinic Al Ain Hospital Mediclinic Middle East 2021-04-05 https://ae.linkedin.com/jobs/view/medical-director-mediclinic-al-ain-hospital-at-mediclinic-middle-east-2467641105?refId=3d7e8f85-bdc6-48a6-9e1d-edded5e887f6&trackingId=dSMlsBV7aUlNYg6J2xvMBQ%3D%3D&position=3&pageNum=3&trk=public_jobs_job-result-card_result-card_full-click\n"
     ]
    },
    {
     "name": "stderr",
     "output_type": "stream",
     "text": [
      "INFO:li:scraper:('[healthcare][United Arab Emirates][72]', 'Processed')\n"
     ]
    },
    {
     "name": "stdout",
     "output_type": "stream",
     "text": [
      "[ON_DATA] Medical Center Manager Tiger 2021-01-05 https://ae.linkedin.com/jobs/view/medical-center-manager-at-tiger-2368483490?refId=3d7e8f85-bdc6-48a6-9e1d-edded5e887f6&trackingId=OXxSQznEm6oEGckEhxB%2FWw%3D%3D&position=4&pageNum=3&trk=public_jobs_job-result-card_result-card_full-click\n"
     ]
    },
    {
     "name": "stderr",
     "output_type": "stream",
     "text": [
      "INFO:li:scraper:('[healthcare][United Arab Emirates][73]', 'Processed')\n"
     ]
    },
    {
     "name": "stdout",
     "output_type": "stream",
     "text": [
      "[ON_DATA] Quality Coordinator Rtc1 Employment Services 2021-03-19 https://ae.linkedin.com/jobs/view/quality-coordinator-at-rtc1-employment-services-2468549014?refId=3d7e8f85-bdc6-48a6-9e1d-edded5e887f6&trackingId=9DT9yKI5fHy5w08QMq6GMg%3D%3D&position=5&pageNum=3&trk=public_jobs_job-result-card_result-card_full-click\n"
     ]
    },
    {
     "name": "stderr",
     "output_type": "stream",
     "text": [
      "INFO:li:scraper:('[healthcare][United Arab Emirates][74]', 'Processed')\n"
     ]
    },
    {
     "name": "stdout",
     "output_type": "stream",
     "text": [
      "[ON_DATA] MR Sales Specialist - ME GE Healthcare 2021-04-04 https://ae.linkedin.com/jobs/view/mr-sales-specialist-me-at-ge-healthcare-2489078292?refId=3d7e8f85-bdc6-48a6-9e1d-edded5e887f6&trackingId=sBque1pFkVMc0RhxhFrkJg%3D%3D&position=6&pageNum=3&trk=public_jobs_job-result-card_result-card_full-click\n"
     ]
    },
    {
     "name": "stderr",
     "output_type": "stream",
     "text": [
      "INFO:li:scraper:('[healthcare][United Arab Emirates][75]', 'Processed')\n"
     ]
    },
    {
     "name": "stdout",
     "output_type": "stream",
     "text": [
      "[ON_DATA] Deals, Strategy & Operations - Healthcare Strategy - Senior Consultant PwC Middle East 2021-03-31 https://ae.linkedin.com/jobs/view/deals-strategy-operations-healthcare-strategy-senior-consultant-at-pwc-middle-east-2461195398?refId=3d7e8f85-bdc6-48a6-9e1d-edded5e887f6&trackingId=ZIAreNBuOWWn%2FKg2KlL4sg%3D%3D&position=7&pageNum=3&trk=public_jobs_job-result-card_result-card_full-click\n"
     ]
    },
    {
     "name": "stderr",
     "output_type": "stream",
     "text": [
      "INFO:li:scraper:('[healthcare][United Arab Emirates][76]', 'Processed')\n"
     ]
    },
    {
     "name": "stdout",
     "output_type": "stream",
     "text": [
      "[ON_DATA] Therapeutic Area Manager Near East - Based in Lebanon Merck Kgaa 2021-03-19 https://ae.linkedin.com/jobs/view/therapeutic-area-manager-near-east-based-in-lebanon-at-merck-kgaa-2490444019?refId=3d7e8f85-bdc6-48a6-9e1d-edded5e887f6&trackingId=yU89AdvAxqy3DTsGuBe9nw%3D%3D&position=8&pageNum=3&trk=public_jobs_job-result-card_result-card_full-click\n"
     ]
    },
    {
     "name": "stderr",
     "output_type": "stream",
     "text": [
      "INFO:li:scraper:('[healthcare][United Arab Emirates][77]', 'Processed')\n"
     ]
    },
    {
     "name": "stdout",
     "output_type": "stream",
     "text": [
      "[ON_DATA] Therapeutic Area Manager CMC - Based in Lebanon Merck Kgaa 2021-03-19 https://ae.linkedin.com/jobs/view/therapeutic-area-manager-cmc-based-in-lebanon-at-merck-kgaa-2489482447?refId=3d7e8f85-bdc6-48a6-9e1d-edded5e887f6&trackingId=%2F6qCErN0nT27q1Yup1wBrw%3D%3D&position=9&pageNum=3&trk=public_jobs_job-result-card_result-card_full-click\n"
     ]
    },
    {
     "name": "stderr",
     "output_type": "stream",
     "text": [
      "INFO:li:scraper:('[healthcare][United Arab Emirates][78]', 'Processed')\n"
     ]
    },
    {
     "name": "stdout",
     "output_type": "stream",
     "text": [
      "[ON_DATA] Medical Sales Representative RTC-1 Employment Services 2021-03-04 https://ae.linkedin.com/jobs/view/medical-sales-representative-at-rtc-1-employment-services-2446470738?refId=3d7e8f85-bdc6-48a6-9e1d-edded5e887f6&trackingId=rSY%2B3ti8ArdQoAtdcf1bOA%3D%3D&position=10&pageNum=3&trk=public_jobs_job-result-card_result-card_full-click\n"
     ]
    },
    {
     "name": "stderr",
     "output_type": "stream",
     "text": [
      "INFO:li:scraper:('[healthcare][United Arab Emirates][79]', 'Processed')\n"
     ]
    },
    {
     "name": "stdout",
     "output_type": "stream",
     "text": [
      "[ON_DATA] Consultant Health Standards / Information Governance Win Win Hr Consultancy 2021-03-19 https://ae.linkedin.com/jobs/view/consultant-health-standards-information-governance-at-win-win-hr-consultancy-2485734196?refId=3d7e8f85-bdc6-48a6-9e1d-edded5e887f6&trackingId=zxKHt7TTC9ASbwSn9MwP6Q%3D%3D&position=11&pageNum=3&trk=public_jobs_job-result-card_result-card_full-click\n"
     ]
    },
    {
     "name": "stderr",
     "output_type": "stream",
     "text": [
      "INFO:li:scraper:('[healthcare][United Arab Emirates][80]', 'Processed')\n"
     ]
    },
    {
     "name": "stdout",
     "output_type": "stream",
     "text": [
      "[ON_DATA] ICT Helpdesk Specialist King's College Hospital London – UAE 2021-04-05 https://ae.linkedin.com/jobs/view/ict-helpdesk-specialist-at-king-s-college-hospital-london-%E2%80%93-uae-2467640412?refId=3d7e8f85-bdc6-48a6-9e1d-edded5e887f6&trackingId=fAsnnbWtQ%2BjpISI67LdfSw%3D%3D&position=12&pageNum=3&trk=public_jobs_job-result-card_result-card_full-click\n"
     ]
    },
    {
     "name": "stderr",
     "output_type": "stream",
     "text": [
      "INFO:li:scraper:('[healthcare][United Arab Emirates][81]', 'Processed')\n"
     ]
    },
    {
     "name": "stdout",
     "output_type": "stream",
     "text": [
      "[ON_DATA] Contract Manager (Healthcare Domain) Najma Consultancy 2021-02-22 https://ae.linkedin.com/jobs/view/contract-manager-healthcare-domain-at-najma-consultancy-2435165357?refId=3d7e8f85-bdc6-48a6-9e1d-edded5e887f6&trackingId=wL%2B8o0FWkcReFJH8MsitHw%3D%3D&position=13&pageNum=3&trk=public_jobs_job-result-card_result-card_full-click\n"
     ]
    },
    {
     "name": "stderr",
     "output_type": "stream",
     "text": [
      "INFO:li:scraper:('[healthcare][United Arab Emirates][82]', 'Processed')\n"
     ]
    },
    {
     "name": "stdout",
     "output_type": "stream",
     "text": [
      "[ON_DATA] Research Assistant/Associate United Arab Emirates University (Uaeu) 2021-03-19 https://ae.linkedin.com/jobs/view/research-assistant-associate-at-united-arab-emirates-university-uaeu-2468547307?refId=3d7e8f85-bdc6-48a6-9e1d-edded5e887f6&trackingId=dL4INwO0CotUuzBXmN6oMw%3D%3D&position=14&pageNum=3&trk=public_jobs_job-result-card_result-card_full-click\n"
     ]
    },
    {
     "name": "stderr",
     "output_type": "stream",
     "text": [
      "INFO:li:scraper:('[healthcare][United Arab Emirates][83]', 'Processed')\n"
     ]
    },
    {
     "name": "stdout",
     "output_type": "stream",
     "text": [
      "[ON_DATA] Product Leader - Clinical Accessories General Electric (GE) 2021-03-24 https://ae.linkedin.com/jobs/view/product-leader-clinical-accessories-at-general-electric-ge-2475221880?refId=3d7e8f85-bdc6-48a6-9e1d-edded5e887f6&trackingId=EvvygQf5oAqqZayU2CRw%2Bg%3D%3D&position=15&pageNum=3&trk=public_jobs_job-result-card_result-card_full-click\n"
     ]
    },
    {
     "name": "stderr",
     "output_type": "stream",
     "text": [
      "INFO:li:scraper:('[healthcare][United Arab Emirates][84]', 'Processed')\n"
     ]
    },
    {
     "name": "stdout",
     "output_type": "stream",
     "text": [
      "[ON_DATA] Clinical Informatics Consultant Win Win Hr Consultancy 2021-03-19 https://ae.linkedin.com/jobs/view/clinical-informatics-consultant-at-win-win-hr-consultancy-2468548043?refId=3d7e8f85-bdc6-48a6-9e1d-edded5e887f6&trackingId=TswujbESkKQd7Z5HwKxnTQ%3D%3D&position=16&pageNum=3&trk=public_jobs_job-result-card_result-card_full-click\n"
     ]
    },
    {
     "name": "stderr",
     "output_type": "stream",
     "text": [
      "INFO:li:scraper:('[healthcare][United Arab Emirates][85]', 'Processed')\n"
     ]
    },
    {
     "name": "stdout",
     "output_type": "stream",
     "text": [
      "[ON_DATA] Consultant, Women's Health Fakeeh University Hospital 2021-03-20 https://ae.linkedin.com/jobs/view/consultant-women-s-health-at-fakeeh-university-hospital-2489476263?refId=3d7e8f85-bdc6-48a6-9e1d-edded5e887f6&trackingId=eU14sqcglQmPLbZiRptnGw%3D%3D&position=17&pageNum=3&trk=public_jobs_job-result-card_result-card_full-click\n"
     ]
    },
    {
     "name": "stderr",
     "output_type": "stream",
     "text": [
      "INFO:li:scraper:('[healthcare][United Arab Emirates][86]', 'Processed')\n"
     ]
    },
    {
     "name": "stdout",
     "output_type": "stream",
     "text": [
      "[ON_DATA] Deals, Strategy - Healthcare - Senior Manager PwC Middle East 2021-03-19 https://ae.linkedin.com/jobs/view/deals-strategy-healthcare-senior-manager-at-pwc-middle-east-2445703825?refId=3d7e8f85-bdc6-48a6-9e1d-edded5e887f6&trackingId=iq3BMYcAx3n9uoMN2anCrw%3D%3D&position=18&pageNum=3&trk=public_jobs_job-result-card_result-card_full-click\n"
     ]
    },
    {
     "name": "stderr",
     "output_type": "stream",
     "text": [
      "INFO:li:scraper:('[healthcare][United Arab Emirates][87]', 'Processed')\n"
     ]
    },
    {
     "name": "stdout",
     "output_type": "stream",
     "text": [
      "[ON_DATA] Investment Professional Hays Dubai 2021-03-19 https://ae.linkedin.com/jobs/view/investment-professional-at-hays-dubai-2468544770?refId=3d7e8f85-bdc6-48a6-9e1d-edded5e887f6&trackingId=vd4%2Fp5YnZ0i%2Fot7%2BTH1y9w%3D%3D&position=19&pageNum=3&trk=public_jobs_job-result-card_result-card_full-click\n"
     ]
    },
    {
     "name": "stderr",
     "output_type": "stream",
     "text": [
      "INFO:li:scraper:('[healthcare][United Arab Emirates][88]', 'Processed')\n"
     ]
    },
    {
     "name": "stdout",
     "output_type": "stream",
     "text": [
      "[ON_DATA] Operations Coordinator Via Medica Intl 2020-10-15 https://ae.linkedin.com/jobs/view/operations-coordinator-at-via-medica-intl-2294976469?refId=3d7e8f85-bdc6-48a6-9e1d-edded5e887f6&trackingId=GJnk4DPDazyeVMXPGCvQ6A%3D%3D&position=20&pageNum=3&trk=public_jobs_job-result-card_result-card_full-click\n"
     ]
    },
    {
     "name": "stderr",
     "output_type": "stream",
     "text": [
      "INFO:li:scraper:('[healthcare][United Arab Emirates][89]', 'Processed')\n"
     ]
    },
    {
     "name": "stdout",
     "output_type": "stream",
     "text": [
      "[ON_DATA] Junior Chief Financial Officer - Healthcare - Abu Dhabi Cassia Ltd 2021-03-17 https://ae.linkedin.com/jobs/view/junior-chief-financial-officer-healthcare-abu-dhabi-at-cassia-ltd-2465292735?refId=3d7e8f85-bdc6-48a6-9e1d-edded5e887f6&trackingId=dSzoPGtasAxRK163aibPoQ%3D%3D&position=21&pageNum=3&trk=public_jobs_job-result-card_result-card_full-click\n"
     ]
    },
    {
     "name": "stderr",
     "output_type": "stream",
     "text": [
      "INFO:li:scraper:('[healthcare][United Arab Emirates][90]', 'Processed')\n"
     ]
    },
    {
     "name": "stdout",
     "output_type": "stream",
     "text": [
      "[ON_DATA] Data Management Coordinator - Clinical Governance American Hospital Dubai 2021-03-22 https://ae.linkedin.com/jobs/view/data-management-coordinator-clinical-governance-at-american-hospital-dubai-2472018341?refId=3d7e8f85-bdc6-48a6-9e1d-edded5e887f6&trackingId=eupM%2FQNtmPGavWoKer9Tag%3D%3D&position=22&pageNum=3&trk=public_jobs_job-result-card_result-card_full-click\n"
     ]
    },
    {
     "name": "stderr",
     "output_type": "stream",
     "text": [
      "INFO:li:scraper:('[healthcare][United Arab Emirates][91]', 'Processed')\n"
     ]
    },
    {
     "name": "stdout",
     "output_type": "stream",
     "text": [
      "[ON_DATA] EB Account Executive AXA Gulf 2021-04-04 https://ae.linkedin.com/jobs/view/eb-account-executive-at-axa-gulf-2467605370?refId=3d7e8f85-bdc6-48a6-9e1d-edded5e887f6&trackingId=jtRdgSRPXCMFD57hcdLkKQ%3D%3D&position=23&pageNum=3&trk=public_jobs_job-result-card_result-card_full-click\n"
     ]
    },
    {
     "name": "stderr",
     "output_type": "stream",
     "text": [
      "INFO:li:scraper:('[healthcare][United Arab Emirates][92]', 'Processed')\n"
     ]
    },
    {
     "name": "stdout",
     "output_type": "stream",
     "text": [
      "[ON_DATA] Medical Representative, Al Ain – UAE Acino Pharma 2021-04-01 https://ae.linkedin.com/jobs/view/medical-representative-al-ain-%E2%80%93-uae-at-acino-pharma-2490440981?refId=3d7e8f85-bdc6-48a6-9e1d-edded5e887f6&trackingId=9oub7W950BZkm625tsSzPQ%3D%3D&position=24&pageNum=3&trk=public_jobs_job-result-card_result-card_full-click\n"
     ]
    },
    {
     "name": "stderr",
     "output_type": "stream",
     "text": [
      "INFO:li:scraper:('[healthcare][United Arab Emirates][93]', 'Processed')\n"
     ]
    },
    {
     "name": "stdout",
     "output_type": "stream",
     "text": [
      "[ON_DATA] Consultant/Specialist Physician Iqarus 2021-04-01 https://ae.linkedin.com/jobs/view/consultant-specialist-physician-at-iqarus-2485746163?refId=c9af17da-f417-4c69-8aac-6d4f05154ac5&trackingId=FD4A1mF2fWq8MLlhm0gAdg%3D%3D&position=1&pageNum=4&trk=public_jobs_job-result-card_result-card_full-click\n"
     ]
    },
    {
     "name": "stderr",
     "output_type": "stream",
     "text": [
      "INFO:li:scraper:('[healthcare][United Arab Emirates][94]', 'Processed')\n"
     ]
    },
    {
     "name": "stdout",
     "output_type": "stream",
     "text": [
      "[ON_DATA] Specialist Health Standards Win Win Hr Consultancy 2021-03-19 https://ae.linkedin.com/jobs/view/specialist-health-standards-at-win-win-hr-consultancy-2490445185?refId=c9af17da-f417-4c69-8aac-6d4f05154ac5&trackingId=3t9AfUISrbELTZF7twtMAg%3D%3D&position=2&pageNum=4&trk=public_jobs_job-result-card_result-card_full-click\n"
     ]
    },
    {
     "name": "stderr",
     "output_type": "stream",
     "text": [
      "INFO:li:scraper:('[healthcare][United Arab Emirates][95]', 'Processed')\n"
     ]
    },
    {
     "name": "stdout",
     "output_type": "stream",
     "text": [
      "[ON_DATA] Research Assistant/Associate United Arab Emirates University 2021-03-19 https://ae.linkedin.com/jobs/view/research-assistant-associate-at-united-arab-emirates-university-2468340532?refId=c9af17da-f417-4c69-8aac-6d4f05154ac5&trackingId=wHwwjoIjPLTi6u7YD5dJ5A%3D%3D&position=3&pageNum=4&trk=public_jobs_job-result-card_result-card_full-click\n"
     ]
    },
    {
     "name": "stderr",
     "output_type": "stream",
     "text": [
      "INFO:li:scraper:('[healthcare][United Arab Emirates][96]', 'Processed')\n"
     ]
    },
    {
     "name": "stdout",
     "output_type": "stream",
     "text": [
      "[ON_DATA] Global Product Manager, Bloodborne Viruses & HPV Cepheid 2021-03-18 https://ae.linkedin.com/jobs/view/global-product-manager-bloodborne-viruses-hpv-at-cepheid-2444432178?refId=c9af17da-f417-4c69-8aac-6d4f05154ac5&trackingId=bSmhAe7vMb7pHp%2FdfFinjg%3D%3D&position=4&pageNum=4&trk=public_jobs_job-result-card_result-card_full-click\n"
     ]
    },
    {
     "name": "stderr",
     "output_type": "stream",
     "text": [
      "INFO:li:scraper:('[healthcare][United Arab Emirates][97]', 'Processed')\n"
     ]
    },
    {
     "name": "stdout",
     "output_type": "stream",
     "text": [
      "[ON_DATA] Contract Director - Healthcare Facilities Management Michael Page 2020-12-05 https://ae.linkedin.com/jobs/view/contract-director-healthcare-facilities-management-at-michael-page-2362412317?refId=c9af17da-f417-4c69-8aac-6d4f05154ac5&trackingId=BfHEtbuPfD3eiomdqCoFeA%3D%3D&position=5&pageNum=4&trk=public_jobs_job-result-card_result-card_full-click\n"
     ]
    },
    {
     "name": "stderr",
     "output_type": "stream",
     "text": [
      "INFO:li:scraper:('[healthcare][United Arab Emirates][98]', 'Processed')\n"
     ]
    },
    {
     "name": "stdout",
     "output_type": "stream",
     "text": [
      "[ON_DATA] Solution Engineer 3M 2021-03-16 https://ae.linkedin.com/jobs/view/solution-engineer-at-3m-2451153574?refId=c9af17da-f417-4c69-8aac-6d4f05154ac5&trackingId=%2F4h2xIdaLLMtMqU6cX5Jfg%3D%3D&position=6&pageNum=4&trk=public_jobs_job-result-card_result-card_full-click\n"
     ]
    },
    {
     "name": "stderr",
     "output_type": "stream",
     "text": [
      "INFO:li:scraper:('[healthcare][United Arab Emirates][99]', 'Processed')\n"
     ]
    },
    {
     "name": "stdout",
     "output_type": "stream",
     "text": [
      "[ON_DATA] Innovation Manager Accenture 2021-03-24 https://ae.linkedin.com/jobs/view/innovation-manager-at-accenture-2475691505?refId=c9af17da-f417-4c69-8aac-6d4f05154ac5&trackingId=wN3%2BVR7Ch6NDP2rTLGMrsw%3D%3D&position=7&pageNum=4&trk=public_jobs_job-result-card_result-card_full-click\n"
     ]
    },
    {
     "name": "stderr",
     "output_type": "stream",
     "text": [
      "INFO:li:scraper:('[healthcare][United Arab Emirates][100]', 'Processed')\n"
     ]
    },
    {
     "name": "stdout",
     "output_type": "stream",
     "text": [
      "[ON_DATA] Customer Success Manager - MEA Webengage 2021-03-15 https://ae.linkedin.com/jobs/view/customer-success-manager-mea-at-webengage-2487289847?refId=c9af17da-f417-4c69-8aac-6d4f05154ac5&trackingId=vn%2FRqqiFxe6SdwAGNpBiDQ%3D%3D&position=8&pageNum=4&trk=public_jobs_job-result-card_result-card_full-click\n"
     ]
    },
    {
     "name": "stderr",
     "output_type": "stream",
     "text": [
      "INFO:li:scraper:('[healthcare][United Arab Emirates][101]', 'Processed')\n"
     ]
    },
    {
     "name": "stdout",
     "output_type": "stream",
     "text": [
      "[ON_DATA] Assistant Product Manager Julphar 2021-02-09 https://ae.linkedin.com/jobs/view/assistant-product-manager-at-julphar-2415210951?refId=c9af17da-f417-4c69-8aac-6d4f05154ac5&trackingId=jUR6oClcOKW4EzIf6y6hYQ%3D%3D&position=9&pageNum=4&trk=public_jobs_job-result-card_result-card_full-click\n"
     ]
    },
    {
     "name": "stderr",
     "output_type": "stream",
     "text": [
      "INFO:li:scraper:('[healthcare][United Arab Emirates][102]', 'Processed')\n"
     ]
    },
    {
     "name": "stdout",
     "output_type": "stream",
     "text": [
      "[ON_DATA] Medical Officer and Codder Aatush Immigration Consultants 2021-03-18 https://ae.linkedin.com/jobs/view/medical-officer-and-codder-at-aatush-immigration-consultants-2491147250?refId=c9af17da-f417-4c69-8aac-6d4f05154ac5&trackingId=tCjMj36ry%2Bo%2BNR6hECY11w%3D%3D&position=10&pageNum=4&trk=public_jobs_job-result-card_result-card_full-click\n"
     ]
    },
    {
     "name": "stderr",
     "output_type": "stream",
     "text": [
      "INFO:li:scraper:('[healthcare][United Arab Emirates][103]', 'Processed')\n"
     ]
    },
    {
     "name": "stdout",
     "output_type": "stream",
     "text": [
      "[ON_DATA] Associate Director Academic Affairs Institute of Applied Technology 2021-03-17 https://ae.linkedin.com/jobs/view/associate-director-academic-affairs-at-institute-of-applied-technology-2464930718?refId=c9af17da-f417-4c69-8aac-6d4f05154ac5&trackingId=UZg3NPCUbf4DCtv%2Fls8qhQ%3D%3D&position=11&pageNum=4&trk=public_jobs_job-result-card_result-card_full-click\n"
     ]
    },
    {
     "name": "stderr",
     "output_type": "stream",
     "text": [
      "INFO:li:scraper:('[healthcare][United Arab Emirates][104]', 'Processed')\n"
     ]
    },
    {
     "name": "stdout",
     "output_type": "stream",
     "text": [
      "[ON_DATA] Data Entry Nathan & Nathan 2021-03-22 https://ae.linkedin.com/jobs/view/data-entry-at-nathan-nathan-2472021062?refId=c9af17da-f417-4c69-8aac-6d4f05154ac5&trackingId=zbVi1EfPERZZjLb2q4o1eQ%3D%3D&position=12&pageNum=4&trk=public_jobs_job-result-card_result-card_full-click\n"
     ]
    },
    {
     "name": "stderr",
     "output_type": "stream",
     "text": [
      "INFO:li:scraper:('[healthcare][United Arab Emirates][105]', 'Processed')\n"
     ]
    },
    {
     "name": "stdout",
     "output_type": "stream",
     "text": [
      "[ON_DATA] Key Account Manager talabat 2021-04-04 https://ae.linkedin.com/jobs/view/key-account-manager-at-talabat-2467618861?refId=c9af17da-f417-4c69-8aac-6d4f05154ac5&trackingId=44ZzZlv1PdjYx5bfXeckDQ%3D%3D&position=13&pageNum=4&trk=public_jobs_job-result-card_result-card_full-click\n"
     ]
    },
    {
     "name": "stderr",
     "output_type": "stream",
     "text": [
      "INFO:li:scraper:('[healthcare][United Arab Emirates][106]', 'Processed')\n"
     ]
    },
    {
     "name": "stdout",
     "output_type": "stream",
     "text": [
      "[ON_DATA] Operations Strategy Director Plum Jobs 2021-03-24 https://ae.linkedin.com/jobs/view/operations-strategy-director-at-plum-jobs-2475690544?refId=c9af17da-f417-4c69-8aac-6d4f05154ac5&trackingId=tTmzS%2F1mFQDtzduZruSS5Q%3D%3D&position=14&pageNum=4&trk=public_jobs_job-result-card_result-card_full-click\n"
     ]
    },
    {
     "name": "stderr",
     "output_type": "stream",
     "text": [
      "INFO:li:scraper:('[healthcare][United Arab Emirates][107]', 'Processed')\n"
     ]
    },
    {
     "name": "stdout",
     "output_type": "stream",
     "text": [
      "[ON_DATA] Senior Consultant GRMC Advisory Services 2021-02-11 https://ae.linkedin.com/jobs/view/senior-consultant-at-grmc-advisory-services-2420832236?refId=c9af17da-f417-4c69-8aac-6d4f05154ac5&trackingId=on5MB8b7t50NP2Txrrm8gg%3D%3D&position=15&pageNum=4&trk=public_jobs_job-result-card_result-card_full-click\n"
     ]
    },
    {
     "name": "stderr",
     "output_type": "stream",
     "text": [
      "INFO:li:scraper:('[healthcare][United Arab Emirates][108]', 'Processed')\n"
     ]
    },
    {
     "name": "stdout",
     "output_type": "stream",
     "text": [
      "[ON_DATA] Clinical Team Leader - CT, Emerging Markets GE Healthcare 2021-03-30 https://ae.linkedin.com/jobs/view/clinical-team-leader-ct-emerging-markets-at-ge-healthcare-2481976216?refId=c9af17da-f417-4c69-8aac-6d4f05154ac5&trackingId=m8%2BOa4TafxIfr0EjjSiUuQ%3D%3D&position=16&pageNum=4&trk=public_jobs_job-result-card_result-card_full-click\n"
     ]
    },
    {
     "name": "stderr",
     "output_type": "stream",
     "text": [
      "INFO:li:scraper:('[healthcare][United Arab Emirates][109]', 'Processed')\n"
     ]
    },
    {
     "name": "stdout",
     "output_type": "stream",
     "text": [
      "[ON_DATA] Regional Sales Manager Boehringer Ingelheim 2021-04-02 https://ae.linkedin.com/jobs/view/regional-sales-manager-at-boehringer-ingelheim-2487292068?refId=c9af17da-f417-4c69-8aac-6d4f05154ac5&trackingId=D4sIva7kv4xnqtQqxqWZ%2FA%3D%3D&position=17&pageNum=4&trk=public_jobs_job-result-card_result-card_full-click\n"
     ]
    },
    {
     "name": "stderr",
     "output_type": "stream",
     "text": [
      "INFO:li:scraper:('[healthcare][United Arab Emirates][110]', 'Processed')\n"
     ]
    },
    {
     "name": "stdout",
     "output_type": "stream",
     "text": [
      "[ON_DATA] Market Development Manager ITW Welding Middle East 2021-04-03 https://ae.linkedin.com/jobs/view/market-development-manager-at-itw-welding-middle-east-2475163694?refId=c9af17da-f417-4c69-8aac-6d4f05154ac5&trackingId=8OQAk8zNB9YfipoLxd%2BFWQ%3D%3D&position=18&pageNum=4&trk=public_jobs_job-result-card_result-card_full-click\n"
     ]
    },
    {
     "name": "stderr",
     "output_type": "stream",
     "text": [
      "INFO:li:scraper:('[healthcare][United Arab Emirates][111]', 'Processed')\n"
     ]
    },
    {
     "name": "stdout",
     "output_type": "stream",
     "text": [
      "[ON_DATA] Market Insight Lead - CEMA | Strategic Market Enterprise Medtronic 2021-03-16 https://ae.linkedin.com/jobs/view/market-insight-lead-cema-strategic-market-enterprise-at-medtronic-2463992952?refId=c9af17da-f417-4c69-8aac-6d4f05154ac5&trackingId=r%2Fi3te1j%2F%2FKMg7eXzY3hKA%3D%3D&position=19&pageNum=4&trk=public_jobs_job-result-card_result-card_full-click\n"
     ]
    },
    {
     "name": "stderr",
     "output_type": "stream",
     "text": [
      "INFO:li:scraper:('[healthcare][United Arab Emirates][112]', 'Processed')\n"
     ]
    },
    {
     "name": "stdout",
     "output_type": "stream",
     "text": [
      "[ON_DATA] Consultant/Specialist Physician Iqarus 2021-03-31 https://ae.linkedin.com/jobs/view/consultant-specialist-physician-at-iqarus-2484098559?refId=c9af17da-f417-4c69-8aac-6d4f05154ac5&trackingId=30wqm3mEZ0dZUbM1yjeB4A%3D%3D&position=20&pageNum=4&trk=public_jobs_job-result-card_result-card_full-click\n"
     ]
    },
    {
     "name": "stderr",
     "output_type": "stream",
     "text": [
      "INFO:li:scraper:('[healthcare][United Arab Emirates][113]', 'Processed')\n"
     ]
    },
    {
     "name": "stdout",
     "output_type": "stream",
     "text": [
      "[ON_DATA] Project Quality Manager Brevan Oil & Gas Services 2021-03-19 https://ae.linkedin.com/jobs/view/project-quality-manager-at-brevan-oil-gas-services-2468549016?refId=c9af17da-f417-4c69-8aac-6d4f05154ac5&trackingId=UQOzIv9%2Be5caf4NAGgWuwA%3D%3D&position=21&pageNum=4&trk=public_jobs_job-result-card_result-card_full-click\n"
     ]
    },
    {
     "name": "stderr",
     "output_type": "stream",
     "text": [
      "INFO:li:scraper:('[healthcare][United Arab Emirates][114]', 'Processed')\n"
     ]
    },
    {
     "name": "stdout",
     "output_type": "stream",
     "text": [
      "[ON_DATA] Medical Director MEA Biomarin 2021-03-19 https://ae.linkedin.com/jobs/view/medical-director-mea-at-biomarin-2487293162?refId=c9af17da-f417-4c69-8aac-6d4f05154ac5&trackingId=9hCwBCbDYC46hr%2FdylQeRw%3D%3D&position=22&pageNum=4&trk=public_jobs_job-result-card_result-card_full-click\n"
     ]
    },
    {
     "name": "stderr",
     "output_type": "stream",
     "text": [
      "INFO:li:scraper:('[healthcare][United Arab Emirates][115]', 'Processed')\n"
     ]
    },
    {
     "name": "stdout",
     "output_type": "stream",
     "text": [
      "[ON_DATA] Organon - Policy Lead MENAT Msd 2021-03-28 https://ae.linkedin.com/jobs/view/organon-policy-lead-menat-at-msd-2487270320?refId=c9af17da-f417-4c69-8aac-6d4f05154ac5&trackingId=WpJDdzH0sC8KxL5Lpttq9g%3D%3D&position=23&pageNum=4&trk=public_jobs_job-result-card_result-card_full-click\n"
     ]
    },
    {
     "name": "stderr",
     "output_type": "stream",
     "text": [
      "INFO:li:scraper:('[healthcare][United Arab Emirates][116]', 'Processed')\n"
     ]
    },
    {
     "name": "stdout",
     "output_type": "stream",
     "text": [
      "[ON_DATA] Executive Director - Customer Success Securonix 2021-03-21 https://ae.linkedin.com/jobs/view/executive-director-customer-success-at-securonix-2471190858?refId=c9af17da-f417-4c69-8aac-6d4f05154ac5&trackingId=g6VVz6aV9L1Yk6dLBw0BKA%3D%3D&position=24&pageNum=4&trk=public_jobs_job-result-card_result-card_full-click\n"
     ]
    },
    {
     "name": "stderr",
     "output_type": "stream",
     "text": [
      "INFO:li:scraper:('[healthcare][United Arab Emirates][117]', 'Processed')\n",
      "INFO:li:scraper:('[healthcare][United Arab Emirates][117]', 'Checking for new jobs to load...')\n"
     ]
    },
    {
     "name": "stdout",
     "output_type": "stream",
     "text": [
      "[ON_DATA] Research Assistant - Grant United Arab Emirates University (Uaeu) 2021-03-19 https://ae.linkedin.com/jobs/view/research-assistant-grant-at-united-arab-emirates-university-uaeu-2468549009?refId=c9af17da-f417-4c69-8aac-6d4f05154ac5&trackingId=PCdYorhjZ%2B3fSlXTP3wR7w%3D%3D&position=25&pageNum=4&trk=public_jobs_job-result-card_result-card_full-click\n"
     ]
    },
    {
     "name": "stderr",
     "output_type": "stream",
     "text": [
      "INFO:li:scraper:('[healthcare][United Arab Emirates][117]', 'Found 141 jobs')\n",
      "INFO:li:scraper:('[healthcare][United Arab Emirates][118]', 'Processed')\n"
     ]
    },
    {
     "name": "stdout",
     "output_type": "stream",
     "text": [
      "[ON_DATA] Business Operations Associate Nathan & Nathan 2021-03-20 https://ae.linkedin.com/jobs/view/business-operations-associate-at-nathan-nathan-2485770225?refId=2764c5fd-91c6-42ca-b5ee-d6e930524194&trackingId=V7Y0C7BysHY%2By5ZTPCinwA%3D%3D&position=1&pageNum=5&trk=public_jobs_job-result-card_result-card_full-click\n"
     ]
    },
    {
     "name": "stderr",
     "output_type": "stream",
     "text": [
      "INFO:li:scraper:('[healthcare][United Arab Emirates][119]', 'Processed')\n"
     ]
    },
    {
     "name": "stdout",
     "output_type": "stream",
     "text": [
      "[ON_DATA] Research Assistant/Associate United Arab Emirates University 2021-02-17 https://ae.linkedin.com/jobs/view/research-assistant-associate-at-united-arab-emirates-university-2434418551?refId=2764c5fd-91c6-42ca-b5ee-d6e930524194&trackingId=4BDzpiFMZhcfeMT93ck%2BPw%3D%3D&position=2&pageNum=5&trk=public_jobs_job-result-card_result-card_full-click\n"
     ]
    },
    {
     "name": "stderr",
     "output_type": "stream",
     "text": [
      "INFO:li:scraper:('[healthcare][United Arab Emirates][120]', 'Processed')\n"
     ]
    },
    {
     "name": "stdout",
     "output_type": "stream",
     "text": [
      "[ON_DATA] Health Science Teacher Applied Technology High School - Abu Dhabi Male 2021-03-30 https://ae.linkedin.com/jobs/view/health-science-teacher-at-applied-technology-high-school-abu-dhabi-male-2482546804?refId=2764c5fd-91c6-42ca-b5ee-d6e930524194&trackingId=JgDB2XeScwOCfELkoybG2w%3D%3D&position=3&pageNum=5&trk=public_jobs_job-result-card_result-card_full-click\n"
     ]
    },
    {
     "name": "stderr",
     "output_type": "stream",
     "text": [
      "INFO:li:scraper:('[healthcare][United Arab Emirates][121]', 'Processed')\n"
     ]
    },
    {
     "name": "stdout",
     "output_type": "stream",
     "text": [
      "[ON_DATA] Cloud Solution Expert Huawei 2021-04-05 https://ae.linkedin.com/jobs/view/cloud-solution-expert-at-huawei-2475157207?refId=2764c5fd-91c6-42ca-b5ee-d6e930524194&trackingId=gZ6HW%2F6%2BWjJkeyxOpQE5ig%3D%3D&position=4&pageNum=5&trk=public_jobs_job-result-card_result-card_full-click\n"
     ]
    },
    {
     "name": "stderr",
     "output_type": "stream",
     "text": [
      "INFO:li:scraper:('[healthcare][United Arab Emirates][122]', 'Processed')\n"
     ]
    },
    {
     "name": "stdout",
     "output_type": "stream",
     "text": [
      "[ON_DATA] Health Care Assistant University Hospital Sharjah 2021-03-19 https://ae.linkedin.com/jobs/view/health-care-assistant-at-university-hospital-sharjah-2468545688?refId=2764c5fd-91c6-42ca-b5ee-d6e930524194&trackingId=x5QGfoIsBRBfQAL%2BIxzt%2FA%3D%3D&position=5&pageNum=5&trk=public_jobs_job-result-card_result-card_full-click\n"
     ]
    },
    {
     "name": "stderr",
     "output_type": "stream",
     "text": [
      "INFO:li:scraper:('[healthcare][United Arab Emirates][123]', 'Processed')\n"
     ]
    },
    {
     "name": "stdout",
     "output_type": "stream",
     "text": [
      "[ON_DATA] General Practitioner I Healthcare I Dubai- UAE Al-Futtaim 2021-04-01 https://ae.linkedin.com/jobs/view/general-practitioner-i-healthcare-i-dubai-uae-at-al-futtaim-2464295113?refId=2764c5fd-91c6-42ca-b5ee-d6e930524194&trackingId=CtZwaqxUsveFMq%2F1Wz0Ujw%3D%3D&position=6&pageNum=5&trk=public_jobs_job-result-card_result-card_full-click\n"
     ]
    },
    {
     "name": "stderr",
     "output_type": "stream",
     "text": [
      "INFO:li:scraper:('[healthcare][United Arab Emirates][124]', 'Processed')\n"
     ]
    },
    {
     "name": "stdout",
     "output_type": "stream",
     "text": [
      "[ON_DATA] Systems Specialist NE - Based in Lebanon Merck Kgaa 2021-03-20 https://ae.linkedin.com/jobs/view/systems-specialist-ne-based-in-lebanon-at-merck-kgaa-2469915318?refId=2764c5fd-91c6-42ca-b5ee-d6e930524194&trackingId=lEEOcdy%2FhMSxyauzmnodXA%3D%3D&position=7&pageNum=5&trk=public_jobs_job-result-card_result-card_full-click\n"
     ]
    },
    {
     "name": "stderr",
     "output_type": "stream",
     "text": [
      "INFO:li:scraper:('[healthcare][United Arab Emirates][125]', 'Processed')\n"
     ]
    },
    {
     "name": "stdout",
     "output_type": "stream",
     "text": [
      "[ON_DATA] Assistant to Director Jobsite Direct 2021-03-19 https://ae.linkedin.com/jobs/view/assistant-to-director-at-jobsite-direct-2488631402?refId=2764c5fd-91c6-42ca-b5ee-d6e930524194&trackingId=2FtQTxEnjsQatnuuOftfPA%3D%3D&position=8&pageNum=5&trk=public_jobs_job-result-card_result-card_full-click\n"
     ]
    },
    {
     "name": "stderr",
     "output_type": "stream",
     "text": [
      "INFO:li:scraper:('[healthcare][United Arab Emirates][126]', 'Processed')\n"
     ]
    },
    {
     "name": "stdout",
     "output_type": "stream",
     "text": [
      "[ON_DATA] Quality Coordinator RTC-1 Employment Services 2020-12-27 https://ae.linkedin.com/jobs/view/quality-coordinator-at-rtc-1-employment-services-2359855587?refId=2764c5fd-91c6-42ca-b5ee-d6e930524194&trackingId=PgrWcrWEZhzHovuzbj4Djg%3D%3D&position=9&pageNum=5&trk=public_jobs_job-result-card_result-card_full-click\n"
     ]
    },
    {
     "name": "stderr",
     "output_type": "stream",
     "text": [
      "INFO:li:scraper:('[healthcare][United Arab Emirates][127]', 'Processed')\n"
     ]
    },
    {
     "name": "stdout",
     "output_type": "stream",
     "text": [
      "[ON_DATA] Project Manager AE Recruitment Ltd 2021-03-27 https://ae.linkedin.com/jobs/view/project-manager-at-ae-recruitment-ltd-2479391330?refId=2764c5fd-91c6-42ca-b5ee-d6e930524194&trackingId=9C9i1j4auQFNgKc2HRyyGQ%3D%3D&position=10&pageNum=5&trk=public_jobs_job-result-card_result-card_full-click\n"
     ]
    },
    {
     "name": "stderr",
     "output_type": "stream",
     "text": [
      "INFO:li:scraper:('[healthcare][United Arab Emirates][128]', 'Processed')\n"
     ]
    },
    {
     "name": "stdout",
     "output_type": "stream",
     "text": [
      "[ON_DATA] Medical Officer and Codder Aatush Immigration Consultants 2021-03-18 https://ae.linkedin.com/jobs/view/medical-officer-and-codder-at-aatush-immigration-consultants-2489786877?refId=2764c5fd-91c6-42ca-b5ee-d6e930524194&trackingId=InBAU17o55yKAevFeR%2FwCQ%3D%3D&position=11&pageNum=5&trk=public_jobs_job-result-card_result-card_full-click\n"
     ]
    },
    {
     "name": "stderr",
     "output_type": "stream",
     "text": [
      "INFO:li:scraper:('[healthcare][United Arab Emirates][129]', 'Processed')\n"
     ]
    },
    {
     "name": "stdout",
     "output_type": "stream",
     "text": [
      "[ON_DATA] Director of Quality Operations - EPCI Brevan Oil & Gas Services 2021-03-19 https://ae.linkedin.com/jobs/view/director-of-quality-operations-epci-at-brevan-oil-gas-services-2468546671?refId=2764c5fd-91c6-42ca-b5ee-d6e930524194&trackingId=wJmZXJcoCCpq3uttT7%2FrXw%3D%3D&position=12&pageNum=5&trk=public_jobs_job-result-card_result-card_full-click\n"
     ]
    },
    {
     "name": "stderr",
     "output_type": "stream",
     "text": [
      "INFO:li:scraper:('[healthcare][United Arab Emirates][130]', 'Processed')\n"
     ]
    },
    {
     "name": "stdout",
     "output_type": "stream",
     "text": [
      "[ON_DATA] Sr Innovation Consultant (Contract / Remote: Middle East) Board Of Innovation 2021-04-04 https://ae.linkedin.com/jobs/view/sr-innovation-consultant-contract-remote-middle-east-at-board-of-innovation-2489496727?refId=2764c5fd-91c6-42ca-b5ee-d6e930524194&trackingId=y5cfm1J%2Bex0gQ5MkU5H9iQ%3D%3D&position=13&pageNum=5&trk=public_jobs_job-result-card_result-card_full-click\n"
     ]
    },
    {
     "name": "stderr",
     "output_type": "stream",
     "text": [
      "INFO:li:scraper:('[healthcare][United Arab Emirates][131]', 'Processed')\n"
     ]
    },
    {
     "name": "stdout",
     "output_type": "stream",
     "text": [
      "[ON_DATA] Business Analyst- Near East. Based in Lebanon Merck Kgaa 2021-03-23 https://ae.linkedin.com/jobs/view/business-analyst-near-east-based-in-lebanon-at-merck-kgaa-2490405686?refId=2764c5fd-91c6-42ca-b5ee-d6e930524194&trackingId=PY0M7XEyBvcQ5EMyz0xKtA%3D%3D&position=14&pageNum=5&trk=public_jobs_job-result-card_result-card_full-click\n"
     ]
    },
    {
     "name": "stderr",
     "output_type": "stream",
     "text": [
      "INFO:li:scraper:('[healthcare][United Arab Emirates][132]', 'Processed')\n"
     ]
    },
    {
     "name": "stdout",
     "output_type": "stream",
     "text": [
      "[ON_DATA] Research Assistant/Associate United Arab Emirates University 2021-02-17 https://ae.linkedin.com/jobs/view/research-assistant-associate-at-united-arab-emirates-university-2427561065?refId=2764c5fd-91c6-42ca-b5ee-d6e930524194&trackingId=DRJBo%2FXy6GNZhNujBU4BDw%3D%3D&position=15&pageNum=5&trk=public_jobs_job-result-card_result-card_full-click\n"
     ]
    },
    {
     "name": "stderr",
     "output_type": "stream",
     "text": [
      "INFO:li:scraper:('[healthcare][United Arab Emirates][133]', 'Processed')\n"
     ]
    },
    {
     "name": "stdout",
     "output_type": "stream",
     "text": [
      "[ON_DATA] CMO Quality Manager Merck Kgaa 2021-03-23 https://ae.linkedin.com/jobs/view/cmo-quality-manager-at-merck-kgaa-2490413133?refId=2764c5fd-91c6-42ca-b5ee-d6e930524194&trackingId=%2B8BlL70e9cWzsAXFGSgspg%3D%3D&position=16&pageNum=5&trk=public_jobs_job-result-card_result-card_full-click\n"
     ]
    },
    {
     "name": "stderr",
     "output_type": "stream",
     "text": [
      "INFO:li:scraper:('[healthcare][United Arab Emirates][134]', 'Processed')\n"
     ]
    },
    {
     "name": "stdout",
     "output_type": "stream",
     "text": [
      "[ON_DATA] Innovation Manager Accenture Middle East 2021-03-23 https://ae.linkedin.com/jobs/view/innovation-manager-at-accenture-middle-east-2472506206?refId=2764c5fd-91c6-42ca-b5ee-d6e930524194&trackingId=aKn3Fod0UjKyDlvr9yakug%3D%3D&position=17&pageNum=5&trk=public_jobs_job-result-card_result-card_full-click\n"
     ]
    },
    {
     "name": "stderr",
     "output_type": "stream",
     "text": [
      "INFO:li:scraper:('[healthcare][United Arab Emirates][135]', 'Processed')\n"
     ]
    },
    {
     "name": "stdout",
     "output_type": "stream",
     "text": [
      "[ON_DATA] PMO Executive Win Win Hr Consultancy 2021-03-19 https://ae.linkedin.com/jobs/view/pmo-executive-at-win-win-hr-consultancy-2468548137?refId=2764c5fd-91c6-42ca-b5ee-d6e930524194&trackingId=nYR9ioC7cdTlt6snQkaiJg%3D%3D&position=18&pageNum=5&trk=public_jobs_job-result-card_result-card_full-click\n"
     ]
    },
    {
     "name": "stderr",
     "output_type": "stream",
     "text": [
      "INFO:li:scraper:('[healthcare][United Arab Emirates][136]', 'Processed')\n"
     ]
    },
    {
     "name": "stdout",
     "output_type": "stream",
     "text": [
      "[ON_DATA] Office Manager & Executive Assistant Barco 2021-03-19 https://ae.linkedin.com/jobs/view/office-manager-executive-assistant-at-barco-2468544780?refId=2764c5fd-91c6-42ca-b5ee-d6e930524194&trackingId=fUoJcWMBmNEWJ14YqYculQ%3D%3D&position=19&pageNum=5&trk=public_jobs_job-result-card_result-card_full-click\n"
     ]
    },
    {
     "name": "stderr",
     "output_type": "stream",
     "text": [
      "INFO:li:scraper:('[healthcare][United Arab Emirates][137]', 'Processed')\n"
     ]
    },
    {
     "name": "stdout",
     "output_type": "stream",
     "text": [
      "[ON_DATA] Key Account Manager Talabat 2021-04-05 https://ae.linkedin.com/jobs/view/key-account-manager-at-talabat-2490437523?refId=2764c5fd-91c6-42ca-b5ee-d6e930524194&trackingId=StcJC7Gses234pL7qVjPvA%3D%3D&position=20&pageNum=5&trk=public_jobs_job-result-card_result-card_full-click\n"
     ]
    },
    {
     "name": "stderr",
     "output_type": "stream",
     "text": [
      "INFO:li:scraper:('[healthcare][United Arab Emirates][138]', 'Processed')\n"
     ]
    },
    {
     "name": "stdout",
     "output_type": "stream",
     "text": [
      "[ON_DATA] Gastronentrologist Prime Source 2021-02-11 https://ae.linkedin.com/jobs/view/gastronentrologist-at-prime-source-2436838179?refId=2764c5fd-91c6-42ca-b5ee-d6e930524194&trackingId=Pvthu8vA9TT2jNXbp1agIQ%3D%3D&position=21&pageNum=5&trk=public_jobs_job-result-card_result-card_full-click\n"
     ]
    },
    {
     "name": "stderr",
     "output_type": "stream",
     "text": [
      "INFO:li:scraper:('[healthcare][United Arab Emirates][139]', 'Processed')\n"
     ]
    },
    {
     "name": "stdout",
     "output_type": "stream",
     "text": [
      "[ON_DATA] Radiology Technician | Healthcare | Dubai - UAE Al-Futtaim 2021-03-25 https://ae.linkedin.com/jobs/view/radiology-technician-healthcare-dubai-uae-at-al-futtaim-2453092337?refId=2764c5fd-91c6-42ca-b5ee-d6e930524194&trackingId=vqfYjrpI%2BeeECod2BodWiw%3D%3D&position=22&pageNum=5&trk=public_jobs_job-result-card_result-card_full-click\n"
     ]
    },
    {
     "name": "stderr",
     "output_type": "stream",
     "text": [
      "INFO:li:scraper:('[healthcare][United Arab Emirates][140]', 'Processed')\n"
     ]
    },
    {
     "name": "stdout",
     "output_type": "stream",
     "text": [
      "[ON_DATA] Data Scientist - Healthcare (1 year contract) Black Pearl Consult 2021-03-20 https://ae.linkedin.com/jobs/view/data-scientist-healthcare-1-year-contract-at-black-pearl-consult-2469934561?refId=2764c5fd-91c6-42ca-b5ee-d6e930524194&trackingId=vcQki63VUongwhS%2B8czDKA%3D%3D&position=23&pageNum=5&trk=public_jobs_job-result-card_result-card_full-click\n"
     ]
    },
    {
     "name": "stderr",
     "output_type": "stream",
     "text": [
      "INFO:li:scraper:('[healthcare][United Arab Emirates][141]', 'Processed')\n"
     ]
    },
    {
     "name": "stdout",
     "output_type": "stream",
     "text": [
      "[ON_DATA] Senior Account Manager Hally Solutions 2021-03-22 https://ae.linkedin.com/jobs/view/senior-account-manager-at-hally-solutions-2447288204?refId=2764c5fd-91c6-42ca-b5ee-d6e930524194&trackingId=%2B1WkjTITyvoAs35VnJEjbQ%3D%3D&position=24&pageNum=5&trk=public_jobs_job-result-card_result-card_full-click\n"
     ]
    },
    {
     "name": "stderr",
     "output_type": "stream",
     "text": [
      "INFO:li:scraper:('[healthcare][United Arab Emirates][142]', 'Processed')\n"
     ]
    },
    {
     "name": "stdout",
     "output_type": "stream",
     "text": [
      "[ON_DATA] Head of English Repton School - Dubai 2021-03-26 https://ae.linkedin.com/jobs/view/head-of-english-at-repton-school-dubai-2478588319?refId=583ce1d7-63db-449f-8789-82d6576311c2&trackingId=lVflRcoVZdYdsx8Wh6PNqQ%3D%3D&position=1&pageNum=6&trk=public_jobs_job-result-card_result-card_full-click\n"
     ]
    },
    {
     "name": "stderr",
     "output_type": "stream",
     "text": [
      "INFO:li:scraper:('[healthcare][United Arab Emirates][143]', 'Processed')\n"
     ]
    },
    {
     "name": "stdout",
     "output_type": "stream",
     "text": [
      "[ON_DATA] Data Capturer Nathan & Nathan 2021-03-19 https://ae.linkedin.com/jobs/view/data-capturer-at-nathan-nathan-2468544793?refId=583ce1d7-63db-449f-8789-82d6576311c2&trackingId=DO%2BUSJJmAG2pW79%2FmcU%2FUA%3D%3D&position=2&pageNum=6&trk=public_jobs_job-result-card_result-card_full-click\n"
     ]
    },
    {
     "name": "stderr",
     "output_type": "stream",
     "text": [
      "INFO:li:scraper:('[healthcare][United Arab Emirates][144]', 'Processed')\n"
     ]
    },
    {
     "name": "stdout",
     "output_type": "stream",
     "text": [
      "[ON_DATA] Customer Success Manager - MEA WebEngage 2021-02-05 https://ae.linkedin.com/jobs/view/customer-success-manager-mea-at-webengage-2410326876?refId=583ce1d7-63db-449f-8789-82d6576311c2&trackingId=KvleUekB3dwaI7keWCY1IQ%3D%3D&position=3&pageNum=6&trk=public_jobs_job-result-card_result-card_full-click\n"
     ]
    },
    {
     "name": "stderr",
     "output_type": "stream",
     "text": [
      "INFO:li:scraper:('[healthcare][United Arab Emirates][145]', 'Processed')\n"
     ]
    },
    {
     "name": "stdout",
     "output_type": "stream",
     "text": [
      "[ON_DATA] Multichannel Engagement & SFE Manager - Based in Lebanon Merck Kgaa 2021-03-20 https://ae.linkedin.com/jobs/view/multichannel-engagement-sfe-manager-based-in-lebanon-at-merck-kgaa-2469919018?refId=583ce1d7-63db-449f-8789-82d6576311c2&trackingId=wyk2VHmITyfeXJTOgPf7Cw%3D%3D&position=4&pageNum=6&trk=public_jobs_job-result-card_result-card_full-click\n"
     ]
    },
    {
     "name": "stderr",
     "output_type": "stream",
     "text": [
      "INFO:li:scraper:('[healthcare][United Arab Emirates][146]', 'Processed')\n"
     ]
    },
    {
     "name": "stdout",
     "output_type": "stream",
     "text": [
      "[ON_DATA] Product Manager - GulfIP Boehringer Ingelheim 2021-03-19 https://ae.linkedin.com/jobs/view/product-manager-gulfip-at-boehringer-ingelheim-2487255702?refId=583ce1d7-63db-449f-8789-82d6576311c2&trackingId=xALHPF2vxQTQzVDF1CJ%2BCA%3D%3D&position=5&pageNum=6&trk=public_jobs_job-result-card_result-card_full-click\n"
     ]
    },
    {
     "name": "stderr",
     "output_type": "stream",
     "text": [
      "INFO:li:scraper:('[healthcare][United Arab Emirates][147]', 'Processed')\n"
     ]
    },
    {
     "name": "stdout",
     "output_type": "stream",
     "text": [
      "[ON_DATA] Business Development Head / General Manager Medicom 2021-02-16 https://ae.linkedin.com/jobs/view/business-development-head-general-manager-at-medicom-2439283887?refId=583ce1d7-63db-449f-8789-82d6576311c2&trackingId=NYCzxvK5dSLaW25CFYISgg%3D%3D&position=6&pageNum=6&trk=public_jobs_job-result-card_result-card_full-click\n"
     ]
    },
    {
     "name": "stderr",
     "output_type": "stream",
     "text": [
      "INFO:li:scraper:('[healthcare][United Arab Emirates][148]', 'Processed')\n"
     ]
    },
    {
     "name": "stdout",
     "output_type": "stream",
     "text": [
      "[ON_DATA] Market Research Analyst GRMC Advisory Services 2020-12-06 https://ae.linkedin.com/jobs/view/market-research-analyst-at-grmc-advisory-services-2338809057?refId=583ce1d7-63db-449f-8789-82d6576311c2&trackingId=KwMzAFFz29Kjwf7AHFvZ9A%3D%3D&position=7&pageNum=6&trk=public_jobs_job-result-card_result-card_full-click\n"
     ]
    },
    {
     "name": "stderr",
     "output_type": "stream",
     "text": [
      "INFO:li:scraper:('[healthcare][United Arab Emirates][149]', 'Processed')\n"
     ]
    },
    {
     "name": "stdout",
     "output_type": "stream",
     "text": [
      "[ON_DATA] Engagement Manager, Google Cloud Professional Services Google 2021-03-30 https://ae.linkedin.com/jobs/view/engagement-manager-google-cloud-professional-services-at-google-2478344017?refId=583ce1d7-63db-449f-8789-82d6576311c2&trackingId=mMdYpF%2F0gS0mjq6tW13Otg%3D%3D&position=8&pageNum=6&trk=public_jobs_job-result-card_result-card_full-click\n"
     ]
    },
    {
     "name": "stderr",
     "output_type": "stream",
     "text": [
      "INFO:li:scraper:('[healthcare][United Arab Emirates][150]', 'Processed')\n"
     ]
    },
    {
     "name": "stdout",
     "output_type": "stream",
     "text": [
      "[ON_DATA] Sports Medicine Doctor  DISC - Diversified Integrated Sports Clinic 2021-03-24 https://ae.linkedin.com/jobs/view/sports-medicine-doctor-at-disc-diversified-integrated-sports-clinic-2453022572?refId=583ce1d7-63db-449f-8789-82d6576311c2&trackingId=c9HxwgWphcIRbSulswp0Dg%3D%3D&position=9&pageNum=6&trk=public_jobs_job-result-card_result-card_full-click\n"
     ]
    },
    {
     "name": "stderr",
     "output_type": "stream",
     "text": [
      "INFO:li:scraper:('[healthcare][United Arab Emirates][151]', 'Processed')\n"
     ]
    },
    {
     "name": "stdout",
     "output_type": "stream",
     "text": [
      "[ON_DATA] Patient Relation Representative, Out Patient Clinics – Bilingual (Arabic & English) American Hospital Dubai 2021-03-29 https://ae.linkedin.com/jobs/view/patient-relation-representative-out-patient-clinics-%E2%80%93-bilingual-arabic-english-at-american-hospital-dubai-2431108385?refId=583ce1d7-63db-449f-8789-82d6576311c2&trackingId=qr0M%2BXub38a%2Bac%2BjYLsvgA%3D%3D&position=10&pageNum=6&trk=public_jobs_job-result-card_result-card_full-click\n"
     ]
    },
    {
     "name": "stderr",
     "output_type": "stream",
     "text": [
      "INFO:li:scraper:('[healthcare][United Arab Emirates][152]', 'Processed')\n"
     ]
    },
    {
     "name": "stdout",
     "output_type": "stream",
     "text": [
      "[ON_DATA] Facility Manager Delma Medical Center 2021-01-14 https://ae.linkedin.com/jobs/view/facility-manager-at-delma-medical-center-2381561987?refId=583ce1d7-63db-449f-8789-82d6576311c2&trackingId=aEqlL6ezTSHNb4kdvG%2B1nQ%3D%3D&position=11&pageNum=6&trk=public_jobs_job-result-card_result-card_full-click\n"
     ]
    },
    {
     "name": "stderr",
     "output_type": "stream",
     "text": [
      "INFO:li:scraper:('[healthcare][United Arab Emirates][153]', 'Processed')\n"
     ]
    },
    {
     "name": "stdout",
     "output_type": "stream",
     "text": [
      "[ON_DATA] Principal Affairs Manager Al Mufid Trading 2020-12-14 https://ae.linkedin.com/jobs/view/principal-affairs-manager-at-al-mufid-trading-2360374778?refId=583ce1d7-63db-449f-8789-82d6576311c2&trackingId=t6CzxcqDlXSnbYZxRk8EAQ%3D%3D&position=12&pageNum=6&trk=public_jobs_job-result-card_result-card_full-click\n"
     ]
    },
    {
     "name": "stderr",
     "output_type": "stream",
     "text": [
      "INFO:li:scraper:('[healthcare][United Arab Emirates][154]', 'Processed')\n"
     ]
    },
    {
     "name": "stdout",
     "output_type": "stream",
     "text": [
      "[ON_DATA] Research Assistant - Grant United Arab Emirates University 2021-03-17 https://ae.linkedin.com/jobs/view/research-assistant-grant-at-united-arab-emirates-university-2465291992?refId=583ce1d7-63db-449f-8789-82d6576311c2&trackingId=zRATjzAdCVpoLzmfIox9Kw%3D%3D&position=13&pageNum=6&trk=public_jobs_job-result-card_result-card_full-click\n"
     ]
    },
    {
     "name": "stderr",
     "output_type": "stream",
     "text": [
      "INFO:li:scraper:('[healthcare][United Arab Emirates][155]', 'Processed')\n"
     ]
    },
    {
     "name": "stdout",
     "output_type": "stream",
     "text": [
      "[ON_DATA] Specialist/Consultant Internal Medicine SearchPlus HR Dubai 2021-04-02 https://ae.linkedin.com/jobs/view/specialist-consultant-internal-medicine-at-searchplus-hr-dubai-2491443682?refId=583ce1d7-63db-449f-8789-82d6576311c2&trackingId=3up6NK2%2BbPyEA1Nk3kyPmw%3D%3D&position=14&pageNum=6&trk=public_jobs_job-result-card_result-card_full-click\n"
     ]
    },
    {
     "name": "stderr",
     "output_type": "stream",
     "text": [
      "INFO:li:scraper:('[healthcare][United Arab Emirates][156]', 'Processed')\n"
     ]
    },
    {
     "name": "stdout",
     "output_type": "stream",
     "text": [
      "[ON_DATA] E-Commerce Implementation Analyst - Central Eastern Europe, Middle East and Africa Medtronic 2021-02-21 https://ae.linkedin.com/jobs/view/e-commerce-implementation-analyst-central-eastern-europe-middle-east-and-africa-at-medtronic-2433749588?refId=583ce1d7-63db-449f-8789-82d6576311c2&trackingId=2MFw7ceE2ZzW0fSidONF%2Bg%3D%3D&position=15&pageNum=6&trk=public_jobs_job-result-card_result-card_full-click\n"
     ]
    },
    {
     "name": "stderr",
     "output_type": "stream",
     "text": [
      "INFO:li:scraper:('[healthcare][United Arab Emirates][157]', 'Processed')\n"
     ]
    },
    {
     "name": "stdout",
     "output_type": "stream",
     "text": [
      "[ON_DATA] Assistant Professor Biology INSTITUTE OF APPLIED TECHNOLOGY 2021-04-06 https://ae.linkedin.com/jobs/view/assistant-professor-biology-at-institute-of-applied-technology-2490565384?refId=583ce1d7-63db-449f-8789-82d6576311c2&trackingId=uYcjsGOhns6c6tJAsj73%2Fg%3D%3D&position=16&pageNum=6&trk=public_jobs_job-result-card_result-card_full-click\n"
     ]
    },
    {
     "name": "stderr",
     "output_type": "stream",
     "text": [
      "INFO:li:scraper:('[healthcare][United Arab Emirates][158]', 'Processed')\n"
     ]
    },
    {
     "name": "stdout",
     "output_type": "stream",
     "text": [
      "[ON_DATA] MR Sales Specialist - ME Ge Healthcare 2021-04-04 https://ae.linkedin.com/jobs/view/mr-sales-specialist-me-at-ge-healthcare-2489504005?refId=583ce1d7-63db-449f-8789-82d6576311c2&trackingId=18KcFT%2BELJNdil3dM86NpA%3D%3D&position=17&pageNum=6&trk=public_jobs_job-result-card_result-card_full-click\n"
     ]
    },
    {
     "name": "stderr",
     "output_type": "stream",
     "text": [
      "INFO:li:scraper:('[healthcare][United Arab Emirates][159]', 'Processed')\n"
     ]
    },
    {
     "name": "stdout",
     "output_type": "stream",
     "text": [
      "[ON_DATA] Doctor NMC Healthcare 2021-04-01 https://ae.linkedin.com/jobs/view/doctor-at-nmc-healthcare-2465410658?refId=583ce1d7-63db-449f-8789-82d6576311c2&trackingId=RZVwx63yd4Dfph9e7L9Lfw%3D%3D&position=18&pageNum=6&trk=public_jobs_job-result-card_result-card_full-click\n"
     ]
    },
    {
     "name": "stderr",
     "output_type": "stream",
     "text": [
      "INFO:li:scraper:('[healthcare][United Arab Emirates][160]', 'Processed')\n"
     ]
    },
    {
     "name": "stdout",
     "output_type": "stream",
     "text": [
      "[ON_DATA] Consultant - Family Medicine Careerlink HR 2021-04-06 https://ae.linkedin.com/jobs/view/consultant-family-medicine-at-careerlink-hr-2491722257?refId=583ce1d7-63db-449f-8789-82d6576311c2&trackingId=ZE%2FeJl6VUYecLUITPS2dGg%3D%3D&position=19&pageNum=6&trk=public_jobs_job-result-card_result-card_full-click\n"
     ]
    },
    {
     "name": "stderr",
     "output_type": "stream",
     "text": [
      "INFO:li:scraper:('[healthcare][United Arab Emirates][161]', 'Processed')\n"
     ]
    },
    {
     "name": "stdout",
     "output_type": "stream",
     "text": [
      "[ON_DATA] Medical Laboratory Technician | Healthcare | Dubai - UAE Al-Futtaim 2021-04-01 https://ae.linkedin.com/jobs/view/medical-laboratory-technician-healthcare-dubai-uae-at-al-futtaim-2464292280?refId=583ce1d7-63db-449f-8789-82d6576311c2&trackingId=OJtxXVwMETmKtEhp5DjZKw%3D%3D&position=20&pageNum=6&trk=public_jobs_job-result-card_result-card_full-click\n"
     ]
    },
    {
     "name": "stderr",
     "output_type": "stream",
     "text": [
      "INFO:li:scraper:('[healthcare][United Arab Emirates][162]', 'Processed')\n"
     ]
    },
    {
     "name": "stdout",
     "output_type": "stream",
     "text": [
      "[ON_DATA] Infectious Diseases Specialist / Consultant SearchPlus 2020-11-17 https://ae.linkedin.com/jobs/view/infectious-diseases-specialist-consultant-at-searchplus-2313833182?refId=583ce1d7-63db-449f-8789-82d6576311c2&trackingId=iBGdW9UbMFVnIaClM3dTtg%3D%3D&position=21&pageNum=6&trk=public_jobs_job-result-card_result-card_full-click\n"
     ]
    },
    {
     "name": "stderr",
     "output_type": "stream",
     "text": [
      "INFO:li:scraper:('[healthcare][United Arab Emirates][163]', 'Processed')\n"
     ]
    },
    {
     "name": "stdout",
     "output_type": "stream",
     "text": [
      "[ON_DATA] Marketing & PR Manager I Healthcare I Dubai- UAE Al-Futtaim 2021-03-31 https://ae.linkedin.com/jobs/view/marketing-pr-manager-i-healthcare-i-dubai-uae-at-al-futtaim-2461183335?refId=583ce1d7-63db-449f-8789-82d6576311c2&trackingId=DvEk68SUUewBRob0BAmUVA%3D%3D&position=22&pageNum=6&trk=public_jobs_job-result-card_result-card_full-click\n"
     ]
    },
    {
     "name": "stderr",
     "output_type": "stream",
     "text": [
      "INFO:li:scraper:('[healthcare][United Arab Emirates][164]', 'Processed')\n",
      "INFO:li:scraper:('[healthcare][United Arab Emirates][164]', 'Checking for new jobs to load...')\n"
     ]
    },
    {
     "name": "stdout",
     "output_type": "stream",
     "text": [
      "[ON_DATA] Information Technology Manager (UAE Nationals with Family book only) Capital Health Screening Center (CHSC) 2021-03-29 https://ae.linkedin.com/jobs/view/information-technology-manager-uae-nationals-with-family-book-only-at-capital-health-screening-centre-2480777028?refId=583ce1d7-63db-449f-8789-82d6576311c2&trackingId=W9zOlJBdYaIP15UioEvcYg%3D%3D&position=23&pageNum=6&trk=public_jobs_job-result-card_result-card_full-click\n"
     ]
    },
    {
     "name": "stderr",
     "output_type": "stream",
     "text": [
      "INFO:li:scraper:('[healthcare][United Arab Emirates][164]', 'Found 189 jobs')\n",
      "INFO:li:scraper:('[healthcare][United Arab Emirates][165]', 'Processed')\n"
     ]
    },
    {
     "name": "stdout",
     "output_type": "stream",
     "text": [
      "[ON_DATA] Regional Sales Manager, Clinical & Food Diagnostics Middle East Eurofins Technologies Eurofins Central Laboratory 2021-03-17 https://ae.linkedin.com/jobs/view/regional-sales-manager-clinical-food-diagnostics-middle-east-eurofins-technologies-at-eurofins-central-laboratory-2465293725?refId=0c6291ea-a2c6-46f4-a1c2-95453e16fb84&trackingId=MBm9jdU7AXl5gIdndf80CA%3D%3D&position=1&pageNum=7&trk=public_jobs_job-result-card_result-card_full-click\n"
     ]
    },
    {
     "name": "stderr",
     "output_type": "stream",
     "text": [
      "INFO:li:scraper:('[healthcare][United Arab Emirates][166]', 'Processed')\n"
     ]
    },
    {
     "name": "stdout",
     "output_type": "stream",
     "text": [
      "[ON_DATA] Project Manager IBM Middle East 2021-01-29 https://ae.linkedin.com/jobs/view/project-manager-at-ibm-middle-east-2403645286?refId=0c6291ea-a2c6-46f4-a1c2-95453e16fb84&trackingId=xYXtghXFDUGd7t69%2FIcaAA%3D%3D&position=2&pageNum=7&trk=public_jobs_job-result-card_result-card_full-click\n"
     ]
    },
    {
     "name": "stderr",
     "output_type": "stream",
     "text": [
      "INFO:li:scraper:('[healthcare][United Arab Emirates][167]', 'Processed')\n"
     ]
    },
    {
     "name": "stdout",
     "output_type": "stream",
     "text": [
      "[ON_DATA] Research Assistant - Grant United Arab Emirates University 2021-02-18 https://ae.linkedin.com/jobs/view/research-assistant-grant-at-united-arab-emirates-university-2429850327?refId=0c6291ea-a2c6-46f4-a1c2-95453e16fb84&trackingId=z6%2BA%2FmZ%2Bt2byBTjr6CXWvA%3D%3D&position=3&pageNum=7&trk=public_jobs_job-result-card_result-card_full-click\n"
     ]
    },
    {
     "name": "stderr",
     "output_type": "stream",
     "text": [
      "INFO:li:scraper:('[healthcare][United Arab Emirates][168]', 'Processed')\n"
     ]
    },
    {
     "name": "stdout",
     "output_type": "stream",
     "text": [
      "[ON_DATA] E-Commerce Implementation Analyst - Central Eastern Europe, Middle East and Africa Medtronic 2021-02-21 https://ae.linkedin.com/jobs/view/e-commerce-implementation-analyst-central-eastern-europe-middle-east-and-africa-at-medtronic-2433244389?refId=0c6291ea-a2c6-46f4-a1c2-95453e16fb84&trackingId=Hbd0IEIN1l29M76v%2F1J%2B0A%3D%3D&position=4&pageNum=7&trk=public_jobs_job-result-card_result-card_full-click\n"
     ]
    },
    {
     "name": "stderr",
     "output_type": "stream",
     "text": [
      "INFO:li:scraper:('[healthcare][United Arab Emirates][169]', 'Processed')\n"
     ]
    },
    {
     "name": "stdout",
     "output_type": "stream",
     "text": [
      "[ON_DATA] Senior Administrative Officer Zayed University 2021-03-22 https://ae.linkedin.com/jobs/view/senior-administrative-officer-at-zayed-university-2472018342?refId=0c6291ea-a2c6-46f4-a1c2-95453e16fb84&trackingId=qz0grVDDNoUCokc4Wlwd4A%3D%3D&position=5&pageNum=7&trk=public_jobs_job-result-card_result-card_full-click\n"
     ]
    },
    {
     "name": "stderr",
     "output_type": "stream",
     "text": [
      "INFO:li:scraper:('[healthcare][United Arab Emirates][170]', 'Processed')\n"
     ]
    },
    {
     "name": "stdout",
     "output_type": "stream",
     "text": [
      "[ON_DATA] Customer Success Manager IBM Middle East 2021-01-14 https://ae.linkedin.com/jobs/view/customer-success-manager-at-ibm-middle-east-2381564625?refId=0c6291ea-a2c6-46f4-a1c2-95453e16fb84&trackingId=PaLMWWaJD%2BoHcNO8LYo64g%3D%3D&position=6&pageNum=7&trk=public_jobs_job-result-card_result-card_full-click\n"
     ]
    },
    {
     "name": "stderr",
     "output_type": "stream",
     "text": [
      "INFO:li:scraper:('[healthcare][United Arab Emirates][171]', 'Processed')\n"
     ]
    },
    {
     "name": "stdout",
     "output_type": "stream",
     "text": [
      "[ON_DATA] Application Support Specialist – Billing & RCM Intersystems 2021-03-15 https://ae.linkedin.com/jobs/view/application-support-specialist-%E2%80%93-billing-rcm-at-intersystems-2462738105?refId=0c6291ea-a2c6-46f4-a1c2-95453e16fb84&trackingId=TwnV%2BwMCpjEUQPNeggqptg%3D%3D&position=7&pageNum=7&trk=public_jobs_job-result-card_result-card_full-click\n"
     ]
    },
    {
     "name": "stderr",
     "output_type": "stream",
     "text": [
      "INFO:li:scraper:('[healthcare][United Arab Emirates][172]', 'Processed')\n"
     ]
    },
    {
     "name": "stdout",
     "output_type": "stream",
     "text": [
      "[ON_DATA] Medical Sales Representative (Surgical Products) RTC-1 Employment Services 2021-03-03 https://ae.linkedin.com/jobs/view/medical-sales-representative-surgical-products-at-rtc-1-employment-services-2446474413?refId=0c6291ea-a2c6-46f4-a1c2-95453e16fb84&trackingId=KZG5tk4e2e%2BmmtXtOZbdcA%3D%3D&position=8&pageNum=7&trk=public_jobs_job-result-card_result-card_full-click\n"
     ]
    },
    {
     "name": "stderr",
     "output_type": "stream",
     "text": [
      "INFO:li:scraper:('[healthcare][United Arab Emirates][173]', 'Processed')\n"
     ]
    },
    {
     "name": "stdout",
     "output_type": "stream",
     "text": [
      "[ON_DATA] Clinical Team Leader - CT, Emerging Markets Ge Healthcare 2021-03-30 https://ae.linkedin.com/jobs/view/clinical-team-leader-ct-emerging-markets-at-ge-healthcare-2489507148?refId=0c6291ea-a2c6-46f4-a1c2-95453e16fb84&trackingId=jaTizvCnsQeGvPoSCi1GhQ%3D%3D&position=9&pageNum=7&trk=public_jobs_job-result-card_result-card_full-click\n"
     ]
    },
    {
     "name": "stderr",
     "output_type": "stream",
     "text": [
      "INFO:li:scraper:('[healthcare][United Arab Emirates][174]', 'Processed')\n"
     ]
    },
    {
     "name": "stdout",
     "output_type": "stream",
     "text": [
      "[ON_DATA] Specialist HIE Communication Win Win Hr Consultancy 2021-03-19 https://ae.linkedin.com/jobs/view/specialist-hie-communication-at-win-win-hr-consultancy-2468542962?refId=0c6291ea-a2c6-46f4-a1c2-95453e16fb84&trackingId=3o2R14gsCSVJgkrynvEwtg%3D%3D&position=10&pageNum=7&trk=public_jobs_job-result-card_result-card_full-click\n"
     ]
    },
    {
     "name": "stderr",
     "output_type": "stream",
     "text": [
      "INFO:li:scraper:('[healthcare][United Arab Emirates][175]', 'Processed')\n"
     ]
    },
    {
     "name": "stdout",
     "output_type": "stream",
     "text": [
      "[ON_DATA] Gastrointestinal Specialist/Consultant SearchPlus HR Dubai 2021-04-01 https://ae.linkedin.com/jobs/view/gastrointestinal-specialist-consultant-at-searchplus-hr-dubai-2484938484?refId=0c6291ea-a2c6-46f4-a1c2-95453e16fb84&trackingId=2Kxe63wpCKkqAxk7U14jXQ%3D%3D&position=11&pageNum=7&trk=public_jobs_job-result-card_result-card_full-click\n"
     ]
    },
    {
     "name": "stderr",
     "output_type": "stream",
     "text": [
      "INFO:li:scraper:('[healthcare][United Arab Emirates][176]', 'Processed')\n"
     ]
    },
    {
     "name": "stdout",
     "output_type": "stream",
     "text": [
      "[ON_DATA] FM Hard Services Manager - Fixed Term Serco Plc 2021-03-31 https://ae.linkedin.com/jobs/view/fm-hard-services-manager-fixed-term-at-serco-plc-2484101034?refId=0c6291ea-a2c6-46f4-a1c2-95453e16fb84&trackingId=%2BybVDGzZeOMZnzbwQXnA0g%3D%3D&position=12&pageNum=7&trk=public_jobs_job-result-card_result-card_full-click\n"
     ]
    },
    {
     "name": "stderr",
     "output_type": "stream",
     "text": [
      "INFO:li:scraper:('[healthcare][United Arab Emirates][177]', 'Processed')\n"
     ]
    },
    {
     "name": "stdout",
     "output_type": "stream",
     "text": [
      "[ON_DATA] Senior Researcher - UAE Axios International 2021-03-22 https://ae.linkedin.com/jobs/view/senior-researcher-uae-at-axios-international-2472019116?refId=0c6291ea-a2c6-46f4-a1c2-95453e16fb84&trackingId=H0q8aY3BVWx5tPNJeE4WwA%3D%3D&position=13&pageNum=7&trk=public_jobs_job-result-card_result-card_full-click\n"
     ]
    },
    {
     "name": "stderr",
     "output_type": "stream",
     "text": [
      "INFO:li:scraper:('[healthcare][United Arab Emirates][178]', 'Processed')\n"
     ]
    },
    {
     "name": "stdout",
     "output_type": "stream",
     "text": [
      "[ON_DATA] Lab Technician - Molecular Biology Prime Source 2021-02-11 https://ae.linkedin.com/jobs/view/lab-technician-molecular-biology-at-prime-source-2436820694?refId=0c6291ea-a2c6-46f4-a1c2-95453e16fb84&trackingId=xbBUOAYGd6zsPPQbqyGuRg%3D%3D&position=14&pageNum=7&trk=public_jobs_job-result-card_result-card_full-click\n"
     ]
    },
    {
     "name": "stderr",
     "output_type": "stream",
     "text": [
      "INFO:li:scraper:('[healthcare][United Arab Emirates][179]', 'Processed')\n"
     ]
    },
    {
     "name": "stdout",
     "output_type": "stream",
     "text": [
      "[ON_DATA] Vice President, External Relationship Manager - Middle East Blackrock 2021-03-20 https://ae.linkedin.com/jobs/view/vice-president-external-relationship-manager-middle-east-at-blackrock-2469917193?refId=0c6291ea-a2c6-46f4-a1c2-95453e16fb84&trackingId=owUyTOcfvKWinAFEJgftAw%3D%3D&position=15&pageNum=7&trk=public_jobs_job-result-card_result-card_full-click\n"
     ]
    },
    {
     "name": "stderr",
     "output_type": "stream",
     "text": [
      "INFO:li:scraper:('[healthcare][United Arab Emirates][180]', 'Processed')\n"
     ]
    },
    {
     "name": "stdout",
     "output_type": "stream",
     "text": [
      "[ON_DATA] Engagement Manager, Google Cloud Professional Services Google 2021-03-30 https://ae.linkedin.com/jobs/view/engagement-manager-google-cloud-professional-services-at-google-2482547507?refId=0c6291ea-a2c6-46f4-a1c2-95453e16fb84&trackingId=Dg799VwvzRUEVNkpdEYA%2FA%3D%3D&position=16&pageNum=7&trk=public_jobs_job-result-card_result-card_full-click\n"
     ]
    },
    {
     "name": "stderr",
     "output_type": "stream",
     "text": [
      "INFO:li:scraper:('[healthcare][United Arab Emirates][181]', 'Processed')\n"
     ]
    },
    {
     "name": "stdout",
     "output_type": "stream",
     "text": [
      "[ON_DATA] Deal Management Lead Medtronic 2021-03-20 https://ae.linkedin.com/jobs/view/deal-management-lead-at-medtronic-2490404694?refId=0c6291ea-a2c6-46f4-a1c2-95453e16fb84&trackingId=oYYCG%2FYsRuSw1vMJqoyCHA%3D%3D&position=17&pageNum=7&trk=public_jobs_job-result-card_result-card_full-click\n"
     ]
    },
    {
     "name": "stderr",
     "output_type": "stream",
     "text": [
      "INFO:li:scraper:('[healthcare][United Arab Emirates][182]', 'Processed')\n"
     ]
    },
    {
     "name": "stdout",
     "output_type": "stream",
     "text": [
      "[ON_DATA] Consultant / Specialist Neurosurgery SearchPlus 2020-10-18 https://ae.linkedin.com/jobs/view/consultant-specialist-neurosurgery-at-searchplus-2305811840?refId=0c6291ea-a2c6-46f4-a1c2-95453e16fb84&trackingId=sJncV1h4nGQGSDfBLwqdTA%3D%3D&position=18&pageNum=7&trk=public_jobs_job-result-card_result-card_full-click\n"
     ]
    },
    {
     "name": "stderr",
     "output_type": "stream",
     "text": [
      "INFO:li:scraper:('[healthcare][United Arab Emirates][183]', 'Processed')\n"
     ]
    },
    {
     "name": "stdout",
     "output_type": "stream",
     "text": [
      "[ON_DATA] Infectious Diseases Specialist Search Plus Hr 2021-03-29 https://ae.linkedin.com/jobs/view/infectious-diseases-specialist-at-search-plus-hr-2481514696?refId=0c6291ea-a2c6-46f4-a1c2-95453e16fb84&trackingId=%2FhU%2BfxdSrGisQ2uObZpi%2Bw%3D%3D&position=19&pageNum=7&trk=public_jobs_job-result-card_result-card_full-click\n"
     ]
    },
    {
     "name": "stderr",
     "output_type": "stream",
     "text": [
      "INFO:li:scraper:('[healthcare][United Arab Emirates][184]', 'Processed')\n"
     ]
    },
    {
     "name": "stdout",
     "output_type": "stream",
     "text": [
      "[ON_DATA] Digital Product Manager Injazat 2021-04-06 https://ae.linkedin.com/jobs/view/digital-product-manager-at-injazat-2490849746?refId=0c6291ea-a2c6-46f4-a1c2-95453e16fb84&trackingId=YNLBd07LHZPjiNOkdGP8FQ%3D%3D&position=20&pageNum=7&trk=public_jobs_job-result-card_result-card_full-click\n"
     ]
    },
    {
     "name": "stderr",
     "output_type": "stream",
     "text": [
      "INFO:li:scraper:('[healthcare][United Arab Emirates][185]', 'Processed')\n"
     ]
    },
    {
     "name": "stdout",
     "output_type": "stream",
     "text": [
      "[ON_DATA] Instructor, Medical Student Assessment United Arab Emirates University 2021-04-05 https://ae.linkedin.com/jobs/view/instructor-medical-student-assessment-at-united-arab-emirates-university-2490434478?refId=0c6291ea-a2c6-46f4-a1c2-95453e16fb84&trackingId=wDvuVPKOux6MZ1CHfVjaWw%3D%3D&position=21&pageNum=7&trk=public_jobs_job-result-card_result-card_full-click\n"
     ]
    },
    {
     "name": "stderr",
     "output_type": "stream",
     "text": [
      "INFO:li:scraper:('[healthcare][United Arab Emirates][186]', 'Processed')\n"
     ]
    },
    {
     "name": "stdout",
     "output_type": "stream",
     "text": [
      "[ON_DATA] Innovation Senior Manager Accenture 2021-03-24 https://ae.linkedin.com/jobs/view/innovation-senior-manager-at-accenture-2489476746?refId=0c6291ea-a2c6-46f4-a1c2-95453e16fb84&trackingId=6yrePjV7yr09wlZUighvSA%3D%3D&position=22&pageNum=7&trk=public_jobs_job-result-card_result-card_full-click\n"
     ]
    },
    {
     "name": "stderr",
     "output_type": "stream",
     "text": [
      "INFO:li:scraper:('[healthcare][United Arab Emirates][187]', 'Processed')\n"
     ]
    },
    {
     "name": "stdout",
     "output_type": "stream",
     "text": [
      "[ON_DATA] Project Manager AE Recruitment Ltd 2021-03-13 https://ae.linkedin.com/jobs/view/project-manager-at-ae-recruitment-ltd-2460318922?refId=0c6291ea-a2c6-46f4-a1c2-95453e16fb84&trackingId=baktvnYjKoe8htnwSd3KdA%3D%3D&position=23&pageNum=7&trk=public_jobs_job-result-card_result-card_full-click\n"
     ]
    },
    {
     "name": "stderr",
     "output_type": "stream",
     "text": [
      "INFO:li:scraper:('[healthcare][United Arab Emirates][188]', 'Processed')\n"
     ]
    },
    {
     "name": "stdout",
     "output_type": "stream",
     "text": [
      "[ON_DATA] Graduate Technical Intern InterSystems Middle East 2021-03-25 https://ae.linkedin.com/jobs/view/graduate-technical-intern-at-intersystems-middle-east-2476064103?refId=0c6291ea-a2c6-46f4-a1c2-95453e16fb84&trackingId=tF5FU%2FEiWBumSOlg2UzQSA%3D%3D&position=24&pageNum=7&trk=public_jobs_job-result-card_result-card_full-click\n"
     ]
    },
    {
     "name": "stderr",
     "output_type": "stream",
     "text": [
      "INFO:li:scraper:('[healthcare][United Arab Emirates][189]', 'Processed')\n",
      "INFO:li:scraper:('[healthcare][United Arab Emirates][189]', 'Checking for new jobs to load...')\n"
     ]
    },
    {
     "name": "stdout",
     "output_type": "stream",
     "text": [
      "[ON_DATA] MR Modality Sales Manager GE Healthcare 2021-03-31 https://ae.linkedin.com/jobs/view/mr-modality-sales-manager-at-ge-healthcare-2472295924?refId=0c6291ea-a2c6-46f4-a1c2-95453e16fb84&trackingId=SLmCxPWTLQVxRYgvGdfB8g%3D%3D&position=25&pageNum=7&trk=public_jobs_job-result-card_result-card_full-click\n"
     ]
    },
    {
     "name": "stderr",
     "output_type": "stream",
     "text": [
      "INFO:li:scraper:('[healthcare][United Arab Emirates][189]', 'Found 214 jobs')\n",
      "INFO:li:scraper:('[healthcare][United Arab Emirates][190]', 'Processed')\n"
     ]
    },
    {
     "name": "stdout",
     "output_type": "stream",
     "text": [
      "[ON_DATA] Director Rehabilitation Services International Hospitals Recruitment Inc. 2021-01-19 https://ae.linkedin.com/jobs/view/director-rehabilitation-services-at-international-hospitals-recruitment-inc-2386858861?refId=3970d6e2-e32c-487b-8e16-5bb0d45c6c35&trackingId=uhssDGDZRQ73cmvxwbtPFA%3D%3D&position=1&pageNum=8&trk=public_jobs_job-result-card_result-card_full-click\n"
     ]
    },
    {
     "name": "stderr",
     "output_type": "stream",
     "text": [
      "INFO:li:scraper:('[healthcare][United Arab Emirates][191]', 'Processed')\n"
     ]
    },
    {
     "name": "stdout",
     "output_type": "stream",
     "text": [
      "[ON_DATA] Internal Medicine Specialist Search Plus Hr 2021-04-02 https://ae.linkedin.com/jobs/view/internal-medicine-specialist-at-search-plus-hr-2487286741?refId=3970d6e2-e32c-487b-8e16-5bb0d45c6c35&trackingId=BdZz9mDantYyiPEagCo%2BTA%3D%3D&position=2&pageNum=8&trk=public_jobs_job-result-card_result-card_full-click\n"
     ]
    },
    {
     "name": "stderr",
     "output_type": "stream",
     "text": [
      "INFO:li:scraper:('[healthcare][United Arab Emirates][192]', 'Processed')\n"
     ]
    },
    {
     "name": "stdout",
     "output_type": "stream",
     "text": [
      "[ON_DATA] School Counsellor Repton School 2021-03-20 https://ae.linkedin.com/jobs/view/school-counsellor-at-repton-school-2469914532?refId=3970d6e2-e32c-487b-8e16-5bb0d45c6c35&trackingId=ttLdOYwokJ92ohiQsem90g%3D%3D&position=3&pageNum=8&trk=public_jobs_job-result-card_result-card_full-click\n"
     ]
    },
    {
     "name": "stderr",
     "output_type": "stream",
     "text": [
      "INFO:li:scraper:('[healthcare][United Arab Emirates][193]', 'Processed')\n"
     ]
    },
    {
     "name": "stdout",
     "output_type": "stream",
     "text": [
      "[ON_DATA] Business Services Assistant Zayed University 2021-03-28 https://ae.linkedin.com/jobs/view/business-services-assistant-at-zayed-university-2490407556?refId=3970d6e2-e32c-487b-8e16-5bb0d45c6c35&trackingId=EOsnH1VirogWvfcrZQQnXQ%3D%3D&position=4&pageNum=8&trk=public_jobs_job-result-card_result-card_full-click\n"
     ]
    },
    {
     "name": "stderr",
     "output_type": "stream",
     "text": [
      "INFO:li:scraper:('[healthcare][United Arab Emirates][194]', 'Processed')\n"
     ]
    },
    {
     "name": "stdout",
     "output_type": "stream",
     "text": [
      "[ON_DATA] Junior Associate - Corporate M&A Bakermckenzieuk 2021-03-12 https://ae.linkedin.com/jobs/view/junior-associate-corporate-m-a-at-bakermckenzieuk-2458492861?refId=3970d6e2-e32c-487b-8e16-5bb0d45c6c35&trackingId=DAfRbfxh%2FRGEOQxHKJGryg%3D%3D&position=5&pageNum=8&trk=public_jobs_job-result-card_result-card_full-click\n"
     ]
    },
    {
     "name": "stderr",
     "output_type": "stream",
     "text": [
      "INFO:li:scraper:('[healthcare][United Arab Emirates][195]', 'Processed')\n"
     ]
    },
    {
     "name": "stdout",
     "output_type": "stream",
     "text": [
      "[ON_DATA] Master Patient Index Officer Win Win Hr Consultancy 2021-03-19 https://ae.linkedin.com/jobs/view/master-patient-index-officer-at-win-win-hr-consultancy-2468547211?refId=3970d6e2-e32c-487b-8e16-5bb0d45c6c35&trackingId=WAUZnbXJzAtsVhY0eWfpig%3D%3D&position=6&pageNum=8&trk=public_jobs_job-result-card_result-card_full-click\n"
     ]
    },
    {
     "name": "stderr",
     "output_type": "stream",
     "text": [
      "INFO:li:scraper:('[healthcare][United Arab Emirates][196]', 'Processed')\n"
     ]
    },
    {
     "name": "stdout",
     "output_type": "stream",
     "text": [
      "[ON_DATA] Health Educator, Balsam International Hospitals Recruitment Inc. 2020-11-21 https://ae.linkedin.com/jobs/view/health-educator-balsam-at-international-hospitals-recruitment-inc-2317801383?refId=3970d6e2-e32c-487b-8e16-5bb0d45c6c35&trackingId=xLKMgh0GZmyGNdCcJIJXig%3D%3D&position=7&pageNum=8&trk=public_jobs_job-result-card_result-card_full-click\n"
     ]
    },
    {
     "name": "stderr",
     "output_type": "stream",
     "text": [
      "INFO:li:scraper:('[healthcare][United Arab Emirates][197]', 'Processed')\n"
     ]
    },
    {
     "name": "stdout",
     "output_type": "stream",
     "text": [
      "[ON_DATA] Assistant Head of Boys Boarding Repton School - Dubai 2021-03-24 https://ae.linkedin.com/jobs/view/assistant-head-of-boys-boarding-at-repton-school-dubai-2475692421?refId=3970d6e2-e32c-487b-8e16-5bb0d45c6c35&trackingId=RXjBXGl8UQpV5yopihcfng%3D%3D&position=8&pageNum=8&trk=public_jobs_job-result-card_result-card_full-click\n"
     ]
    },
    {
     "name": "stderr",
     "output_type": "stream",
     "text": [
      "INFO:li:scraper:('[healthcare][United Arab Emirates][198]', 'Processed')\n"
     ]
    },
    {
     "name": "stdout",
     "output_type": "stream",
     "text": [
      "[ON_DATA] Modality Sales Manager GE Healthcare 2021-03-30 https://ae.linkedin.com/jobs/view/modality-sales-manager-at-ge-healthcare-2481971823?refId=3970d6e2-e32c-487b-8e16-5bb0d45c6c35&trackingId=6dh4xuNPobsZ9p4qH15lZQ%3D%3D&position=9&pageNum=8&trk=public_jobs_job-result-card_result-card_full-click\n"
     ]
    },
    {
     "name": "stderr",
     "output_type": "stream",
     "text": [
      "INFO:li:scraper:('[healthcare][United Arab Emirates][199]', 'Processed')\n"
     ]
    },
    {
     "name": "stdout",
     "output_type": "stream",
     "text": [
      "[ON_DATA] Application Support Specialist – Billing & RCM Intersystems Corporation 2021-03-16 https://ae.linkedin.com/jobs/view/application-support-specialist-%E2%80%93-billing-rcm-at-intersystems-corporation-2490431957?refId=3970d6e2-e32c-487b-8e16-5bb0d45c6c35&trackingId=DxKB1Kqfn4sNQoiv%2BG7hTQ%3D%3D&position=10&pageNum=8&trk=public_jobs_job-result-card_result-card_full-click\n"
     ]
    },
    {
     "name": "stderr",
     "output_type": "stream",
     "text": [
      "INFO:li:scraper:('[healthcare][United Arab Emirates][200]', 'Processed')\n"
     ]
    },
    {
     "name": "stdout",
     "output_type": "stream",
     "text": [
      "[ON_DATA] Adjunct Instructor Innovations ( with own visa and NOC) Institute of Applied Technology 2021-03-30 https://ae.linkedin.com/jobs/view/adjunct-instructor-innovations-with-own-visa-and-noc-at-institute-of-applied-technology-2458087076?refId=3970d6e2-e32c-487b-8e16-5bb0d45c6c35&trackingId=QehhwNGu46mlYfGFIGW82A%3D%3D&position=11&pageNum=8&trk=public_jobs_job-result-card_result-card_full-click\n"
     ]
    },
    {
     "name": "stderr",
     "output_type": "stream",
     "text": [
      "INFO:li:scraper:('[healthcare][United Arab Emirates][201]', 'Processed')\n"
     ]
    },
    {
     "name": "stdout",
     "output_type": "stream",
     "text": [
      "[ON_DATA] FM Hard Services Manager - Fixed Term Serco 2021-04-01 https://ae.linkedin.com/jobs/view/fm-hard-services-manager-fixed-term-at-serco-2473657259?refId=3970d6e2-e32c-487b-8e16-5bb0d45c6c35&trackingId=uoe97J63DqGLeLihniU2XQ%3D%3D&position=12&pageNum=8&trk=public_jobs_job-result-card_result-card_full-click\n"
     ]
    },
    {
     "name": "stderr",
     "output_type": "stream",
     "text": [
      "INFO:li:scraper:('[healthcare][United Arab Emirates][202]', 'Processed')\n"
     ]
    },
    {
     "name": "stdout",
     "output_type": "stream",
     "text": [
      "[ON_DATA] Coordinator Vendor Talabat 2021-04-02 https://ae.linkedin.com/jobs/view/coordinator-vendor-at-talabat-2490411989?refId=3970d6e2-e32c-487b-8e16-5bb0d45c6c35&trackingId=%2Fqyzi4dJPXEC%2Fq8N7yVa5g%3D%3D&position=13&pageNum=8&trk=public_jobs_job-result-card_result-card_full-click\n"
     ]
    },
    {
     "name": "stderr",
     "output_type": "stream",
     "text": [
      "INFO:li:scraper:('[healthcare][United Arab Emirates][203]', 'Processed')\n"
     ]
    },
    {
     "name": "stdout",
     "output_type": "stream",
     "text": [
      "[ON_DATA] Compliance and Assurance Manager Bupa Global 2021-03-19 https://ae.linkedin.com/jobs/view/compliance-and-assurance-manager-at-bupa-global-2468548146?refId=3970d6e2-e32c-487b-8e16-5bb0d45c6c35&trackingId=kn%2FIwrrGcU9Lso75OWcoDA%3D%3D&position=14&pageNum=8&trk=public_jobs_job-result-card_result-card_full-click\n"
     ]
    },
    {
     "name": "stderr",
     "output_type": "stream",
     "text": [
      "INFO:li:scraper:('[healthcare][United Arab Emirates][204]', 'Processed')\n"
     ]
    },
    {
     "name": "stdout",
     "output_type": "stream",
     "text": [
      "[ON_DATA] Market Insight Lead - CEMA Strategic Market Enterprise Medtronic 2021-03-19 https://ae.linkedin.com/jobs/view/market-insight-lead-cema-strategic-market-enterprise-at-medtronic-2468545772?refId=3970d6e2-e32c-487b-8e16-5bb0d45c6c35&trackingId=nm5uDUDovdSPLRf4djcLCQ%3D%3D&position=15&pageNum=8&trk=public_jobs_job-result-card_result-card_full-click\n"
     ]
    },
    {
     "name": "stderr",
     "output_type": "stream",
     "text": [
      "INFO:li:scraper:('[healthcare][United Arab Emirates][205]', 'Processed')\n"
     ]
    },
    {
     "name": "stdout",
     "output_type": "stream",
     "text": [
      "[ON_DATA] Marketing and Communication Manager ITW Welding Middle East 2021-04-03 https://ae.linkedin.com/jobs/view/marketing-and-communication-manager-at-itw-welding-middle-east-2475172492?refId=3970d6e2-e32c-487b-8e16-5bb0d45c6c35&trackingId=ksmg4n44aOkZZ5h3dCMggg%3D%3D&position=16&pageNum=8&trk=public_jobs_job-result-card_result-card_full-click\n"
     ]
    },
    {
     "name": "stderr",
     "output_type": "stream",
     "text": [
      "INFO:li:scraper:('[healthcare][United Arab Emirates][206]', 'Processed')\n"
     ]
    },
    {
     "name": "stdout",
     "output_type": "stream",
     "text": [
      "[ON_DATA] Lead Engineering Venture-backed Healthtech 2021-03-28 https://ae.linkedin.com/jobs/view/lead-engineering-at-venture-backed-healthtech-2446133905?refId=3970d6e2-e32c-487b-8e16-5bb0d45c6c35&trackingId=4QmW6Wps1via3q2lrqvxOg%3D%3D&position=17&pageNum=8&trk=public_jobs_job-result-card_result-card_full-click\n"
     ]
    },
    {
     "name": "stderr",
     "output_type": "stream",
     "text": [
      "INFO:li:scraper:('[healthcare][United Arab Emirates][207]', 'Processed')\n"
     ]
    },
    {
     "name": "stdout",
     "output_type": "stream",
     "text": [
      "[ON_DATA] Solution Architect Cerner Corporation 2021-03-15 https://ae.linkedin.com/jobs/view/solution-architect-at-cerner-corporation-2471923925?refId=3970d6e2-e32c-487b-8e16-5bb0d45c6c35&trackingId=12OYWsKrf4o%2Fx6CClQRcqw%3D%3D&position=18&pageNum=8&trk=public_jobs_job-result-card_result-card_full-click\n"
     ]
    },
    {
     "name": "stderr",
     "output_type": "stream",
     "text": [
      "INFO:li:scraper:('[healthcare][United Arab Emirates][208]', 'Processed')\n"
     ]
    },
    {
     "name": "stdout",
     "output_type": "stream",
     "text": [
      "[ON_DATA] Business Development Manager - Training - Amazon Web Services Amazon Web Services (AWS) 2021-03-17 https://ae.linkedin.com/jobs/view/business-development-manager-training-amazon-web-services-at-amazon-web-services-aws-2454060306?refId=3970d6e2-e32c-487b-8e16-5bb0d45c6c35&trackingId=OXePXf6UGDb%2F4kLVz1NErA%3D%3D&position=19&pageNum=8&trk=public_jobs_job-result-card_result-card_full-click\n"
     ]
    },
    {
     "name": "stderr",
     "output_type": "stream",
     "text": [
      "INFO:li:scraper:('[healthcare][United Arab Emirates][209]', 'Processed')\n"
     ]
    },
    {
     "name": "stdout",
     "output_type": "stream",
     "text": [
      "[ON_DATA] Coordinator Vendor talabat 2021-03-31 https://ae.linkedin.com/jobs/view/coordinator-vendor-at-talabat-2464201088?refId=3970d6e2-e32c-487b-8e16-5bb0d45c6c35&trackingId=B0WZG55EogXy1mReBYMILg%3D%3D&position=20&pageNum=8&trk=public_jobs_job-result-card_result-card_full-click\n"
     ]
    },
    {
     "name": "stderr",
     "output_type": "stream",
     "text": [
      "INFO:li:scraper:('[healthcare][United Arab Emirates][210]', 'Processed')\n"
     ]
    },
    {
     "name": "stdout",
     "output_type": "stream",
     "text": [
      "[ON_DATA] Recruitment Consultant Middle East Executive 2021-03-18 https://ae.linkedin.com/jobs/view/recruitment-consultant-at-middle-east-executive-2466933286?refId=3970d6e2-e32c-487b-8e16-5bb0d45c6c35&trackingId=yYm6KbMYHQwesWVuNJhVTw%3D%3D&position=21&pageNum=8&trk=public_jobs_job-result-card_result-card_full-click\n"
     ]
    },
    {
     "name": "stderr",
     "output_type": "stream",
     "text": [
      "INFO:li:scraper:('[healthcare][United Arab Emirates][211]', 'Processed')\n"
     ]
    },
    {
     "name": "stdout",
     "output_type": "stream",
     "text": [
      "[ON_DATA] Sommelier COYA Dubai 2021-03-15 https://ae.linkedin.com/jobs/view/sommelier-at-coya-dubai-2440203493?refId=3970d6e2-e32c-487b-8e16-5bb0d45c6c35&trackingId=tuZljQktpCtrzxbrm7H5iw%3D%3D&position=22&pageNum=8&trk=public_jobs_job-result-card_result-card_full-click\n"
     ]
    },
    {
     "name": "stderr",
     "output_type": "stream",
     "text": [
      "INFO:li:scraper:('[healthcare][United Arab Emirates][212]', 'Processed')\n"
     ]
    },
    {
     "name": "stdout",
     "output_type": "stream",
     "text": [
      "[ON_DATA] Helpdesk Agent - Hospital VAMED Middle East 2020-11-17 https://ae.linkedin.com/jobs/view/helpdesk-agent-hospital-at-vamed-middle-east-2312727169?refId=3970d6e2-e32c-487b-8e16-5bb0d45c6c35&trackingId=4dad7%2B7QRcp%2B1nEgnUcGIQ%3D%3D&position=23&pageNum=8&trk=public_jobs_job-result-card_result-card_full-click\n"
     ]
    },
    {
     "name": "stderr",
     "output_type": "stream",
     "text": [
      "INFO:li:scraper:('[healthcare][United Arab Emirates][213]', 'Processed')\n"
     ]
    },
    {
     "name": "stdout",
     "output_type": "stream",
     "text": [
      "[ON_DATA] Specialist/Consultant Family Medicine SearchPlus 2021-02-18 https://ae.linkedin.com/jobs/view/specialist-consultant-family-medicine-at-searchplus-2430393776?refId=3970d6e2-e32c-487b-8e16-5bb0d45c6c35&trackingId=QCeZ7CEZS49ye4keCdf23w%3D%3D&position=24&pageNum=8&trk=public_jobs_job-result-card_result-card_full-click\n"
     ]
    },
    {
     "name": "stderr",
     "output_type": "stream",
     "text": [
      "INFO:li:scraper:('[healthcare][United Arab Emirates][214]', 'Processed')\n",
      "INFO:li:scraper:('[healthcare][United Arab Emirates][214]', 'Checking for new jobs to load...')\n"
     ]
    },
    {
     "name": "stdout",
     "output_type": "stream",
     "text": [
      "[ON_DATA] Assistant Professor/Associate Professor/Full Professor United Arab Emirates University (Uaeu) 2021-03-26 https://ae.linkedin.com/jobs/view/assistant-professor-associate-professor-full-professor-at-united-arab-emirates-university-uaeu-2478587589?refId=3970d6e2-e32c-487b-8e16-5bb0d45c6c35&trackingId=H8f8s9ccnH0M43ml%2BLM5Ow%3D%3D&position=25&pageNum=8&trk=public_jobs_job-result-card_result-card_full-click\n"
     ]
    },
    {
     "name": "stderr",
     "output_type": "stream",
     "text": [
      "INFO:li:scraper:('[healthcare][United Arab Emirates][214]', 'Found 239 jobs')\n",
      "INFO:li:scraper:('[healthcare][United Arab Emirates][215]', 'Processed')\n"
     ]
    },
    {
     "name": "stdout",
     "output_type": "stream",
     "text": [
      "[ON_DATA] Associate Director - Energy Efficiency Consulting Guidehouse 2021-03-30 https://ae.linkedin.com/jobs/view/associate-director-energy-efficiency-consulting-at-guidehouse-2482706445?refId=e699948b-3fcf-4464-b492-5cac237abe16&trackingId=2yzV%2F0iBYhh0Ca9Ivycqyw%3D%3D&position=1&pageNum=9&trk=public_jobs_job-result-card_result-card_full-click\n"
     ]
    },
    {
     "name": "stderr",
     "output_type": "stream",
     "text": [
      "INFO:li:scraper:('[healthcare][United Arab Emirates][216]', 'Processed')\n"
     ]
    },
    {
     "name": "stdout",
     "output_type": "stream",
     "text": [
      "[ON_DATA] Assistant Professor English Institute of Applied Technology 2021-02-08 https://ae.linkedin.com/jobs/view/assistant-professor-english-at-institute-of-applied-technology-2448015448?refId=e699948b-3fcf-4464-b492-5cac237abe16&trackingId=Ym1HCtP7bmXYTuozjTY1XA%3D%3D&position=2&pageNum=9&trk=public_jobs_job-result-card_result-card_full-click\n"
     ]
    },
    {
     "name": "stderr",
     "output_type": "stream",
     "text": [
      "INFO:li:scraper:('[healthcare][United Arab Emirates][217]', 'Processed')\n"
     ]
    },
    {
     "name": "stdout",
     "output_type": "stream",
     "text": [
      "[ON_DATA] Accounts Assistant - Claims MedNet Global Healthcare Solutions LLC 2021-04-01 https://ae.linkedin.com/jobs/view/accounts-assistant-claims-at-mednet-global-healthcare-solutions-llc-2464260999?refId=e699948b-3fcf-4464-b492-5cac237abe16&trackingId=YDDGbRGvyL3%2BCiKxzT8fog%3D%3D&position=3&pageNum=9&trk=public_jobs_job-result-card_result-card_full-click\n"
     ]
    },
    {
     "name": "stderr",
     "output_type": "stream",
     "text": [
      "INFO:li:scraper:('[healthcare][United Arab Emirates][218]', 'Processed')\n"
     ]
    },
    {
     "name": "stdout",
     "output_type": "stream",
     "text": [
      "[ON_DATA] Internal Audit Manager Fakeeh University Hospital 2021-03-22 https://ae.linkedin.com/jobs/view/internal-audit-manager-at-fakeeh-university-hospital-2472016607?refId=e699948b-3fcf-4464-b492-5cac237abe16&trackingId=EBYSAtH%2FdWg9gupn858h%2BA%3D%3D&position=4&pageNum=9&trk=public_jobs_job-result-card_result-card_full-click\n"
     ]
    },
    {
     "name": "stderr",
     "output_type": "stream",
     "text": [
      "INFO:li:scraper:('[healthcare][United Arab Emirates][219]', 'Processed')\n"
     ]
    },
    {
     "name": "stdout",
     "output_type": "stream",
     "text": [
      "[ON_DATA] CRM/SFE Analyst - Central & Eastern Europe, Middle East and Africa Medtronic 2021-03-04 https://ae.linkedin.com/jobs/view/crm-sfe-analyst-central-eastern-europe-middle-east-and-africa-at-medtronic-2446822618?refId=e699948b-3fcf-4464-b492-5cac237abe16&trackingId=%2BT4Yn1R8kx0ngsHlhpAcbQ%3D%3D&position=5&pageNum=9&trk=public_jobs_job-result-card_result-card_full-click\n"
     ]
    },
    {
     "name": "stderr",
     "output_type": "stream",
     "text": [
      "INFO:li:scraper:('[healthcare][United Arab Emirates][220]', 'Processed')\n"
     ]
    },
    {
     "name": "stdout",
     "output_type": "stream",
     "text": [
      "[ON_DATA] Recruitment Researcher - Internship Michael Page 2020-12-05 https://ae.linkedin.com/jobs/view/recruitment-researcher-internship-at-michael-page-2362415172?refId=e699948b-3fcf-4464-b492-5cac237abe16&trackingId=iUApxxjiP8JpX4Zj63kaYQ%3D%3D&position=6&pageNum=9&trk=public_jobs_job-result-card_result-card_full-click\n"
     ]
    },
    {
     "name": "stderr",
     "output_type": "stream",
     "text": [
      "INFO:li:scraper:('[healthcare][United Arab Emirates][221]', 'Processed')\n"
     ]
    },
    {
     "name": "stdout",
     "output_type": "stream",
     "text": [
      "[ON_DATA] Team Leader- Affiliate & Distributor Quality Team Julphar 2021-03-31 https://ae.linkedin.com/jobs/view/team-leader-affiliate-distributor-quality-team-at-julphar-2488606220?refId=e699948b-3fcf-4464-b492-5cac237abe16&trackingId=CLSRu54mOOJw45JRhSMPmg%3D%3D&position=7&pageNum=9&trk=public_jobs_job-result-card_result-card_full-click\n"
     ]
    },
    {
     "name": "stderr",
     "output_type": "stream",
     "text": [
      "INFO:li:scraper:('[healthcare][United Arab Emirates][222]', 'Processed')\n"
     ]
    },
    {
     "name": "stdout",
     "output_type": "stream",
     "text": [
      "[ON_DATA] Senior Services Account Manager - Middle East BlackBerry 2021-04-02 https://ae.linkedin.com/jobs/view/senior-services-account-manager-middle-east-at-blackberry-2486930046?refId=e699948b-3fcf-4464-b492-5cac237abe16&trackingId=TtFMrXHEf0oNy2q8bXoGWw%3D%3D&position=8&pageNum=9&trk=public_jobs_job-result-card_result-card_full-click\n"
     ]
    },
    {
     "name": "stderr",
     "output_type": "stream",
     "text": [
      "INFO:li:scraper:('[healthcare][United Arab Emirates][223]', 'Processed')\n"
     ]
    },
    {
     "name": "stdout",
     "output_type": "stream",
     "text": [
      "[ON_DATA] Business Development Executive Delma Medical Center 2020-11-25 https://ae.linkedin.com/jobs/view/business-development-executive-at-delma-medical-center-2336043398?refId=e699948b-3fcf-4464-b492-5cac237abe16&trackingId=RZDdYAmxeVwks9twdb2lqQ%3D%3D&position=9&pageNum=9&trk=public_jobs_job-result-card_result-card_full-click\n"
     ]
    },
    {
     "name": "stderr",
     "output_type": "stream",
     "text": [
      "INFO:li:scraper:('[healthcare][United Arab Emirates][224]', 'Processed')\n"
     ]
    },
    {
     "name": "stdout",
     "output_type": "stream",
     "text": [
      "[ON_DATA] Senior Health Standards Specialist Win Win Hr Consultancy 2021-03-19 https://ae.linkedin.com/jobs/view/senior-health-standards-specialist-at-win-win-hr-consultancy-2468542897?refId=e699948b-3fcf-4464-b492-5cac237abe16&trackingId=4qK5saIO5Bs2%2BvwtXbYHsg%3D%3D&position=10&pageNum=9&trk=public_jobs_job-result-card_result-card_full-click\n"
     ]
    },
    {
     "name": "stderr",
     "output_type": "stream",
     "text": [
      "INFO:li:scraper:('[healthcare][United Arab Emirates][225]', 'Processed')\n"
     ]
    },
    {
     "name": "stdout",
     "output_type": "stream",
     "text": [
      "[ON_DATA] Manager Information Security & Privacy G42 2021-03-14 https://ae.linkedin.com/jobs/view/manager-information-security-privacy-at-g42-2461281569?refId=e699948b-3fcf-4464-b492-5cac237abe16&trackingId=%2FDEGfV8WjGkMDP%2FS2mo1sw%3D%3D&position=11&pageNum=9&trk=public_jobs_job-result-card_result-card_full-click\n"
     ]
    },
    {
     "name": "stderr",
     "output_type": "stream",
     "text": [
      "INFO:li:scraper:('[healthcare][United Arab Emirates][226]', 'Processed')\n"
     ]
    },
    {
     "name": "stdout",
     "output_type": "stream",
     "text": [
      "[ON_DATA] Assistant Audit Manager RAI 2021-03-30 https://ae.linkedin.com/jobs/view/assistant-audit-manager-at-rai-2482048484?refId=e699948b-3fcf-4464-b492-5cac237abe16&trackingId=6bOeKuBKyqYKoDxpm8NfHA%3D%3D&position=12&pageNum=9&trk=public_jobs_job-result-card_result-card_full-click\n"
     ]
    },
    {
     "name": "stderr",
     "output_type": "stream",
     "text": [
      "INFO:li:scraper:('[healthcare][United Arab Emirates][227]', 'Processed')\n"
     ]
    },
    {
     "name": "stdout",
     "output_type": "stream",
     "text": [
      "[ON_DATA] Innovation Senior Manager Accenture Middle East 2021-03-23 https://ae.linkedin.com/jobs/view/innovation-senior-manager-at-accenture-middle-east-2472504514?refId=e699948b-3fcf-4464-b492-5cac237abe16&trackingId=sLdQ0LByWqScSV2CcyCgUA%3D%3D&position=13&pageNum=9&trk=public_jobs_job-result-card_result-card_full-click\n"
     ]
    },
    {
     "name": "stderr",
     "output_type": "stream",
     "text": [
      "INFO:li:scraper:('[healthcare][United Arab Emirates][228]', 'Processed')\n"
     ]
    },
    {
     "name": "stdout",
     "output_type": "stream",
     "text": [
      "[ON_DATA] Medical Coder Prime Healthcare Group 2021-03-19 https://ae.linkedin.com/jobs/view/medical-coder-at-prime-healthcare-group-2468548079?refId=e699948b-3fcf-4464-b492-5cac237abe16&trackingId=LRP%2Fvf4jVitiXh0uXjTLXw%3D%3D&position=14&pageNum=9&trk=public_jobs_job-result-card_result-card_full-click\n"
     ]
    },
    {
     "name": "stderr",
     "output_type": "stream",
     "text": [
      "INFO:li:scraper:('[healthcare][United Arab Emirates][229]', 'Processed')\n"
     ]
    },
    {
     "name": "stdout",
     "output_type": "stream",
     "text": [
      "[ON_DATA] LIMS Application Engineers - IT Healthcare Project Marc Ellis 2021-03-14 https://ae.linkedin.com/jobs/view/lims-application-engineers-it-healthcare-project-at-marc-ellis-2461447075?refId=e699948b-3fcf-4464-b492-5cac237abe16&trackingId=PGK9LWw9WwxYQzRgMYzBrw%3D%3D&position=15&pageNum=9&trk=public_jobs_job-result-card_result-card_full-click\n"
     ]
    },
    {
     "name": "stderr",
     "output_type": "stream",
     "text": [
      "INFO:li:scraper:('[healthcare][United Arab Emirates][230]', 'Processed')\n"
     ]
    },
    {
     "name": "stdout",
     "output_type": "stream",
     "text": [
      "[ON_DATA] Consultant and Specialist - Cardiology Ain Al Khaleej Hospital 2021-02-15 https://ae.linkedin.com/jobs/view/consultant-and-specialist-cardiology-at-ain-al-khaleej-hospital-2425598460?refId=e699948b-3fcf-4464-b492-5cac237abe16&trackingId=O0Av1wITzSp6%2FLmZI9Sslg%3D%3D&position=16&pageNum=9&trk=public_jobs_job-result-card_result-card_full-click\n"
     ]
    },
    {
     "name": "stderr",
     "output_type": "stream",
     "text": [
      "INFO:li:scraper:('[healthcare][United Arab Emirates][231]', 'Processed')\n"
     ]
    },
    {
     "name": "stdout",
     "output_type": "stream",
     "text": [
      "[ON_DATA] Consultant Cardiovascular in MOH sector Search Plus Hr 2021-04-03 https://ae.linkedin.com/jobs/view/consultant-cardiovascular-in-moh-sector-at-search-plus-hr-2488604636?refId=e699948b-3fcf-4464-b492-5cac237abe16&trackingId=E4i1arGTnY1OSmKynOZJ5Q%3D%3D&position=17&pageNum=9&trk=public_jobs_job-result-card_result-card_full-click\n"
     ]
    },
    {
     "name": "stderr",
     "output_type": "stream",
     "text": [
      "INFO:li:scraper:('[healthcare][United Arab Emirates][232]', 'Processed')\n"
     ]
    },
    {
     "name": "stdout",
     "output_type": "stream",
     "text": [
      "[ON_DATA] Personal Assistant – Fixed Term Contract John Crane 2021-03-19 https://ae.linkedin.com/jobs/view/personal-assistant-%E2%80%93-fixed-term-contract-at-john-crane-2468546727?refId=e699948b-3fcf-4464-b492-5cac237abe16&trackingId=cInfZozgy%2Fvc3KH%2BRlk7rg%3D%3D&position=18&pageNum=9&trk=public_jobs_job-result-card_result-card_full-click\n"
     ]
    },
    {
     "name": "stderr",
     "output_type": "stream",
     "text": [
      "INFO:li:scraper:('[healthcare][United Arab Emirates][233]', 'Processed')\n"
     ]
    },
    {
     "name": "stdout",
     "output_type": "stream",
     "text": [
      "[ON_DATA] Junior Associate - Corporate M&A (Dubai) Baker Mckenzie 2021-03-20 https://ae.linkedin.com/jobs/view/junior-associate-corporate-m-a-dubai-at-baker-mckenzie-2487254726?refId=e699948b-3fcf-4464-b492-5cac237abe16&trackingId=4aN32wxelgNiJR9HU0bZMA%3D%3D&position=19&pageNum=9&trk=public_jobs_job-result-card_result-card_full-click\n"
     ]
    },
    {
     "name": "stderr",
     "output_type": "stream",
     "text": [
      "INFO:li:scraper:('[healthcare][United Arab Emirates][234]', 'Processed')\n"
     ]
    },
    {
     "name": "stdout",
     "output_type": "stream",
     "text": [
      "[ON_DATA] Business Development Manager - Foodservices Talabat 2021-03-29 https://ae.linkedin.com/jobs/view/business-development-manager-foodservices-at-talabat-2490413009?refId=e699948b-3fcf-4464-b492-5cac237abe16&trackingId=Vbu%2BlbCez1zh8ZXyonQZDg%3D%3D&position=20&pageNum=9&trk=public_jobs_job-result-card_result-card_full-click\n"
     ]
    },
    {
     "name": "stderr",
     "output_type": "stream",
     "text": [
      "INFO:li:scraper:('[healthcare][United Arab Emirates][235]', 'Processed')\n"
     ]
    },
    {
     "name": "stdout",
     "output_type": "stream",
     "text": [
      "[ON_DATA] Helpdesk Administrator II talabat 2021-03-21 https://ae.linkedin.com/jobs/view/helpdesk-administrator-ii-at-talabat-2447276809?refId=e699948b-3fcf-4464-b492-5cac237abe16&trackingId=MyaAkN8l24Ofxo4cm4aqpA%3D%3D&position=21&pageNum=9&trk=public_jobs_job-result-card_result-card_full-click\n"
     ]
    },
    {
     "name": "stderr",
     "output_type": "stream",
     "text": [
      "INFO:li:scraper:('[healthcare][United Arab Emirates][236]', 'Processed')\n"
     ]
    },
    {
     "name": "stdout",
     "output_type": "stream",
     "text": [
      "[ON_DATA] CRM/SFE Analyst - Central & Eastern Europe, Middle East and Africa Medtronic 2021-03-05 https://ae.linkedin.com/jobs/view/crm-sfe-analyst-central-eastern-europe-middle-east-and-africa-at-medtronic-2448688953?refId=e699948b-3fcf-4464-b492-5cac237abe16&trackingId=1MB1TCUNZEObyigEQjjFSQ%3D%3D&position=22&pageNum=9&trk=public_jobs_job-result-card_result-card_full-click\n"
     ]
    },
    {
     "name": "stderr",
     "output_type": "stream",
     "text": [
      "INFO:li:scraper:('[healthcare][United Arab Emirates][237]', 'Processed')\n"
     ]
    },
    {
     "name": "stdout",
     "output_type": "stream",
     "text": [
      "[ON_DATA] Recruitment Consultant Ignite Search & Selection 2021-03-19 https://ae.linkedin.com/jobs/view/recruitment-consultant-at-ignite-search-selection-2468545735?refId=e699948b-3fcf-4464-b492-5cac237abe16&trackingId=4DZjnuEAemP%2BcXMAreE75Q%3D%3D&position=23&pageNum=9&trk=public_jobs_job-result-card_result-card_full-click\n"
     ]
    },
    {
     "name": "stderr",
     "output_type": "stream",
     "text": [
      "INFO:li:scraper:('[healthcare][United Arab Emirates][238]', 'Processed')\n"
     ]
    },
    {
     "name": "stdout",
     "output_type": "stream",
     "text": [
      "[ON_DATA] Senior Services Account Manager - Middle East Blackberry 2021-03-18 https://ae.linkedin.com/jobs/view/senior-services-account-manager-middle-east-at-blackberry-2490405702?refId=e699948b-3fcf-4464-b492-5cac237abe16&trackingId=pRROCpsQkYCMffoCueGsIQ%3D%3D&position=24&pageNum=9&trk=public_jobs_job-result-card_result-card_full-click\n"
     ]
    },
    {
     "name": "stderr",
     "output_type": "stream",
     "text": [
      "INFO:li:scraper:('[healthcare][United Arab Emirates][239]', 'Processed')\n",
      "INFO:li:scraper:('[healthcare][United Arab Emirates][239]', 'Checking for new jobs to load...')\n"
     ]
    },
    {
     "name": "stdout",
     "output_type": "stream",
     "text": [
      "[ON_DATA] Capture Manager Middle East (m/f) CAE 2021-04-02 https://ae.linkedin.com/jobs/view/capture-manager-middle-east-m-f-at-cae-2432053095?refId=e699948b-3fcf-4464-b492-5cac237abe16&trackingId=uN9XAz3qjuugYvVbZv%2F6RA%3D%3D&position=25&pageNum=9&trk=public_jobs_job-result-card_result-card_full-click\n"
     ]
    },
    {
     "name": "stderr",
     "output_type": "stream",
     "text": [
      "INFO:li:scraper:('[healthcare][United Arab Emirates][239]', 'Found 263 jobs')\n",
      "INFO:li:scraper:('[healthcare][United Arab Emirates][240]', 'Processed')\n"
     ]
    },
    {
     "name": "stdout",
     "output_type": "stream",
     "text": [
      "[ON_DATA] Sales Executive -Veterinary MAZRUI INTERNATIONAL 2021-03-29 https://ae.linkedin.com/jobs/view/sales-executive-veterinary-at-mazrui-international-2468043676?refId=fdc7fc67-f4db-416d-8bba-3d1ae8064481&trackingId=BVYdF%2FcaCZ08ahdtZYquRw%3D%3D&position=1&pageNum=10&trk=public_jobs_job-result-card_result-card_full-click\n"
     ]
    },
    {
     "name": "stderr",
     "output_type": "stream",
     "text": [
      "INFO:li:scraper:('[healthcare][United Arab Emirates][241]', 'Processed')\n"
     ]
    },
    {
     "name": "stdout",
     "output_type": "stream",
     "text": [
      "[ON_DATA] Marketing & PR Manager I Healthcare I Dubai- UAE Al Futtaim 2021-03-25 https://ae.linkedin.com/jobs/view/marketing-pr-manager-i-healthcare-i-dubai-uae-at-al-futtaim-2477150864?refId=fdc7fc67-f4db-416d-8bba-3d1ae8064481&trackingId=wssWVtOL7HAQprz%2F5hA%2Fmw%3D%3D&position=2&pageNum=10&trk=public_jobs_job-result-card_result-card_full-click\n"
     ]
    },
    {
     "name": "stderr",
     "output_type": "stream",
     "text": [
      "INFO:li:scraper:('[healthcare][United Arab Emirates][242]', 'Processed')\n"
     ]
    },
    {
     "name": "stdout",
     "output_type": "stream",
     "text": [
      "[ON_DATA] Program Director, Community Health Program, Balsam International Hospitals Recruitment Inc. 2020-11-20 https://ae.linkedin.com/jobs/view/program-director-community-health-program-balsam-at-international-hospitals-recruitment-inc-2316608641?refId=fdc7fc67-f4db-416d-8bba-3d1ae8064481&trackingId=9SGQR8l0dh8bJNcmyICsZw%3D%3D&position=3&pageNum=10&trk=public_jobs_job-result-card_result-card_full-click\n"
     ]
    },
    {
     "name": "stderr",
     "output_type": "stream",
     "text": [
      "INFO:li:scraper:('[healthcare][United Arab Emirates][243]', 'Processed')\n"
     ]
    },
    {
     "name": "stdout",
     "output_type": "stream",
     "text": [
      "[ON_DATA] Senior Data Scientist - Healthcare (1 year contract) Black Pearl Consult 2021-03-20 https://ae.linkedin.com/jobs/view/senior-data-scientist-healthcare-1-year-contract-at-black-pearl-consult-2469933642?refId=fdc7fc67-f4db-416d-8bba-3d1ae8064481&trackingId=U%2BDczTB3v7UiMzoU4iKLeA%3D%3D&position=4&pageNum=10&trk=public_jobs_job-result-card_result-card_full-click\n"
     ]
    },
    {
     "name": "stderr",
     "output_type": "stream",
     "text": [
      "INFO:li:scraper:('[healthcare][United Arab Emirates][244]', 'Processed')\n"
     ]
    },
    {
     "name": "stdout",
     "output_type": "stream",
     "text": [
      "[ON_DATA] Team Leader- Microbiology Julphar 2021-03-30 https://ae.linkedin.com/jobs/view/team-leader-microbiology-at-julphar-2482549421?refId=fdc7fc67-f4db-416d-8bba-3d1ae8064481&trackingId=MVGVWjvVyvpjgU%2FWEAq1zA%3D%3D&position=5&pageNum=10&trk=public_jobs_job-result-card_result-card_full-click\n"
     ]
    },
    {
     "name": "stderr",
     "output_type": "stream",
     "text": [
      "INFO:li:scraper:('[healthcare][United Arab Emirates][245]', 'Processed')\n"
     ]
    },
    {
     "name": "stdout",
     "output_type": "stream",
     "text": [
      "[ON_DATA] E-Commerce Implementation Analyst - Central Eastern Europe, Middle East and Africa Medtronic 2021-03-19 https://ae.linkedin.com/jobs/view/e-commerce-implementation-analyst-central-eastern-europe-middle-east-and-africa-at-medtronic-2468549049?refId=fdc7fc67-f4db-416d-8bba-3d1ae8064481&trackingId=c9yQXb1JjeJjg4glH8JClg%3D%3D&position=6&pageNum=10&trk=public_jobs_job-result-card_result-card_full-click\n"
     ]
    },
    {
     "name": "stderr",
     "output_type": "stream",
     "text": [
      "INFO:li:scraper:('[healthcare][United Arab Emirates][246]', 'Processed')\n"
     ]
    },
    {
     "name": "stdout",
     "output_type": "stream",
     "text": [
      "[ON_DATA] Consultant Cardiovascular in MOH sector SearchPlus HR Dubai 2021-04-02 https://ae.linkedin.com/jobs/view/consultant-cardiovascular-in-moh-sector-at-searchplus-hr-dubai-2486635647?refId=fdc7fc67-f4db-416d-8bba-3d1ae8064481&trackingId=iqNZznh8DxMF%2F9Uvf3z0DQ%3D%3D&position=7&pageNum=10&trk=public_jobs_job-result-card_result-card_full-click\n"
     ]
    },
    {
     "name": "stderr",
     "output_type": "stream",
     "text": [
      "INFO:li:scraper:('[healthcare][United Arab Emirates][247]', 'Processed')\n"
     ]
    },
    {
     "name": "stdout",
     "output_type": "stream",
     "text": [
      "[ON_DATA] Mergers and Acquisitions Executive - Consumer Products & Retail EY 2021-02-18 https://ae.linkedin.com/jobs/view/mergers-and-acquisitions-executive-consumer-products-retail-at-ey-2424273452?refId=fdc7fc67-f4db-416d-8bba-3d1ae8064481&trackingId=R0tbbwJmpgg6BXsWF9Pw4w%3D%3D&position=8&pageNum=10&trk=public_jobs_job-result-card_result-card_full-click\n"
     ]
    },
    {
     "name": "stderr",
     "output_type": "stream",
     "text": [
      "INFO:li:scraper:('[healthcare][United Arab Emirates][248]', 'Processed')\n"
     ]
    },
    {
     "name": "stdout",
     "output_type": "stream",
     "text": [
      "[ON_DATA] Recruitment Consultant Internship Middle East Executive 2021-03-18 https://ae.linkedin.com/jobs/view/recruitment-consultant-internship-at-middle-east-executive-2487279391?refId=fdc7fc67-f4db-416d-8bba-3d1ae8064481&trackingId=fzTVlxieFrc48bssMZIHoQ%3D%3D&position=9&pageNum=10&trk=public_jobs_job-result-card_result-card_full-click\n"
     ]
    },
    {
     "name": "stderr",
     "output_type": "stream",
     "text": [
      "INFO:li:scraper:('[healthcare][United Arab Emirates][249]', 'Processed')\n"
     ]
    },
    {
     "name": "stdout",
     "output_type": "stream",
     "text": [
      "[ON_DATA] Program Manager Balsam International Hospitals Recruitment Inc. 2020-11-25 https://ae.linkedin.com/jobs/view/program-manager-balsam-at-international-hospitals-recruitment-inc-2321857288?refId=fdc7fc67-f4db-416d-8bba-3d1ae8064481&trackingId=FENwSj%2F3FfgDBT4DRFCohg%3D%3D&position=10&pageNum=10&trk=public_jobs_job-result-card_result-card_full-click\n"
     ]
    },
    {
     "name": "stderr",
     "output_type": "stream",
     "text": [
      "INFO:li:scraper:('[healthcare][United Arab Emirates][250]', 'Processed')\n"
     ]
    },
    {
     "name": "stdout",
     "output_type": "stream",
     "text": [
      "[ON_DATA] Consultant / Specialist Pediatrician Ain Al Khaleej Hospital 2021-02-15 https://ae.linkedin.com/jobs/view/consultant-specialist-pediatrician-at-ain-al-khaleej-hospital-2425598459?refId=fdc7fc67-f4db-416d-8bba-3d1ae8064481&trackingId=68SAljRtpfP9J%2Bnr92Ep5A%3D%3D&position=11&pageNum=10&trk=public_jobs_job-result-card_result-card_full-click\n"
     ]
    },
    {
     "name": "stderr",
     "output_type": "stream",
     "text": [
      "INFO:li:scraper:('[healthcare][United Arab Emirates][251]', 'Processed')\n"
     ]
    },
    {
     "name": "stdout",
     "output_type": "stream",
     "text": [
      "[ON_DATA] Lead Specialist – Audit & Investigations Johnson & Johnson Family Of Companies 2021-03-20 https://ae.linkedin.com/jobs/view/lead-specialist-%E2%80%93-audit-investigations-at-johnson-johnson-family-of-companies-2485754737?refId=fdc7fc67-f4db-416d-8bba-3d1ae8064481&trackingId=vyNPT0c2th6Ue%2BEI%2BvPh%2Bg%3D%3D&position=12&pageNum=10&trk=public_jobs_job-result-card_result-card_full-click\n"
     ]
    },
    {
     "name": "stderr",
     "output_type": "stream",
     "text": [
      "INFO:li:scraper:('[healthcare][United Arab Emirates][252]', 'Processed')\n"
     ]
    },
    {
     "name": "stdout",
     "output_type": "stream",
     "text": [
      "[ON_DATA] Specialist / Consultant Internal Medicine SearchPlus 2021-02-10 https://ae.linkedin.com/jobs/view/specialist-consultant-internal-medicine-at-searchplus-2419337991?refId=fdc7fc67-f4db-416d-8bba-3d1ae8064481&trackingId=uF0BaJ0MJPYFZE8ShKbGyA%3D%3D&position=13&pageNum=10&trk=public_jobs_job-result-card_result-card_full-click\n"
     ]
    },
    {
     "name": "stderr",
     "output_type": "stream",
     "text": [
      "INFO:li:scraper:('[healthcare][United Arab Emirates][253]', 'Processed')\n"
     ]
    },
    {
     "name": "stdout",
     "output_type": "stream",
     "text": [
      "[ON_DATA] Regional Consumer Marketing Manager Michael Page 2021-03-03 https://ae.linkedin.com/jobs/view/regional-consumer-marketing-manager-at-michael-page-2445197141?refId=fdc7fc67-f4db-416d-8bba-3d1ae8064481&trackingId=FYl0DjGgonen08mZRHXeyg%3D%3D&position=14&pageNum=10&trk=public_jobs_job-result-card_result-card_full-click\n"
     ]
    },
    {
     "name": "stderr",
     "output_type": "stream",
     "text": [
      "INFO:li:scraper:('[healthcare][United Arab Emirates][254]', 'Processed')\n"
     ]
    },
    {
     "name": "stdout",
     "output_type": "stream",
     "text": [
      "[ON_DATA] Instructor, Medical Student Assessment United Arab Emirates University 2021-03-22 https://ae.linkedin.com/jobs/view/instructor-medical-student-assessment-at-united-arab-emirates-university-2471873212?refId=fdc7fc67-f4db-416d-8bba-3d1ae8064481&trackingId=UZSGxPQZ6vzkqWLB%2FNWXmA%3D%3D&position=15&pageNum=10&trk=public_jobs_job-result-card_result-card_full-click\n"
     ]
    },
    {
     "name": "stderr",
     "output_type": "stream",
     "text": [
      "INFO:li:scraper:('[healthcare][United Arab Emirates][255]', 'Processed')\n"
     ]
    },
    {
     "name": "stdout",
     "output_type": "stream",
     "text": [
      "[ON_DATA] Customer Service Consultant (Arabic Speaker) Aetna, A Cvs Health Company 2021-03-19 https://ae.linkedin.com/jobs/view/customer-service-consultant-arabic-speaker-at-aetna-a-cvs-health-company-2468544796?refId=fdc7fc67-f4db-416d-8bba-3d1ae8064481&trackingId=S2gUz3witG3DctC9ZcbUbQ%3D%3D&position=16&pageNum=10&trk=public_jobs_job-result-card_result-card_full-click\n"
     ]
    },
    {
     "name": "stderr",
     "output_type": "stream",
     "text": [
      "INFO:li:scraper:('[healthcare][United Arab Emirates][256]', 'Processed')\n"
     ]
    },
    {
     "name": "stdout",
     "output_type": "stream",
     "text": [
      "[ON_DATA] Strategic Account Lead Bollore Logistics 2021-02-17 https://ae.linkedin.com/jobs/view/strategic-account-lead-at-bollore-logistics-2435166602?refId=fdc7fc67-f4db-416d-8bba-3d1ae8064481&trackingId=MXl2QV7nGKGaCx7Fv%2F2rrQ%3D%3D&position=17&pageNum=10&trk=public_jobs_job-result-card_result-card_full-click\n"
     ]
    },
    {
     "name": "stderr",
     "output_type": "stream",
     "text": [
      "INFO:li:scraper:('[healthcare][United Arab Emirates][257]', 'Processed')\n"
     ]
    },
    {
     "name": "stdout",
     "output_type": "stream",
     "text": [
      "[ON_DATA] Inclusion Teacher Foremarke School - Dubai 2021-03-30 https://ae.linkedin.com/jobs/view/inclusion-teacher-at-foremarke-school-dubai-2488627788?refId=fdc7fc67-f4db-416d-8bba-3d1ae8064481&trackingId=BkMGCPdHvTUMW8MDS6oe1A%3D%3D&position=18&pageNum=10&trk=public_jobs_job-result-card_result-card_full-click\n"
     ]
    },
    {
     "name": "stderr",
     "output_type": "stream",
     "text": [
      "INFO:li:scraper:('[healthcare][United Arab Emirates][258]', 'Processed')\n"
     ]
    },
    {
     "name": "stdout",
     "output_type": "stream",
     "text": [
      "[ON_DATA] Consultant/Specialist Physician (Egypt nationals only) Iqarus 2021-03-31 https://ae.linkedin.com/jobs/view/consultant-specialist-physician-egypt-nationals-only-at-iqarus-2484079559?refId=fdc7fc67-f4db-416d-8bba-3d1ae8064481&trackingId=byYuoZDg8Y1ubll1zfy03Q%3D%3D&position=19&pageNum=10&trk=public_jobs_job-result-card_result-card_full-click\n"
     ]
    },
    {
     "name": "stderr",
     "output_type": "stream",
     "text": [
      "INFO:li:scraper:('[healthcare][United Arab Emirates][259]', 'Processed')\n"
     ]
    },
    {
     "name": "stdout",
     "output_type": "stream",
     "text": [
      "[ON_DATA] Marketing Operations Manager Emirates Group 2021-04-05 https://ae.linkedin.com/jobs/view/marketing-operations-manager-at-emirates-group-2489756148?refId=fdc7fc67-f4db-416d-8bba-3d1ae8064481&trackingId=pSamk%2F9EUoC2NMU3sGienA%3D%3D&position=20&pageNum=10&trk=public_jobs_job-result-card_result-card_full-click\n"
     ]
    },
    {
     "name": "stderr",
     "output_type": "stream",
     "text": [
      "INFO:li:scraper:('[healthcare][United Arab Emirates][260]', 'Processed')\n"
     ]
    },
    {
     "name": "stdout",
     "output_type": "stream",
     "text": [
      "[ON_DATA] Sales Executive - Software (Healthcare Domain) Najma Consultancy 2021-02-22 https://ae.linkedin.com/jobs/view/sales-executive-software-healthcare-domain-at-najma-consultancy-2435163697?refId=fdc7fc67-f4db-416d-8bba-3d1ae8064481&trackingId=zW0f5jr3SH0yYVMYlEftWA%3D%3D&position=21&pageNum=10&trk=public_jobs_job-result-card_result-card_full-click\n"
     ]
    },
    {
     "name": "stderr",
     "output_type": "stream",
     "text": [
      "INFO:li:scraper:('[healthcare][United Arab Emirates][261]', 'Processed')\n"
     ]
    },
    {
     "name": "stdout",
     "output_type": "stream",
     "text": [
      "[ON_DATA] Clinical Accessories Segment Manager General Electric (GE) 2020-12-10 https://ae.linkedin.com/jobs/view/clinical-accessories-segment-manager-at-general-electric-ge-2343552734?refId=fdc7fc67-f4db-416d-8bba-3d1ae8064481&trackingId=ZKQkBtXXD77nxGZjRIiGkw%3D%3D&position=22&pageNum=10&trk=public_jobs_job-result-card_result-card_full-click\n"
     ]
    },
    {
     "name": "stderr",
     "output_type": "stream",
     "text": [
      "INFO:li:scraper:('[healthcare][United Arab Emirates][262]', 'Processed')\n"
     ]
    },
    {
     "name": "stdout",
     "output_type": "stream",
     "text": [
      "[ON_DATA] Healthcare Software Sales Executive Najma Consultancy 2021-01-23 https://ae.linkedin.com/jobs/view/healthcare-software-sales-executive-at-najma-consultancy-2393104671?refId=fdc7fc67-f4db-416d-8bba-3d1ae8064481&trackingId=X77wrbxYpWTKejCQe99MAw%3D%3D&position=23&pageNum=10&trk=public_jobs_job-result-card_result-card_full-click\n"
     ]
    },
    {
     "name": "stderr",
     "output_type": "stream",
     "text": [
      "INFO:li:scraper:('[healthcare][United Arab Emirates][263]', 'Processed')\n",
      "INFO:li:scraper:('[healthcare][United Arab Emirates][263]', 'Checking for new jobs to load...')\n"
     ]
    },
    {
     "name": "stdout",
     "output_type": "stream",
     "text": [
      "[ON_DATA] Business Development Manager Bollore Logistics 2021-02-17 https://ae.linkedin.com/jobs/view/business-development-manager-at-bollore-logistics-2435166587?refId=fdc7fc67-f4db-416d-8bba-3d1ae8064481&trackingId=2LqTb9eiauoFBlwN7pAEBQ%3D%3D&position=24&pageNum=10&trk=public_jobs_job-result-card_result-card_full-click\n"
     ]
    },
    {
     "name": "stderr",
     "output_type": "stream",
     "text": [
      "INFO:li:scraper:('[healthcare][United Arab Emirates][263]', 'Found 288 jobs')\n",
      "INFO:li:scraper:('[healthcare][United Arab Emirates][264]', 'Processed')\n"
     ]
    },
    {
     "name": "stdout",
     "output_type": "stream",
     "text": [
      "[ON_DATA] Governance Analyst Win Win Hr Consultancy 2021-03-19 https://ae.linkedin.com/jobs/view/governance-analyst-at-win-win-hr-consultancy-2489487346?refId=fda09d23-09e6-460d-a51f-4ae01af86817&trackingId=Vf%2BILbI75a55Nljz7wm6tQ%3D%3D&position=1&pageNum=11&trk=public_jobs_job-result-card_result-card_full-click\n"
     ]
    },
    {
     "name": "stderr",
     "output_type": "stream",
     "text": [
      "INFO:li:scraper:('[healthcare][United Arab Emirates][265]', 'Processed')\n"
     ]
    },
    {
     "name": "stdout",
     "output_type": "stream",
     "text": [
      "[ON_DATA] Business Development Manager - Foodservices talabat 2021-03-28 https://ae.linkedin.com/jobs/view/business-development-manager-foodservices-at-talabat-2456687316?refId=fda09d23-09e6-460d-a51f-4ae01af86817&trackingId=%2BaDmSeIqwb6uUugLF87KZw%3D%3D&position=2&pageNum=11&trk=public_jobs_job-result-card_result-card_full-click\n"
     ]
    },
    {
     "name": "stderr",
     "output_type": "stream",
     "text": [
      "INFO:li:scraper:('[healthcare][United Arab Emirates][266]', 'Processed')\n"
     ]
    },
    {
     "name": "stdout",
     "output_type": "stream",
     "text": [
      "[ON_DATA] Business Development Manager - Training - Amazon Web Services Amazon Web Services Mena Fz 2021-03-19 https://ae.linkedin.com/jobs/view/business-development-manager-training-amazon-web-services-at-amazon-web-services-mena-fz-2468545639?refId=fda09d23-09e6-460d-a51f-4ae01af86817&trackingId=LWeX2CocByblb1c4Yq6IXg%3D%3D&position=3&pageNum=11&trk=public_jobs_job-result-card_result-card_full-click\n"
     ]
    },
    {
     "name": "stderr",
     "output_type": "stream",
     "text": [
      "INFO:li:scraper:('[healthcare][United Arab Emirates][267]', 'Processed')\n"
     ]
    },
    {
     "name": "stdout",
     "output_type": "stream",
     "text": [
      "[ON_DATA] Senior Store Assistant - Materials Management Department American Hospital Dubai 2021-03-16 https://ae.linkedin.com/jobs/view/senior-store-assistant-materials-management-department-at-american-hospital-dubai-2440253763?refId=fda09d23-09e6-460d-a51f-4ae01af86817&trackingId=6ftqqQ2wOvnY8gj3v4qWYQ%3D%3D&position=4&pageNum=11&trk=public_jobs_job-result-card_result-card_full-click\n"
     ]
    },
    {
     "name": "stderr",
     "output_type": "stream",
     "text": [
      "INFO:li:scraper:('[healthcare][United Arab Emirates][268]', 'Processed')\n"
     ]
    },
    {
     "name": "stdout",
     "output_type": "stream",
     "text": [
      "[ON_DATA] Assurance and Control Manager Rtc1 Employment Services 2021-03-19 https://ae.linkedin.com/jobs/view/assurance-and-control-manager-at-rtc1-employment-services-2468547179?refId=fda09d23-09e6-460d-a51f-4ae01af86817&trackingId=nLfHmS9vKVZWxugCAKoV%2BQ%3D%3D&position=5&pageNum=11&trk=public_jobs_job-result-card_result-card_full-click\n"
     ]
    },
    {
     "name": "stderr",
     "output_type": "stream",
     "text": [
      "INFO:li:scraper:('[healthcare][United Arab Emirates][269]', 'Processed')\n"
     ]
    },
    {
     "name": "stdout",
     "output_type": "stream",
     "text": [
      "[ON_DATA] Head of Inclusion Repton School, Abu Dhabi - Rose Campus 2021-03-26 https://ae.linkedin.com/jobs/view/head-of-inclusion-at-repton-school-abu-dhabi-rose-campus-2478588301?refId=fda09d23-09e6-460d-a51f-4ae01af86817&trackingId=nY0nHcIUlXkWyXkv3CxJwQ%3D%3D&position=6&pageNum=11&trk=public_jobs_job-result-card_result-card_full-click\n"
     ]
    },
    {
     "name": "stderr",
     "output_type": "stream",
     "text": [
      "INFO:li:scraper:('[healthcare][United Arab Emirates][270]', 'Processed')\n"
     ]
    },
    {
     "name": "stdout",
     "output_type": "stream",
     "text": [
      "[ON_DATA] Graduate Surveyor Cavendish Maxwell 2021-03-19 https://ae.linkedin.com/jobs/view/graduate-surveyor-at-cavendish-maxwell-2468543887?refId=fda09d23-09e6-460d-a51f-4ae01af86817&trackingId=HjkuRWtIpMy50atEL70mJw%3D%3D&position=7&pageNum=11&trk=public_jobs_job-result-card_result-card_full-click\n"
     ]
    },
    {
     "name": "stderr",
     "output_type": "stream",
     "text": [
      "INFO:li:scraper:('[healthcare][United Arab Emirates][271]', 'Processed')\n"
     ]
    },
    {
     "name": "stdout",
     "output_type": "stream",
     "text": [
      "[ON_DATA] School Counsellor Repton School, Abu Dhabi - Fry Campus 2021-03-24 https://ae.linkedin.com/jobs/view/school-counsellor-at-repton-school-abu-dhabi-fry-campus-2489496064?refId=fda09d23-09e6-460d-a51f-4ae01af86817&trackingId=%2FSFEY6hCWM6a75PlTIeJPA%3D%3D&position=8&pageNum=11&trk=public_jobs_job-result-card_result-card_full-click\n"
     ]
    },
    {
     "name": "stderr",
     "output_type": "stream",
     "text": [
      "INFO:li:scraper:('[healthcare][United Arab Emirates][272]', 'Processed')\n"
     ]
    },
    {
     "name": "stdout",
     "output_type": "stream",
     "text": [
      "[ON_DATA] NQ Taylor Root Global Legal Recruitment 2021-03-19 https://ae.linkedin.com/jobs/view/nq-at-taylor-root-global-legal-recruitment-2468547270?refId=fda09d23-09e6-460d-a51f-4ae01af86817&trackingId=3fwx9jr%2Fkntguf06lCMqgQ%3D%3D&position=9&pageNum=11&trk=public_jobs_job-result-card_result-card_full-click\n"
     ]
    },
    {
     "name": "stderr",
     "output_type": "stream",
     "text": [
      "INFO:li:scraper:('[healthcare][United Arab Emirates][273]', 'Processed')\n"
     ]
    },
    {
     "name": "stdout",
     "output_type": "stream",
     "text": [
      "[ON_DATA] Collections Officer Dubai Investments 2021-03-29 https://ae.linkedin.com/jobs/view/collections-officer-at-dubai-investments-2482130995?refId=fda09d23-09e6-460d-a51f-4ae01af86817&trackingId=9Mc%2FJPyuR2fbBiVf4S2KgQ%3D%3D&position=10&pageNum=11&trk=public_jobs_job-result-card_result-card_full-click\n"
     ]
    },
    {
     "name": "stderr",
     "output_type": "stream",
     "text": [
      "INFO:li:scraper:('[healthcare][United Arab Emirates][274]', 'Processed')\n"
     ]
    },
    {
     "name": "stdout",
     "output_type": "stream",
     "text": [
      "[ON_DATA] Marketing Manager Rtc1 Employment Services 2021-03-19 https://ae.linkedin.com/jobs/view/marketing-manager-at-rtc1-employment-services-2489485342?refId=fda09d23-09e6-460d-a51f-4ae01af86817&trackingId=aH2jDhks6kk0i2HJu7tAuA%3D%3D&position=11&pageNum=11&trk=public_jobs_job-result-card_result-card_full-click\n"
     ]
    },
    {
     "name": "stderr",
     "output_type": "stream",
     "text": [
      "INFO:li:scraper:('[healthcare][United Arab Emirates][275]', 'Processed')\n"
     ]
    },
    {
     "name": "stdout",
     "output_type": "stream",
     "text": [
      "[ON_DATA] Sales Representative Delma Medical Center 2020-11-24 https://ae.linkedin.com/jobs/view/sales-representative-at-delma-medical-center-2336048044?refId=fda09d23-09e6-460d-a51f-4ae01af86817&trackingId=425%2FOAkvGZgHn%2FW0CXKc%2BA%3D%3D&position=12&pageNum=11&trk=public_jobs_job-result-card_result-card_full-click\n"
     ]
    },
    {
     "name": "stderr",
     "output_type": "stream",
     "text": [
      "INFO:li:scraper:('[healthcare][United Arab Emirates][276]', 'Processed')\n"
     ]
    },
    {
     "name": "stdout",
     "output_type": "stream",
     "text": [
      "[ON_DATA] Partner Development Manager Microsoft 2021-03-21 https://ae.linkedin.com/jobs/view/partner-development-manager-at-microsoft-2472346335?refId=fda09d23-09e6-460d-a51f-4ae01af86817&trackingId=xTTurn4mhSQG1XcgA4THhQ%3D%3D&position=13&pageNum=11&trk=public_jobs_job-result-card_result-card_full-click\n"
     ]
    },
    {
     "name": "stderr",
     "output_type": "stream",
     "text": [
      "INFO:li:scraper:('[healthcare][United Arab Emirates][277]', 'Processed')\n"
     ]
    },
    {
     "name": "stdout",
     "output_type": "stream",
     "text": [
      "[ON_DATA] Data Scientist GRMC Advisory Services 2021-03-09 https://ae.linkedin.com/jobs/view/data-scientist-at-grmc-advisory-services-2453678948?refId=fda09d23-09e6-460d-a51f-4ae01af86817&trackingId=MfhwEkZ0OnzA3h9Zu57ljg%3D%3D&position=14&pageNum=11&trk=public_jobs_job-result-card_result-card_full-click\n"
     ]
    },
    {
     "name": "stderr",
     "output_type": "stream",
     "text": [
      "INFO:li:scraper:('[healthcare][United Arab Emirates][278]', 'Processed')\n"
     ]
    },
    {
     "name": "stdout",
     "output_type": "stream",
     "text": [
      "[ON_DATA] Recruitment Consultant Middle East Executive 2021-01-20 https://ae.linkedin.com/jobs/view/recruitment-consultant-at-middle-east-executive-2388911176?refId=fda09d23-09e6-460d-a51f-4ae01af86817&trackingId=hJdUgykcreRHQtUS0OpmCw%3D%3D&position=15&pageNum=11&trk=public_jobs_job-result-card_result-card_full-click\n"
     ]
    },
    {
     "name": "stderr",
     "output_type": "stream",
     "text": [
      "INFO:li:scraper:('[healthcare][United Arab Emirates][279]', 'Processed')\n"
     ]
    },
    {
     "name": "stdout",
     "output_type": "stream",
     "text": [
      "[ON_DATA] Assistant Professor Biology Institute of Applied Technology 2021-02-08 https://ae.linkedin.com/jobs/view/assistant-professor-biology-at-institute-of-applied-technology-2448011710?refId=fda09d23-09e6-460d-a51f-4ae01af86817&trackingId=omTzI31Mh7vMdE70IkqxoQ%3D%3D&position=16&pageNum=11&trk=public_jobs_job-result-card_result-card_full-click\n"
     ]
    },
    {
     "name": "stderr",
     "output_type": "stream",
     "text": [
      "INFO:li:scraper:('[healthcare][United Arab Emirates][280]', 'Processed')\n"
     ]
    },
    {
     "name": "stdout",
     "output_type": "stream",
     "text": [
      "[ON_DATA] Graduate Technical Intern Intersystems Corporation 2021-03-26 https://ae.linkedin.com/jobs/view/graduate-technical-intern-at-intersystems-corporation-2478592126?refId=fda09d23-09e6-460d-a51f-4ae01af86817&trackingId=Cw8NIdkdX53mbS0UWgGmQQ%3D%3D&position=17&pageNum=11&trk=public_jobs_job-result-card_result-card_full-click\n"
     ]
    },
    {
     "name": "stderr",
     "output_type": "stream",
     "text": [
      "INFO:li:scraper:('[healthcare][United Arab Emirates][281]', 'Processed')\n"
     ]
    },
    {
     "name": "stdout",
     "output_type": "stream",
     "text": [
      "[ON_DATA] Supply Chain and Commercial Excellence Coordinator Dubai Investments 2021-03-22 https://ae.linkedin.com/jobs/view/supply-chain-and-commercial-excellence-coordinator-at-dubai-investments-2472020979?refId=fda09d23-09e6-460d-a51f-4ae01af86817&trackingId=z9SuUlLrI4TWPEQZTN3I%2BA%3D%3D&position=18&pageNum=11&trk=public_jobs_job-result-card_result-card_full-click\n"
     ]
    },
    {
     "name": "stderr",
     "output_type": "stream",
     "text": [
      "INFO:li:scraper:('[healthcare][United Arab Emirates][282]', 'Processed')\n"
     ]
    },
    {
     "name": "stdout",
     "output_type": "stream",
     "text": [
      "[ON_DATA] Area Sales Manager - Abu Dhabi Practo Technologies 2021-03-19 https://ae.linkedin.com/jobs/view/area-sales-manager-abu-dhabi-at-practo-technologies-2488603819?refId=fda09d23-09e6-460d-a51f-4ae01af86817&trackingId=pBxrcH4V631Hv73eGhTvUA%3D%3D&position=19&pageNum=11&trk=public_jobs_job-result-card_result-card_full-click\n"
     ]
    },
    {
     "name": "stderr",
     "output_type": "stream",
     "text": [
      "INFO:li:scraper:('[healthcare][United Arab Emirates][283]', 'Processed')\n"
     ]
    },
    {
     "name": "stdout",
     "output_type": "stream",
     "text": [
      "[ON_DATA] Graduate Sports and Boarding Assistant Repton School - Dubai 2021-03-24 https://ae.linkedin.com/jobs/view/graduate-sports-and-boarding-assistant-at-repton-school-dubai-2489494999?refId=fda09d23-09e6-460d-a51f-4ae01af86817&trackingId=hv1CYKV2xTS0wVSqik%2BM%2Bg%3D%3D&position=20&pageNum=11&trk=public_jobs_job-result-card_result-card_full-click\n"
     ]
    },
    {
     "name": "stderr",
     "output_type": "stream",
     "text": [
      "INFO:li:scraper:('[healthcare][United Arab Emirates][284]', 'Processed')\n"
     ]
    },
    {
     "name": "stdout",
     "output_type": "stream",
     "text": [
      "[ON_DATA] Assistant Professor/Associate Professor/Full Professor United Arab Emirates University 2021-03-08 https://ae.linkedin.com/jobs/view/assistant-professor-associate-professor-full-professor-at-united-arab-emirates-university-2475222969?refId=fda09d23-09e6-460d-a51f-4ae01af86817&trackingId=9qb1L1%2FJELRi0bsYQhG6XQ%3D%3D&position=21&pageNum=11&trk=public_jobs_job-result-card_result-card_full-click\n"
     ]
    },
    {
     "name": "stderr",
     "output_type": "stream",
     "text": [
      "INFO:li:scraper:('[healthcare][United Arab Emirates][285]', 'Processed')\n"
     ]
    },
    {
     "name": "stdout",
     "output_type": "stream",
     "text": [
      "[ON_DATA] BD Executive Norton Rose Fulbright 2021-03-09 https://ae.linkedin.com/jobs/view/bd-executive-at-norton-rose-fulbright-2473990331?refId=fda09d23-09e6-460d-a51f-4ae01af86817&trackingId=92BgNrN00nlH5r10bSLtng%3D%3D&position=22&pageNum=11&trk=public_jobs_job-result-card_result-card_full-click\n"
     ]
    },
    {
     "name": "stderr",
     "output_type": "stream",
     "text": [
      "INFO:li:scraper:('[healthcare][United Arab Emirates][286]', 'Processed')\n"
     ]
    },
    {
     "name": "stdout",
     "output_type": "stream",
     "text": [
      "[ON_DATA] Enterprise Architect - Healthcare - 1 Year Contract Black Pearl 2021-03-23 https://ae.linkedin.com/jobs/view/enterprise-architect-healthcare-1-year-contract-at-black-pearl-2473212275?refId=fda09d23-09e6-460d-a51f-4ae01af86817&trackingId=2SN0WdYVsHzvJg%2BHIQhdzg%3D%3D&position=23&pageNum=11&trk=public_jobs_job-result-card_result-card_full-click\n"
     ]
    },
    {
     "name": "stderr",
     "output_type": "stream",
     "text": [
      "INFO:li:scraper:('[healthcare][United Arab Emirates][287]', 'Processed')\n"
     ]
    },
    {
     "name": "stdout",
     "output_type": "stream",
     "text": [
      "[ON_DATA] Key Accounts Executive - FMCG Al Mufid Trading 2021-03-23 https://ae.linkedin.com/jobs/view/key-accounts-executive-fmcg-at-al-mufid-trading-2473211307?refId=fda09d23-09e6-460d-a51f-4ae01af86817&trackingId=fepLaWM%2FxQ5wI7GX6dB%2FFQ%3D%3D&position=24&pageNum=11&trk=public_jobs_job-result-card_result-card_full-click\n"
     ]
    },
    {
     "name": "stderr",
     "output_type": "stream",
     "text": [
      "INFO:li:scraper:('[healthcare][United Arab Emirates][288]', 'Processed')\n",
      "INFO:li:scraper:('[healthcare][United Arab Emirates][288]', 'Checking for new jobs to load...')\n"
     ]
    },
    {
     "name": "stdout",
     "output_type": "stream",
     "text": [
      "[ON_DATA] Content Strategy Manager (Technical) Digital14 2021-03-31 https://ae.linkedin.com/jobs/view/content-strategy-manager-technical-at-digital14-2464243128?refId=fda09d23-09e6-460d-a51f-4ae01af86817&trackingId=pQZkN%2BjRYbeo9DFNIsMD4A%3D%3D&position=25&pageNum=11&trk=public_jobs_job-result-card_result-card_full-click\n"
     ]
    },
    {
     "name": "stderr",
     "output_type": "stream",
     "text": [
      "INFO:li:scraper:('[healthcare][United Arab Emirates][288]', 'Found 313 jobs')\n",
      "INFO:li:scraper:('[healthcare][United Arab Emirates][289]', 'Processed')\n"
     ]
    },
    {
     "name": "stdout",
     "output_type": "stream",
     "text": [
      "[ON_DATA] Team Lead, Senior Intelligence Analyst Circinus Llc 2021-03-19 https://ae.linkedin.com/jobs/view/team-lead-senior-intelligence-analyst-at-circinus-llc-2468549006?refId=84dc42b0-9619-44e0-8ecd-bfc7a5083d5d&trackingId=qU6EdqFqEm%2Bjb5n%2BS%2BGf6Q%3D%3D&position=1&pageNum=12&trk=public_jobs_job-result-card_result-card_full-click\n"
     ]
    },
    {
     "name": "stderr",
     "output_type": "stream",
     "text": [
      "INFO:li:scraper:('[healthcare][United Arab Emirates][290]', 'Processed')\n"
     ]
    },
    {
     "name": "stdout",
     "output_type": "stream",
     "text": [
      "[ON_DATA] Content Strategy Manager (Technical) Digital14 2021-04-02 https://ae.linkedin.com/jobs/view/content-strategy-manager-technical-at-digital14-2490443558?refId=84dc42b0-9619-44e0-8ecd-bfc7a5083d5d&trackingId=Ckm6j0mu6RzT%2BpOPvNunYA%3D%3D&position=2&pageNum=12&trk=public_jobs_job-result-card_result-card_full-click\n"
     ]
    },
    {
     "name": "stderr",
     "output_type": "stream",
     "text": [
      "INFO:li:scraper:('[healthcare][United Arab Emirates][291]', 'Processed')\n"
     ]
    },
    {
     "name": "stdout",
     "output_type": "stream",
     "text": [
      "[ON_DATA] Helpdesk Administrator II Talabat 2021-03-22 https://ae.linkedin.com/jobs/view/helpdesk-administrator-ii-at-talabat-2472020107?refId=84dc42b0-9619-44e0-8ecd-bfc7a5083d5d&trackingId=7D4vOEkxe%2Fuhj1guJMP0Vw%3D%3D&position=3&pageNum=12&trk=public_jobs_job-result-card_result-card_full-click\n"
     ]
    },
    {
     "name": "stderr",
     "output_type": "stream",
     "text": [
      "INFO:li:scraper:('[healthcare][United Arab Emirates][292]', 'Processed')\n"
     ]
    },
    {
     "name": "stdout",
     "output_type": "stream",
     "text": [
      "[ON_DATA] Summer Internship 2021 (8 weeks) - Strategy & Performance Improvement, Dubai Alvarez & Marsal 2021-03-22 https://ae.linkedin.com/jobs/view/summer-internship-2021-8-weeks-strategy-performance-improvement-dubai-at-alvarez-marsal-2472019166?refId=84dc42b0-9619-44e0-8ecd-bfc7a5083d5d&trackingId=z4g3ARoVDlx35zD5GocrcQ%3D%3D&position=4&pageNum=12&trk=public_jobs_job-result-card_result-card_full-click\n"
     ]
    },
    {
     "name": "stderr",
     "output_type": "stream",
     "text": [
      "INFO:li:scraper:('[healthcare][United Arab Emirates][293]', 'Processed')\n"
     ]
    },
    {
     "name": "stdout",
     "output_type": "stream",
     "text": [
      "[ON_DATA] Marketing Executive Prime Source 2021-02-11 https://ae.linkedin.com/jobs/view/marketing-executive-at-prime-source-2436826092?refId=84dc42b0-9619-44e0-8ecd-bfc7a5083d5d&trackingId=FzVY5jcxfKwMphMN5gRWzQ%3D%3D&position=5&pageNum=12&trk=public_jobs_job-result-card_result-card_full-click\n"
     ]
    },
    {
     "name": "stderr",
     "output_type": "stream",
     "text": [
      "INFO:li:scraper:('[healthcare][United Arab Emirates][294]', 'Processed')\n"
     ]
    },
    {
     "name": "stdout",
     "output_type": "stream",
     "text": [
      "[ON_DATA] Recruitment Consultant Internship Middle East Executive 2021-01-20 https://ae.linkedin.com/jobs/view/recruitment-consultant-internship-at-middle-east-executive-2388912039?refId=84dc42b0-9619-44e0-8ecd-bfc7a5083d5d&trackingId=lpDtYABgf8YC44BkvT%2BDWw%3D%3D&position=6&pageNum=12&trk=public_jobs_job-result-card_result-card_full-click\n"
     ]
    },
    {
     "name": "stderr",
     "output_type": "stream",
     "text": [
      "INFO:li:scraper:('[healthcare][United Arab Emirates][295]', 'Processed')\n"
     ]
    },
    {
     "name": "stdout",
     "output_type": "stream",
     "text": [
      "[ON_DATA] Emergency Health (Paramedic) Teaching Post for the Fatima College of Health Sciences, UAE INSTITUTE OF APPLIED TECHNOLOGY 2021-04-06 https://ae.linkedin.com/jobs/view/emergency-health-paramedic-teaching-post-for-the-fatima-college-of-health-sciences-uae-at-institute-of-applied-technology-2490557980?refId=84dc42b0-9619-44e0-8ecd-bfc7a5083d5d&trackingId=HDn52%2BqKMPy95%2Fp1tiCRhg%3D%3D&position=7&pageNum=12&trk=public_jobs_job-result-card_result-card_full-click\n"
     ]
    },
    {
     "name": "stderr",
     "output_type": "stream",
     "text": [
      "INFO:li:scraper:('[healthcare][United Arab Emirates][296]', 'Processed')\n"
     ]
    },
    {
     "name": "stdout",
     "output_type": "stream",
     "text": [
      "[ON_DATA] MR Modality Sales Manager Ge Healthcare 2021-04-02 https://ae.linkedin.com/jobs/view/mr-modality-sales-manager-at-ge-healthcare-2490413497?refId=84dc42b0-9619-44e0-8ecd-bfc7a5083d5d&trackingId=3ECOzfFqoiX2Rug2qwLvCg%3D%3D&position=8&pageNum=12&trk=public_jobs_job-result-card_result-card_full-click\n"
     ]
    },
    {
     "name": "stderr",
     "output_type": "stream",
     "text": [
      "INFO:li:scraper:('[healthcare][United Arab Emirates][297]', 'Processed')\n"
     ]
    },
    {
     "name": "stdout",
     "output_type": "stream",
     "text": [
      "[ON_DATA] Instructor, Medical Student Assessment United Arab Emirates University 2021-01-21 https://ae.linkedin.com/jobs/view/instructor-medical-student-assessment-at-united-arab-emirates-university-2424627105?refId=84dc42b0-9619-44e0-8ecd-bfc7a5083d5d&trackingId=feZrAan8xQHoFexMMSmuNw%3D%3D&position=9&pageNum=12&trk=public_jobs_job-result-card_result-card_full-click\n"
     ]
    },
    {
     "name": "stderr",
     "output_type": "stream",
     "text": [
      "INFO:li:scraper:('[healthcare][United Arab Emirates][298]', 'Processed')\n"
     ]
    },
    {
     "name": "stdout",
     "output_type": "stream",
     "text": [
      "[ON_DATA] Conversion Lead - Lower Gulf Region Medtronic 2021-03-11 https://ae.linkedin.com/jobs/view/conversion-lead-lower-gulf-region-at-medtronic-2457256601?refId=84dc42b0-9619-44e0-8ecd-bfc7a5083d5d&trackingId=yNp7G1kBhXbMsPQpiw10kA%3D%3D&position=10&pageNum=12&trk=public_jobs_job-result-card_result-card_full-click\n"
     ]
    },
    {
     "name": "stderr",
     "output_type": "stream",
     "text": [
      "INFO:li:scraper:('[healthcare][United Arab Emirates][299]', 'Processed')\n"
     ]
    },
    {
     "name": "stdout",
     "output_type": "stream",
     "text": [
      "[ON_DATA] Manager – Audit & Investigations Johnson & Johnson Family Of Companies 2021-03-19 https://ae.linkedin.com/jobs/view/manager-%E2%80%93-audit-investigations-at-johnson-johnson-family-of-companies-2468548166?refId=84dc42b0-9619-44e0-8ecd-bfc7a5083d5d&trackingId=fAQt9vjrqyN1A2YF8XubhA%3D%3D&position=11&pageNum=12&trk=public_jobs_job-result-card_result-card_full-click\n"
     ]
    },
    {
     "name": "stderr",
     "output_type": "stream",
     "text": [
      "INFO:li:scraper:('[healthcare][United Arab Emirates][300]', 'Processed')\n"
     ]
    },
    {
     "name": "stdout",
     "output_type": "stream",
     "text": [
      "[ON_DATA] Business Development Lead / Sales Manager eMagine Solutions 2021-03-30 https://ae.linkedin.com/jobs/view/business-development-lead-sales-manager-at-emagine-solutions-2482130989?refId=84dc42b0-9619-44e0-8ecd-bfc7a5083d5d&trackingId=v35XixZWkYhbeQHmI8Vqow%3D%3D&position=12&pageNum=12&trk=public_jobs_job-result-card_result-card_full-click\n"
     ]
    },
    {
     "name": "stderr",
     "output_type": "stream",
     "text": [
      "INFO:li:scraper:('[healthcare][United Arab Emirates][301]', 'Processed')\n"
     ]
    },
    {
     "name": "stdout",
     "output_type": "stream",
     "text": [
      "[ON_DATA] Senior Business Development Manager (Middle East) Norton Rose Fulbright 2021-03-19 https://ae.linkedin.com/jobs/view/senior-business-development-manager-middle-east-at-norton-rose-fulbright-2468547273?refId=84dc42b0-9619-44e0-8ecd-bfc7a5083d5d&trackingId=L23HlmlwyKfUcchOYECZ0w%3D%3D&position=13&pageNum=12&trk=public_jobs_job-result-card_result-card_full-click\n"
     ]
    },
    {
     "name": "stderr",
     "output_type": "stream",
     "text": [
      "INFO:li:scraper:('[healthcare][United Arab Emirates][302]', 'Processed')\n"
     ]
    },
    {
     "name": "stdout",
     "output_type": "stream",
     "text": [
      "[ON_DATA] CSSD Technician I Healthcare I Dubai - UAE Al Futtaim 2021-03-19 https://ae.linkedin.com/jobs/view/cssd-technician-i-healthcare-i-dubai-uae-at-al-futtaim-2468549125?refId=84dc42b0-9619-44e0-8ecd-bfc7a5083d5d&trackingId=4BPBuRTjvDNpLp3LTWEmrA%3D%3D&position=14&pageNum=12&trk=public_jobs_job-result-card_result-card_full-click\n"
     ]
    },
    {
     "name": "stderr",
     "output_type": "stream",
     "text": [
      "INFO:li:scraper:('[healthcare][United Arab Emirates][303]', 'Processed')\n"
     ]
    },
    {
     "name": "stdout",
     "output_type": "stream",
     "text": [
      "[ON_DATA] Medical Officer and Coder Aatush Immigration Consultants 2021-03-12 https://ae.linkedin.com/jobs/view/medical-officer-and-coder-at-aatush-immigration-consultants-2491207010?refId=84dc42b0-9619-44e0-8ecd-bfc7a5083d5d&trackingId=MXBDrRIA9HWfSa%2Bj0cCibQ%3D%3D&position=15&pageNum=12&trk=public_jobs_job-result-card_result-card_full-click\n"
     ]
    },
    {
     "name": "stderr",
     "output_type": "stream",
     "text": [
      "INFO:li:scraper:('[healthcare][United Arab Emirates][304]', 'Processed')\n"
     ]
    },
    {
     "name": "stdout",
     "output_type": "stream",
     "text": [
      "[ON_DATA] Consultant/Specialist Physician (Pakistan nationals only) Iqarus 2021-03-31 https://ae.linkedin.com/jobs/view/consultant-specialist-physician-pakistan-nationals-only-at-iqarus-2484071853?refId=84dc42b0-9619-44e0-8ecd-bfc7a5083d5d&trackingId=i8QwC9CEwwvYjyrcb2uojQ%3D%3D&position=16&pageNum=12&trk=public_jobs_job-result-card_result-card_full-click\n"
     ]
    },
    {
     "name": "stderr",
     "output_type": "stream",
     "text": [
      "INFO:li:scraper:('[healthcare][United Arab Emirates][305]', 'Processed')\n"
     ]
    },
    {
     "name": "stdout",
     "output_type": "stream",
     "text": [
      "[ON_DATA] Head of Pharmacy - UAE National أي جي للتصميم 2021-03-19 https://ae.linkedin.com/jobs/view/head-of-pharmacy-uae-national-at-%D8%A3%D9%8A-%D8%AC%D9%8A-%D9%84%D9%84%D8%AA%D8%B5%D9%85%D9%8A%D9%85-2468542974?refId=84dc42b0-9619-44e0-8ecd-bfc7a5083d5d&trackingId=l2mZMV1LSvU4e%2Fv8lUr32A%3D%3D&position=17&pageNum=12&trk=public_jobs_job-result-card_result-card_full-click\n"
     ]
    },
    {
     "name": "stderr",
     "output_type": "stream",
     "text": [
      "INFO:li:scraper:('[healthcare][United Arab Emirates][306]', 'Processed')\n"
     ]
    },
    {
     "name": "stdout",
     "output_type": "stream",
     "text": [
      "[ON_DATA] Sales Manager Zoya Health & Wellbeing Resort 2021-02-03 https://ae.linkedin.com/jobs/view/sales-manager-at-zoya-health-wellbeing-resort-2425604967?refId=84dc42b0-9619-44e0-8ecd-bfc7a5083d5d&trackingId=IGcU6MUP2F9mQaVMW%2BnSLg%3D%3D&position=18&pageNum=12&trk=public_jobs_job-result-card_result-card_full-click\n"
     ]
    },
    {
     "name": "stderr",
     "output_type": "stream",
     "text": [
      "INFO:li:scraper:('[healthcare][United Arab Emirates][307]', 'Processed')\n"
     ]
    },
    {
     "name": "stdout",
     "output_type": "stream",
     "text": [
      "[ON_DATA] Consultant - Fetal Medicine, Mediclinic Parkview Hospital Mediclinic Middle East 2021-03-12 https://ae.linkedin.com/jobs/view/consultant-fetal-medicine-mediclinic-parkview-hospital-at-mediclinic-middle-east-2444865175?refId=84dc42b0-9619-44e0-8ecd-bfc7a5083d5d&trackingId=mtjBtMUfYoh%2FBIrvUHb22A%3D%3D&position=19&pageNum=12&trk=public_jobs_job-result-card_result-card_full-click\n"
     ]
    },
    {
     "name": "stderr",
     "output_type": "stream",
     "text": [
      "INFO:li:scraper:('[healthcare][United Arab Emirates][308]', 'Processed')\n"
     ]
    },
    {
     "name": "stdout",
     "output_type": "stream",
     "text": [
      "[ON_DATA] Senior Specialist HIE Business / Chief Coordinator Win Win Hr Consultancy 2021-03-19 https://ae.linkedin.com/jobs/view/senior-specialist-hie-business-chief-coordinator-at-win-win-hr-consultancy-2468549026?refId=84dc42b0-9619-44e0-8ecd-bfc7a5083d5d&trackingId=myhSeQcp2XGzwpKM3d%2Bz3w%3D%3D&position=20&pageNum=12&trk=public_jobs_job-result-card_result-card_full-click\n"
     ]
    },
    {
     "name": "stderr",
     "output_type": "stream",
     "text": [
      "INFO:li:scraper:('[healthcare][United Arab Emirates][309]', 'Processed')\n"
     ]
    },
    {
     "name": "stdout",
     "output_type": "stream",
     "text": [
      "[ON_DATA] Technology Consulting Sales Leader IBM 2021-03-29 https://ae.linkedin.com/jobs/view/technology-consulting-sales-leader-at-ibm-2469541560?refId=84dc42b0-9619-44e0-8ecd-bfc7a5083d5d&trackingId=yof22C%2BkWO%2BnkLNHUy3QZw%3D%3D&position=21&pageNum=12&trk=public_jobs_job-result-card_result-card_full-click\n"
     ]
    },
    {
     "name": "stderr",
     "output_type": "stream",
     "text": [
      "INFO:li:scraper:('[healthcare][United Arab Emirates][310]', 'Processed')\n"
     ]
    },
    {
     "name": "stdout",
     "output_type": "stream",
     "text": [
      "[ON_DATA] Data Quality Specialist / HIE Win Win Hr Consultancy 2021-03-19 https://ae.linkedin.com/jobs/view/data-quality-specialist-hie-at-win-win-hr-consultancy-2489497053?refId=84dc42b0-9619-44e0-8ecd-bfc7a5083d5d&trackingId=VaWTwl4uS%2FqTuMNOqGpp6w%3D%3D&position=22&pageNum=12&trk=public_jobs_job-result-card_result-card_full-click\n"
     ]
    },
    {
     "name": "stderr",
     "output_type": "stream",
     "text": [
      "INFO:li:scraper:('[healthcare][United Arab Emirates][311]', 'Processed')\n"
     ]
    },
    {
     "name": "stdout",
     "output_type": "stream",
     "text": [
      "[ON_DATA] Cloud Chief Security Officer Technology Company 2021-03-13 https://ae.linkedin.com/jobs/view/cloud-chief-security-officer-at-technology-company-2459366685?refId=84dc42b0-9619-44e0-8ecd-bfc7a5083d5d&trackingId=WPqnTuJ46SoFUOkIwgeEjQ%3D%3D&position=23&pageNum=12&trk=public_jobs_job-result-card_result-card_full-click\n"
     ]
    },
    {
     "name": "stderr",
     "output_type": "stream",
     "text": [
      "INFO:li:scraper:('[healthcare][United Arab Emirates][312]', 'Processed')\n"
     ]
    },
    {
     "name": "stdout",
     "output_type": "stream",
     "text": [
      "[ON_DATA] Intensivist Reyada Home Health Care Services L.L.C. 2021-03-24 https://ae.linkedin.com/jobs/view/intensivist-at-reyada-home-health-care-services-l-l-c-2488144245?refId=84dc42b0-9619-44e0-8ecd-bfc7a5083d5d&trackingId=3kkNP6DuSF%2BQPA2XAUWn6Q%3D%3D&position=24&pageNum=12&trk=public_jobs_job-result-card_result-card_full-click\n"
     ]
    },
    {
     "name": "stderr",
     "output_type": "stream",
     "text": [
      "INFO:li:scraper:('[healthcare][United Arab Emirates][313]', 'Processed')\n",
      "INFO:li:scraper:('[healthcare][United Arab Emirates][313]', 'Checking for new jobs to load...')\n"
     ]
    },
    {
     "name": "stdout",
     "output_type": "stream",
     "text": [
      "[ON_DATA] Conversion Lead - Lower Gulf Region Medtronic 2021-03-11 https://ae.linkedin.com/jobs/view/conversion-lead-lower-gulf-region-at-medtronic-2457093504?refId=84dc42b0-9619-44e0-8ecd-bfc7a5083d5d&trackingId=0jfqKO3rbIijd6LLLf%2FP2A%3D%3D&position=25&pageNum=12&trk=public_jobs_job-result-card_result-card_full-click\n"
     ]
    },
    {
     "name": "stderr",
     "output_type": "stream",
     "text": [
      "INFO:li:scraper:('[healthcare][United Arab Emirates][313]', 'Found 337 jobs')\n",
      "INFO:li:scraper:('[healthcare][United Arab Emirates][314]', 'Processed')\n"
     ]
    },
    {
     "name": "stdout",
     "output_type": "stream",
     "text": [
      "[ON_DATA] Specialist Orthodontics Sama Alshamkha Medical Center 2020-11-24 https://ae.linkedin.com/jobs/view/specialist-orthodontics-at-sama-alshamkha-medical-center-2320854993?refId=06effd42-5e2f-4bd9-bc83-252771d52030&trackingId=5A3Bt8cWEZPA5VmhVmGVfw%3D%3D&position=1&pageNum=13&trk=public_jobs_job-result-card_result-card_full-click\n"
     ]
    },
    {
     "name": "stderr",
     "output_type": "stream",
     "text": [
      "INFO:li:scraper:('[healthcare][United Arab Emirates][315]', 'Processed')\n"
     ]
    },
    {
     "name": "stdout",
     "output_type": "stream",
     "text": [
      "[ON_DATA] Consultant/Specialist Physician (Egypt nationals only) Iqarus 2021-03-31 https://ae.linkedin.com/jobs/view/consultant-specialist-physician-egypt-nationals-only-at-iqarus-2484091604?refId=06effd42-5e2f-4bd9-bc83-252771d52030&trackingId=9Dm%2BL6QriKHb4PNOJat8kQ%3D%3D&position=2&pageNum=13&trk=public_jobs_job-result-card_result-card_full-click\n"
     ]
    },
    {
     "name": "stderr",
     "output_type": "stream",
     "text": [
      "INFO:li:scraper:('[healthcare][United Arab Emirates][316]', 'Processed')\n"
     ]
    },
    {
     "name": "stdout",
     "output_type": "stream",
     "text": [
      "[ON_DATA] Senior Business Development Manager (Middle East) Norton Rose Fulbright 2021-03-08 https://ae.linkedin.com/jobs/view/senior-business-development-manager-middle-east-at-norton-rose-fulbright-2473991176?refId=06effd42-5e2f-4bd9-bc83-252771d52030&trackingId=R7a2OLSqEFKXH3Tv%2B%2FauGg%3D%3D&position=3&pageNum=13&trk=public_jobs_job-result-card_result-card_full-click\n"
     ]
    },
    {
     "name": "stderr",
     "output_type": "stream",
     "text": [
      "INFO:li:scraper:('[healthcare][United Arab Emirates][317]', 'Processed')\n"
     ]
    },
    {
     "name": "stdout",
     "output_type": "stream",
     "text": [
      "[ON_DATA] OPD Supervisor A Leading Healthcare Entity In The UAE 2021-03-07 https://ae.linkedin.com/jobs/view/opd-supervisor-at-a-leading-healthcare-entity-in-the-uae-2453681634?refId=06effd42-5e2f-4bd9-bc83-252771d52030&trackingId=MUBpm7voBXxdg5AJZzD5vg%3D%3D&position=4&pageNum=13&trk=public_jobs_job-result-card_result-card_full-click\n"
     ]
    },
    {
     "name": "stderr",
     "output_type": "stream",
     "text": [
      "INFO:li:scraper:('[healthcare][United Arab Emirates][318]', 'Processed')\n"
     ]
    },
    {
     "name": "stdout",
     "output_type": "stream",
     "text": [
      "[ON_DATA] Director of Clinical Operations - Abu Dhabi Medacs Healthcare 2021-03-17 https://ae.linkedin.com/jobs/view/director-of-clinical-operations-abu-dhabi-at-medacs-healthcare-2489500728?refId=06effd42-5e2f-4bd9-bc83-252771d52030&trackingId=msg9lhYgFOaMKkmq2zxGQQ%3D%3D&position=5&pageNum=13&trk=public_jobs_job-result-card_result-card_full-click\n"
     ]
    },
    {
     "name": "stderr",
     "output_type": "stream",
     "text": [
      "INFO:li:scraper:('[healthcare][United Arab Emirates][319]', 'Processed')\n"
     ]
    },
    {
     "name": "stdout",
     "output_type": "stream",
     "text": [
      "[ON_DATA] Anesthesia Specialist/Consultant Search Plus Hr 2021-03-24 https://ae.linkedin.com/jobs/view/anesthesia-specialist-consultant-at-search-plus-hr-2485770485?refId=06effd42-5e2f-4bd9-bc83-252771d52030&trackingId=KXHgqzB6FJZEMYc5fQhf4w%3D%3D&position=6&pageNum=13&trk=public_jobs_job-result-card_result-card_full-click\n"
     ]
    },
    {
     "name": "stderr",
     "output_type": "stream",
     "text": [
      "INFO:li:scraper:('[healthcare][United Arab Emirates][320]', 'Processed')\n"
     ]
    },
    {
     "name": "stdout",
     "output_type": "stream",
     "text": [
      "[ON_DATA] Equity Trader Clermont Group 2021-03-18 https://ae.linkedin.com/jobs/view/equity-trader-at-clermont-group-2374944740?refId=06effd42-5e2f-4bd9-bc83-252771d52030&trackingId=WajJUbTUINpueMrMVx0ADQ%3D%3D&position=7&pageNum=13&trk=public_jobs_job-result-card_result-card_full-click\n"
     ]
    },
    {
     "name": "stderr",
     "output_type": "stream",
     "text": [
      "INFO:li:scraper:('[healthcare][United Arab Emirates][321]', 'Processed')\n"
     ]
    },
    {
     "name": "stdout",
     "output_type": "stream",
     "text": [
      "[ON_DATA] HR Admin RTC-1 Employment Services 2021-02-17 https://ae.linkedin.com/jobs/view/hr-admin-at-rtc-1-employment-services-2426814156?refId=06effd42-5e2f-4bd9-bc83-252771d52030&trackingId=tiiAHTmeoAVHBtNXoRXXmA%3D%3D&position=8&pageNum=13&trk=public_jobs_job-result-card_result-card_full-click\n"
     ]
    },
    {
     "name": "stderr",
     "output_type": "stream",
     "text": [
      "INFO:li:scraper:('[healthcare][United Arab Emirates][322]', 'Processed')\n"
     ]
    },
    {
     "name": "stdout",
     "output_type": "stream",
     "text": [
      "[ON_DATA] Application Support Specialist â Billing & RCM Intersystems Corporation 2021-03-15 https://ae.linkedin.com/jobs/view/application-support-specialist-%C3%A2-billing-rcm-at-intersystems-corporation-2487286728?refId=06effd42-5e2f-4bd9-bc83-252771d52030&trackingId=mtq0ukaQ%2F12aQcKnMlkRGQ%3D%3D&position=9&pageNum=13&trk=public_jobs_job-result-card_result-card_full-click\n"
     ]
    },
    {
     "name": "stderr",
     "output_type": "stream",
     "text": [
      "INFO:li:scraper:('[healthcare][United Arab Emirates][323]', 'Processed')\n"
     ]
    },
    {
     "name": "stdout",
     "output_type": "stream",
     "text": [
      "[ON_DATA] Transport Administrator Serco Plc 2021-03-31 https://ae.linkedin.com/jobs/view/transport-administrator-at-serco-plc-2488614523?refId=06effd42-5e2f-4bd9-bc83-252771d52030&trackingId=BTBHVk6C%2FtRkXiw%2BaIQO2Q%3D%3D&position=10&pageNum=13&trk=public_jobs_job-result-card_result-card_full-click\n"
     ]
    },
    {
     "name": "stderr",
     "output_type": "stream",
     "text": [
      "INFO:li:scraper:('[healthcare][United Arab Emirates][324]', 'Processed')\n"
     ]
    },
    {
     "name": "stdout",
     "output_type": "stream",
     "text": [
      "[ON_DATA] Head of Sales & Marketing Zoya Health & Wellbeing Resort 2021-02-25 https://ae.linkedin.com/jobs/view/head-of-sales-marketing-at-zoya-health-wellbeing-resort-2438073729?refId=06effd42-5e2f-4bd9-bc83-252771d52030&trackingId=4d%2FcyQU6INBqYnGF4F2o1Q%3D%3D&position=11&pageNum=13&trk=public_jobs_job-result-card_result-card_full-click\n"
     ]
    },
    {
     "name": "stderr",
     "output_type": "stream",
     "text": [
      "INFO:li:scraper:('[healthcare][United Arab Emirates][325]', 'Processed')\n"
     ]
    },
    {
     "name": "stdout",
     "output_type": "stream",
     "text": [
      "[ON_DATA] Solution Architect Cerner 2021-03-15 https://ae.linkedin.com/jobs/view/solution-architect-at-cerner-2485453005?refId=06effd42-5e2f-4bd9-bc83-252771d52030&trackingId=DE2zeR6SP0YPMAGG7fKU7w%3D%3D&position=12&pageNum=13&trk=public_jobs_job-result-card_result-card_full-click\n"
     ]
    },
    {
     "name": "stderr",
     "output_type": "stream",
     "text": [
      "INFO:li:scraper:('[healthcare][United Arab Emirates][326]', 'Processed')\n"
     ]
    },
    {
     "name": "stdout",
     "output_type": "stream",
     "text": [
      "[ON_DATA] Senior Internal Auditor Fakeeh University Hospital 2021-03-22 https://ae.linkedin.com/jobs/view/senior-internal-auditor-at-fakeeh-university-hospital-2472020150?refId=06effd42-5e2f-4bd9-bc83-252771d52030&trackingId=acoE3NeDHfeSitXDeNKB9A%3D%3D&position=13&pageNum=13&trk=public_jobs_job-result-card_result-card_full-click\n"
     ]
    },
    {
     "name": "stderr",
     "output_type": "stream",
     "text": [
      "INFO:li:scraper:('[healthcare][United Arab Emirates][327]', 'Processed')\n"
     ]
    },
    {
     "name": "stdout",
     "output_type": "stream",
     "text": [
      "[ON_DATA] Quality and Safety Manager / Supervisor Medical Laboratory Technologist Stem Cell / Cellular Therapy Sheikh Shakhbout Medical City (Ssmc) 2021-03-26 https://ae.linkedin.com/jobs/view/quality-and-safety-manager-supervisor-medical-laboratory-technologist-stem-cell-cellular-therapy-at-sheikh-shakhbout-medical-city-ssmc-2487266690?refId=06effd42-5e2f-4bd9-bc83-252771d52030&trackingId=VhZHl6HtiFUb1N0AKj%2FOVA%3D%3D&position=14&pageNum=13&trk=public_jobs_job-result-card_result-card_full-click\n"
     ]
    },
    {
     "name": "stderr",
     "output_type": "stream",
     "text": [
      "INFO:li:scraper:('[healthcare][United Arab Emirates][328]', 'Processed')\n"
     ]
    },
    {
     "name": "stdout",
     "output_type": "stream",
     "text": [
      "[ON_DATA] Events Manager Near East. Based in Lebanon Merck Kgaa 2021-03-20 https://ae.linkedin.com/jobs/view/events-manager-near-east-based-in-lebanon-at-merck-kgaa-2469912937?refId=06effd42-5e2f-4bd9-bc83-252771d52030&trackingId=wWpkF2FNDPbi%2F3lJJC5BIg%3D%3D&position=15&pageNum=13&trk=public_jobs_job-result-card_result-card_full-click\n"
     ]
    },
    {
     "name": "stderr",
     "output_type": "stream",
     "text": [
      "INFO:li:scraper:('[healthcare][United Arab Emirates][329]', 'Processed')\n"
     ]
    },
    {
     "name": "stdout",
     "output_type": "stream",
     "text": [
      "[ON_DATA] Medical Officer and Coder Aatush Immigration Consultants 2021-03-11 https://ae.linkedin.com/jobs/view/medical-officer-and-coder-at-aatush-immigration-consultants-2489794755?refId=06effd42-5e2f-4bd9-bc83-252771d52030&trackingId=Gf4QxSZ0j54Ce1dPK9Hwow%3D%3D&position=16&pageNum=13&trk=public_jobs_job-result-card_result-card_full-click\n"
     ]
    },
    {
     "name": "stderr",
     "output_type": "stream",
     "text": [
      "INFO:li:scraper:('[healthcare][United Arab Emirates][330]', 'Processed')\n"
     ]
    },
    {
     "name": "stdout",
     "output_type": "stream",
     "text": [
      "[ON_DATA] Modality Sales Manager Ge Healthcare 2021-03-30 https://ae.linkedin.com/jobs/view/modality-sales-manager-at-ge-healthcare-2489505577?refId=06effd42-5e2f-4bd9-bc83-252771d52030&trackingId=BsD7WWReDUhyhO95oD%2BlNQ%3D%3D&position=17&pageNum=13&trk=public_jobs_job-result-card_result-card_full-click\n"
     ]
    },
    {
     "name": "stderr",
     "output_type": "stream",
     "text": [
      "INFO:li:scraper:('[healthcare][United Arab Emirates][331]', 'Processed')\n"
     ]
    },
    {
     "name": "stdout",
     "output_type": "stream",
     "text": [
      "[ON_DATA] CAFM Team Leader Serco Plc 2021-03-25 https://ae.linkedin.com/jobs/view/cafm-team-leader-at-serco-plc-2477154473?refId=06effd42-5e2f-4bd9-bc83-252771d52030&trackingId=Vjg5OId5K9ZChR7R2GxtCw%3D%3D&position=18&pageNum=13&trk=public_jobs_job-result-card_result-card_full-click\n"
     ]
    },
    {
     "name": "stderr",
     "output_type": "stream",
     "text": [
      "INFO:li:scraper:('[healthcare][United Arab Emirates][332]', 'Processed')\n"
     ]
    },
    {
     "name": "stdout",
     "output_type": "stream",
     "text": [
      "[ON_DATA] Associate Director - Energy Efficiency Consulting Guidehouse 2021-03-05 https://ae.linkedin.com/jobs/view/associate-director-energy-efficiency-consulting-at-guidehouse-2482461678?refId=06effd42-5e2f-4bd9-bc83-252771d52030&trackingId=SE9TE2izq0QuWV4JloT6yw%3D%3D&position=19&pageNum=13&trk=public_jobs_job-result-card_result-card_full-click\n"
     ]
    },
    {
     "name": "stderr",
     "output_type": "stream",
     "text": [
      "INFO:li:scraper:('[healthcare][United Arab Emirates][333]', 'Processed')\n"
     ]
    },
    {
     "name": "stdout",
     "output_type": "stream",
     "text": [
      "[ON_DATA] Pharmacist - Out-Patient & In-Patient Global Human Capital Group (CHCG) 2021-03-15 https://ae.linkedin.com/jobs/view/pharmacist-out-patient-in-patient-at-global-human-capital-group-chcg-2462755719?refId=06effd42-5e2f-4bd9-bc83-252771d52030&trackingId=0WfnIaNMs9GVqbTz3%2Fw4HA%3D%3D&position=20&pageNum=13&trk=public_jobs_job-result-card_result-card_full-click\n"
     ]
    },
    {
     "name": "stderr",
     "output_type": "stream",
     "text": [
      "INFO:li:scraper:('[healthcare][United Arab Emirates][334]', 'Processed')\n"
     ]
    },
    {
     "name": "stdout",
     "output_type": "stream",
     "text": [
      "[ON_DATA] Assistant Professor/Associate Professor/Full Professor United Arab Emirates University 2021-03-08 https://ae.linkedin.com/jobs/view/assistant-professor-associate-professor-full-professor-at-united-arab-emirates-university-2453233142?refId=06effd42-5e2f-4bd9-bc83-252771d52030&trackingId=xdKSHLht8CgtYDpi64fOJA%3D%3D&position=21&pageNum=13&trk=public_jobs_job-result-card_result-card_full-click\n"
     ]
    },
    {
     "name": "stderr",
     "output_type": "stream",
     "text": [
      "INFO:li:scraper:('[healthcare][United Arab Emirates][335]', 'Processed')\n"
     ]
    },
    {
     "name": "stdout",
     "output_type": "stream",
     "text": [
      "[ON_DATA] Consulting – Health Financing Advisory – Senior Manager/Director (Dubai) PwC Middle East 2021-03-20 https://ae.linkedin.com/jobs/view/consulting-%E2%80%93-health-financing-advisory-%E2%80%93-senior-manager-director-dubai-at-pwc-middle-east-2447207161?refId=06effd42-5e2f-4bd9-bc83-252771d52030&trackingId=fBvfu8hNY5OL2ViVolJKSg%3D%3D&position=22&pageNum=13&trk=public_jobs_job-result-card_result-card_full-click\n"
     ]
    },
    {
     "name": "stderr",
     "output_type": "stream",
     "text": [
      "INFO:li:scraper:('[healthcare][United Arab Emirates][336]', 'Processed')\n"
     ]
    },
    {
     "name": "stdout",
     "output_type": "stream",
     "text": [
      "[ON_DATA] Communications Technician (Fixed Term) Serco 2021-04-06 https://ae.linkedin.com/jobs/view/communications-technician-fixed-term-at-serco-2477291458?refId=06effd42-5e2f-4bd9-bc83-252771d52030&trackingId=QXg1vF8hKytFdF6k3waKLA%3D%3D&position=23&pageNum=13&trk=public_jobs_job-result-card_result-card_full-click\n"
     ]
    },
    {
     "name": "stderr",
     "output_type": "stream",
     "text": [
      "INFO:li:scraper:('[healthcare][United Arab Emirates][337]', 'Processed')\n",
      "INFO:li:scraper:('[healthcare][United Arab Emirates][337]', 'Checking for new jobs to load...')\n"
     ]
    },
    {
     "name": "stdout",
     "output_type": "stream",
     "text": [
      "[ON_DATA] Emergency Medicine Consultant - International Hospital Omni International 2021-03-10 https://ae.linkedin.com/jobs/view/emergency-medicine-consultant-international-hospital-at-omni-international-2456910359?refId=06effd42-5e2f-4bd9-bc83-252771d52030&trackingId=wh7XJfcC8O3I2g8eIwmJ2Q%3D%3D&position=24&pageNum=13&trk=public_jobs_job-result-card_result-card_full-click\n"
     ]
    },
    {
     "name": "stderr",
     "output_type": "stream",
     "text": [
      "INFO:li:scraper:('[healthcare][United Arab Emirates][337]', 'Found 360 jobs')\n",
      "INFO:li:scraper:('[healthcare][United Arab Emirates][338]', 'Processed')\n"
     ]
    },
    {
     "name": "stdout",
     "output_type": "stream",
     "text": [
      "[ON_DATA] METAI Flow Application Manager Beckman Coulter Life Sciences 2021-03-12 https://ae.linkedin.com/jobs/view/metai-flow-application-manager-at-beckman-coulter-life-sciences-2437980230?refId=e840f300-31df-4368-ab27-e5a64225b3fc&trackingId=%2BphcXuZmu4t2sl9yWEz%2Bcw%3D%3D&position=1&pageNum=14&trk=public_jobs_job-result-card_result-card_full-click\n"
     ]
    },
    {
     "name": "stderr",
     "output_type": "stream",
     "text": [
      "INFO:li:scraper:('[healthcare][United Arab Emirates][339]', 'Processed')\n"
     ]
    },
    {
     "name": "stdout",
     "output_type": "stream",
     "text": [
      "[ON_DATA] Instructor, Medical Student Assessment United Arab Emirates University 2020-11-14 https://ae.linkedin.com/jobs/view/instructor-medical-student-assessment-at-united-arab-emirates-university-2310414242?refId=e840f300-31df-4368-ab27-e5a64225b3fc&trackingId=eoEwMSaA%2Bsc0GpJnlL%2Fdyg%3D%3D&position=2&pageNum=14&trk=public_jobs_job-result-card_result-card_full-click\n"
     ]
    },
    {
     "name": "stderr",
     "output_type": "stream",
     "text": [
      "INFO:li:scraper:('[healthcare][United Arab Emirates][340]', 'Processed')\n"
     ]
    },
    {
     "name": "stdout",
     "output_type": "stream",
     "text": [
      "[ON_DATA] Account Director- Automotive Account Digitas 2021-03-25 https://ae.linkedin.com/jobs/view/account-director-automotive-account-at-digitas-2477150840?refId=e840f300-31df-4368-ab27-e5a64225b3fc&trackingId=fnRV8vaVUAST2OsrmyYahg%3D%3D&position=3&pageNum=14&trk=public_jobs_job-result-card_result-card_full-click\n"
     ]
    },
    {
     "name": "stderr",
     "output_type": "stream",
     "text": [
      "INFO:li:scraper:('[healthcare][United Arab Emirates][341]', 'Processed')\n"
     ]
    },
    {
     "name": "stdout",
     "output_type": "stream",
     "text": [
      "[ON_DATA] CRM/SFE Analyst - Central & Eastern Europe, Middle East and Africa Medtronic 2021-03-19 https://ae.linkedin.com/jobs/view/crm-sfe-analyst-central-eastern-europe-middle-east-and-africa-at-medtronic-2489508381?refId=e840f300-31df-4368-ab27-e5a64225b3fc&trackingId=uzpI0RrCreCbjnd3UWQTUA%3D%3D&position=4&pageNum=14&trk=public_jobs_job-result-card_result-card_full-click\n"
     ]
    },
    {
     "name": "stderr",
     "output_type": "stream",
     "text": [
      "INFO:li:scraper:('[healthcare][United Arab Emirates][342]', 'Processed')\n"
     ]
    },
    {
     "name": "stdout",
     "output_type": "stream",
     "text": [
      "[ON_DATA] Global Telemarketing Executive Cigna 2021-03-23 https://ae.linkedin.com/jobs/view/global-telemarketing-executive-at-cigna-2473861769?refId=e840f300-31df-4368-ab27-e5a64225b3fc&trackingId=syiw15nw6x1zrn81t1k5eQ%3D%3D&position=5&pageNum=14&trk=public_jobs_job-result-card_result-card_full-click\n"
     ]
    },
    {
     "name": "stderr",
     "output_type": "stream",
     "text": [
      "INFO:li:scraper:('[healthcare][United Arab Emirates][343]', 'Processed')\n"
     ]
    },
    {
     "name": "stdout",
     "output_type": "stream",
     "text": [
      "[ON_DATA] Electroneurodiagnostic Technologist Nmc Healthcare 2021-04-04 https://ae.linkedin.com/jobs/view/electroneurodiagnostic-technologist-at-nmc-healthcare-2489504998?refId=e840f300-31df-4368-ab27-e5a64225b3fc&trackingId=Ve9E4%2F3ePSuwGndnURQ0nA%3D%3D&position=6&pageNum=14&trk=public_jobs_job-result-card_result-card_full-click\n"
     ]
    },
    {
     "name": "stderr",
     "output_type": "stream",
     "text": [
      "INFO:li:scraper:('[healthcare][United Arab Emirates][344]', 'Processed')\n"
     ]
    },
    {
     "name": "stdout",
     "output_type": "stream",
     "text": [
      "[ON_DATA] Manager HIS Implementation atk tech 2020-10-25 https://ae.linkedin.com/jobs/view/manager-his-implementation-at-atk-tech-2314725361?refId=e840f300-31df-4368-ab27-e5a64225b3fc&trackingId=FugXiIzVt17xCTI4OUlhNA%3D%3D&position=7&pageNum=14&trk=public_jobs_job-result-card_result-card_full-click\n"
     ]
    },
    {
     "name": "stderr",
     "output_type": "stream",
     "text": [
      "INFO:li:scraper:('[healthcare][United Arab Emirates][345]', 'Processed')\n"
     ]
    },
    {
     "name": "stdout",
     "output_type": "stream",
     "text": [
      "[ON_DATA] Specialist Family Medicine Search Plus Hr 2021-03-26 https://ae.linkedin.com/jobs/view/specialist-family-medicine-at-search-plus-hr-2478585639?refId=e840f300-31df-4368-ab27-e5a64225b3fc&trackingId=RS5EJDxe5KfuZ7KVgzIZ9A%3D%3D&position=8&pageNum=14&trk=public_jobs_job-result-card_result-card_full-click\n"
     ]
    },
    {
     "name": "stderr",
     "output_type": "stream",
     "text": [
      "INFO:li:scraper:('[healthcare][United Arab Emirates][346]', 'Processed')\n"
     ]
    },
    {
     "name": "stdout",
     "output_type": "stream",
     "text": [
      "[ON_DATA] Head of Nursery Repton School - Dubai 2021-03-30 https://ae.linkedin.com/jobs/view/head-of-nursery-at-repton-school-dubai-2490411444?refId=e840f300-31df-4368-ab27-e5a64225b3fc&trackingId=NAAEJjlZxFM3A1z2Dj9cQA%3D%3D&position=9&pageNum=14&trk=public_jobs_job-result-card_result-card_full-click\n"
     ]
    },
    {
     "name": "stderr",
     "output_type": "stream",
     "text": [
      "INFO:li:scraper:('[healthcare][United Arab Emirates][347]', 'Processed')\n"
     ]
    },
    {
     "name": "stdout",
     "output_type": "stream",
     "text": [
      "[ON_DATA] Medical Officer and Coder Aatush Immigration Consultants 2021-03-12 https://ae.linkedin.com/jobs/view/medical-officer-and-coder-at-aatush-immigration-consultants-2491200874?refId=e840f300-31df-4368-ab27-e5a64225b3fc&trackingId=vyBg%2BgSkV0VXGZYgV1mBzg%3D%3D&position=10&pageNum=14&trk=public_jobs_job-result-card_result-card_full-click\n"
     ]
    },
    {
     "name": "stderr",
     "output_type": "stream",
     "text": [
      "INFO:li:scraper:('[healthcare][United Arab Emirates][348]', 'Processed')\n"
     ]
    },
    {
     "name": "stdout",
     "output_type": "stream",
     "text": [
      "[ON_DATA] Segment Manager - Monitoring Systems, Emerging Markets General Electric (GE) 2021-01-18 https://ae.linkedin.com/jobs/view/segment-manager-monitoring-systems-emerging-markets-at-general-electric-ge-2385826216?refId=e840f300-31df-4368-ab27-e5a64225b3fc&trackingId=I6Jq2EQYx81PaSrmOs6bBg%3D%3D&position=11&pageNum=14&trk=public_jobs_job-result-card_result-card_full-click\n"
     ]
    },
    {
     "name": "stderr",
     "output_type": "stream",
     "text": [
      "INFO:li:scraper:('[healthcare][United Arab Emirates][349]', 'Processed')\n"
     ]
    },
    {
     "name": "stdout",
     "output_type": "stream",
     "text": [
      "[ON_DATA] Period Director for Medical Education International Hospitals Recruitment Inc. 2020-10-17 https://ae.linkedin.com/jobs/view/period-director-for-medical-education-at-international-hospitals-recruitment-inc-2301742254?refId=e840f300-31df-4368-ab27-e5a64225b3fc&trackingId=46kcwqIQkb1wlVTv2NbB0A%3D%3D&position=12&pageNum=14&trk=public_jobs_job-result-card_result-card_full-click\n"
     ]
    },
    {
     "name": "stderr",
     "output_type": "stream",
     "text": [
      "INFO:li:scraper:('[healthcare][United Arab Emirates][350]', 'Processed')\n"
     ]
    },
    {
     "name": "stdout",
     "output_type": "stream",
     "text": [
      "[ON_DATA] Sales Coordinator Rtc1 Employment Services 2021-03-22 https://ae.linkedin.com/jobs/view/sales-coordinator-at-rtc1-employment-services-2472018333?refId=e840f300-31df-4368-ab27-e5a64225b3fc&trackingId=UY935aLNWHYX8kllBaCl2A%3D%3D&position=13&pageNum=14&trk=public_jobs_job-result-card_result-card_full-click\n"
     ]
    },
    {
     "name": "stderr",
     "output_type": "stream",
     "text": [
      "INFO:li:scraper:('[healthcare][United Arab Emirates][351]', 'Processed')\n"
     ]
    },
    {
     "name": "stdout",
     "output_type": "stream",
     "text": [
      "[ON_DATA] Registry Specialist Win Win Hr Consultancy 2021-03-19 https://ae.linkedin.com/jobs/view/registry-specialist-at-win-win-hr-consultancy-2489471182?refId=e840f300-31df-4368-ab27-e5a64225b3fc&trackingId=3H4Akcx%2B0gAEld2IOeTMkQ%3D%3D&position=14&pageNum=14&trk=public_jobs_job-result-card_result-card_full-click\n"
     ]
    },
    {
     "name": "stderr",
     "output_type": "stream",
     "text": [
      "INFO:li:scraper:('[healthcare][United Arab Emirates][352]', 'Processed')\n"
     ]
    },
    {
     "name": "stdout",
     "output_type": "stream",
     "text": [
      "[ON_DATA] HIE Onboarding Business Analyst IBM Middle East 2020-12-29 https://ae.linkedin.com/jobs/view/hie-onboarding-business-analyst-at-ibm-middle-east-2361373439?refId=e840f300-31df-4368-ab27-e5a64225b3fc&trackingId=IkXN4kXI5l3Xk9SScEAFVA%3D%3D&position=15&pageNum=14&trk=public_jobs_job-result-card_result-card_full-click\n"
     ]
    },
    {
     "name": "stderr",
     "output_type": "stream",
     "text": [
      "INFO:li:scraper:('[healthcare][United Arab Emirates][353]', 'Processed')\n"
     ]
    },
    {
     "name": "stdout",
     "output_type": "stream",
     "text": [
      "[ON_DATA] Technology Consulting Sales Leader Ibm 2021-04-04 https://ae.linkedin.com/jobs/view/technology-consulting-sales-leader-at-ibm-2489498947?refId=e840f300-31df-4368-ab27-e5a64225b3fc&trackingId=tCrCLLZat1APquuQ07rTsQ%3D%3D&position=16&pageNum=14&trk=public_jobs_job-result-card_result-card_full-click\n"
     ]
    },
    {
     "name": "stderr",
     "output_type": "stream",
     "text": [
      "INFO:li:scraper:('[healthcare][United Arab Emirates][354]', 'Processed')\n"
     ]
    },
    {
     "name": "stdout",
     "output_type": "stream",
     "text": [
      "[ON_DATA] CAFM Deputy Manager - Fixed Term Serco Plc 2021-03-26 https://ae.linkedin.com/jobs/view/cafm-deputy-manager-fixed-term-at-serco-plc-2478585598?refId=e840f300-31df-4368-ab27-e5a64225b3fc&trackingId=2y%2FBsq627wY0WyM%2B%2Fkki%2BA%3D%3D&position=17&pageNum=14&trk=public_jobs_job-result-card_result-card_full-click\n"
     ]
    },
    {
     "name": "stderr",
     "output_type": "stream",
     "text": [
      "INFO:li:scraper:('[healthcare][United Arab Emirates][355]', 'Processed')\n"
     ]
    },
    {
     "name": "stdout",
     "output_type": "stream",
     "text": [
      "[ON_DATA] MEP Technician I Healthcare I Dubai- UAE Al-Futtaim 2021-03-29 https://ae.linkedin.com/jobs/view/mep-technician-i-healthcare-i-dubai-uae-at-al-futtaim-2458036182?refId=e840f300-31df-4368-ab27-e5a64225b3fc&trackingId=zGpdpvV%2BwEhZ03NA1toT6Q%3D%3D&position=18&pageNum=14&trk=public_jobs_job-result-card_result-card_full-click\n"
     ]
    },
    {
     "name": "stderr",
     "output_type": "stream",
     "text": [
      "INFO:li:scraper:('[healthcare][United Arab Emirates][356]', 'Processed')\n"
     ]
    },
    {
     "name": "stdout",
     "output_type": "stream",
     "text": [
      "[ON_DATA] QHSE & Security Manager John Crane 2021-03-20 https://ae.linkedin.com/jobs/view/qhse-security-manager-at-john-crane-2469913790?refId=e840f300-31df-4368-ab27-e5a64225b3fc&trackingId=h6v4WY%2BWMBZb3EvWkCH0Xw%3D%3D&position=19&pageNum=14&trk=public_jobs_job-result-card_result-card_full-click\n"
     ]
    },
    {
     "name": "stderr",
     "output_type": "stream",
     "text": [
      "INFO:li:scraper:('[healthcare][United Arab Emirates][357]', 'Processed')\n"
     ]
    },
    {
     "name": "stdout",
     "output_type": "stream",
     "text": [
      "[ON_DATA] Mergers and Acquisitions Executive - Consumer Products & Retail ACCA Careers 2021-03-22 https://ae.linkedin.com/jobs/view/mergers-and-acquisitions-executive-consumer-products-retail-at-acca-careers-2466612165?refId=e840f300-31df-4368-ab27-e5a64225b3fc&trackingId=YtiHHu4ly5%2B7vxfiFINpyg%3D%3D&position=20&pageNum=14&trk=public_jobs_job-result-card_result-card_full-click\n"
     ]
    },
    {
     "name": "stderr",
     "output_type": "stream",
     "text": [
      "INFO:li:scraper:('[healthcare][United Arab Emirates][358]', 'Processed')\n"
     ]
    },
    {
     "name": "stdout",
     "output_type": "stream",
     "text": [
      "[ON_DATA] Digital Building Key Account Manager Schneider Electric 2021-04-05 https://ae.linkedin.com/jobs/view/digital-building-key-account-manager-at-schneider-electric-2467634512?refId=e840f300-31df-4368-ab27-e5a64225b3fc&trackingId=%2BBZYL1cnm%2F9MGap%2B7DR6nQ%3D%3D&position=21&pageNum=14&trk=public_jobs_job-result-card_result-card_full-click\n"
     ]
    },
    {
     "name": "stderr",
     "output_type": "stream",
     "text": [
      "INFO:li:scraper:('[healthcare][United Arab Emirates][359]', 'Processed')\n"
     ]
    },
    {
     "name": "stdout",
     "output_type": "stream",
     "text": [
      "[ON_DATA] Digital Building Key Account Manager Schneider Electric 2021-04-05 https://ae.linkedin.com/jobs/view/digital-building-key-account-manager-at-schneider-electric-2467632720?refId=e840f300-31df-4368-ab27-e5a64225b3fc&trackingId=DtEYch9N14of9dmYC0DH9A%3D%3D&position=22&pageNum=14&trk=public_jobs_job-result-card_result-card_full-click\n"
     ]
    },
    {
     "name": "stderr",
     "output_type": "stream",
     "text": [
      "INFO:li:scraper:('[healthcare][United Arab Emirates][360]', 'Processed')\n",
      "INFO:li:scraper:('[healthcare][United Arab Emirates][360]', 'Checking for new jobs to load...')\n"
     ]
    },
    {
     "name": "stdout",
     "output_type": "stream",
     "text": [
      "[ON_DATA] Specialist Rheumatologist Search Plus Hr 2021-04-03 https://ae.linkedin.com/jobs/view/specialist-rheumatologist-at-search-plus-hr-2488623982?refId=e840f300-31df-4368-ab27-e5a64225b3fc&trackingId=WRjCLDiMGtZUtN3JRFH8Mg%3D%3D&position=23&pageNum=14&trk=public_jobs_job-result-card_result-card_full-click\n"
     ]
    },
    {
     "name": "stderr",
     "output_type": "stream",
     "text": [
      "INFO:li:scraper:('[healthcare][United Arab Emirates][360]', 'Found 383 jobs')\n",
      "INFO:li:scraper:('[healthcare][United Arab Emirates][361]', 'Processed')\n"
     ]
    },
    {
     "name": "stdout",
     "output_type": "stream",
     "text": [
      "[ON_DATA] Senior Scientific Advisor Hematology Bristol Myers Squibb 2021-03-05 https://ae.linkedin.com/jobs/view/senior-scientific-advisor-hematology-at-bristol-myers-squibb-2446997763?refId=86989f19-6f9d-4d27-ab9b-33108be8e59f&trackingId=wwPRp%2FYQxAuPzfShUMIKQg%3D%3D&position=1&pageNum=15&trk=public_jobs_job-result-card_result-card_full-click\n"
     ]
    },
    {
     "name": "stderr",
     "output_type": "stream",
     "text": [
      "INFO:li:scraper:('[healthcare][United Arab Emirates][362]', 'Processed')\n"
     ]
    },
    {
     "name": "stdout",
     "output_type": "stream",
     "text": [
      "[ON_DATA] Rheumatologist Ain Al Khaleej Hospital 2021-02-15 https://ae.linkedin.com/jobs/view/rheumatologist-at-ain-al-khaleej-hospital-2425600071?refId=86989f19-6f9d-4d27-ab9b-33108be8e59f&trackingId=H6hYyilYltfftxZBnn1t%2Fw%3D%3D&position=2&pageNum=15&trk=public_jobs_job-result-card_result-card_full-click\n"
     ]
    },
    {
     "name": "stderr",
     "output_type": "stream",
     "text": [
      "INFO:li:scraper:('[healthcare][United Arab Emirates][363]', 'Processed')\n"
     ]
    },
    {
     "name": "stdout",
     "output_type": "stream",
     "text": [
      "[ON_DATA] Senior Laboratory Technician - Genomics G42 2021-03-09 https://ae.linkedin.com/jobs/view/senior-laboratory-technician-genomics-at-g42-2414661414?refId=86989f19-6f9d-4d27-ab9b-33108be8e59f&trackingId=KyAzXMR1cqeU9VNiQoJm5A%3D%3D&position=3&pageNum=15&trk=public_jobs_job-result-card_result-card_full-click\n"
     ]
    },
    {
     "name": "stderr",
     "output_type": "stream",
     "text": [
      "INFO:li:scraper:('[healthcare][United Arab Emirates][364]', 'Processed')\n"
     ]
    },
    {
     "name": "stdout",
     "output_type": "stream",
     "text": [
      "[ON_DATA] Engineering Manager Talabat 2021-04-01 https://ae.linkedin.com/jobs/view/engineering-manager-at-talabat-2490407084?refId=86989f19-6f9d-4d27-ab9b-33108be8e59f&trackingId=1mU0y%2F3R2NtFUDpK6JnthA%3D%3D&position=4&pageNum=15&trk=public_jobs_job-result-card_result-card_full-click\n"
     ]
    },
    {
     "name": "stderr",
     "output_type": "stream",
     "text": [
      "INFO:li:scraper:('[healthcare][United Arab Emirates][365]', 'Processed')\n"
     ]
    },
    {
     "name": "stdout",
     "output_type": "stream",
     "text": [
      "[ON_DATA] Senior Intelligence Analyst(US citizen) Circinus, LLC 2021-03-14 https://ae.linkedin.com/jobs/view/senior-intelligence-analyst-us-citizen-at-circinus-llc-2356993547?refId=86989f19-6f9d-4d27-ab9b-33108be8e59f&trackingId=WuFmko2eYX993cqWG70CDg%3D%3D&position=5&pageNum=15&trk=public_jobs_job-result-card_result-card_full-click\n"
     ]
    },
    {
     "name": "stderr",
     "output_type": "stream",
     "text": [
      "INFO:li:scraper:('[healthcare][United Arab Emirates][366]', 'Processed')\n"
     ]
    },
    {
     "name": "stdout",
     "output_type": "stream",
     "text": [
      "[ON_DATA] Digital Building Key Account Manager Schneider Electric 2021-04-05 https://ae.linkedin.com/jobs/view/digital-building-key-account-manager-at-schneider-electric-2490427363?refId=86989f19-6f9d-4d27-ab9b-33108be8e59f&trackingId=GAXskD1xizZLJg0sIQGSmA%3D%3D&position=6&pageNum=15&trk=public_jobs_job-result-card_result-card_full-click\n"
     ]
    },
    {
     "name": "stderr",
     "output_type": "stream",
     "text": [
      "INFO:li:scraper:('[healthcare][United Arab Emirates][367]', 'Processed')\n"
     ]
    },
    {
     "name": "stdout",
     "output_type": "stream",
     "text": [
      "[ON_DATA] Head Nurse- Infection Control I Healthcare I Dubai- UAE Al-Futtaim 2021-04-06 https://ae.linkedin.com/jobs/view/head-nurse-infection-control-i-healthcare-i-dubai-uae-at-al-futtaim-2478330554?refId=86989f19-6f9d-4d27-ab9b-33108be8e59f&trackingId=AMzwh4cnStDEkXjBPJXOcA%3D%3D&position=7&pageNum=15&trk=public_jobs_job-result-card_result-card_full-click\n"
     ]
    },
    {
     "name": "stderr",
     "output_type": "stream",
     "text": [
      "INFO:li:scraper:('[healthcare][United Arab Emirates][368]', 'Processed')\n"
     ]
    },
    {
     "name": "stdout",
     "output_type": "stream",
     "text": [
      "[ON_DATA] Solution Architect Cerner Corporation 2021-03-17 https://ae.linkedin.com/jobs/view/solution-architect-at-cerner-corporation-2465295645?refId=86989f19-6f9d-4d27-ab9b-33108be8e59f&trackingId=6XpJnjG69zjzEJCPVDBBNg%3D%3D&position=8&pageNum=15&trk=public_jobs_job-result-card_result-card_full-click\n"
     ]
    },
    {
     "name": "stderr",
     "output_type": "stream",
     "text": [
      "INFO:li:scraper:('[healthcare][United Arab Emirates][369]', 'Processed')\n"
     ]
    },
    {
     "name": "stdout",
     "output_type": "stream",
     "text": [
      "[ON_DATA] Neonatologist ZULEKHA HOSPITAL 2021-04-04 https://ae.linkedin.com/jobs/view/neonatologist-at-zulekha-hospital-2467609424?refId=86989f19-6f9d-4d27-ab9b-33108be8e59f&trackingId=pbUxdad2eE%2BZq6PUcEL7ng%3D%3D&position=9&pageNum=15&trk=public_jobs_job-result-card_result-card_full-click\n"
     ]
    },
    {
     "name": "stderr",
     "output_type": "stream",
     "text": [
      "INFO:li:scraper:('[healthcare][United Arab Emirates][370]', 'Processed')\n"
     ]
    },
    {
     "name": "stdout",
     "output_type": "stream",
     "text": [
      "[ON_DATA] Dental Assistant ( With vocational training experience) Institute of Applied Technology 2021-04-01 https://ae.linkedin.com/jobs/view/dental-assistant-with-vocational-training-experience-at-institute-of-applied-technology-2484455375?refId=86989f19-6f9d-4d27-ab9b-33108be8e59f&trackingId=jMlX7ZBBPRHLsfHQROZq%2Bw%3D%3D&position=10&pageNum=15&trk=public_jobs_job-result-card_result-card_full-click\n"
     ]
    },
    {
     "name": "stderr",
     "output_type": "stream",
     "text": [
      "INFO:li:scraper:('[healthcare][United Arab Emirates][371]', 'Processed')\n"
     ]
    },
    {
     "name": "stdout",
     "output_type": "stream",
     "text": [
      "[ON_DATA] Consultant/Specialist Physician (Jordan nationals only) Iqarus 2021-03-31 https://ae.linkedin.com/jobs/view/consultant-specialist-physician-jordan-nationals-only-at-iqarus-2484087455?refId=86989f19-6f9d-4d27-ab9b-33108be8e59f&trackingId=zQlx7iqhhLOQRAKUNSogNw%3D%3D&position=11&pageNum=15&trk=public_jobs_job-result-card_result-card_full-click\n"
     ]
    },
    {
     "name": "stderr",
     "output_type": "stream",
     "text": [
      "INFO:li:scraper:('[healthcare][United Arab Emirates][372]', 'Processed')\n"
     ]
    },
    {
     "name": "stdout",
     "output_type": "stream",
     "text": [
      "[ON_DATA] HR and Payroll Administrator Gardaworld 2021-04-01 https://ae.linkedin.com/jobs/view/hr-and-payroll-administrator-at-gardaworld-2485760856?refId=86989f19-6f9d-4d27-ab9b-33108be8e59f&trackingId=QrK%2B9kHNGNZF%2BDSoRVU%2BaA%3D%3D&position=12&pageNum=15&trk=public_jobs_job-result-card_result-card_full-click\n"
     ]
    },
    {
     "name": "stderr",
     "output_type": "stream",
     "text": [
      "INFO:li:scraper:('[healthcare][United Arab Emirates][373]', 'Processed')\n"
     ]
    },
    {
     "name": "stdout",
     "output_type": "stream",
     "text": [
      "[ON_DATA] Director of Clinical Operations (Critical Care)- Abu Dhabi Medacs Healthcare 2021-03-17 https://ae.linkedin.com/jobs/view/director-of-clinical-operations-critical-care-abu-dhabi-at-medacs-healthcare-2490429762?refId=86989f19-6f9d-4d27-ab9b-33108be8e59f&trackingId=g25dYearC90PmiYcV33ogA%3D%3D&position=13&pageNum=15&trk=public_jobs_job-result-card_result-card_full-click\n"
     ]
    },
    {
     "name": "stderr",
     "output_type": "stream",
     "text": [
      "INFO:li:scraper:('[healthcare][United Arab Emirates][374]', 'Processed')\n"
     ]
    },
    {
     "name": "stdout",
     "output_type": "stream",
     "text": [
      "[ON_DATA] Enterprise Architect - Infrastructure - Healthcare Black Pearl 2021-03-24 https://ae.linkedin.com/jobs/view/enterprise-architect-infrastructure-healthcare-at-black-pearl-2475225295?refId=86989f19-6f9d-4d27-ab9b-33108be8e59f&trackingId=YAy8qIovTpVuRFde72qbyA%3D%3D&position=14&pageNum=15&trk=public_jobs_job-result-card_result-card_full-click\n"
     ]
    },
    {
     "name": "stderr",
     "output_type": "stream",
     "text": [
      "INFO:li:scraper:('[healthcare][United Arab Emirates][375]', 'Processed')\n"
     ]
    },
    {
     "name": "stdout",
     "output_type": "stream",
     "text": [
      "[ON_DATA] Consultant/Specialist Physician (Indian nationals only) Iqarus 2021-04-01 https://ae.linkedin.com/jobs/view/consultant-specialist-physician-indian-nationals-only-at-iqarus-2485733312?refId=86989f19-6f9d-4d27-ab9b-33108be8e59f&trackingId=c0oyurMP47w5zN4Eepp8Bg%3D%3D&position=15&pageNum=15&trk=public_jobs_job-result-card_result-card_full-click\n"
     ]
    },
    {
     "name": "stderr",
     "output_type": "stream",
     "text": [
      "INFO:li:scraper:('[healthcare][United Arab Emirates][376]', 'Processed')\n"
     ]
    },
    {
     "name": "stdout",
     "output_type": "stream",
     "text": [
      "[ON_DATA] Specialist Rheumatologist SearchPlus HR Dubai 2021-04-02 https://ae.linkedin.com/jobs/view/specialist-rheumatologist-at-searchplus-hr-dubai-2486634955?refId=86989f19-6f9d-4d27-ab9b-33108be8e59f&trackingId=z4yUktf6JIfN5PWOh1sQXw%3D%3D&position=16&pageNum=15&trk=public_jobs_job-result-card_result-card_full-click\n"
     ]
    },
    {
     "name": "stderr",
     "output_type": "stream",
     "text": [
      "INFO:li:scraper:('[healthcare][United Arab Emirates][377]', 'Processed')\n"
     ]
    },
    {
     "name": "stdout",
     "output_type": "stream",
     "text": [
      "[ON_DATA] Specialist - Dermatology Ain Al Khaleej Hospital 2021-02-15 https://ae.linkedin.com/jobs/view/specialist-dermatology-at-ain-al-khaleej-hospital-2425596791?refId=86989f19-6f9d-4d27-ab9b-33108be8e59f&trackingId=weZEUXGSY%2Bf0AF2fnqi7Qg%3D%3D&position=17&pageNum=15&trk=public_jobs_job-result-card_result-card_full-click\n"
     ]
    },
    {
     "name": "stderr",
     "output_type": "stream",
     "text": [
      "INFO:li:scraper:('[healthcare][United Arab Emirates][378]', 'Processed')\n"
     ]
    },
    {
     "name": "stdout",
     "output_type": "stream",
     "text": [
      "[ON_DATA] Anesthesia Specialist Royal Womens Hospital 2021-03-19 https://ae.linkedin.com/jobs/view/anesthesia-specialist-at-royal-womens-hospital-2468545781?refId=86989f19-6f9d-4d27-ab9b-33108be8e59f&trackingId=5Vp5PCCd9K7k3qoZBk0noQ%3D%3D&position=18&pageNum=15&trk=public_jobs_job-result-card_result-card_full-click\n"
     ]
    },
    {
     "name": "stderr",
     "output_type": "stream",
     "text": [
      "INFO:li:scraper:('[healthcare][United Arab Emirates][379]', 'Processed')\n"
     ]
    },
    {
     "name": "stdout",
     "output_type": "stream",
     "text": [
      "[ON_DATA] Head of HR Middle East Executive 2021-03-15 https://ae.linkedin.com/jobs/view/head-of-hr-at-middle-east-executive-2462815933?refId=86989f19-6f9d-4d27-ab9b-33108be8e59f&trackingId=E7YsGLBcZ3ZHq4liybkGnA%3D%3D&position=19&pageNum=15&trk=public_jobs_job-result-card_result-card_full-click\n"
     ]
    },
    {
     "name": "stderr",
     "output_type": "stream",
     "text": [
      "INFO:li:scraper:('[healthcare][United Arab Emirates][380]', 'Processed')\n"
     ]
    },
    {
     "name": "stdout",
     "output_type": "stream",
     "text": [
      "[ON_DATA] Helpdesk Operator - CAFM (Fixed Term) Serco Plc 2021-03-20 https://ae.linkedin.com/jobs/view/helpdesk-operator-cafm-fixed-term-at-serco-plc-2469918092?refId=86989f19-6f9d-4d27-ab9b-33108be8e59f&trackingId=K1%2B48FgKWKrDjI1f79LTPg%3D%3D&position=20&pageNum=15&trk=public_jobs_job-result-card_result-card_full-click\n"
     ]
    },
    {
     "name": "stderr",
     "output_type": "stream",
     "text": [
      "INFO:li:scraper:('[healthcare][United Arab Emirates][381]', 'Processed')\n"
     ]
    },
    {
     "name": "stdout",
     "output_type": "stream",
     "text": [
      "[ON_DATA] Regional Marketing Manager - GCC Julphar 2021-01-22 https://ae.linkedin.com/jobs/view/regional-marketing-manager-gcc-at-julphar-2390085139?refId=86989f19-6f9d-4d27-ab9b-33108be8e59f&trackingId=W6GgAZ%2FQr%2BLVb7n4T4JOpg%3D%3D&position=21&pageNum=15&trk=public_jobs_job-result-card_result-card_full-click\n"
     ]
    },
    {
     "name": "stderr",
     "output_type": "stream",
     "text": [
      "INFO:li:scraper:('[healthcare][United Arab Emirates][382]', 'Processed')\n"
     ]
    },
    {
     "name": "stdout",
     "output_type": "stream",
     "text": [
      "[ON_DATA] QHSE & Security Manager John Crane 2021-03-17 https://ae.linkedin.com/jobs/view/qhse-security-manager-at-john-crane-2454521112?refId=86989f19-6f9d-4d27-ab9b-33108be8e59f&trackingId=UVoohRPW3K8turKEB7vByA%3D%3D&position=22&pageNum=15&trk=public_jobs_job-result-card_result-card_full-click\n"
     ]
    },
    {
     "name": "stderr",
     "output_type": "stream",
     "text": [
      "INFO:li:scraper:('[healthcare][United Arab Emirates][383]', 'Processed')\n",
      "INFO:li:scraper:('[healthcare][United Arab Emirates][383]', 'Checking for new jobs to load...')\n"
     ]
    },
    {
     "name": "stdout",
     "output_type": "stream",
     "text": [
      "[ON_DATA] Enterprise Service Manager - Public Sector UAE Amazon Web Services Mena Fz 2021-03-19 https://ae.linkedin.com/jobs/view/enterprise-service-manager-public-sector-uae-at-amazon-web-services-mena-fz-2489477970?refId=86989f19-6f9d-4d27-ab9b-33108be8e59f&trackingId=4zBHKroJsSao6qxk78khiw%3D%3D&position=23&pageNum=15&trk=public_jobs_job-result-card_result-card_full-click\n"
     ]
    },
    {
     "name": "stderr",
     "output_type": "stream",
     "text": [
      "INFO:li:scraper:('[healthcare][United Arab Emirates][383]', 'Found 408 jobs')\n",
      "INFO:li:scraper:('[healthcare][United Arab Emirates][384]', 'Processed')\n"
     ]
    },
    {
     "name": "stdout",
     "output_type": "stream",
     "text": [
      "[ON_DATA] Consultant/Specialist Physician (Jordan nationals only) Iqarus 2021-03-31 https://ae.linkedin.com/jobs/view/consultant-specialist-physician-jordan-nationals-only-at-iqarus-2484092141?refId=f01742aa-a07f-4093-95d7-577c2dca8240&trackingId=AtUf2cjTT3F%2FdqWLKrQFuw%3D%3D&position=1&pageNum=16&trk=public_jobs_job-result-card_result-card_full-click\n"
     ]
    },
    {
     "name": "stderr",
     "output_type": "stream",
     "text": [
      "INFO:li:scraper:('[healthcare][United Arab Emirates][385]', 'Processed')\n"
     ]
    },
    {
     "name": "stdout",
     "output_type": "stream",
     "text": [
      "[ON_DATA] Home Care Physician - Dubai Axios International 2021-03-19 https://ae.linkedin.com/jobs/view/home-care-physician-dubai-at-axios-international-2485738010?refId=f01742aa-a07f-4093-95d7-577c2dca8240&trackingId=5anuxLaALU3MXQ1j0ZrXMw%3D%3D&position=2&pageNum=16&trk=public_jobs_job-result-card_result-card_full-click\n"
     ]
    },
    {
     "name": "stderr",
     "output_type": "stream",
     "text": [
      "INFO:li:scraper:('[healthcare][United Arab Emirates][386]', 'Processed')\n"
     ]
    },
    {
     "name": "stdout",
     "output_type": "stream",
     "text": [
      "[ON_DATA] Senior Student Career Development Counselor Zayed University 2021-03-19 https://ae.linkedin.com/jobs/view/senior-student-career-development-counselor-at-zayed-university-2468548160?refId=f01742aa-a07f-4093-95d7-577c2dca8240&trackingId=WN5Ch4yjCnKHNgSUigw7DQ%3D%3D&position=3&pageNum=16&trk=public_jobs_job-result-card_result-card_full-click\n"
     ]
    },
    {
     "name": "stderr",
     "output_type": "stream",
     "text": [
      "INFO:li:scraper:('[healthcare][United Arab Emirates][387]', 'Processed')\n"
     ]
    },
    {
     "name": "stdout",
     "output_type": "stream",
     "text": [
      "[ON_DATA] Field Marketing Manager METAI Beckman Coulter Life Sciences 2021-03-12 https://ae.linkedin.com/jobs/view/field-marketing-manager-metai-at-beckman-coulter-life-sciences-2437981201?refId=f01742aa-a07f-4093-95d7-577c2dca8240&trackingId=nNtHq32miKdqmgx4lIIY3g%3D%3D&position=4&pageNum=16&trk=public_jobs_job-result-card_result-card_full-click\n"
     ]
    },
    {
     "name": "stderr",
     "output_type": "stream",
     "text": [
      "INFO:li:scraper:('[healthcare][United Arab Emirates][388]', 'Processed')\n"
     ]
    },
    {
     "name": "stdout",
     "output_type": "stream",
     "text": [
      "[ON_DATA] Senior Sales Product Specialist – Surgical Unit RTC-1 Employment Services 2021-03-21 https://ae.linkedin.com/jobs/view/senior-sales-product-specialist-%E2%80%93-surgical-unit-at-rtc-1-employment-services-2471197390?refId=f01742aa-a07f-4093-95d7-577c2dca8240&trackingId=CjDpeUSs2WWH2p%2FwPktBdQ%3D%3D&position=5&pageNum=16&trk=public_jobs_job-result-card_result-card_full-click\n"
     ]
    },
    {
     "name": "stderr",
     "output_type": "stream",
     "text": [
      "INFO:li:scraper:('[healthcare][United Arab Emirates][389]', 'Processed')\n"
     ]
    },
    {
     "name": "stdout",
     "output_type": "stream",
     "text": [
      "[ON_DATA] Property Consultant Dubai Investments 2021-03-23 https://ae.linkedin.com/jobs/view/property-consultant-at-dubai-investments-2473211117?refId=f01742aa-a07f-4093-95d7-577c2dca8240&trackingId=ftKsZdlnT34eHCJ3%2BiV8Tg%3D%3D&position=6&pageNum=16&trk=public_jobs_job-result-card_result-card_full-click\n"
     ]
    },
    {
     "name": "stderr",
     "output_type": "stream",
     "text": [
      "INFO:li:scraper:('[healthcare][United Arab Emirates][390]', 'Processed')\n"
     ]
    },
    {
     "name": "stdout",
     "output_type": "stream",
     "text": [
      "[ON_DATA] EEG Technician (Sleep Lab Experience) Ain Al Khaleej Hospital 2021-02-15 https://ae.linkedin.com/jobs/view/eeg-technician-sleep-lab-experience-at-ain-al-khaleej-hospital-2425595844?refId=f01742aa-a07f-4093-95d7-577c2dca8240&trackingId=hSuGXen%2FPGYxjoPqZYk1oQ%3D%3D&position=7&pageNum=16&trk=public_jobs_job-result-card_result-card_full-click\n"
     ]
    },
    {
     "name": "stderr",
     "output_type": "stream",
     "text": [
      "INFO:li:scraper:('[healthcare][United Arab Emirates][391]', 'Processed')\n"
     ]
    },
    {
     "name": "stdout",
     "output_type": "stream",
     "text": [
      "[ON_DATA] Ward attender Nmc Specialty Aln 2021-03-19 https://ae.linkedin.com/jobs/view/ward-attender-at-nmc-specialty-aln-2468542929?refId=f01742aa-a07f-4093-95d7-577c2dca8240&trackingId=cLfGDh2aFw%2FVi8VXGLhNPQ%3D%3D&position=8&pageNum=16&trk=public_jobs_job-result-card_result-card_full-click\n"
     ]
    },
    {
     "name": "stderr",
     "output_type": "stream",
     "text": [
      "INFO:li:scraper:('[healthcare][United Arab Emirates][392]', 'Processed')\n"
     ]
    },
    {
     "name": "stdout",
     "output_type": "stream",
     "text": [
      "[ON_DATA] Admin Sales Talabat 2021-04-02 https://ae.linkedin.com/jobs/view/admin-sales-at-talabat-2487283398?refId=f01742aa-a07f-4093-95d7-577c2dca8240&trackingId=AFR%2BVYYiyyVUTbKF%2BIArZA%3D%3D&position=9&pageNum=16&trk=public_jobs_job-result-card_result-card_full-click\n"
     ]
    },
    {
     "name": "stderr",
     "output_type": "stream",
     "text": [
      "INFO:li:scraper:('[healthcare][United Arab Emirates][393]', 'Processed')\n"
     ]
    },
    {
     "name": "stdout",
     "output_type": "stream",
     "text": [
      "[ON_DATA] Agency Recruitment Consultant Michael Page 2021-01-16 https://ae.linkedin.com/jobs/view/agency-recruitment-consultant-at-michael-page-2418563618?refId=f01742aa-a07f-4093-95d7-577c2dca8240&trackingId=Bgu3rkFah2uSUTQJ5chxwg%3D%3D&position=10&pageNum=16&trk=public_jobs_job-result-card_result-card_full-click\n"
     ]
    },
    {
     "name": "stderr",
     "output_type": "stream",
     "text": [
      "INFO:li:scraper:('[healthcare][United Arab Emirates][394]', 'Processed')\n"
     ]
    },
    {
     "name": "stdout",
     "output_type": "stream",
     "text": [
      "[ON_DATA] Executive Assistant/Personal Secretary - CEO Right Calibre Executive Search 2020-11-24 https://ae.linkedin.com/jobs/view/executive-assistant-personal-secretary-ceo-at-right-calibre-executive-search-2320855734?refId=f01742aa-a07f-4093-95d7-577c2dca8240&trackingId=mtpUcCOMm9A56csso6Bx%2FA%3D%3D&position=11&pageNum=16&trk=public_jobs_job-result-card_result-card_full-click\n"
     ]
    },
    {
     "name": "stderr",
     "output_type": "stream",
     "text": [
      "INFO:li:scraper:('[healthcare][United Arab Emirates][395]', 'Processed')\n"
     ]
    },
    {
     "name": "stdout",
     "output_type": "stream",
     "text": [
      "[ON_DATA] Conversion Lead - Lower Gulf Region Medtronic 2021-03-19 https://ae.linkedin.com/jobs/view/conversion-lead-lower-gulf-region-at-medtronic-2468549136?refId=f01742aa-a07f-4093-95d7-577c2dca8240&trackingId=z1NhcEssWKMsIjhVLVCYqA%3D%3D&position=12&pageNum=16&trk=public_jobs_job-result-card_result-card_full-click\n"
     ]
    },
    {
     "name": "stderr",
     "output_type": "stream",
     "text": [
      "INFO:li:scraper:('[healthcare][United Arab Emirates][396]', 'Processed')\n"
     ]
    },
    {
     "name": "stdout",
     "output_type": "stream",
     "text": [
      "[ON_DATA] 2021 Experienced Human Resources Leadership Development Program (E-HRLDP) - Internship Dubai Johnson & Johnson Family Of Companies 2021-03-19 https://ae.linkedin.com/jobs/view/2021-experienced-human-resources-leadership-development-program-e-hrldp-internship-dubai-at-johnson-johnson-family-of-companies-2468546665?refId=f01742aa-a07f-4093-95d7-577c2dca8240&trackingId=%2FGeST2yAgWEOhskYft%2FcZg%3D%3D&position=13&pageNum=16&trk=public_jobs_job-result-card_result-card_full-click\n"
     ]
    },
    {
     "name": "stderr",
     "output_type": "stream",
     "text": [
      "INFO:li:scraper:('[healthcare][United Arab Emirates][397]', 'Processed')\n"
     ]
    },
    {
     "name": "stdout",
     "output_type": "stream",
     "text": [
      "[ON_DATA] Field Business Development Manager - Channel & Alliances - Middle East Confluent 2021-03-19 https://ae.linkedin.com/jobs/view/field-business-development-manager-channel-alliances-middle-east-at-confluent-2485741562?refId=f01742aa-a07f-4093-95d7-577c2dca8240&trackingId=DcY8bkEpf2hz43xFrhdlXg%3D%3D&position=14&pageNum=16&trk=public_jobs_job-result-card_result-card_full-click\n"
     ]
    },
    {
     "name": "stderr",
     "output_type": "stream",
     "text": [
      "INFO:li:scraper:('[healthcare][United Arab Emirates][398]', 'Processed')\n"
     ]
    },
    {
     "name": "stdout",
     "output_type": "stream",
     "text": [
      "[ON_DATA] Solutions Architect - Big Data (Healthcare) 1 Year Contract Black Pearl 2021-03-24 https://ae.linkedin.com/jobs/view/solutions-architect-big-data-healthcare-1-year-contract-at-black-pearl-2475226194?refId=f01742aa-a07f-4093-95d7-577c2dca8240&trackingId=IP%2BgxSrZ%2FoxtW2dfdtr4oA%3D%3D&position=15&pageNum=16&trk=public_jobs_job-result-card_result-card_full-click\n"
     ]
    },
    {
     "name": "stderr",
     "output_type": "stream",
     "text": [
      "INFO:li:scraper:('[healthcare][United Arab Emirates][399]', 'Processed')\n"
     ]
    },
    {
     "name": "stdout",
     "output_type": "stream",
     "text": [
      "[ON_DATA] Nuclear Medicine - Specialist/Consultant Search Plus Hr 2021-03-26 https://ae.linkedin.com/jobs/view/nuclear-medicine-specialist-consultant-at-search-plus-hr-2489493665?refId=f01742aa-a07f-4093-95d7-577c2dca8240&trackingId=5M%2Bpk0VmK3j%2Bpvq7dv0M9Q%3D%3D&position=16&pageNum=16&trk=public_jobs_job-result-card_result-card_full-click\n"
     ]
    },
    {
     "name": "stderr",
     "output_type": "stream",
     "text": [
      "INFO:li:scraper:('[healthcare][United Arab Emirates][400]', 'Processed')\n"
     ]
    },
    {
     "name": "stdout",
     "output_type": "stream",
     "text": [
      "[ON_DATA] Enterprise Service Manager - Public Sector UAE Amazon Web Services (AWS) 2021-04-01 https://ae.linkedin.com/jobs/view/enterprise-service-manager-public-sector-uae-at-amazon-web-services-aws-2473915717?refId=f01742aa-a07f-4093-95d7-577c2dca8240&trackingId=%2FTuCCSXTEm%2FJxh0fv3M7lQ%3D%3D&position=17&pageNum=16&trk=public_jobs_job-result-card_result-card_full-click\n"
     ]
    },
    {
     "name": "stderr",
     "output_type": "stream",
     "text": [
      "INFO:li:scraper:('[healthcare][United Arab Emirates][401]', 'Processed')\n"
     ]
    },
    {
     "name": "stdout",
     "output_type": "stream",
     "text": [
      "[ON_DATA] MEP Team Leader ENGIE Cofely 2020-12-18 https://ae.linkedin.com/jobs/view/mep-team-leader-at-engie-cofely-2378175855?refId=f01742aa-a07f-4093-95d7-577c2dca8240&trackingId=HrfzZge%2F5vZxmyKhyjmL3A%3D%3D&position=18&pageNum=16&trk=public_jobs_job-result-card_result-card_full-click\n"
     ]
    },
    {
     "name": "stderr",
     "output_type": "stream",
     "text": [
      "INFO:li:scraper:('[healthcare][United Arab Emirates][402]', 'Processed')\n"
     ]
    },
    {
     "name": "stdout",
     "output_type": "stream",
     "text": [
      "[ON_DATA] Consultant / Specialist Cardiovascular Surgeon SearchPlus 2020-11-17 https://ae.linkedin.com/jobs/view/consultant-specialist-cardiovascular-surgeon-at-searchplus-2313830525?refId=f01742aa-a07f-4093-95d7-577c2dca8240&trackingId=Ar00%2BfJTkgONMMxtfa9F4w%3D%3D&position=19&pageNum=16&trk=public_jobs_job-result-card_result-card_full-click\n"
     ]
    },
    {
     "name": "stderr",
     "output_type": "stream",
     "text": [
      "INFO:li:scraper:('[healthcare][United Arab Emirates][403]', 'Processed')\n"
     ]
    },
    {
     "name": "stdout",
     "output_type": "stream",
     "text": [
      "[ON_DATA] Program Director - Teaching and Learning (Assignment) International Hospitals Recruitment Inc. 2020-10-17 https://ae.linkedin.com/jobs/view/program-director-teaching-and-learning-assignment-at-international-hospitals-recruitment-inc-2301735897?refId=f01742aa-a07f-4093-95d7-577c2dca8240&trackingId=oiHXJLfXvUsBrAnhJvLmoA%3D%3D&position=20&pageNum=16&trk=public_jobs_job-result-card_result-card_full-click\n"
     ]
    },
    {
     "name": "stderr",
     "output_type": "stream",
     "text": [
      "INFO:li:scraper:('[healthcare][United Arab Emirates][404]', 'Processed')\n"
     ]
    },
    {
     "name": "stdout",
     "output_type": "stream",
     "text": [
      "[ON_DATA] Electroneurodiagnostic Technologist Nmc Healthcare 2021-03-19 https://ae.linkedin.com/jobs/view/electroneurodiagnostic-technologist-at-nmc-healthcare-2485729819?refId=f01742aa-a07f-4093-95d7-577c2dca8240&trackingId=LAiYTuKD3unz%2Fw98POKPow%3D%3D&position=21&pageNum=16&trk=public_jobs_job-result-card_result-card_full-click\n"
     ]
    },
    {
     "name": "stderr",
     "output_type": "stream",
     "text": [
      "INFO:li:scraper:('[healthcare][United Arab Emirates][405]', 'Processed')\n"
     ]
    },
    {
     "name": "stdout",
     "output_type": "stream",
     "text": [
      "[ON_DATA] Senior Store Assistant - Materials Management Department American Hospital Dubai 2021-03-30 https://ae.linkedin.com/jobs/view/senior-store-assistant-materials-management-department-at-american-hospital-dubai-2482549405?refId=f01742aa-a07f-4093-95d7-577c2dca8240&trackingId=0OfTd4CdsGmQ3v0DuZGjgA%3D%3D&position=22&pageNum=16&trk=public_jobs_job-result-card_result-card_full-click\n"
     ]
    },
    {
     "name": "stderr",
     "output_type": "stream",
     "text": [
      "INFO:li:scraper:('[healthcare][United Arab Emirates][406]', 'Processed')\n"
     ]
    },
    {
     "name": "stdout",
     "output_type": "stream",
     "text": [
      "[ON_DATA] Engineering Manager talabat 2021-03-15 https://ae.linkedin.com/jobs/view/engineering-manager-at-talabat-2401649835?refId=f01742aa-a07f-4093-95d7-577c2dca8240&trackingId=9%2FNSSGzKRNK9LpUPL%2FxTMA%3D%3D&position=23&pageNum=16&trk=public_jobs_job-result-card_result-card_full-click\n"
     ]
    },
    {
     "name": "stderr",
     "output_type": "stream",
     "text": [
      "INFO:li:scraper:('[healthcare][United Arab Emirates][407]', 'Processed')\n"
     ]
    },
    {
     "name": "stdout",
     "output_type": "stream",
     "text": [
      "[ON_DATA] Admin Sales talabat 2021-03-24 https://ae.linkedin.com/jobs/view/admin-sales-at-talabat-2450991090?refId=f01742aa-a07f-4093-95d7-577c2dca8240&trackingId=CF7hCs5gQgnSV8D9uq%2F4Zw%3D%3D&position=24&pageNum=16&trk=public_jobs_job-result-card_result-card_full-click\n"
     ]
    },
    {
     "name": "stderr",
     "output_type": "stream",
     "text": [
      "INFO:li:scraper:('[healthcare][United Arab Emirates][408]', 'Processed')\n",
      "INFO:li:scraper:('[healthcare][United Arab Emirates][408]', 'Checking for new jobs to load...')\n"
     ]
    },
    {
     "name": "stdout",
     "output_type": "stream",
     "text": [
      "[ON_DATA] Outstanding Year 1 Teacher Foremarke School - Dubai 2021-03-24 https://ae.linkedin.com/jobs/view/outstanding-year-1-teacher-at-foremarke-school-dubai-2490443186?refId=f01742aa-a07f-4093-95d7-577c2dca8240&trackingId=s%2BY069vnTxx8qdOiIILtXg%3D%3D&position=25&pageNum=16&trk=public_jobs_job-result-card_result-card_full-click\n"
     ]
    },
    {
     "name": "stderr",
     "output_type": "stream",
     "text": [
      "INFO:li:scraper:('[healthcare][United Arab Emirates][408]', 'Found 430 jobs')\n",
      "INFO:li:scraper:('[healthcare][United Arab Emirates][409]', 'Processed')\n"
     ]
    },
    {
     "name": "stdout",
     "output_type": "stream",
     "text": [
      "[ON_DATA] MOH/DHA Patient Support Program Nurse - UAE Axios International 2021-03-19 https://ae.linkedin.com/jobs/view/moh-dha-patient-support-program-nurse-uae-at-axios-international-2468547266?refId=015c6a68-1335-4948-a380-535e0a885003&trackingId=riKHd9ltKMGLiD%2FYGEVVnA%3D%3D&position=1&pageNum=17&trk=public_jobs_job-result-card_result-card_full-click\n"
     ]
    },
    {
     "name": "stderr",
     "output_type": "stream",
     "text": [
      "INFO:li:scraper:('[healthcare][United Arab Emirates][410]', 'Processed')\n"
     ]
    },
    {
     "name": "stdout",
     "output_type": "stream",
     "text": [
      "[ON_DATA] Resident, Surgical Services Fakeeh University Hospital 2021-03-19 https://ae.linkedin.com/jobs/view/resident-surgical-services-at-fakeeh-university-hospital-2468549077?refId=015c6a68-1335-4948-a380-535e0a885003&trackingId=IAMp3urTHC22CXFJNbsHQw%3D%3D&position=2&pageNum=17&trk=public_jobs_job-result-card_result-card_full-click\n"
     ]
    },
    {
     "name": "stderr",
     "output_type": "stream",
     "text": [
      "INFO:li:scraper:('[healthcare][United Arab Emirates][411]', 'Processed')\n"
     ]
    },
    {
     "name": "stdout",
     "output_type": "stream",
     "text": [
      "[ON_DATA] Consultant Urologist Careerlink HR 2021-04-06 https://ae.linkedin.com/jobs/view/consultant-urologist-at-careerlink-hr-2491718957?refId=015c6a68-1335-4948-a380-535e0a885003&trackingId=TyrU6BXvLCtpyIo%2B%2F2NWlA%3D%3D&position=3&pageNum=17&trk=public_jobs_job-result-card_result-card_full-click\n"
     ]
    },
    {
     "name": "stderr",
     "output_type": "stream",
     "text": [
      "INFO:li:scraper:('[healthcare][United Arab Emirates][412]', 'Processed')\n"
     ]
    },
    {
     "name": "stdout",
     "output_type": "stream",
     "text": [
      "[ON_DATA] MEP Team Leader Engie Cofely 2021-03-19 https://ae.linkedin.com/jobs/view/mep-team-leader-at-engie-cofely-2488619920?refId=015c6a68-1335-4948-a380-535e0a885003&trackingId=bRcIPJQTRGWNxqro6g2uRA%3D%3D&position=4&pageNum=17&trk=public_jobs_job-result-card_result-card_full-click\n"
     ]
    },
    {
     "name": "stderr",
     "output_type": "stream",
     "text": [
      "INFO:li:scraper:('[healthcare][United Arab Emirates][413]', 'Processed')\n"
     ]
    },
    {
     "name": "stdout",
     "output_type": "stream",
     "text": [
      "[ON_DATA] Intensivist Reyada Home Health Care Services 2021-04-04 https://ae.linkedin.com/jobs/view/intensivist-at-reyada-home-health-care-services-2489508319?refId=015c6a68-1335-4948-a380-535e0a885003&trackingId=jqUcMoVGodfAzXkjVY19zg%3D%3D&position=5&pageNum=17&trk=public_jobs_job-result-card_result-card_full-click\n"
     ]
    },
    {
     "name": "stderr",
     "output_type": "stream",
     "text": [
      "INFO:li:scraper:('[healthcare][United Arab Emirates][414]', 'Processed')\n"
     ]
    },
    {
     "name": "stdout",
     "output_type": "stream",
     "text": [
      "[ON_DATA] (Senior) Staff Market Quality Specialist Advanced Sterilization Products (ASP) 2021-02-13 https://ae.linkedin.com/jobs/view/senior-staff-market-quality-specialist-at-advanced-sterilization-products-asp-2441610654?refId=015c6a68-1335-4948-a380-535e0a885003&trackingId=mqSZlK5JHICLzgcOiiJ9%2Bw%3D%3D&position=6&pageNum=17&trk=public_jobs_job-result-card_result-card_full-click\n"
     ]
    },
    {
     "name": "stderr",
     "output_type": "stream",
     "text": [
      "INFO:li:scraper:('[healthcare][United Arab Emirates][415]', 'Processed')\n"
     ]
    },
    {
     "name": "stdout",
     "output_type": "stream",
     "text": [
      "[ON_DATA] HIE Workflow Analyst Win Win Hr Consultancy 2021-03-19 https://ae.linkedin.com/jobs/view/hie-workflow-analyst-at-win-win-hr-consultancy-2488621748?refId=015c6a68-1335-4948-a380-535e0a885003&trackingId=MUm8ehWx8LY11s%2Bw0pFTPA%3D%3D&position=7&pageNum=17&trk=public_jobs_job-result-card_result-card_full-click\n"
     ]
    },
    {
     "name": "stderr",
     "output_type": "stream",
     "text": [
      "INFO:li:scraper:('[healthcare][United Arab Emirates][416]', 'Processed')\n"
     ]
    },
    {
     "name": "stdout",
     "output_type": "stream",
     "text": [
      "[ON_DATA] Account Executive - Middle East Scandit 2021-04-01 https://ae.linkedin.com/jobs/view/account-executive-middle-east-at-scandit-2485775045?refId=015c6a68-1335-4948-a380-535e0a885003&trackingId=TAXQ1Nnkbq4rExL7UVT4Qg%3D%3D&position=8&pageNum=17&trk=public_jobs_job-result-card_result-card_full-click\n"
     ]
    },
    {
     "name": "stderr",
     "output_type": "stream",
     "text": [
      "INFO:li:scraper:('[healthcare][United Arab Emirates][417]', 'Processed')\n"
     ]
    },
    {
     "name": "stdout",
     "output_type": "stream",
     "text": [
      "[ON_DATA] Admin Sales talabat 2021-04-01 https://ae.linkedin.com/jobs/view/admin-sales-at-talabat-2465413137?refId=015c6a68-1335-4948-a380-535e0a885003&trackingId=E9k1K4LMcl3DJofHQ2LXBg%3D%3D&position=9&pageNum=17&trk=public_jobs_job-result-card_result-card_full-click\n"
     ]
    },
    {
     "name": "stderr",
     "output_type": "stream",
     "text": [
      "INFO:li:scraper:('[healthcare][United Arab Emirates][418]', 'Processed')\n"
     ]
    },
    {
     "name": "stdout",
     "output_type": "stream",
     "text": [
      "[ON_DATA] AUDIOLOGIST Nmc Healthcare 2021-04-05 https://ae.linkedin.com/jobs/view/audiologist-at-nmc-healthcare-2490413021?refId=015c6a68-1335-4948-a380-535e0a885003&trackingId=8%2BQxakjLeL7vf03VTcrOgw%3D%3D&position=10&pageNum=17&trk=public_jobs_job-result-card_result-card_full-click\n"
     ]
    },
    {
     "name": "stderr",
     "output_type": "stream",
     "text": [
      "INFO:li:scraper:('[healthcare][United Arab Emirates][419]', 'Processed')\n"
     ]
    },
    {
     "name": "stdout",
     "output_type": "stream",
     "text": [
      "[ON_DATA] Manager – Manufacturing IT Julphar 2021-03-30 https://ae.linkedin.com/jobs/view/manager-%E2%80%93-manufacturing-it-at-julphar-2485771533?refId=015c6a68-1335-4948-a380-535e0a885003&trackingId=fbk21cPdYxQbsXu7q53EjA%3D%3D&position=11&pageNum=17&trk=public_jobs_job-result-card_result-card_full-click\n"
     ]
    },
    {
     "name": "stderr",
     "output_type": "stream",
     "text": [
      "INFO:li:scraper:('[healthcare][United Arab Emirates][420]', 'Processed')\n"
     ]
    },
    {
     "name": "stdout",
     "output_type": "stream",
     "text": [
      "[ON_DATA] Technical Sales Engineer ITW Welding Middle East 2021-04-03 https://ae.linkedin.com/jobs/view/technical-sales-engineer-at-itw-welding-middle-east-2475166369?refId=015c6a68-1335-4948-a380-535e0a885003&trackingId=iOGCIRTPBJVJuPurzrZb%2Bw%3D%3D&position=12&pageNum=17&trk=public_jobs_job-result-card_result-card_full-click\n"
     ]
    },
    {
     "name": "stderr",
     "output_type": "stream",
     "text": [
      "INFO:li:scraper:('[healthcare][United Arab Emirates][421]', 'Processed')\n"
     ]
    },
    {
     "name": "stdout",
     "output_type": "stream",
     "text": [
      "[ON_DATA] HR and Payroll Administrator GardaWorld 2021-04-01 https://ae.linkedin.com/jobs/view/hr-and-payroll-administrator-at-gardaworld-2484823698?refId=015c6a68-1335-4948-a380-535e0a885003&trackingId=IFVIB1S5wvGCmrlxVYRXLw%3D%3D&position=13&pageNum=17&trk=public_jobs_job-result-card_result-card_full-click\n"
     ]
    },
    {
     "name": "stderr",
     "output_type": "stream",
     "text": [
      "INFO:li:scraper:('[healthcare][United Arab Emirates][422]', 'Processed')\n"
     ]
    },
    {
     "name": "stdout",
     "output_type": "stream",
     "text": [
      "[ON_DATA] Principal - Turnaround Restructuring NSI & Bluefin Talent 2021-03-23 https://ae.linkedin.com/jobs/view/principal-turnaround-restructuring-at-nsi-bluefin-talent-2473206684?refId=015c6a68-1335-4948-a380-535e0a885003&trackingId=RP3SwkmSeRCE45k2zZOO1g%3D%3D&position=14&pageNum=17&trk=public_jobs_job-result-card_result-card_full-click\n"
     ]
    },
    {
     "name": "stderr",
     "output_type": "stream",
     "text": [
      "INFO:li:scraper:('[healthcare][United Arab Emirates][423]', 'Processed')\n"
     ]
    },
    {
     "name": "stdout",
     "output_type": "stream",
     "text": [
      "[ON_DATA] Senior Instructor Emergence Health Institute of Applied Technology 2021-02-24 https://ae.linkedin.com/jobs/view/senior-instructor-emergence-health-at-institute-of-applied-technology-2448018283?refId=015c6a68-1335-4948-a380-535e0a885003&trackingId=mHkbLf0Pk3JC8Bl4UnrGJg%3D%3D&position=15&pageNum=17&trk=public_jobs_job-result-card_result-card_full-click\n"
     ]
    },
    {
     "name": "stderr",
     "output_type": "stream",
     "text": [
      "INFO:li:scraper:('[healthcare][United Arab Emirates][424]', 'Processed')\n"
     ]
    },
    {
     "name": "stdout",
     "output_type": "stream",
     "text": [
      "[ON_DATA] Solutions Architect - Big Data (Healthcare) - 1 year contract Black Pearl Consult 2021-03-24 https://ae.linkedin.com/jobs/view/solutions-architect-big-data-healthcare-1-year-contract-at-black-pearl-consult-2475231943?refId=015c6a68-1335-4948-a380-535e0a885003&trackingId=tU52ncl4%2BWZ5y4cVhcFjjA%3D%3D&position=16&pageNum=17&trk=public_jobs_job-result-card_result-card_full-click\n"
     ]
    },
    {
     "name": "stderr",
     "output_type": "stream",
     "text": [
      "INFO:li:scraper:('[healthcare][United Arab Emirates][425]', 'Processed')\n"
     ]
    },
    {
     "name": "stdout",
     "output_type": "stream",
     "text": [
      "[ON_DATA] Consultant Neonatologist. Davidson Management Consultants 2021-03-19 https://ae.linkedin.com/jobs/view/consultant-neonatologist-at-davidson-management-consultants-2468542978?refId=015c6a68-1335-4948-a380-535e0a885003&trackingId=JjPWrCt90vcrTuFFztwN9Q%3D%3D&position=17&pageNum=17&trk=public_jobs_job-result-card_result-card_full-click\n"
     ]
    },
    {
     "name": "stderr",
     "output_type": "stream",
     "text": [
      "INFO:li:scraper:('[healthcare][United Arab Emirates][426]', 'Processed')\n"
     ]
    },
    {
     "name": "stdout",
     "output_type": "stream",
     "text": [
      "[ON_DATA] Family Medicine Physician Specialist Search Plus Hr 2021-04-03 https://ae.linkedin.com/jobs/view/family-medicine-physician-specialist-at-search-plus-hr-2488606613?refId=015c6a68-1335-4948-a380-535e0a885003&trackingId=XsithYfMD8um0BoLWS%2BRZA%3D%3D&position=18&pageNum=17&trk=public_jobs_job-result-card_result-card_full-click\n"
     ]
    },
    {
     "name": "stderr",
     "output_type": "stream",
     "text": [
      "INFO:li:scraper:('[healthcare][United Arab Emirates][427]', 'Processed')\n"
     ]
    },
    {
     "name": "stdout",
     "output_type": "stream",
     "text": [
      "[ON_DATA] NGS Molecular Biology Technologist Prime Source 2021-02-11 https://ae.linkedin.com/jobs/view/ngs-molecular-biology-technologist-at-prime-source-2436836457?refId=015c6a68-1335-4948-a380-535e0a885003&trackingId=XCA8C8NTwf250AQGA%2F%2B73A%3D%3D&position=19&pageNum=17&trk=public_jobs_job-result-card_result-card_full-click\n"
     ]
    },
    {
     "name": "stderr",
     "output_type": "stream",
     "text": [
      "INFO:li:scraper:('[healthcare][United Arab Emirates][428]', 'Processed')\n"
     ]
    },
    {
     "name": "stdout",
     "output_type": "stream",
     "text": [
      "[ON_DATA] Assistant Finance Manager Dubai Investments 2021-03-19 https://ae.linkedin.com/jobs/view/assistant-finance-manager-at-dubai-investments-2489490764?refId=015c6a68-1335-4948-a380-535e0a885003&trackingId=3o%2BRuBLn37RhDqFJfm1KdQ%3D%3D&position=20&pageNum=17&trk=public_jobs_job-result-card_result-card_full-click\n"
     ]
    },
    {
     "name": "stderr",
     "output_type": "stream",
     "text": [
      "INFO:li:scraper:('[healthcare][United Arab Emirates][429]', 'Processed')\n"
     ]
    },
    {
     "name": "stdout",
     "output_type": "stream",
     "text": [
      "[ON_DATA] General Practitioner Global Human Capital Group (CHCG) 2021-03-15 https://ae.linkedin.com/jobs/view/general-practitioner-at-global-human-capital-group-chcg-2462760175?refId=015c6a68-1335-4948-a380-535e0a885003&trackingId=jRGXHc5XqL6YZx8g11dQmw%3D%3D&position=21&pageNum=17&trk=public_jobs_job-result-card_result-card_full-click\n"
     ]
    },
    {
     "name": "stderr",
     "output_type": "stream",
     "text": [
      "INFO:li:scraper:('[healthcare][United Arab Emirates][430]', 'Processed')\n",
      "INFO:li:scraper:('[healthcare][United Arab Emirates][430]', 'Checking for new jobs to load...')\n"
     ]
    },
    {
     "name": "stdout",
     "output_type": "stream",
     "text": [
      "[ON_DATA] Specialist Urogynecologist in DHA Search Plus Hr 2021-03-22 https://ae.linkedin.com/jobs/view/specialist-urogynecologist-in-dha-at-search-plus-hr-2472020106?refId=015c6a68-1335-4948-a380-535e0a885003&trackingId=GMMPiQfMq4r%2BBIX17%2FlYNg%3D%3D&position=22&pageNum=17&trk=public_jobs_job-result-card_result-card_full-click\n"
     ]
    },
    {
     "name": "stderr",
     "output_type": "stream",
     "text": [
      "INFO:li:scraper:('[healthcare][United Arab Emirates][430]', 'Found 453 jobs')\n",
      "INFO:li:scraper:('[healthcare][United Arab Emirates][431]', 'Processed')\n"
     ]
    },
    {
     "name": "stdout",
     "output_type": "stream",
     "text": [
      "[ON_DATA] Senior Engineering Manager Talabat 2021-04-01 https://ae.linkedin.com/jobs/view/senior-engineering-manager-at-talabat-2485767687?refId=89a09d22-9e1a-48b3-9e8e-14ecb45f589b&trackingId=uITMuz53TUOZERZjXCC7Dw%3D%3D&position=1&pageNum=18&trk=public_jobs_job-result-card_result-card_full-click\n"
     ]
    },
    {
     "name": "stderr",
     "output_type": "stream",
     "text": [
      "INFO:li:scraper:('[healthcare][United Arab Emirates][432]', 'Processed')\n"
     ]
    },
    {
     "name": "stdout",
     "output_type": "stream",
     "text": [
      "[ON_DATA] Director-Transaction Services KPMG Lower Gulf 2021-03-02 https://ae.linkedin.com/jobs/view/director-transaction-services-at-kpmg-lower-gulf-2429997058?refId=89a09d22-9e1a-48b3-9e8e-14ecb45f589b&trackingId=cDLdDcSDL7wg%2FGONjFCMug%3D%3D&position=2&pageNum=18&trk=public_jobs_job-result-card_result-card_full-click\n"
     ]
    },
    {
     "name": "stderr",
     "output_type": "stream",
     "text": [
      "INFO:li:scraper:('[healthcare][United Arab Emirates][433]', 'Processed')\n"
     ]
    },
    {
     "name": "stdout",
     "output_type": "stream",
     "text": [
      "[ON_DATA] Marketing Manager RTC-1 Employment Services 2020-12-15 https://ae.linkedin.com/jobs/view/marketing-manager-at-rtc-1-employment-services-2345516330?refId=89a09d22-9e1a-48b3-9e8e-14ecb45f589b&trackingId=593JA8vjMm5bT6OIiF7H5A%3D%3D&position=3&pageNum=18&trk=public_jobs_job-result-card_result-card_full-click\n"
     ]
    },
    {
     "name": "stderr",
     "output_type": "stream",
     "text": [
      "INFO:li:scraper:('[healthcare][United Arab Emirates][434]', 'Processed')\n"
     ]
    },
    {
     "name": "stdout",
     "output_type": "stream",
     "text": [
      "[ON_DATA] Communications Technician (Fixed Term) Serco Plc 2021-03-22 https://ae.linkedin.com/jobs/view/communications-technician-fixed-term-at-serco-plc-2492236175?refId=89a09d22-9e1a-48b3-9e8e-14ecb45f589b&trackingId=KJEa3Ec1uwM1QFxQ57K8ng%3D%3D&position=4&pageNum=18&trk=public_jobs_job-result-card_result-card_full-click\n"
     ]
    },
    {
     "name": "stderr",
     "output_type": "stream",
     "text": [
      "INFO:li:scraper:('[healthcare][United Arab Emirates][435]', 'Processed')\n"
     ]
    },
    {
     "name": "stdout",
     "output_type": "stream",
     "text": [
      "[ON_DATA] Specialist Gastroenterologist (HAAD / Passer) Davidson Management Consultants 2021-03-19 https://ae.linkedin.com/jobs/view/specialist-gastroenterologist-haad-passer-at-davidson-management-consultants-2468546757?refId=89a09d22-9e1a-48b3-9e8e-14ecb45f589b&trackingId=EOdq4OG1mf4VHPmpP1zepw%3D%3D&position=5&pageNum=18&trk=public_jobs_job-result-card_result-card_full-click\n"
     ]
    },
    {
     "name": "stderr",
     "output_type": "stream",
     "text": [
      "INFO:li:scraper:('[healthcare][United Arab Emirates][436]', 'Processed')\n"
     ]
    },
    {
     "name": "stdout",
     "output_type": "stream",
     "text": [
      "[ON_DATA] PHLEBOTOMIST Nmc Healthcare 2021-04-02 https://ae.linkedin.com/jobs/view/phlebotomist-at-nmc-healthcare-2487273445?refId=89a09d22-9e1a-48b3-9e8e-14ecb45f589b&trackingId=UBApBGkuQ5n2CT1TdkivjQ%3D%3D&position=6&pageNum=18&trk=public_jobs_job-result-card_result-card_full-click\n"
     ]
    },
    {
     "name": "stderr",
     "output_type": "stream",
     "text": [
      "INFO:li:scraper:('[healthcare][United Arab Emirates][437]', 'Processed')\n"
     ]
    },
    {
     "name": "stdout",
     "output_type": "stream",
     "text": [
      "[ON_DATA] Private Physiotherapist (female) - Europe & Dubai Medacs Healthcare 2021-03-22 https://ae.linkedin.com/jobs/view/private-physiotherapist-female-europe-dubai-at-medacs-healthcare-2487287970?refId=89a09d22-9e1a-48b3-9e8e-14ecb45f589b&trackingId=0SmC6PDqI8IBuKmuzZ6z0w%3D%3D&position=7&pageNum=18&trk=public_jobs_job-result-card_result-card_full-click\n"
     ]
    },
    {
     "name": "stderr",
     "output_type": "stream",
     "text": [
      "INFO:li:scraper:('[healthcare][United Arab Emirates][438]', 'Processed')\n"
     ]
    },
    {
     "name": "stdout",
     "output_type": "stream",
     "text": [
      "[ON_DATA] Nurse Manager - Corporate I Healthcare I Dubai- UAE Al-Futtaim 2021-03-29 https://ae.linkedin.com/jobs/view/nurse-manager-corporate-i-healthcare-i-dubai-uae-at-al-futtaim-2458036179?refId=89a09d22-9e1a-48b3-9e8e-14ecb45f589b&trackingId=1s5CtqUUwyrCIWDg6Qr%2F3Q%3D%3D&position=8&pageNum=18&trk=public_jobs_job-result-card_result-card_full-click\n"
     ]
    },
    {
     "name": "stderr",
     "output_type": "stream",
     "text": [
      "INFO:li:scraper:('[healthcare][United Arab Emirates][439]', 'Processed')\n"
     ]
    },
    {
     "name": "stdout",
     "output_type": "stream",
     "text": [
      "[ON_DATA] Recruitment Researcher (Internship) - Finance and Accounting Michael Page 2021-03-05 https://ae.linkedin.com/jobs/view/recruitment-researcher-internship-finance-and-accounting-at-michael-page-2448338230?refId=89a09d22-9e1a-48b3-9e8e-14ecb45f589b&trackingId=WInJXyXTfO73QaOgL4Fumg%3D%3D&position=9&pageNum=18&trk=public_jobs_job-result-card_result-card_full-click\n"
     ]
    },
    {
     "name": "stderr",
     "output_type": "stream",
     "text": [
      "INFO:li:scraper:('[healthcare][United Arab Emirates][440]', 'Processed')\n"
     ]
    },
    {
     "name": "stdout",
     "output_type": "stream",
     "text": [
      "[ON_DATA] Pharmacist / Pharmaceutical Sales Representative Property Shop Investment 2021-03-27 https://ae.linkedin.com/jobs/view/pharmacist-pharmaceutical-sales-representative-at-property-shop-investment-2479887698?refId=89a09d22-9e1a-48b3-9e8e-14ecb45f589b&trackingId=Lp8UIvw%2BfiVbPvzC%2FbRd8w%3D%3D&position=10&pageNum=18&trk=public_jobs_job-result-card_result-card_full-click\n"
     ]
    },
    {
     "name": "stderr",
     "output_type": "stream",
     "text": [
      "INFO:li:scraper:('[healthcare][United Arab Emirates][441]', 'Processed')\n"
     ]
    },
    {
     "name": "stdout",
     "output_type": "stream",
     "text": [
      "[ON_DATA] Specialist / Consultant - Medical Oncologist Search Plus Hr 2021-04-03 https://ae.linkedin.com/jobs/view/specialist-consultant-medical-oncologist-at-search-plus-hr-2488618772?refId=89a09d22-9e1a-48b3-9e8e-14ecb45f589b&trackingId=w8aYpFH67K8SpO1hdESwdA%3D%3D&position=11&pageNum=18&trk=public_jobs_job-result-card_result-card_full-click\n"
     ]
    },
    {
     "name": "stderr",
     "output_type": "stream",
     "text": [
      "INFO:li:scraper:('[healthcare][United Arab Emirates][442]', 'Processed')\n"
     ]
    },
    {
     "name": "stdout",
     "output_type": "stream",
     "text": [
      "[ON_DATA] Assistant Outlet Manager - F&B Meraas Holding 2021-03-17 https://ae.linkedin.com/jobs/view/assistant-outlet-manager-f-b-at-meraas-holding-2465296424?refId=89a09d22-9e1a-48b3-9e8e-14ecb45f589b&trackingId=41g%2FpeyhHkhXHxU3Cje7sQ%3D%3D&position=12&pageNum=18&trk=public_jobs_job-result-card_result-card_full-click\n"
     ]
    },
    {
     "name": "stderr",
     "output_type": "stream",
     "text": [
      "INFO:li:scraper:('[healthcare][United Arab Emirates][443]', 'Processed')\n"
     ]
    },
    {
     "name": "stdout",
     "output_type": "stream",
     "text": [
      "[ON_DATA] Admin Sales Talabat 2021-03-25 https://ae.linkedin.com/jobs/view/admin-sales-at-talabat-2477154458?refId=89a09d22-9e1a-48b3-9e8e-14ecb45f589b&trackingId=IAN6bXkWka2PI9xPIxK%2Bpw%3D%3D&position=13&pageNum=18&trk=public_jobs_job-result-card_result-card_full-click\n"
     ]
    },
    {
     "name": "stderr",
     "output_type": "stream",
     "text": [
      "INFO:li:scraper:('[healthcare][United Arab Emirates][444]', 'Processed')\n"
     ]
    },
    {
     "name": "stdout",
     "output_type": "stream",
     "text": [
      "[ON_DATA] Radiographer Ain Al Khaleej Hospital 2021-02-15 https://ae.linkedin.com/jobs/view/radiographer-at-ain-al-khaleej-hospital-2425596797?refId=89a09d22-9e1a-48b3-9e8e-14ecb45f589b&trackingId=Eaxm6LKn8sOOqfm8C93SaQ%3D%3D&position=14&pageNum=18&trk=public_jobs_job-result-card_result-card_full-click\n"
     ]
    },
    {
     "name": "stderr",
     "output_type": "stream",
     "text": [
      "INFO:li:scraper:('[healthcare][United Arab Emirates][445]', 'Processed')\n"
     ]
    },
    {
     "name": "stdout",
     "output_type": "stream",
     "text": [
      "[ON_DATA] Production Supervisor Julphar 2021-04-01 https://ae.linkedin.com/jobs/view/production-supervisor-at-julphar-2485776012?refId=89a09d22-9e1a-48b3-9e8e-14ecb45f589b&trackingId=bs1TNBBOkk9MUxFvXs%2B9PQ%3D%3D&position=15&pageNum=18&trk=public_jobs_job-result-card_result-card_full-click\n"
     ]
    },
    {
     "name": "stderr",
     "output_type": "stream",
     "text": [
      "INFO:li:scraper:('[healthcare][United Arab Emirates][446]', 'Processed')\n"
     ]
    },
    {
     "name": "stdout",
     "output_type": "stream",
     "text": [
      "[ON_DATA] Digital Marketing Manager (Clinics) Middle East Executive 2021-03-18 https://ae.linkedin.com/jobs/view/digital-marketing-manager-clinics-at-middle-east-executive-2490405953?refId=89a09d22-9e1a-48b3-9e8e-14ecb45f589b&trackingId=%2BW4bFqFvTj%2FSanTpO%2BBzCw%3D%3D&position=16&pageNum=18&trk=public_jobs_job-result-card_result-card_full-click\n"
     ]
    },
    {
     "name": "stderr",
     "output_type": "stream",
     "text": [
      "INFO:li:scraper:('[healthcare][United Arab Emirates][447]', 'Processed')\n"
     ]
    },
    {
     "name": "stdout",
     "output_type": "stream",
     "text": [
      "[ON_DATA] Family Medicine Physician Specialist SearchPlus HR Dubai 2021-04-02 https://ae.linkedin.com/jobs/view/family-medicine-physician-specialist-at-searchplus-hr-dubai-2486637544?refId=89a09d22-9e1a-48b3-9e8e-14ecb45f589b&trackingId=tgv%2BGKqQNEuYWCTrec3yvQ%3D%3D&position=17&pageNum=18&trk=public_jobs_job-result-card_result-card_full-click\n"
     ]
    },
    {
     "name": "stderr",
     "output_type": "stream",
     "text": [
      "INFO:li:scraper:('[healthcare][United Arab Emirates][448]', 'Processed')\n"
     ]
    },
    {
     "name": "stdout",
     "output_type": "stream",
     "text": [
      "[ON_DATA] General Practitioner - DHA Licensed First Response Healthcare 2021-04-04 https://ae.linkedin.com/jobs/view/general-practitioner-dha-licensed-at-first-response-healthcare-2467600931?refId=89a09d22-9e1a-48b3-9e8e-14ecb45f589b&trackingId=A2F1VhR7l%2Fn7woZ0O2xhxA%3D%3D&position=18&pageNum=18&trk=public_jobs_job-result-card_result-card_full-click\n"
     ]
    },
    {
     "name": "stderr",
     "output_type": "stream",
     "text": [
      "INFO:li:scraper:('[healthcare][United Arab Emirates][449]', 'Processed')\n"
     ]
    },
    {
     "name": "stdout",
     "output_type": "stream",
     "text": [
      "[ON_DATA] Merchandiser Al Mufid Trading 2021-03-14 https://ae.linkedin.com/jobs/view/merchandiser-at-al-mufid-trading-2461430478?refId=89a09d22-9e1a-48b3-9e8e-14ecb45f589b&trackingId=wIRXnPReYxKnU8U2F62LEw%3D%3D&position=19&pageNum=18&trk=public_jobs_job-result-card_result-card_full-click\n"
     ]
    },
    {
     "name": "stderr",
     "output_type": "stream",
     "text": [
      "INFO:li:scraper:('[healthcare][United Arab Emirates][450]', 'Processed')\n"
     ]
    },
    {
     "name": "stdout",
     "output_type": "stream",
     "text": [
      "[ON_DATA] Specialist /Consultant - Medical Oncologist Search Plus Hr 2021-04-04 https://ae.linkedin.com/jobs/view/specialist-consultant-medical-oncologist-at-search-plus-hr-2489507188?refId=89a09d22-9e1a-48b3-9e8e-14ecb45f589b&trackingId=n%2BQ8siAbLvgZLlvQmgdStg%3D%3D&position=20&pageNum=18&trk=public_jobs_job-result-card_result-card_full-click\n"
     ]
    },
    {
     "name": "stderr",
     "output_type": "stream",
     "text": [
      "INFO:li:scraper:('[healthcare][United Arab Emirates][451]', 'Processed')\n"
     ]
    },
    {
     "name": "stdout",
     "output_type": "stream",
     "text": [
      "[ON_DATA] SOC Manager IBM Middle East 2021-01-19 https://ae.linkedin.com/jobs/view/soc-manager-at-ibm-middle-east-2387128521?refId=89a09d22-9e1a-48b3-9e8e-14ecb45f589b&trackingId=FdxvVKYIIl0FoB%2FsamnGBw%3D%3D&position=21&pageNum=18&trk=public_jobs_job-result-card_result-card_full-click\n"
     ]
    },
    {
     "name": "stderr",
     "output_type": "stream",
     "text": [
      "INFO:li:scraper:('[healthcare][United Arab Emirates][452]', 'Processed')\n"
     ]
    },
    {
     "name": "stdout",
     "output_type": "stream",
     "text": [
      "[ON_DATA] Specialist /Consultant - Medical Oncologist SearchPlus HR Dubai 2021-04-01 https://ae.linkedin.com/jobs/view/specialist-consultant-medical-oncologist-at-searchplus-hr-dubai-2484941323?refId=89a09d22-9e1a-48b3-9e8e-14ecb45f589b&trackingId=u9894WUw1%2FdVCXoGwlu7mg%3D%3D&position=22&pageNum=18&trk=public_jobs_job-result-card_result-card_full-click\n"
     ]
    },
    {
     "name": "stderr",
     "output_type": "stream",
     "text": [
      "INFO:li:scraper:('[healthcare][United Arab Emirates][453]', 'Processed')\n",
      "INFO:li:scraper:('[healthcare][United Arab Emirates][453]', 'Checking for new jobs to load...')\n"
     ]
    },
    {
     "name": "stdout",
     "output_type": "stream",
     "text": [
      "[ON_DATA] Quality and Safety Manager / Supervisor Medical Laboratory Technologist Stem Cell / Cellular Therapy International Hospitals Recruitment Inc. 2021-03-26 https://ae.linkedin.com/jobs/view/quality-and-safety-manager-supervisor-medical-laboratory-technologist-stem-cell-cellular-therapy-at-international-hospitals-recruitment-inc-2477859266?refId=89a09d22-9e1a-48b3-9e8e-14ecb45f589b&trackingId=kcrHzTVcH9swOj4ZqF36iA%3D%3D&position=23&pageNum=18&trk=public_jobs_job-result-card_result-card_full-click\n"
     ]
    },
    {
     "name": "stderr",
     "output_type": "stream",
     "text": [
      "INFO:li:scraper:('[healthcare][United Arab Emirates][453]', 'Found 477 jobs')\n",
      "INFO:li:scraper:('[healthcare][United Arab Emirates][454]', 'Processed')\n"
     ]
    },
    {
     "name": "stdout",
     "output_type": "stream",
     "text": [
      "[ON_DATA] Field Business Development Manager - Channel & Alliances - Middle East Confluent 2021-03-24 https://ae.linkedin.com/jobs/view/field-business-development-manager-channel-alliances-middle-east-at-confluent-2377846301?refId=e6e87a68-6b8b-4dc5-8aeb-ce7cb002a03b&trackingId=WrhlP0xDpAdz4KvQiVvdcw%3D%3D&position=1&pageNum=19&trk=public_jobs_job-result-card_result-card_full-click\n"
     ]
    },
    {
     "name": "stderr",
     "output_type": "stream",
     "text": [
      "INFO:li:scraper:('[healthcare][United Arab Emirates][455]', 'Processed')\n"
     ]
    },
    {
     "name": "stdout",
     "output_type": "stream",
     "text": [
      "[ON_DATA] Specialist - Microsoft Dynamics NAV (Techno-functional) Shalina Healthcare 2021-03-25 https://ae.linkedin.com/jobs/view/specialist-microsoft-dynamics-nav-techno-functional-at-shalina-healthcare-2454800121?refId=e6e87a68-6b8b-4dc5-8aeb-ce7cb002a03b&trackingId=xaGS9Iej6P%2F9WEk89hlyiQ%3D%3D&position=2&pageNum=19&trk=public_jobs_job-result-card_result-card_full-click\n"
     ]
    },
    {
     "name": "stderr",
     "output_type": "stream",
     "text": [
      "INFO:li:scraper:('[healthcare][United Arab Emirates][456]', 'Processed')\n"
     ]
    },
    {
     "name": "stdout",
     "output_type": "stream",
     "text": [
      "[ON_DATA] Paediatrician Prime Source 2021-02-11 https://ae.linkedin.com/jobs/view/paediatrician-at-prime-source-2436827375?refId=e6e87a68-6b8b-4dc5-8aeb-ce7cb002a03b&trackingId=d38ma0ko0DaVXsNLN5qpcQ%3D%3D&position=3&pageNum=19&trk=public_jobs_job-result-card_result-card_full-click\n"
     ]
    },
    {
     "name": "stderr",
     "output_type": "stream",
     "text": [
      "INFO:li:scraper:('[healthcare][United Arab Emirates][457]', 'Processed')\n"
     ]
    },
    {
     "name": "stdout",
     "output_type": "stream",
     "text": [
      "[ON_DATA] Digital Marketing Executive (Clinics) Middle East Executive 2021-03-19 https://ae.linkedin.com/jobs/view/digital-marketing-executive-clinics-at-middle-east-executive-2468545649?refId=e6e87a68-6b8b-4dc5-8aeb-ce7cb002a03b&trackingId=X%2FZ5qSpxiobTEXfbSXas%2FA%3D%3D&position=4&pageNum=19&trk=public_jobs_job-result-card_result-card_full-click\n"
     ]
    },
    {
     "name": "stderr",
     "output_type": "stream",
     "text": [
      "INFO:li:scraper:('[healthcare][United Arab Emirates][458]', 'Processed')\n"
     ]
    },
    {
     "name": "stdout",
     "output_type": "stream",
     "text": [
      "[ON_DATA] Incident Response Analyst IBM Middle East 2021-02-20 https://ae.linkedin.com/jobs/view/incident-response-analyst-at-ibm-middle-east-2434415748?refId=e6e87a68-6b8b-4dc5-8aeb-ce7cb002a03b&trackingId=ouVS9guj4rn1ABL8RrY9Xw%3D%3D&position=5&pageNum=19&trk=public_jobs_job-result-card_result-card_full-click\n"
     ]
    },
    {
     "name": "stderr",
     "output_type": "stream",
     "text": [
      "INFO:li:scraper:('[healthcare][United Arab Emirates][459]', 'Processed')\n"
     ]
    },
    {
     "name": "stdout",
     "output_type": "stream",
     "text": [
      "[ON_DATA] MD Distribution Center DELIVER Q&C Head (Fixed Term Contract) Johnson & Johnson Family Of Companies 2021-04-01 https://ae.linkedin.com/jobs/view/md-distribution-center-deliver-q-c-head-fixed-term-contract-at-johnson-johnson-family-of-companies-2485773741?refId=e6e87a68-6b8b-4dc5-8aeb-ce7cb002a03b&trackingId=Vvu4ZA88BvvbK0F0rnq%2F7w%3D%3D&position=6&pageNum=19&trk=public_jobs_job-result-card_result-card_full-click\n"
     ]
    },
    {
     "name": "stderr",
     "output_type": "stream",
     "text": [
      "INFO:li:scraper:('[healthcare][United Arab Emirates][460]', 'Processed')\n"
     ]
    },
    {
     "name": "stdout",
     "output_type": "stream",
     "text": [
      "[ON_DATA] Emergency Health (Paramedic) Teaching Post for the Fatima College of Health Sciences, UAE Institute of Applied Technology 2021-03-17 https://ae.linkedin.com/jobs/view/emergency-health-paramedic-teaching-post-for-the-fatima-college-of-health-sciences-uae-at-institute-of-applied-technology-2477811160?refId=e6e87a68-6b8b-4dc5-8aeb-ce7cb002a03b&trackingId=XlNeT4KbdUpzc3a%2FHnfP2A%3D%3D&position=7&pageNum=19&trk=public_jobs_job-result-card_result-card_full-click\n"
     ]
    },
    {
     "name": "stderr",
     "output_type": "stream",
     "text": [
      "INFO:li:scraper:('[healthcare][United Arab Emirates][461]', 'Processed')\n"
     ]
    },
    {
     "name": "stdout",
     "output_type": "stream",
     "text": [
      "[ON_DATA] Neonatologist Specialist Davidson Management Consultants 2021-03-19 https://ae.linkedin.com/jobs/view/neonatologist-specialist-at-davidson-management-consultants-2468547253?refId=e6e87a68-6b8b-4dc5-8aeb-ce7cb002a03b&trackingId=pL4XEj%2FccEPI32x6LJ3CJg%3D%3D&position=8&pageNum=19&trk=public_jobs_job-result-card_result-card_full-click\n"
     ]
    },
    {
     "name": "stderr",
     "output_type": "stream",
     "text": [
      "INFO:li:scraper:('[healthcare][United Arab Emirates][462]', 'Processed')\n"
     ]
    },
    {
     "name": "stdout",
     "output_type": "stream",
     "text": [
      "[ON_DATA] Sales Engineer Plum Jobs 2021-03-28 https://ae.linkedin.com/jobs/view/sales-engineer-at-plum-jobs-2480567165?refId=e6e87a68-6b8b-4dc5-8aeb-ce7cb002a03b&trackingId=LKhIv0pxxS4BZb5VsmaY4w%3D%3D&position=9&pageNum=19&trk=public_jobs_job-result-card_result-card_full-click\n"
     ]
    },
    {
     "name": "stderr",
     "output_type": "stream",
     "text": [
      "INFO:li:scraper:('[healthcare][United Arab Emirates][463]', 'Processed')\n"
     ]
    },
    {
     "name": "stdout",
     "output_type": "stream",
     "text": [
      "[ON_DATA] MD Distribution Center DELIVER Q&C Head (Fixed Term Contract)  Johnson & Johnson 2021-03-31 https://ae.linkedin.com/jobs/view/md-distribution-center-deliver-q-c-head-fixed-term-contract-at-johnson-johnson-2464245208?refId=e6e87a68-6b8b-4dc5-8aeb-ce7cb002a03b&trackingId=Pm91ORyD6WR3Weg2yJIbVA%3D%3D&position=10&pageNum=19&trk=public_jobs_job-result-card_result-card_full-click\n"
     ]
    },
    {
     "name": "stderr",
     "output_type": "stream",
     "text": [
      "INFO:li:scraper:('[healthcare][United Arab Emirates][464]', 'Processed')\n"
     ]
    },
    {
     "name": "stdout",
     "output_type": "stream",
     "text": [
      "[ON_DATA] Social Media Executive/Coordinator RTC-1 Employment Services 2021-01-21 https://ae.linkedin.com/jobs/view/social-media-executive-coordinator-at-rtc-1-employment-services-2424626467?refId=e6e87a68-6b8b-4dc5-8aeb-ce7cb002a03b&trackingId=uAZRUD0iucHiKLa%2BzMa03w%3D%3D&position=11&pageNum=19&trk=public_jobs_job-result-card_result-card_full-click\n"
     ]
    },
    {
     "name": "stderr",
     "output_type": "stream",
     "text": [
      "INFO:li:scraper:('[healthcare][United Arab Emirates][465]', 'Processed')\n"
     ]
    },
    {
     "name": "stdout",
     "output_type": "stream",
     "text": [
      "[ON_DATA] Digital Media Executive Davidson Management Consultants 2021-03-19 https://ae.linkedin.com/jobs/view/digital-media-executive-at-davidson-management-consultants-2468546754?refId=e6e87a68-6b8b-4dc5-8aeb-ce7cb002a03b&trackingId=IN8pUKGh5XD6mcwKoONwWA%3D%3D&position=12&pageNum=19&trk=public_jobs_job-result-card_result-card_full-click\n"
     ]
    },
    {
     "name": "stderr",
     "output_type": "stream",
     "text": [
      "INFO:li:scraper:('[healthcare][United Arab Emirates][466]', 'Processed')\n"
     ]
    },
    {
     "name": "stdout",
     "output_type": "stream",
     "text": [
      "[ON_DATA] Specialist / Consultant Prosthodontist SearchPlus 2020-11-17 https://ae.linkedin.com/jobs/view/specialist-consultant-prosthodontist-at-searchplus-2313832261?refId=e6e87a68-6b8b-4dc5-8aeb-ce7cb002a03b&trackingId=6C8jM3m%2BvqQPuqXK7AmfZA%3D%3D&position=13&pageNum=19&trk=public_jobs_job-result-card_result-card_full-click\n"
     ]
    },
    {
     "name": "stderr",
     "output_type": "stream",
     "text": [
      "INFO:li:scraper:('[healthcare][United Arab Emirates][467]', 'Processed')\n"
     ]
    },
    {
     "name": "stdout",
     "output_type": "stream",
     "text": [
      "[ON_DATA] E-Commerce and Mobile Manager (Sales) Emirates Group 2021-04-05 https://ae.linkedin.com/jobs/view/e-commerce-and-mobile-manager-sales-at-emirates-group-2489710995?refId=e6e87a68-6b8b-4dc5-8aeb-ce7cb002a03b&trackingId=klT8%2Fs4a4t2zy0vrxX%2BdbA%3D%3D&position=14&pageNum=19&trk=public_jobs_job-result-card_result-card_full-click\n"
     ]
    },
    {
     "name": "stderr",
     "output_type": "stream",
     "text": [
      "INFO:li:scraper:('[healthcare][United Arab Emirates][468]', 'Processed')\n"
     ]
    },
    {
     "name": "stdout",
     "output_type": "stream",
     "text": [
      "[ON_DATA] Emergency Doctor (Mali / Kosovo) Iqarus 2021-04-05 https://ae.linkedin.com/jobs/view/emergency-doctor-mali-kosovo-at-iqarus-2490423629?refId=e6e87a68-6b8b-4dc5-8aeb-ce7cb002a03b&trackingId=Jcu8lOHtcKCBE84xBt7zhg%3D%3D&position=15&pageNum=19&trk=public_jobs_job-result-card_result-card_full-click\n"
     ]
    },
    {
     "name": "stderr",
     "output_type": "stream",
     "text": [
      "INFO:li:scraper:('[healthcare][United Arab Emirates][469]', 'Processed')\n"
     ]
    },
    {
     "name": "stdout",
     "output_type": "stream",
     "text": [
      "[ON_DATA] Nurse A Leading Medical Enterprise In The UAE 2021-03-24 https://ae.linkedin.com/jobs/view/nurse-at-a-leading-medical-enterprise-in-the-uae-2475220871?refId=e6e87a68-6b8b-4dc5-8aeb-ce7cb002a03b&trackingId=WqKBqXIWw0keKg25DqOnkA%3D%3D&position=16&pageNum=19&trk=public_jobs_job-result-card_result-card_full-click\n"
     ]
    },
    {
     "name": "stderr",
     "output_type": "stream",
     "text": [
      "INFO:li:scraper:('[healthcare][United Arab Emirates][470]', 'Processed')\n"
     ]
    },
    {
     "name": "stdout",
     "output_type": "stream",
     "text": [
      "[ON_DATA] Pharmacy Manager - Abu Dhabi Medacs Healthcare 2021-03-28 https://ae.linkedin.com/jobs/view/pharmacy-manager-abu-dhabi-at-medacs-healthcare-2480565375?refId=e6e87a68-6b8b-4dc5-8aeb-ce7cb002a03b&trackingId=tI6Q9C81Ay2UF2H7uqsb4A%3D%3D&position=17&pageNum=19&trk=public_jobs_job-result-card_result-card_full-click\n"
     ]
    },
    {
     "name": "stderr",
     "output_type": "stream",
     "text": [
      "INFO:li:scraper:('[healthcare][United Arab Emirates][471]', 'Processed')\n"
     ]
    },
    {
     "name": "stdout",
     "output_type": "stream",
     "text": [
      "[ON_DATA] Nurse Manager Acute Care Cleveland Clinic Abu Dhabi 2021-04-04 https://ae.linkedin.com/jobs/view/nurse-manager-acute-care-at-cleveland-clinic-abu-dhabi-2489486744?refId=e6e87a68-6b8b-4dc5-8aeb-ce7cb002a03b&trackingId=dP2Tvz6ymT%2FdbxrQAaU72A%3D%3D&position=18&pageNum=19&trk=public_jobs_job-result-card_result-card_full-click\n"
     ]
    },
    {
     "name": "stderr",
     "output_type": "stream",
     "text": [
      "INFO:li:scraper:('[healthcare][United Arab Emirates][472]', 'Processed')\n"
     ]
    },
    {
     "name": "stdout",
     "output_type": "stream",
     "text": [
      "[ON_DATA] Data Privacy Officer (Senior Specialist) Win Win Hr Consultancy 2021-03-19 https://ae.linkedin.com/jobs/view/data-privacy-officer-senior-specialist-at-win-win-hr-consultancy-2468549065?refId=e6e87a68-6b8b-4dc5-8aeb-ce7cb002a03b&trackingId=%2BvFRWAduWZ1B%2BybyxSZeSQ%3D%3D&position=19&pageNum=19&trk=public_jobs_job-result-card_result-card_full-click\n"
     ]
    },
    {
     "name": "stderr",
     "output_type": "stream",
     "text": [
      "INFO:li:scraper:('[healthcare][United Arab Emirates][473]', 'Processed')\n"
     ]
    },
    {
     "name": "stdout",
     "output_type": "stream",
     "text": [
      "[ON_DATA] Field Service Engineer (Software Solutions Support) Philips 2021-02-22 https://ae.linkedin.com/jobs/view/field-service-engineer-software-solutions-support-at-philips-2455982352?refId=e6e87a68-6b8b-4dc5-8aeb-ce7cb002a03b&trackingId=mZ206l4BJARs6K0tbvc8eA%3D%3D&position=20&pageNum=19&trk=public_jobs_job-result-card_result-card_full-click\n"
     ]
    },
    {
     "name": "stderr",
     "output_type": "stream",
     "text": [
      "INFO:li:scraper:('[healthcare][United Arab Emirates][474]', 'Processed')\n"
     ]
    },
    {
     "name": "stdout",
     "output_type": "stream",
     "text": [
      "[ON_DATA] Junior School Head of Music Repton School - Dubai 2021-03-20 https://ae.linkedin.com/jobs/view/junior-school-head-of-music-at-repton-school-dubai-2469915350?refId=e6e87a68-6b8b-4dc5-8aeb-ce7cb002a03b&trackingId=pjagO7hpAaOAybNQ0lkgZw%3D%3D&position=21&pageNum=19&trk=public_jobs_job-result-card_result-card_full-click\n"
     ]
    },
    {
     "name": "stderr",
     "output_type": "stream",
     "text": [
      "INFO:li:scraper:('[healthcare][United Arab Emirates][475]', 'Processed')\n"
     ]
    },
    {
     "name": "stdout",
     "output_type": "stream",
     "text": [
      "[ON_DATA] Senior Supervisor Medical Laboratory Technologist Stem Cell / Cellular Therapy Sheikh Shakhbout Medical City (Ssmc) 2021-03-26 https://ae.linkedin.com/jobs/view/senior-supervisor-medical-laboratory-technologist-stem-cell-cellular-therapy-at-sheikh-shakhbout-medical-city-ssmc-2478585612?refId=e6e87a68-6b8b-4dc5-8aeb-ce7cb002a03b&trackingId=DnoaQ6S2n298TQiBT5YEXw%3D%3D&position=22&pageNum=19&trk=public_jobs_job-result-card_result-card_full-click\n"
     ]
    },
    {
     "name": "stderr",
     "output_type": "stream",
     "text": [
      "INFO:li:scraper:('[healthcare][United Arab Emirates][476]', 'Processed')\n"
     ]
    },
    {
     "name": "stdout",
     "output_type": "stream",
     "text": [
      "[ON_DATA] School Doctor The Arbor School 2021-03-20 https://ae.linkedin.com/jobs/view/school-doctor-at-the-arbor-school-2469913744?refId=e6e87a68-6b8b-4dc5-8aeb-ce7cb002a03b&trackingId=cm86oTr9bA34AFhadAC2jQ%3D%3D&position=23&pageNum=19&trk=public_jobs_job-result-card_result-card_full-click\n"
     ]
    },
    {
     "name": "stderr",
     "output_type": "stream",
     "text": [
      "INFO:li:scraper:('[healthcare][United Arab Emirates][477]', 'Processed')\n",
      "INFO:li:scraper:('[healthcare][United Arab Emirates][477]', 'Checking for new jobs to load...')\n"
     ]
    },
    {
     "name": "stdout",
     "output_type": "stream",
     "text": [
      "[ON_DATA] Laser Technician AVIVO Group 2021-04-01 https://ae.linkedin.com/jobs/view/laser-technician-at-avivo-group-2473686120?refId=e6e87a68-6b8b-4dc5-8aeb-ce7cb002a03b&trackingId=cUfRTOW0mOqB%2B2W%2FIYkuxg%3D%3D&position=24&pageNum=19&trk=public_jobs_job-result-card_result-card_full-click\n"
     ]
    },
    {
     "name": "stderr",
     "output_type": "stream",
     "text": [
      "INFO:li:scraper:('[healthcare][United Arab Emirates][477]', 'Found 501 jobs')\n",
      "INFO:li:scraper:('[healthcare][United Arab Emirates][478]', 'Processed')\n"
     ]
    },
    {
     "name": "stdout",
     "output_type": "stream",
     "text": [
      "[ON_DATA] Avaya / Genesys Specialist Deerfoot 2021-03-19 https://ae.linkedin.com/jobs/view/avaya-genesys-specialist-at-deerfoot-2468543813?refId=d7144e9e-f4c9-4d46-b2b4-b15bfa2548e5&trackingId=P4eL8ilKTCNLNIPDaEXN1Q%3D%3D&position=1&pageNum=20&trk=public_jobs_job-result-card_result-card_full-click\n"
     ]
    },
    {
     "name": "stderr",
     "output_type": "stream",
     "text": [
      "INFO:li:scraper:('[healthcare][United Arab Emirates][479]', 'Processed')\n"
     ]
    },
    {
     "name": "stdout",
     "output_type": "stream",
     "text": [
      "[ON_DATA] Female Ultrasound Technician Prime Source 2021-02-11 https://ae.linkedin.com/jobs/view/female-ultrasound-technician-at-prime-source-2436807909?refId=d7144e9e-f4c9-4d46-b2b4-b15bfa2548e5&trackingId=efxaWVrmSc1GWtnO2NqgKA%3D%3D&position=2&pageNum=20&trk=public_jobs_job-result-card_result-card_full-click\n"
     ]
    },
    {
     "name": "stderr",
     "output_type": "stream",
     "text": [
      "INFO:li:scraper:('[healthcare][United Arab Emirates][480]', 'Processed')\n"
     ]
    },
    {
     "name": "stdout",
     "output_type": "stream",
     "text": [
      "[ON_DATA] Associate Professor Radiology and Medical Imaging INSTITUTE OF APPLIED TECHNOLOGY 2021-04-06 https://ae.linkedin.com/jobs/view/associate-professor-radiology-and-medical-imaging-at-institute-of-applied-technology-2490563691?refId=d7144e9e-f4c9-4d46-b2b4-b15bfa2548e5&trackingId=q8JTKHrhfaSeb6txJ5mNvw%3D%3D&position=3&pageNum=20&trk=public_jobs_job-result-card_result-card_full-click\n"
     ]
    },
    {
     "name": "stderr",
     "output_type": "stream",
     "text": [
      "INFO:li:scraper:('[healthcare][United Arab Emirates][481]', 'Processed')\n"
     ]
    },
    {
     "name": "stdout",
     "output_type": "stream",
     "text": [
      "[ON_DATA] Consultant / Specialist Neuro Surgeon Ain Al Khaleej Hospital 2021-02-15 https://ae.linkedin.com/jobs/view/consultant-specialist-neuro-surgeon-at-ain-al-khaleej-hospital-2425600070?refId=d7144e9e-f4c9-4d46-b2b4-b15bfa2548e5&trackingId=mZ3PrXx5s9CUD3G1KSygFA%3D%3D&position=4&pageNum=20&trk=public_jobs_job-result-card_result-card_full-click\n"
     ]
    },
    {
     "name": "stderr",
     "output_type": "stream",
     "text": [
      "INFO:li:scraper:('[healthcare][United Arab Emirates][482]', 'Processed')\n"
     ]
    },
    {
     "name": "stdout",
     "output_type": "stream",
     "text": [
      "[ON_DATA] Nephrology Specialist - Abu Dhabi Medacs Healthcare 2021-03-22 https://ae.linkedin.com/jobs/view/nephrology-specialist-abu-dhabi-at-medacs-healthcare-2472018332?refId=d7144e9e-f4c9-4d46-b2b4-b15bfa2548e5&trackingId=4L21uQupn3uRIZ3ks4Pduw%3D%3D&position=5&pageNum=20&trk=public_jobs_job-result-card_result-card_full-click\n"
     ]
    },
    {
     "name": "stderr",
     "output_type": "stream",
     "text": [
      "INFO:li:scraper:('[healthcare][United Arab Emirates][483]', 'Processed')\n"
     ]
    },
    {
     "name": "stdout",
     "output_type": "stream",
     "text": [
      "[ON_DATA] Enterprise Sales Representative IBM Middle East 2021-01-16 https://ae.linkedin.com/jobs/view/enterprise-sales-representative-at-ibm-middle-east-2384977768?refId=d7144e9e-f4c9-4d46-b2b4-b15bfa2548e5&trackingId=WX2ZzHNYcK64xn%2B57GaNIg%3D%3D&position=6&pageNum=20&trk=public_jobs_job-result-card_result-card_full-click\n"
     ]
    },
    {
     "name": "stderr",
     "output_type": "stream",
     "text": [
      "INFO:li:scraper:('[healthcare][United Arab Emirates][484]', 'Processed')\n"
     ]
    },
    {
     "name": "stdout",
     "output_type": "stream",
     "text": [
      "[ON_DATA] Specialist/Consultant - Pulmonologist Diseases Physician SearchPlus HR Dubai 2021-04-06 https://ae.linkedin.com/jobs/view/specialist-consultant-pulmonologist-diseases-physician-at-searchplus-hr-dubai-2491441969?refId=d7144e9e-f4c9-4d46-b2b4-b15bfa2548e5&trackingId=ErN0%2FlENM9rE24A3dnq3dQ%3D%3D&position=7&pageNum=20&trk=public_jobs_job-result-card_result-card_full-click\n"
     ]
    },
    {
     "name": "stderr",
     "output_type": "stream",
     "text": [
      "INFO:li:scraper:('[healthcare][United Arab Emirates][485]', 'Processed')\n"
     ]
    },
    {
     "name": "stdout",
     "output_type": "stream",
     "text": [
      "[ON_DATA] Copywriter (English and Arabic) Cassia DWC-LLC 2021-01-12 https://ae.linkedin.com/jobs/view/copywriter-english-and-arabic-at-cassia-dwc-llc-2378142504?refId=d7144e9e-f4c9-4d46-b2b4-b15bfa2548e5&trackingId=OSDvwokEwUZNVD7fwnM%2FUg%3D%3D&position=8&pageNum=20&trk=public_jobs_job-result-card_result-card_full-click\n"
     ]
    },
    {
     "name": "stderr",
     "output_type": "stream",
     "text": [
      "INFO:li:scraper:('[healthcare][United Arab Emirates][486]', 'Processed')\n"
     ]
    },
    {
     "name": "stdout",
     "output_type": "stream",
     "text": [
      "[ON_DATA] Senior Engineering Manager talabat 2021-03-15 https://ae.linkedin.com/jobs/view/senior-engineering-manager-at-talabat-2401649804?refId=d7144e9e-f4c9-4d46-b2b4-b15bfa2548e5&trackingId=ofiDJBhdShJZLKJyAXRkHg%3D%3D&position=9&pageNum=20&trk=public_jobs_job-result-card_result-card_full-click\n"
     ]
    },
    {
     "name": "stderr",
     "output_type": "stream",
     "text": [
      "INFO:li:scraper:('[healthcare][United Arab Emirates][487]', 'Processed')\n"
     ]
    },
    {
     "name": "stdout",
     "output_type": "stream",
     "text": [
      "[ON_DATA] Emergency Medical Technician - Basic/Advanced (HAAD/DHA Licensed) Nmc Healthcare 2021-03-19 https://ae.linkedin.com/jobs/view/emergency-medical-technician-basic-advanced-haad-dha-licensed-at-nmc-healthcare-2468544801?refId=d7144e9e-f4c9-4d46-b2b4-b15bfa2548e5&trackingId=nJD%2FYWX6BluHavTEI3M2Rg%3D%3D&position=10&pageNum=20&trk=public_jobs_job-result-card_result-card_full-click\n"
     ]
    },
    {
     "name": "stderr",
     "output_type": "stream",
     "text": [
      "INFO:li:scraper:('[healthcare][United Arab Emirates][488]', 'Processed')\n"
     ]
    },
    {
     "name": "stdout",
     "output_type": "stream",
     "text": [
      "[ON_DATA] Specialist Prosthodontist SearchPlus HR Dubai 2021-04-02 https://ae.linkedin.com/jobs/view/specialist-prosthodontist-at-searchplus-hr-dubai-2486640085?refId=d7144e9e-f4c9-4d46-b2b4-b15bfa2548e5&trackingId=iCay53oZ%2B8aWqk%2FZT%2B0KfQ%3D%3D&position=11&pageNum=20&trk=public_jobs_job-result-card_result-card_full-click\n"
     ]
    },
    {
     "name": "stderr",
     "output_type": "stream",
     "text": [
      "INFO:li:scraper:('[healthcare][United Arab Emirates][489]', 'Processed')\n"
     ]
    },
    {
     "name": "stdout",
     "output_type": "stream",
     "text": [
      "[ON_DATA] Assistant Nurse | Healthcare | Dubai - UAE Al-Futtaim 2021-03-26 https://ae.linkedin.com/jobs/view/assistant-nurse-healthcare-dubai-uae-at-al-futtaim-2466419132?refId=d7144e9e-f4c9-4d46-b2b4-b15bfa2548e5&trackingId=tXjybDnuw3bcbCA6aIgtWg%3D%3D&position=12&pageNum=20&trk=public_jobs_job-result-card_result-card_full-click\n"
     ]
    },
    {
     "name": "stderr",
     "output_type": "stream",
     "text": [
      "INFO:li:scraper:('[healthcare][United Arab Emirates][490]', 'Processed')\n"
     ]
    },
    {
     "name": "stdout",
     "output_type": "stream",
     "text": [
      "[ON_DATA] Track Technician - Fixed Term Serco 2021-04-05 https://ae.linkedin.com/jobs/view/track-technician-fixed-term-at-serco-2476449367?refId=d7144e9e-f4c9-4d46-b2b4-b15bfa2548e5&trackingId=bmWqMygYhE5jbuzX0S492A%3D%3D&position=13&pageNum=20&trk=public_jobs_job-result-card_result-card_full-click\n"
     ]
    },
    {
     "name": "stderr",
     "output_type": "stream",
     "text": [
      "INFO:li:scraper:('[healthcare][United Arab Emirates][491]', 'Processed')\n"
     ]
    },
    {
     "name": "stdout",
     "output_type": "stream",
     "text": [
      "[ON_DATA] Medical Laboratory Technician Loyal Source Government Services 2021-04-02 https://ae.linkedin.com/jobs/view/medical-laboratory-technician-at-loyal-source-government-services-2492245055?refId=d7144e9e-f4c9-4d46-b2b4-b15bfa2548e5&trackingId=r6zOS6rr1NRa4BAPy3tcsA%3D%3D&position=14&pageNum=20&trk=public_jobs_job-result-card_result-card_full-click\n"
     ]
    },
    {
     "name": "stderr",
     "output_type": "stream",
     "text": [
      "INFO:li:scraper:('[healthcare][United Arab Emirates][492]', 'Processed')\n"
     ]
    },
    {
     "name": "stdout",
     "output_type": "stream",
     "text": [
      "[ON_DATA] BMS/ICA Engineer Vamed Middle East 2021-03-19 https://ae.linkedin.com/jobs/view/bms-ica-engineer-at-vamed-middle-east-2487292207?refId=d7144e9e-f4c9-4d46-b2b4-b15bfa2548e5&trackingId=eQPISdeTpoWDvsU7QqQUZA%3D%3D&position=15&pageNum=20&trk=public_jobs_job-result-card_result-card_full-click\n"
     ]
    },
    {
     "name": "stderr",
     "output_type": "stream",
     "text": [
      "INFO:li:scraper:('[healthcare][United Arab Emirates][493]', 'Processed')\n"
     ]
    },
    {
     "name": "stdout",
     "output_type": "stream",
     "text": [
      "[ON_DATA] EPIC - Security Certified Professional Najma Consultancy 2021-02-22 https://ae.linkedin.com/jobs/view/epic-security-certified-professional-at-najma-consultancy-2435165340?refId=d7144e9e-f4c9-4d46-b2b4-b15bfa2548e5&trackingId=Qr6Ld1%2BKJHiVTzt00oUtPg%3D%3D&position=16&pageNum=20&trk=public_jobs_job-result-card_result-card_full-click\n"
     ]
    },
    {
     "name": "stderr",
     "output_type": "stream",
     "text": [
      "INFO:li:scraper:('[healthcare][United Arab Emirates][494]', 'Processed')\n"
     ]
    },
    {
     "name": "stdout",
     "output_type": "stream",
     "text": [
      "[ON_DATA] Enterprise Architect - Infrastructure (healthcare) - 1 year contract Black Pearl Consult 2021-03-24 https://ae.linkedin.com/jobs/view/enterprise-architect-infrastructure-healthcare-1-year-contract-at-black-pearl-consult-2475233810?refId=d7144e9e-f4c9-4d46-b2b4-b15bfa2548e5&trackingId=giewxQYNByDBHZYfvB%2F1EQ%3D%3D&position=17&pageNum=20&trk=public_jobs_job-result-card_result-card_full-click\n"
     ]
    },
    {
     "name": "stderr",
     "output_type": "stream",
     "text": [
      "INFO:li:scraper:('[healthcare][United Arab Emirates][495]', 'Processed')\n"
     ]
    },
    {
     "name": "stdout",
     "output_type": "stream",
     "text": [
      "[ON_DATA] Specialist / Consultant Endodontist SearchPlus 2020-10-04 https://ae.linkedin.com/jobs/view/specialist-consultant-endodontist-at-searchplus-2253695204?refId=d7144e9e-f4c9-4d46-b2b4-b15bfa2548e5&trackingId=2XTZ%2Fonl0OYBmSBMIZOVwg%3D%3D&position=18&pageNum=20&trk=public_jobs_job-result-card_result-card_full-click\n"
     ]
    },
    {
     "name": "stderr",
     "output_type": "stream",
     "text": [
      "INFO:li:scraper:('[healthcare][United Arab Emirates][496]', 'Processed')\n"
     ]
    },
    {
     "name": "stdout",
     "output_type": "stream",
     "text": [
      "[ON_DATA] Senior Engineering Manager talabat 2021-03-15 https://ae.linkedin.com/jobs/view/senior-engineering-manager-at-talabat-2401648836?refId=d7144e9e-f4c9-4d46-b2b4-b15bfa2548e5&trackingId=Ti0mJkScmaezklCzdBwYZQ%3D%3D&position=19&pageNum=20&trk=public_jobs_job-result-card_result-card_full-click\n"
     ]
    },
    {
     "name": "stderr",
     "output_type": "stream",
     "text": [
      "INFO:li:scraper:('[healthcare][United Arab Emirates][497]', 'Processed')\n"
     ]
    },
    {
     "name": "stdout",
     "output_type": "stream",
     "text": [
      "[ON_DATA] Restructuring Senior Associates / Principals / Director For A Sovereign Wealth Fund NSI Talent 2021-03-11 https://ae.linkedin.com/jobs/view/restructuring-senior-associates-principals-director-for-a-sovereign-wealth-fund-at-nsi-talent-2437909367?refId=d7144e9e-f4c9-4d46-b2b4-b15bfa2548e5&trackingId=z8BPPCQq2yQ0MwNO876qnQ%3D%3D&position=20&pageNum=20&trk=public_jobs_job-result-card_result-card_full-click\n"
     ]
    },
    {
     "name": "stderr",
     "output_type": "stream",
     "text": [
      "INFO:li:scraper:('[healthcare][United Arab Emirates][498]', 'Processed')\n"
     ]
    },
    {
     "name": "stdout",
     "output_type": "stream",
     "text": [
      "[ON_DATA] Dietitian - Abu Dhabi Medacs Healthcare 2021-03-17 https://ae.linkedin.com/jobs/view/dietitian-abu-dhabi-at-medacs-healthcare-2465293730?refId=d7144e9e-f4c9-4d46-b2b4-b15bfa2548e5&trackingId=FWwkc8EG2O6tBXtuxKhfXw%3D%3D&position=21&pageNum=20&trk=public_jobs_job-result-card_result-card_full-click\n"
     ]
    },
    {
     "name": "stderr",
     "output_type": "stream",
     "text": [
      "INFO:li:scraper:('[healthcare][United Arab Emirates][499]', 'Processed')\n"
     ]
    },
    {
     "name": "stdout",
     "output_type": "stream",
     "text": [
      "[ON_DATA] Long Only Emerging and Frontier Investment Analyst - Buy Side - Dubai Jobs via eFinancialCareers 2021-03-10 https://ae.linkedin.com/jobs/view/long-only-emerging-and-frontier-investment-analyst-buy-side-dubai-at-jobs-via-efinancialcareers-2456429223?refId=d7144e9e-f4c9-4d46-b2b4-b15bfa2548e5&trackingId=dc5WJFNkHdq4p%2FbGyjFQzQ%3D%3D&position=22&pageNum=20&trk=public_jobs_job-result-card_result-card_full-click\n"
     ]
    },
    {
     "name": "stderr",
     "output_type": "stream",
     "text": [
      "INFO:li:scraper:('[healthcare][United Arab Emirates][500]', 'Processed')\n"
     ]
    },
    {
     "name": "stdout",
     "output_type": "stream",
     "text": [
      "[ON_DATA] Dental Assistant Ain Al Khaleej Hospital 2021-02-15 https://ae.linkedin.com/jobs/view/dental-assistant-at-ain-al-khaleej-hospital-2425598464?refId=d7144e9e-f4c9-4d46-b2b4-b15bfa2548e5&trackingId=VdndGfpx32qawOArGXniGQ%3D%3D&position=23&pageNum=20&trk=public_jobs_job-result-card_result-card_full-click\n"
     ]
    },
    {
     "name": "stderr",
     "output_type": "stream",
     "text": [
      "INFO:li:scraper:('[healthcare][United Arab Emirates][501]', 'Processed')\n",
      "INFO:li:scraper:('[healthcare][United Arab Emirates][501]', 'Checking for new jobs to load...')\n"
     ]
    },
    {
     "name": "stdout",
     "output_type": "stream",
     "text": [
      "[ON_DATA] Technical Specialist #ModernWork Microsoft 2021-03-25 https://ae.linkedin.com/jobs/view/technical-specialist-%23modernwork-at-microsoft-2478436930?refId=d7144e9e-f4c9-4d46-b2b4-b15bfa2548e5&trackingId=o9twlSNca%2FLmkY9brrpQ1Q%3D%3D&position=24&pageNum=20&trk=public_jobs_job-result-card_result-card_full-click\n"
     ]
    },
    {
     "name": "stderr",
     "output_type": "stream",
     "text": [
      "INFO:li:scraper:('[healthcare][United Arab Emirates][501]', 'Found 525 jobs')\n",
      "INFO:li:scraper:('[healthcare][United Arab Emirates][502]', 'Processed')\n"
     ]
    },
    {
     "name": "stdout",
     "output_type": "stream",
     "text": [
      "[ON_DATA] Assistant Supply Chain Manager (Medical Devices) Middle East Executive 2021-03-21 https://ae.linkedin.com/jobs/view/assistant-supply-chain-manager-medical-devices-at-middle-east-executive-2471192706?refId=fdcb98e1-4665-44f0-bd2c-43f5b2186601&trackingId=MB5SPpAyEh4UOZIbOrgVWQ%3D%3D&position=1&pageNum=21&trk=public_jobs_job-result-card_result-card_full-click\n"
     ]
    },
    {
     "name": "stderr",
     "output_type": "stream",
     "text": [
      "INFO:li:scraper:('[healthcare][United Arab Emirates][503]', 'Processed')\n"
     ]
    },
    {
     "name": "stdout",
     "output_type": "stream",
     "text": [
      "[ON_DATA] Sr. Mechanical Engineer TAHPI - A to Z of Health Planning 2021-03-30 https://ae.linkedin.com/jobs/view/sr-mechanical-engineer-at-tahpi-a-to-z-of-health-planning-2458096276?refId=fdcb98e1-4665-44f0-bd2c-43f5b2186601&trackingId=NPB%2FUFWKPcnbGXw71JBr3Q%3D%3D&position=2&pageNum=21&trk=public_jobs_job-result-card_result-card_full-click\n"
     ]
    },
    {
     "name": "stderr",
     "output_type": "stream",
     "text": [
      "INFO:li:scraper:('[healthcare][United Arab Emirates][504]', 'Processed')\n"
     ]
    },
    {
     "name": "stdout",
     "output_type": "stream",
     "text": [
      "[ON_DATA] Specialist/Consultant Pediatric Emergency Medicine SearchPlus HR Dubai 2021-04-02 https://ae.linkedin.com/jobs/view/specialist-consultant-pediatric-emergency-medicine-at-searchplus-hr-dubai-2486639232?refId=fdcb98e1-4665-44f0-bd2c-43f5b2186601&trackingId=ghDsRJL7fKTtSecZVcV9BA%3D%3D&position=3&pageNum=21&trk=public_jobs_job-result-card_result-card_full-click\n"
     ]
    },
    {
     "name": "stderr",
     "output_type": "stream",
     "text": [
      "INFO:li:scraper:('[healthcare][United Arab Emirates][505]', 'Processed')\n"
     ]
    },
    {
     "name": "stdout",
     "output_type": "stream",
     "text": [
      "[ON_DATA] Pharmacy Teaching Opportunity - Fatima College of Health Sciences, (UAE)‎ Institute of Applied Technology 2021-03-17 https://ae.linkedin.com/jobs/view/pharmacy-teaching-opportunity-fatima-college-of-health-sciences-uae-%E2%80%8E-at-institute-of-applied-technology-2491283536?refId=fdcb98e1-4665-44f0-bd2c-43f5b2186601&trackingId=w4orvIKXjQjPkKODycxMlg%3D%3D&position=4&pageNum=21&trk=public_jobs_job-result-card_result-card_full-click\n"
     ]
    },
    {
     "name": "stderr",
     "output_type": "stream",
     "text": [
      "INFO:li:scraper:('[healthcare][United Arab Emirates][506]', 'Processed')\n"
     ]
    },
    {
     "name": "stdout",
     "output_type": "stream",
     "text": [
      "[ON_DATA] Technical Services Engineer - I (Powerplant) Emirates 2021-04-05 https://ae.linkedin.com/jobs/view/technical-services-engineer-i-powerplant-at-emirates-2489722721?refId=fdcb98e1-4665-44f0-bd2c-43f5b2186601&trackingId=8qR2bSfpavxD11mdfVvfFg%3D%3D&position=5&pageNum=21&trk=public_jobs_job-result-card_result-card_full-click\n"
     ]
    },
    {
     "name": "stderr",
     "output_type": "stream",
     "text": [
      "INFO:li:scraper:('[healthcare][United Arab Emirates][507]', 'Processed')\n"
     ]
    },
    {
     "name": "stdout",
     "output_type": "stream",
     "text": [
      "[ON_DATA] Nurse Manager - Health Transformation in Saudi Arabia Turas Group 2021-01-25 https://ae.linkedin.com/jobs/view/nurse-manager-health-transformation-in-saudi-arabia-at-turas-group-2394867909?refId=fdcb98e1-4665-44f0-bd2c-43f5b2186601&trackingId=L7mH0g7dlUHWQD6CCy%2FM3Q%3D%3D&position=6&pageNum=21&trk=public_jobs_job-result-card_result-card_full-click\n"
     ]
    },
    {
     "name": "stderr",
     "output_type": "stream",
     "text": [
      "INFO:li:scraper:('[healthcare][United Arab Emirates][508]', 'Processed')\n"
     ]
    },
    {
     "name": "stdout",
     "output_type": "stream",
     "text": [
      "[ON_DATA] Global Medical Director – Endocrinology – Remote in Europe Barrington James 2021-03-20 https://ae.linkedin.com/jobs/view/global-medical-director-%E2%80%93-endocrinology-%E2%80%93-remote-in-europe-at-barrington-james-2489511165?refId=fdcb98e1-4665-44f0-bd2c-43f5b2186601&trackingId=bDbW%2F%2FKEDYT5mMC4yOPgfQ%3D%3D&position=7&pageNum=21&trk=public_jobs_job-result-card_result-card_full-click\n"
     ]
    },
    {
     "name": "stderr",
     "output_type": "stream",
     "text": [
      "INFO:li:scraper:('[healthcare][United Arab Emirates][509]', 'Processed')\n"
     ]
    },
    {
     "name": "stdout",
     "output_type": "stream",
     "text": [
      "[ON_DATA] Media Services Technician Zayed University 2021-04-03 https://ae.linkedin.com/jobs/view/media-services-technician-at-zayed-university-2488621795?refId=fdcb98e1-4665-44f0-bd2c-43f5b2186601&trackingId=3tp%2BQ%2Fd9EJVjVf6JimCl4w%3D%3D&position=8&pageNum=21&trk=public_jobs_job-result-card_result-card_full-click\n"
     ]
    },
    {
     "name": "stderr",
     "output_type": "stream",
     "text": [
      "INFO:li:scraper:('[healthcare][United Arab Emirates][510]', 'Processed')\n"
     ]
    },
    {
     "name": "stdout",
     "output_type": "stream",
     "text": [
      "[ON_DATA] Emergency Medical Technician - Basic/Advanced (HAAD/DHA Licensed) Nmc Healthcare 2021-03-20 https://ae.linkedin.com/jobs/view/emergency-medical-technician-basic-advanced-haad-dha-licensed-at-nmc-healthcare-2489475472?refId=fdcb98e1-4665-44f0-bd2c-43f5b2186601&trackingId=Le%2F9UOEuxO5O2w5xxrUjkg%3D%3D&position=9&pageNum=21&trk=public_jobs_job-result-card_result-card_full-click\n"
     ]
    },
    {
     "name": "stderr",
     "output_type": "stream",
     "text": [
      "INFO:li:scraper:('[healthcare][United Arab Emirates][511]', 'Processed')\n"
     ]
    },
    {
     "name": "stdout",
     "output_type": "stream",
     "text": [
      "[ON_DATA] Out-Patient Nurse Reyada Home Health Care Services L.L.C. 2021-03-05 https://ae.linkedin.com/jobs/view/out-patient-nurse-at-reyada-home-health-care-services-l-l-c-2448289926?refId=fdcb98e1-4665-44f0-bd2c-43f5b2186601&trackingId=3%2BdUtxQ2YBWDxakMJg62wg%3D%3D&position=10&pageNum=21&trk=public_jobs_job-result-card_result-card_full-click\n"
     ]
    },
    {
     "name": "stderr",
     "output_type": "stream",
     "text": [
      "INFO:li:scraper:('[healthcare][United Arab Emirates][512]', 'Processed')\n"
     ]
    },
    {
     "name": "stdout",
     "output_type": "stream",
     "text": [
      "[ON_DATA] CSSD Technician Ain Al Khaleej Hospital 2021-02-15 https://ae.linkedin.com/jobs/view/cssd-technician-at-ain-al-khaleej-hospital-2425598461?refId=fdcb98e1-4665-44f0-bd2c-43f5b2186601&trackingId=HwvWtvDNLQeAR0cQV8Hlsg%3D%3D&position=11&pageNum=21&trk=public_jobs_job-result-card_result-card_full-click\n"
     ]
    },
    {
     "name": "stderr",
     "output_type": "stream",
     "text": [
      "INFO:li:scraper:('[healthcare][United Arab Emirates][513]', 'Processed')\n"
     ]
    },
    {
     "name": "stdout",
     "output_type": "stream",
     "text": [
      "[ON_DATA] Full Professor in Marketing Zayed University 2021-03-29 https://ae.linkedin.com/jobs/view/full-professor-in-marketing-at-zayed-university-2489504177?refId=fdcb98e1-4665-44f0-bd2c-43f5b2186601&trackingId=Qw0gdQn1krY0hkSy4j%2FgTQ%3D%3D&position=12&pageNum=21&trk=public_jobs_job-result-card_result-card_full-click\n"
     ]
    },
    {
     "name": "stderr",
     "output_type": "stream",
     "text": [
      "INFO:li:scraper:('[healthcare][United Arab Emirates][514]', 'Processed')\n"
     ]
    },
    {
     "name": "stdout",
     "output_type": "stream",
     "text": [
      "[ON_DATA] Gynecologist - Russian/Indian/Arabic National Prime Source 2021-02-11 https://ae.linkedin.com/jobs/view/gynecologist-russian-indian-arabic-national-at-prime-source-2436805922?refId=fdcb98e1-4665-44f0-bd2c-43f5b2186601&trackingId=uHf7W49WrRNqaudTy49JAA%3D%3D&position=13&pageNum=21&trk=public_jobs_job-result-card_result-card_full-click\n"
     ]
    },
    {
     "name": "stderr",
     "output_type": "stream",
     "text": [
      "INFO:li:scraper:('[healthcare][United Arab Emirates][515]', 'Processed')\n"
     ]
    },
    {
     "name": "stdout",
     "output_type": "stream",
     "text": [
      "[ON_DATA] ICU Specialist Opportunity with Field Hospital Omni International 2021-02-16 https://ae.linkedin.com/jobs/view/icu-specialist-opportunity-with-field-hospital-at-omni-international-2426810321?refId=fdcb98e1-4665-44f0-bd2c-43f5b2186601&trackingId=50v37QO17zFjeOPQf1Q%2FuQ%3D%3D&position=14&pageNum=21&trk=public_jobs_job-result-card_result-card_full-click\n"
     ]
    },
    {
     "name": "stderr",
     "output_type": "stream",
     "text": [
      "INFO:li:scraper:('[healthcare][United Arab Emirates][516]', 'Processed')\n"
     ]
    },
    {
     "name": "stdout",
     "output_type": "stream",
     "text": [
      "[ON_DATA] ENDOSCOPY TECHNICIAN Nmc Healthcare 2021-03-22 https://ae.linkedin.com/jobs/view/endoscopy-technician-at-nmc-healthcare-2485767738?refId=fdcb98e1-4665-44f0-bd2c-43f5b2186601&trackingId=R8SIg2L0dDQHQqhwYCMzcQ%3D%3D&position=15&pageNum=21&trk=public_jobs_job-result-card_result-card_full-click\n"
     ]
    },
    {
     "name": "stderr",
     "output_type": "stream",
     "text": [
      "INFO:li:scraper:('[healthcare][United Arab Emirates][517]', 'Processed')\n"
     ]
    },
    {
     "name": "stdout",
     "output_type": "stream",
     "text": [
      "[ON_DATA] GYNECOLOGIST Agile Consultants 2021-03-31 https://ae.linkedin.com/jobs/view/gynecologist-at-agile-consultants-2489499421?refId=fdcb98e1-4665-44f0-bd2c-43f5b2186601&trackingId=h%2B1Bve%2Bk3ITbOMcjpAIzDQ%3D%3D&position=16&pageNum=21&trk=public_jobs_job-result-card_result-card_full-click\n"
     ]
    },
    {
     "name": "stderr",
     "output_type": "stream",
     "text": [
      "INFO:li:scraper:('[healthcare][United Arab Emirates][518]', 'Processed')\n"
     ]
    },
    {
     "name": "stdout",
     "output_type": "stream",
     "text": [
      "[ON_DATA] Associate Partner Infrastructure Solutions & Services Ibm 2021-03-19 https://ae.linkedin.com/jobs/view/associate-partner-infrastructure-solutions-services-at-ibm-2468543857?refId=fdcb98e1-4665-44f0-bd2c-43f5b2186601&trackingId=y6syewsbhZIJMzXF6RT6pg%3D%3D&position=17&pageNum=21&trk=public_jobs_job-result-card_result-card_full-click\n"
     ]
    },
    {
     "name": "stderr",
     "output_type": "stream",
     "text": [
      "INFO:li:scraper:('[healthcare][United Arab Emirates][519]', 'Processed')\n"
     ]
    },
    {
     "name": "stdout",
     "output_type": "stream",
     "text": [
      "[ON_DATA] Endocrinologist Search Plus Hr 2021-04-02 https://ae.linkedin.com/jobs/view/endocrinologist-at-search-plus-hr-2487277389?refId=fdcb98e1-4665-44f0-bd2c-43f5b2186601&trackingId=5IQUOASqTCQBooLgd1%2FpuQ%3D%3D&position=18&pageNum=21&trk=public_jobs_job-result-card_result-card_full-click\n"
     ]
    },
    {
     "name": "stderr",
     "output_type": "stream",
     "text": [
      "INFO:li:scraper:('[healthcare][United Arab Emirates][520]', 'Processed')\n"
     ]
    },
    {
     "name": "stdout",
     "output_type": "stream",
     "text": [
      "[ON_DATA] Nurse Supervisor I Healthcare I Dubai- UAE Al-Futtaim 2021-04-01 https://ae.linkedin.com/jobs/view/nurse-supervisor-i-healthcare-i-dubai-uae-at-al-futtaim-2464290472?refId=fdcb98e1-4665-44f0-bd2c-43f5b2186601&trackingId=iBgrlWfN%2FfHskYl5zGSDfw%3D%3D&position=19&pageNum=21&trk=public_jobs_job-result-card_result-card_full-click\n"
     ]
    },
    {
     "name": "stderr",
     "output_type": "stream",
     "text": [
      "INFO:li:scraper:('[healthcare][United Arab Emirates][521]', 'Processed')\n"
     ]
    },
    {
     "name": "stdout",
     "output_type": "stream",
     "text": [
      "[ON_DATA] Sales Engineer – Industrial & Specialty Gases PLUM JOBS 2021-03-27 https://ae.linkedin.com/jobs/view/sales-engineer-%E2%80%93-industrial-specialty-gases-at-plum-jobs-2479390396?refId=fdcb98e1-4665-44f0-bd2c-43f5b2186601&trackingId=Jvfcd43t7%2BOFRTZdYBcpWA%3D%3D&position=20&pageNum=21&trk=public_jobs_job-result-card_result-card_full-click\n"
     ]
    },
    {
     "name": "stderr",
     "output_type": "stream",
     "text": [
      "INFO:li:scraper:('[healthcare][United Arab Emirates][522]', 'Processed')\n"
     ]
    },
    {
     "name": "stdout",
     "output_type": "stream",
     "text": [
      "[ON_DATA] Strategic Partnership Manager Recruits Management Consultancy 2020-12-14 https://ae.linkedin.com/jobs/view/strategic-partnership-manager-at-recruits-management-consultancy-2372017659?refId=fdcb98e1-4665-44f0-bd2c-43f5b2186601&trackingId=N1dF1thgjp4LV2Ny%2BTdxeQ%3D%3D&position=21&pageNum=21&trk=public_jobs_job-result-card_result-card_full-click\n"
     ]
    },
    {
     "name": "stderr",
     "output_type": "stream",
     "text": [
      "INFO:li:scraper:('[healthcare][United Arab Emirates][523]', 'Processed')\n"
     ]
    },
    {
     "name": "stdout",
     "output_type": "stream",
     "text": [
      "[ON_DATA] Sales Engineer – Industrial & Specialty Gases PLUM JOBS 2021-03-26 https://ae.linkedin.com/jobs/view/sales-engineer-%E2%80%93-industrial-specialty-gases-at-plum-jobs-2456615793?refId=fdcb98e1-4665-44f0-bd2c-43f5b2186601&trackingId=g%2FGbEz61Z6Lk68R6HLaxaA%3D%3D&position=22&pageNum=21&trk=public_jobs_job-result-card_result-card_full-click\n"
     ]
    },
    {
     "name": "stderr",
     "output_type": "stream",
     "text": [
      "INFO:li:scraper:('[healthcare][United Arab Emirates][524]', 'Processed')\n"
     ]
    },
    {
     "name": "stdout",
     "output_type": "stream",
     "text": [
      "[ON_DATA] Executive/Personal Assistant (Property/Real Estate Development) Omni International 2021-03-19 https://ae.linkedin.com/jobs/view/executive-personal-assistant-property-real-estate-development-at-omni-international-2468544818?refId=fdcb98e1-4665-44f0-bd2c-43f5b2186601&trackingId=k8Tz4eUO3vwPtBE%2F8yT8fQ%3D%3D&position=23&pageNum=21&trk=public_jobs_job-result-card_result-card_full-click\n"
     ]
    },
    {
     "name": "stderr",
     "output_type": "stream",
     "text": [
      "INFO:li:scraper:('[healthcare][United Arab Emirates][525]', 'Processed')\n",
      "INFO:li:scraper:('[healthcare][United Arab Emirates][525]', 'Checking for new jobs to load...')\n"
     ]
    },
    {
     "name": "stdout",
     "output_type": "stream",
     "text": [
      "[ON_DATA] Pre-Sales Solution Consultant Hitachi Vantara 2021-03-23 https://ae.linkedin.com/jobs/view/pre-sales-solution-consultant-at-hitachi-vantara-2472530458?refId=fdcb98e1-4665-44f0-bd2c-43f5b2186601&trackingId=pNI1MiRx8LkEqNTMwqmtjw%3D%3D&position=24&pageNum=21&trk=public_jobs_job-result-card_result-card_full-click\n"
     ]
    },
    {
     "name": "stderr",
     "output_type": "stream",
     "text": [
      "INFO:li:scraper:('[healthcare][United Arab Emirates][525]', 'Found 549 jobs')\n",
      "INFO:li:scraper:('[healthcare][United Arab Emirates][526]', 'Processed')\n"
     ]
    },
    {
     "name": "stdout",
     "output_type": "stream",
     "text": [
      "[ON_DATA] HAAD/DHA LICENSED ENDOSCOPY TECHNICIAN Nmc Healthcare 2021-03-19 https://ae.linkedin.com/jobs/view/haad-dha-licensed-endoscopy-technician-at-nmc-healthcare-2468546705?refId=c061fcb1-fcee-43fc-b6a1-544feba1d715&trackingId=y3bjS0Ri9V2mteujbL3bGQ%3D%3D&position=1&pageNum=22&trk=public_jobs_job-result-card_result-card_full-click\n"
     ]
    },
    {
     "name": "stderr",
     "output_type": "stream",
     "text": [
      "INFO:li:scraper:('[healthcare][United Arab Emirates][527]', 'Processed')\n"
     ]
    },
    {
     "name": "stdout",
     "output_type": "stream",
     "text": [
      "[ON_DATA] Digital Marketing Manager (Clinics) Middle East Executive 2021-02-01 https://ae.linkedin.com/jobs/view/digital-marketing-manager-clinics-at-middle-east-executive-2405004186?refId=c061fcb1-fcee-43fc-b6a1-544feba1d715&trackingId=mbhLPz%2F6QT8gBEghqPsKbQ%3D%3D&position=2&pageNum=22&trk=public_jobs_job-result-card_result-card_full-click\n"
     ]
    },
    {
     "name": "stderr",
     "output_type": "stream",
     "text": [
      "INFO:li:scraper:('[healthcare][United Arab Emirates][528]', 'Processed')\n"
     ]
    },
    {
     "name": "stdout",
     "output_type": "stream",
     "text": [
      "[ON_DATA] Senior Demand Planner Imdad 2021-03-19 https://ae.linkedin.com/jobs/view/senior-demand-planner-at-imdad-2468542895?refId=c061fcb1-fcee-43fc-b6a1-544feba1d715&trackingId=V3Qs446KFPI0oFXZSRKoLA%3D%3D&position=3&pageNum=22&trk=public_jobs_job-result-card_result-card_full-click\n"
     ]
    },
    {
     "name": "stderr",
     "output_type": "stream",
     "text": [
      "INFO:li:scraper:('[healthcare][United Arab Emirates][529]', 'Processed')\n"
     ]
    },
    {
     "name": "stdout",
     "output_type": "stream",
     "text": [
      "[ON_DATA] Registered Nurse People Partners 2021-04-04 https://ae.linkedin.com/jobs/view/registered-nurse-at-people-partners-2467606695?refId=c061fcb1-fcee-43fc-b6a1-544feba1d715&trackingId=nca6%2BAXZpaDxUpR84XN7cw%3D%3D&position=4&pageNum=22&trk=public_jobs_job-result-card_result-card_full-click\n"
     ]
    },
    {
     "name": "stderr",
     "output_type": "stream",
     "text": [
      "INFO:li:scraper:('[healthcare][United Arab Emirates][530]', 'Processed')\n"
     ]
    },
    {
     "name": "stdout",
     "output_type": "stream",
     "text": [
      "[ON_DATA] Emergency Doctor (Mali / Kosovo) Iqarus 2021-03-22 https://ae.linkedin.com/jobs/view/emergency-doctor-mali-kosovo-at-iqarus-2490412265?refId=c061fcb1-fcee-43fc-b6a1-544feba1d715&trackingId=OgdGkdaVVibfOg9wX0WuXQ%3D%3D&position=5&pageNum=22&trk=public_jobs_job-result-card_result-card_full-click\n"
     ]
    },
    {
     "name": "stderr",
     "output_type": "stream",
     "text": [
      "INFO:li:scraper:('[healthcare][United Arab Emirates][531]', 'Processed')\n"
     ]
    },
    {
     "name": "stdout",
     "output_type": "stream",
     "text": [
      "[ON_DATA] Consultant Cardiac Surgeon Search Plus Hr 2021-03-19 https://ae.linkedin.com/jobs/view/consultant-cardiac-surgeon-at-search-plus-hr-2468546742?refId=c061fcb1-fcee-43fc-b6a1-544feba1d715&trackingId=TNwkSbylcsUHhp7uxTzySg%3D%3D&position=6&pageNum=22&trk=public_jobs_job-result-card_result-card_full-click\n"
     ]
    },
    {
     "name": "stderr",
     "output_type": "stream",
     "text": [
      "INFO:li:scraper:('[healthcare][United Arab Emirates][532]', 'Processed')\n"
     ]
    },
    {
     "name": "stdout",
     "output_type": "stream",
     "text": [
      "[ON_DATA] Sales VP, MENAT - Financial Services Clients GLG 2021-03-12 https://ae.linkedin.com/jobs/view/sales-vp-menat-financial-services-clients-at-glg-2340597650?refId=c061fcb1-fcee-43fc-b6a1-544feba1d715&trackingId=Sj%2Br2ysQcfThMrwmqBdyYA%3D%3D&position=7&pageNum=22&trk=public_jobs_job-result-card_result-card_full-click\n"
     ]
    },
    {
     "name": "stderr",
     "output_type": "stream",
     "text": [
      "INFO:li:scraper:('[healthcare][United Arab Emirates][533]', 'Processed')\n"
     ]
    },
    {
     "name": "stdout",
     "output_type": "stream",
     "text": [
      "[ON_DATA] MEA Security Services Sales Leader IBM Middle East 2020-11-21 https://ae.linkedin.com/jobs/view/mea-security-services-sales-leader-at-ibm-middle-east-2317849142?refId=c061fcb1-fcee-43fc-b6a1-544feba1d715&trackingId=Bnpsk2%2FMVClsiFAHguM1QA%3D%3D&position=8&pageNum=22&trk=public_jobs_job-result-card_result-card_full-click\n"
     ]
    },
    {
     "name": "stderr",
     "output_type": "stream",
     "text": [
      "INFO:li:scraper:('[healthcare][United Arab Emirates][534]', 'Processed')\n"
     ]
    },
    {
     "name": "stdout",
     "output_type": "stream",
     "text": [
      "[ON_DATA] Female HAAD RN for School Via Medica Intl 2021-03-24 https://ae.linkedin.com/jobs/view/female-haad-rn-for-school-at-via-medica-intl-2491856128?refId=c061fcb1-fcee-43fc-b6a1-544feba1d715&trackingId=8R%2BgHKCC1PNHajY%2FHhrhPA%3D%3D&position=9&pageNum=22&trk=public_jobs_job-result-card_result-card_full-click\n"
     ]
    },
    {
     "name": "stderr",
     "output_type": "stream",
     "text": [
      "INFO:li:scraper:('[healthcare][United Arab Emirates][535]', 'Processed')\n"
     ]
    },
    {
     "name": "stdout",
     "output_type": "stream",
     "text": [
      "[ON_DATA] Specialist Urologist Al Sharq Healthcare 2021-03-27 https://ae.linkedin.com/jobs/view/specialist-urologist-at-al-sharq-healthcare-2467292097?refId=c061fcb1-fcee-43fc-b6a1-544feba1d715&trackingId=88XiXaEEgeT48DXTghiccQ%3D%3D&position=10&pageNum=22&trk=public_jobs_job-result-card_result-card_full-click\n"
     ]
    },
    {
     "name": "stderr",
     "output_type": "stream",
     "text": [
      "INFO:li:scraper:('[healthcare][United Arab Emirates][536]', 'Processed')\n"
     ]
    },
    {
     "name": "stdout",
     "output_type": "stream",
     "text": [
      "[ON_DATA] Guest Liaison Officer(Arabic speaker) Serco Plc 2021-03-26 https://ae.linkedin.com/jobs/view/guest-liaison-officer-arabic-speaker-at-serco-plc-2488616752?refId=c061fcb1-fcee-43fc-b6a1-544feba1d715&trackingId=IUIDGoboSTal9Q9xHsWLKA%3D%3D&position=11&pageNum=22&trk=public_jobs_job-result-card_result-card_full-click\n"
     ]
    },
    {
     "name": "stderr",
     "output_type": "stream",
     "text": [
      "INFO:li:scraper:('[healthcare][United Arab Emirates][537]', 'Processed')\n"
     ]
    },
    {
     "name": "stdout",
     "output_type": "stream",
     "text": [
      "[ON_DATA] Data Steward/Information Strategy Senior Specialist Win Win Hr Consultancy 2021-03-19 https://ae.linkedin.com/jobs/view/data-steward-information-strategy-senior-specialist-at-win-win-hr-consultancy-2468542891?refId=c061fcb1-fcee-43fc-b6a1-544feba1d715&trackingId=%2FeDhBjY8S%2FU10K734n0a0A%3D%3D&position=12&pageNum=22&trk=public_jobs_job-result-card_result-card_full-click\n"
     ]
    },
    {
     "name": "stderr",
     "output_type": "stream",
     "text": [
      "INFO:li:scraper:('[healthcare][United Arab Emirates][538]', 'Processed')\n"
     ]
    },
    {
     "name": "stdout",
     "output_type": "stream",
     "text": [
      "[ON_DATA] Male MOH Registered Nurse for Site Via Medica Intl 2021-03-23 https://ae.linkedin.com/jobs/view/male-moh-registered-nurse-for-site-at-via-medica-intl-2473337601?refId=c061fcb1-fcee-43fc-b6a1-544feba1d715&trackingId=%2FoCZ1nmB3UKdWjUOdgN%2BMQ%3D%3D&position=13&pageNum=22&trk=public_jobs_job-result-card_result-card_full-click\n"
     ]
    },
    {
     "name": "stderr",
     "output_type": "stream",
     "text": [
      "INFO:li:scraper:('[healthcare][United Arab Emirates][539]', 'Processed')\n"
     ]
    },
    {
     "name": "stdout",
     "output_type": "stream",
     "text": [
      "[ON_DATA] Specialist/ Consultant Geriatric medicine Search Plus Hr 2021-03-23 https://ae.linkedin.com/jobs/view/specialist-consultant-geriatric-medicine-at-search-plus-hr-2473860858?refId=c061fcb1-fcee-43fc-b6a1-544feba1d715&trackingId=R%2FYqVzH1%2FNDnovhJi3j%2FSw%3D%3D&position=14&pageNum=22&trk=public_jobs_job-result-card_result-card_full-click\n"
     ]
    },
    {
     "name": "stderr",
     "output_type": "stream",
     "text": [
      "INFO:li:scraper:('[healthcare][United Arab Emirates][540]', 'Processed')\n"
     ]
    },
    {
     "name": "stdout",
     "output_type": "stream",
     "text": [
      "[ON_DATA] Specialist / Consultant Geriatric Medicine Search Plus Hr 2021-03-24 https://ae.linkedin.com/jobs/view/specialist-consultant-geriatric-medicine-at-search-plus-hr-2475696080?refId=c061fcb1-fcee-43fc-b6a1-544feba1d715&trackingId=tr88mG3Ed0t8d4bQOs7Ksw%3D%3D&position=15&pageNum=22&trk=public_jobs_job-result-card_result-card_full-click\n"
     ]
    },
    {
     "name": "stderr",
     "output_type": "stream",
     "text": [
      "INFO:li:scraper:('[healthcare][United Arab Emirates][541]', 'Processed')\n"
     ]
    },
    {
     "name": "stdout",
     "output_type": "stream",
     "text": [
      "[ON_DATA] Restructuring Vice President For A Sovereign Wealth Fund NSI Talent 2021-03-11 https://ae.linkedin.com/jobs/view/restructuring-vice-president-for-a-sovereign-wealth-fund-at-nsi-talent-2437909398?refId=c061fcb1-fcee-43fc-b6a1-544feba1d715&trackingId=ls7FT1ok5hOVqwNZPVy6FA%3D%3D&position=16&pageNum=22&trk=public_jobs_job-result-card_result-card_full-click\n"
     ]
    },
    {
     "name": "stderr",
     "output_type": "stream",
     "text": [
      "INFO:li:scraper:('[healthcare][United Arab Emirates][542]', 'Processed')\n"
     ]
    },
    {
     "name": "stdout",
     "output_type": "stream",
     "text": [
      "[ON_DATA] JOB DESCRIPTION – SENIOR PRIVATE ASSETS RESEARCH ANALYST Jobs via eFinancialCareers 2021-03-15 https://ae.linkedin.com/jobs/view/job-description-%E2%80%93-senior-private-assets-research-analyst-at-jobs-via-efinancialcareers-2463181896?refId=c061fcb1-fcee-43fc-b6a1-544feba1d715&trackingId=ak87Txo8CVG%2Bm0erWjvbiQ%3D%3D&position=17&pageNum=22&trk=public_jobs_job-result-card_result-card_full-click\n"
     ]
    },
    {
     "name": "stderr",
     "output_type": "stream",
     "text": [
      "INFO:li:scraper:('[healthcare][United Arab Emirates][543]', 'Processed')\n"
     ]
    },
    {
     "name": "stdout",
     "output_type": "stream",
     "text": [
      "[ON_DATA] Pre-Sales Solution Consultant Hitachi Vantara Corporation 2021-03-25 https://ae.linkedin.com/jobs/view/pre-sales-solution-consultant-at-hitachi-vantara-corporation-2490434576?refId=c061fcb1-fcee-43fc-b6a1-544feba1d715&trackingId=GZWOSjCCSW%2BhI2%2F2YH9gZQ%3D%3D&position=18&pageNum=22&trk=public_jobs_job-result-card_result-card_full-click\n"
     ]
    },
    {
     "name": "stderr",
     "output_type": "stream",
     "text": [
      "INFO:li:scraper:('[healthcare][United Arab Emirates][544]', 'Processed')\n"
     ]
    },
    {
     "name": "stdout",
     "output_type": "stream",
     "text": [
      "[ON_DATA] Radiography & Medical Imaging Faculty for Fatima College of Health Sciences, UAE Institute of Applied Technology 2021-03-17 https://ae.linkedin.com/jobs/view/radiography-medical-imaging-faculty-for-fatima-college-of-health-sciences-uae-at-institute-of-applied-technology-2477809451?refId=c061fcb1-fcee-43fc-b6a1-544feba1d715&trackingId=EB1%2BtgTE87XWQqe6hpFmIg%3D%3D&position=19&pageNum=22&trk=public_jobs_job-result-card_result-card_full-click\n"
     ]
    },
    {
     "name": "stderr",
     "output_type": "stream",
     "text": [
      "INFO:li:scraper:('[healthcare][United Arab Emirates][545]', 'Processed')\n"
     ]
    },
    {
     "name": "stdout",
     "output_type": "stream",
     "text": [
      "[ON_DATA] Homecare Nurse Assistants -Dubai Via Medica Intl 2021-01-18 https://ae.linkedin.com/jobs/view/homecare-nurse-assistants-dubai-at-via-medica-intl-2385902324?refId=c061fcb1-fcee-43fc-b6a1-544feba1d715&trackingId=9KRMbCjYnsTaNvk%2BheSlBA%3D%3D&position=20&pageNum=22&trk=public_jobs_job-result-card_result-card_full-click\n"
     ]
    },
    {
     "name": "stderr",
     "output_type": "stream",
     "text": [
      "INFO:li:scraper:('[healthcare][United Arab Emirates][546]', 'Processed')\n"
     ]
    },
    {
     "name": "stdout",
     "output_type": "stream",
     "text": [
      "[ON_DATA] ICU Consultant Opportunity with Field Hospital Omni International 2021-02-16 https://ae.linkedin.com/jobs/view/icu-consultant-opportunity-with-field-hospital-at-omni-international-2426815137?refId=c061fcb1-fcee-43fc-b6a1-544feba1d715&trackingId=kobaBuu%2BW3PMIV8gNm2SHw%3D%3D&position=21&pageNum=22&trk=public_jobs_job-result-card_result-card_full-click\n"
     ]
    },
    {
     "name": "stderr",
     "output_type": "stream",
     "text": [
      "INFO:li:scraper:('[healthcare][United Arab Emirates][547]', 'Processed')\n"
     ]
    },
    {
     "name": "stdout",
     "output_type": "stream",
     "text": [
      "[ON_DATA] Assistant Finance Manager Dubai Investments 2021-01-10 https://ae.linkedin.com/jobs/view/assistant-finance-manager-at-dubai-investments-2375919464?refId=c061fcb1-fcee-43fc-b6a1-544feba1d715&trackingId=FRlUi0ANjidoVbZAoE5o6A%3D%3D&position=22&pageNum=22&trk=public_jobs_job-result-card_result-card_full-click\n"
     ]
    },
    {
     "name": "stderr",
     "output_type": "stream",
     "text": [
      "INFO:li:scraper:('[healthcare][United Arab Emirates][548]', 'Processed')\n"
     ]
    },
    {
     "name": "stdout",
     "output_type": "stream",
     "text": [
      "[ON_DATA] Specialist Neonatologist SearchPlus 2020-11-17 https://ae.linkedin.com/jobs/view/specialist-neonatologist-at-searchplus-2312728017?refId=c061fcb1-fcee-43fc-b6a1-544feba1d715&trackingId=tt%2BKax3RGDy3qmz5o1SK5A%3D%3D&position=23&pageNum=22&trk=public_jobs_job-result-card_result-card_full-click\n"
     ]
    },
    {
     "name": "stderr",
     "output_type": "stream",
     "text": [
      "INFO:li:scraper:('[healthcare][United Arab Emirates][549]', 'Processed')\n",
      "INFO:li:scraper:('[healthcare][United Arab Emirates][549]', 'Checking for new jobs to load...')\n"
     ]
    },
    {
     "name": "stdout",
     "output_type": "stream",
     "text": [
      "[ON_DATA] Head of Supply Chain Middle East Executive 2021-02-04 https://ae.linkedin.com/jobs/view/head-of-supply-chain-at-middle-east-executive-2409955774?refId=c061fcb1-fcee-43fc-b6a1-544feba1d715&trackingId=Nsx%2BbV06KVxKRAu9A5gmVw%3D%3D&position=24&pageNum=22&trk=public_jobs_job-result-card_result-card_full-click\n"
     ]
    },
    {
     "name": "stderr",
     "output_type": "stream",
     "text": [
      "INFO:li:scraper:('[healthcare][United Arab Emirates][549]', 'Found 573 jobs')\n",
      "INFO:li:scraper:('[healthcare][United Arab Emirates][550]', 'Processed')\n"
     ]
    },
    {
     "name": "stdout",
     "output_type": "stream",
     "text": [
      "[ON_DATA] Technical Support Engineer 3 Vocera Communications 2021-02-27 https://ae.linkedin.com/jobs/view/technical-support-engineer-3-at-vocera-communications-2452562335?refId=78c41472-4b99-4178-bf59-8d6c9cb88444&trackingId=q3JpViEE%2FiX%2BFMpKkKj4tw%3D%3D&position=1&pageNum=23&trk=public_jobs_job-result-card_result-card_full-click\n"
     ]
    },
    {
     "name": "stderr",
     "output_type": "stream",
     "text": [
      "INFO:li:scraper:('[healthcare][United Arab Emirates][551]', 'Processed')\n"
     ]
    },
    {
     "name": "stdout",
     "output_type": "stream",
     "text": [
      "[ON_DATA] Nurse Dubai Investments 2021-02-15 https://ae.linkedin.com/jobs/view/nurse-at-dubai-investments-2425596825?refId=78c41472-4b99-4178-bf59-8d6c9cb88444&trackingId=vdJxEBVjpwg65yniGdKtBg%3D%3D&position=2&pageNum=23&trk=public_jobs_job-result-card_result-card_full-click\n"
     ]
    },
    {
     "name": "stderr",
     "output_type": "stream",
     "text": [
      "INFO:li:scraper:('[healthcare][United Arab Emirates][552]', 'Processed')\n"
     ]
    },
    {
     "name": "stdout",
     "output_type": "stream",
     "text": [
      "[ON_DATA] Raw / Vegan Chef Zoya Health & Wellbeing Resort 2021-02-25 https://ae.linkedin.com/jobs/view/raw-vegan-chef-at-zoya-health-wellbeing-resort-2439281168?refId=78c41472-4b99-4178-bf59-8d6c9cb88444&trackingId=stfQigIeWyKyn%2FHWa5NeRA%3D%3D&position=3&pageNum=23&trk=public_jobs_job-result-card_result-card_full-click\n"
     ]
    },
    {
     "name": "stderr",
     "output_type": "stream",
     "text": [
      "INFO:li:scraper:('[healthcare][United Arab Emirates][553]', 'Processed')\n"
     ]
    },
    {
     "name": "stdout",
     "output_type": "stream",
     "text": [
      "[ON_DATA] Specialist Dermatologist (HAAD licensed / Passer) Davidson Management Consultants 2021-03-19 https://ae.linkedin.com/jobs/view/specialist-dermatologist-haad-licensed-passer-at-davidson-management-consultants-2468545712?refId=78c41472-4b99-4178-bf59-8d6c9cb88444&trackingId=80iC0GzKoPcfZZRH%2FwUz6w%3D%3D&position=4&pageNum=23&trk=public_jobs_job-result-card_result-card_full-click\n"
     ]
    },
    {
     "name": "stderr",
     "output_type": "stream",
     "text": [
      "INFO:li:scraper:('[healthcare][United Arab Emirates][554]', 'Processed')\n"
     ]
    },
    {
     "name": "stdout",
     "output_type": "stream",
     "text": [
      "[ON_DATA] Dietitian - Al Ain, United Arab Emirates Medacs Healthcare 2021-03-19 https://ae.linkedin.com/jobs/view/dietitian-al-ain-united-arab-emirates-at-medacs-healthcare-2468548054?refId=78c41472-4b99-4178-bf59-8d6c9cb88444&trackingId=U0d5EZZjkysiNCbwq2ocrQ%3D%3D&position=5&pageNum=23&trk=public_jobs_job-result-card_result-card_full-click\n"
     ]
    },
    {
     "name": "stderr",
     "output_type": "stream",
     "text": [
      "INFO:li:scraper:('[healthcare][United Arab Emirates][555]', 'Processed')\n"
     ]
    },
    {
     "name": "stdout",
     "output_type": "stream",
     "text": [
      "[ON_DATA] Customer Engineer - Apps & Infrastructure Microsoft 2021-03-29 https://ae.linkedin.com/jobs/view/customer-engineer-apps-infrastructure-at-microsoft-2482411265?refId=78c41472-4b99-4178-bf59-8d6c9cb88444&trackingId=k60XdKcSX5iq5VrNPhRKKQ%3D%3D&position=6&pageNum=23&trk=public_jobs_job-result-card_result-card_full-click\n"
     ]
    },
    {
     "name": "stderr",
     "output_type": "stream",
     "text": [
      "INFO:li:scraper:('[healthcare][United Arab Emirates][556]', 'Processed')\n"
     ]
    },
    {
     "name": "stdout",
     "output_type": "stream",
     "text": [
      "[ON_DATA] IoT, Augmented Reality & Analytics Account Executive – Middle East – Home Office Teamviewer Gmbh 2021-03-19 https://ae.linkedin.com/jobs/view/iot-augmented-reality-analytics-account-executive-%E2%80%93-middle-east-%E2%80%93-home-office-at-teamviewer-gmbh-2488632432?refId=78c41472-4b99-4178-bf59-8d6c9cb88444&trackingId=K3aVk5Z0z5g9STwHrj%2BYTg%3D%3D&position=7&pageNum=23&trk=public_jobs_job-result-card_result-card_full-click\n"
     ]
    },
    {
     "name": "stderr",
     "output_type": "stream",
     "text": [
      "INFO:li:scraper:('[healthcare][United Arab Emirates][557]', 'Processed')\n"
     ]
    },
    {
     "name": "stdout",
     "output_type": "stream",
     "text": [
      "[ON_DATA] Specialist Periodontist SearchPlus HR Dubai 2021-04-01 https://ae.linkedin.com/jobs/view/specialist-periodontist-at-searchplus-hr-dubai-2484940331?refId=78c41472-4b99-4178-bf59-8d6c9cb88444&trackingId=BtKqXASJIvdeV8kiFKlvxQ%3D%3D&position=8&pageNum=23&trk=public_jobs_job-result-card_result-card_full-click\n"
     ]
    },
    {
     "name": "stderr",
     "output_type": "stream",
     "text": [
      "INFO:li:scraper:('[healthcare][United Arab Emirates][558]', 'Processed')\n"
     ]
    },
    {
     "name": "stdout",
     "output_type": "stream",
     "text": [
      "[ON_DATA] Nurse Manager - Corporate I Healthcare I Dubai- UAE Al Futtaim 2021-03-20 https://ae.linkedin.com/jobs/view/nurse-manager-corporate-i-healthcare-i-dubai-uae-at-al-futtaim-2490432967?refId=78c41472-4b99-4178-bf59-8d6c9cb88444&trackingId=G%2BQBWuyR4K%2FH%2Fwl1%2B800UA%3D%3D&position=9&pageNum=23&trk=public_jobs_job-result-card_result-card_full-click\n"
     ]
    },
    {
     "name": "stderr",
     "output_type": "stream",
     "text": [
      "INFO:li:scraper:('[healthcare][United Arab Emirates][559]', 'Processed')\n"
     ]
    },
    {
     "name": "stdout",
     "output_type": "stream",
     "text": [
      "[ON_DATA] EPIC - Clarity Reporting Module Najma Consultancy 2021-02-22 https://ae.linkedin.com/jobs/view/epic-clarity-reporting-module-at-najma-consultancy-2435163684?refId=78c41472-4b99-4178-bf59-8d6c9cb88444&trackingId=dZFQzgUQ3GLXEST0GKR5ug%3D%3D&position=10&pageNum=23&trk=public_jobs_job-result-card_result-card_full-click\n"
     ]
    },
    {
     "name": "stderr",
     "output_type": "stream",
     "text": [
      "INFO:li:scraper:('[healthcare][United Arab Emirates][560]', 'Processed')\n"
     ]
    },
    {
     "name": "stdout",
     "output_type": "stream",
     "text": [
      "[ON_DATA] Speech and Language Therapist (Arabic speaking) - Abu Dhabi Medacs Healthcare 2021-03-17 https://ae.linkedin.com/jobs/view/speech-and-language-therapist-arabic-speaking-abu-dhabi-at-medacs-healthcare-2488623670?refId=78c41472-4b99-4178-bf59-8d6c9cb88444&trackingId=LqDPiJpmPE5J6%2BTjfLOOIg%3D%3D&position=11&pageNum=23&trk=public_jobs_job-result-card_result-card_full-click\n"
     ]
    },
    {
     "name": "stderr",
     "output_type": "stream",
     "text": [
      "INFO:li:scraper:('[healthcare][United Arab Emirates][561]', 'Processed')\n"
     ]
    },
    {
     "name": "stdout",
     "output_type": "stream",
     "text": [
      "[ON_DATA] CSSD Technician Prime Source 2021-02-11 https://ae.linkedin.com/jobs/view/cssd-technician-at-prime-source-2436822938?refId=78c41472-4b99-4178-bf59-8d6c9cb88444&trackingId=R%2Bj8VDNkDu2Dgx6ip9BTjw%3D%3D&position=12&pageNum=23&trk=public_jobs_job-result-card_result-card_full-click\n"
     ]
    },
    {
     "name": "stderr",
     "output_type": "stream",
     "text": [
      "INFO:li:scraper:('[healthcare][United Arab Emirates][562]', 'Processed')\n"
     ]
    },
    {
     "name": "stdout",
     "output_type": "stream",
     "text": [
      "[ON_DATA] Senior Laboratory Technician Group 42 2021-02-12 https://ae.linkedin.com/jobs/view/senior-laboratory-technician-at-group-42-2453867194?refId=78c41472-4b99-4178-bf59-8d6c9cb88444&trackingId=jw0Me%2Bb8kIP0MOUxu0SnZw%3D%3D&position=13&pageNum=23&trk=public_jobs_job-result-card_result-card_full-click\n"
     ]
    },
    {
     "name": "stderr",
     "output_type": "stream",
     "text": [
      "INFO:li:scraper:('[healthcare][United Arab Emirates][563]', 'Processed')\n"
     ]
    },
    {
     "name": "stdout",
     "output_type": "stream",
     "text": [
      "[ON_DATA] Respiratory Therapist (Sleep Lab Experience) Ain Al Khaleej Hospital 2021-02-15 https://ae.linkedin.com/jobs/view/respiratory-therapist-sleep-lab-experience-at-ain-al-khaleej-hospital-2425594955?refId=78c41472-4b99-4178-bf59-8d6c9cb88444&trackingId=Te4Zmvrc04D9OEb2EDvOXQ%3D%3D&position=14&pageNum=23&trk=public_jobs_job-result-card_result-card_full-click\n"
     ]
    },
    {
     "name": "stderr",
     "output_type": "stream",
     "text": [
      "INFO:li:scraper:('[healthcare][United Arab Emirates][564]', 'Processed')\n"
     ]
    },
    {
     "name": "stdout",
     "output_type": "stream",
     "text": [
      "[ON_DATA] Associate Partner Infrastructure Solutions & Services IBM Middle East 2021-03-03 https://ae.linkedin.com/jobs/view/associate-partner-infrastructure-solutions-services-at-ibm-middle-east-2446473622?refId=78c41472-4b99-4178-bf59-8d6c9cb88444&trackingId=pzyEKVs65zELK95aeNer5A%3D%3D&position=15&pageNum=23&trk=public_jobs_job-result-card_result-card_full-click\n"
     ]
    },
    {
     "name": "stderr",
     "output_type": "stream",
     "text": [
      "INFO:li:scraper:('[healthcare][United Arab Emirates][565]', 'Processed')\n"
     ]
    },
    {
     "name": "stdout",
     "output_type": "stream",
     "text": [
      "[ON_DATA] Assistant Supply Chain Manager (Medical Devices) Middle East Executive 2020-11-30 https://ae.linkedin.com/jobs/view/assistant-supply-chain-manager-medical-devices-at-middle-east-executive-2327232930?refId=78c41472-4b99-4178-bf59-8d6c9cb88444&trackingId=TF2h%2BkdiqGHlIjvDd6SAZA%3D%3D&position=16&pageNum=23&trk=public_jobs_job-result-card_result-card_full-click\n"
     ]
    },
    {
     "name": "stderr",
     "output_type": "stream",
     "text": [
      "INFO:li:scraper:('[healthcare][United Arab Emirates][566]', 'Processed')\n"
     ]
    },
    {
     "name": "stdout",
     "output_type": "stream",
     "text": [
      "[ON_DATA] Specialist Neonatologist Search Plus Hr 2021-03-19 https://ae.linkedin.com/jobs/view/specialist-neonatologist-at-search-plus-hr-2487290103?refId=78c41472-4b99-4178-bf59-8d6c9cb88444&trackingId=Va%2B8jWdGtSoGXdaG7f5XWg%3D%3D&position=17&pageNum=23&trk=public_jobs_job-result-card_result-card_full-click\n"
     ]
    },
    {
     "name": "stderr",
     "output_type": "stream",
     "text": [
      "INFO:li:scraper:('[healthcare][United Arab Emirates][567]', 'Processed')\n"
     ]
    },
    {
     "name": "stdout",
     "output_type": "stream",
     "text": [
      "[ON_DATA] Pre-Sales Solution Consultant Hitachi Vantara 2021-03-22 https://ae.linkedin.com/jobs/view/pre-sales-solution-consultant-at-hitachi-vantara-2472340655?refId=78c41472-4b99-4178-bf59-8d6c9cb88444&trackingId=LghzwCgjB%2B64hTLVhuE2Qw%3D%3D&position=18&pageNum=23&trk=public_jobs_job-result-card_result-card_full-click\n"
     ]
    },
    {
     "name": "stderr",
     "output_type": "stream",
     "text": [
      "INFO:li:scraper:('[healthcare][United Arab Emirates][568]', 'Processed')\n"
     ]
    },
    {
     "name": "stdout",
     "output_type": "stream",
     "text": [
      "[ON_DATA] Specialist Periodontist Search Plus Hr 2021-04-03 https://ae.linkedin.com/jobs/view/specialist-periodontist-at-search-plus-hr-2488629584?refId=78c41472-4b99-4178-bf59-8d6c9cb88444&trackingId=gtWBN6xF0NqXTvA96uEf6w%3D%3D&position=19&pageNum=23&trk=public_jobs_job-result-card_result-card_full-click\n"
     ]
    },
    {
     "name": "stderr",
     "output_type": "stream",
     "text": [
      "INFO:li:scraper:('[healthcare][United Arab Emirates][569]', 'Processed')\n"
     ]
    },
    {
     "name": "stdout",
     "output_type": "stream",
     "text": [
      "[ON_DATA] Nurse Manager, Acute Care Cleveland Clinic Abu Dhabi 2021-03-21 https://ae.linkedin.com/jobs/view/nurse-manager-acute-care-at-cleveland-clinic-abu-dhabi-2447249591?refId=78c41472-4b99-4178-bf59-8d6c9cb88444&trackingId=UP88qeJ1Qb6r2i0811HoCw%3D%3D&position=20&pageNum=23&trk=public_jobs_job-result-card_result-card_full-click\n"
     ]
    },
    {
     "name": "stderr",
     "output_type": "stream",
     "text": [
      "INFO:li:scraper:('[healthcare][United Arab Emirates][570]', 'Processed')\n"
     ]
    },
    {
     "name": "stdout",
     "output_type": "stream",
     "text": [
      "[ON_DATA] MOH DHA Nurse Axios International 2021-03-19 https://ae.linkedin.com/jobs/view/moh-dha-nurse-at-axios-international-2468543801?refId=78c41472-4b99-4178-bf59-8d6c9cb88444&trackingId=kSZLa8YNPo9MwhqIZ69bTA%3D%3D&position=21&pageNum=23&trk=public_jobs_job-result-card_result-card_full-click\n"
     ]
    },
    {
     "name": "stderr",
     "output_type": "stream",
     "text": [
      "INFO:li:scraper:('[healthcare][United Arab Emirates][571]', 'Processed')\n"
     ]
    },
    {
     "name": "stdout",
     "output_type": "stream",
     "text": [
      "[ON_DATA] Endodontist Search Plus Hr 2021-04-03 https://ae.linkedin.com/jobs/view/endodontist-at-search-plus-hr-2490443368?refId=78c41472-4b99-4178-bf59-8d6c9cb88444&trackingId=NKrqdRKvId90tIwvDgB3qg%3D%3D&position=22&pageNum=23&trk=public_jobs_job-result-card_result-card_full-click\n"
     ]
    },
    {
     "name": "stderr",
     "output_type": "stream",
     "text": [
      "INFO:li:scraper:('[healthcare][United Arab Emirates][572]', 'Processed')\n"
     ]
    },
    {
     "name": "stdout",
     "output_type": "stream",
     "text": [
      "[ON_DATA] Receptionist/Front Desk - Dental - Arabic Speaker Cassia DWC-LLC 2021-03-30 https://ae.linkedin.com/jobs/view/receptionist-front-desk-dental-arabic-speaker-at-cassia-dwc-llc-2482130993?refId=78c41472-4b99-4178-bf59-8d6c9cb88444&trackingId=zO7niJxQstehatOFTqT2Kg%3D%3D&position=23&pageNum=23&trk=public_jobs_job-result-card_result-card_full-click\n"
     ]
    },
    {
     "name": "stderr",
     "output_type": "stream",
     "text": [
      "INFO:li:scraper:('[healthcare][United Arab Emirates][573]', 'Processed')\n",
      "INFO:li:scraper:('[healthcare][United Arab Emirates][573]', 'Checking for new jobs to load...')\n"
     ]
    },
    {
     "name": "stdout",
     "output_type": "stream",
     "text": [
      "[ON_DATA] ENDOSCOPY TECHNICIAN Nmc Healthcare 2021-03-20 https://ae.linkedin.com/jobs/view/endoscopy-technician-at-nmc-healthcare-2485732085?refId=78c41472-4b99-4178-bf59-8d6c9cb88444&trackingId=Gz2zEvzcuW8mntFdV737zw%3D%3D&position=24&pageNum=23&trk=public_jobs_job-result-card_result-card_full-click\n"
     ]
    },
    {
     "name": "stderr",
     "output_type": "stream",
     "text": [
      "INFO:li:scraper:('[healthcare][United Arab Emirates][573]', 'Found 597 jobs')\n",
      "INFO:li:scraper:('[healthcare][United Arab Emirates][574]', 'Processed')\n"
     ]
    },
    {
     "name": "stdout",
     "output_type": "stream",
     "text": [
      "[ON_DATA] Receptionist/Front Desk - Dental - Arabic Speaker Cassia DWC-LLC 2021-03-30 https://ae.linkedin.com/jobs/view/receptionist-front-desk-dental-arabic-speaker-at-cassia-dwc-llc-2482130993?refId=17424b73-0e02-46b1-b015-6b280d40b5bf&trackingId=XArWOKPJDo0E%2FkQTKHLteA%3D%3D&position=1&pageNum=24&trk=public_jobs_job-result-card_result-card_full-click\n"
     ]
    },
    {
     "name": "stderr",
     "output_type": "stream",
     "text": [
      "INFO:li:scraper:('[healthcare][United Arab Emirates][575]', 'Processed')\n"
     ]
    },
    {
     "name": "stdout",
     "output_type": "stream",
     "text": [
      "[ON_DATA] ENDOSCOPY TECHNICIAN Nmc Healthcare 2021-03-20 https://ae.linkedin.com/jobs/view/endoscopy-technician-at-nmc-healthcare-2485732085?refId=17424b73-0e02-46b1-b015-6b280d40b5bf&trackingId=Q%2F6dRzynF9aoA8ApA5xBDg%3D%3D&position=2&pageNum=24&trk=public_jobs_job-result-card_result-card_full-click\n"
     ]
    },
    {
     "name": "stderr",
     "output_type": "stream",
     "text": [
      "INFO:li:scraper:('[healthcare][United Arab Emirates][576]', 'Processed')\n"
     ]
    },
    {
     "name": "stdout",
     "output_type": "stream",
     "text": [
      "[ON_DATA] Digital Market Development & Inside Sales Leader General Electric (GE) 2020-12-14 https://ae.linkedin.com/jobs/view/digital-market-development-inside-sales-leader-at-general-electric-ge-2344473072?refId=17424b73-0e02-46b1-b015-6b280d40b5bf&trackingId=GOD6PApgMyVnBvbOzxo0Bw%3D%3D&position=3&pageNum=24&trk=public_jobs_job-result-card_result-card_full-click\n"
     ]
    },
    {
     "name": "stderr",
     "output_type": "stream",
     "text": [
      "INFO:li:scraper:('[healthcare][United Arab Emirates][577]', 'Processed')\n"
     ]
    },
    {
     "name": "stdout",
     "output_type": "stream",
     "text": [
      "[ON_DATA] Dubai Homecare Nurse Assistants (Female) Via Medica Intl 2021-01-21 https://ae.linkedin.com/jobs/view/dubai-homecare-nurse-assistants-female-at-via-medica-intl-2389962883?refId=17424b73-0e02-46b1-b015-6b280d40b5bf&trackingId=E2IITm13rOsxNvoLyl1mbw%3D%3D&position=4&pageNum=24&trk=public_jobs_job-result-card_result-card_full-click\n"
     ]
    },
    {
     "name": "stderr",
     "output_type": "stream",
     "text": [
      "INFO:li:scraper:('[healthcare][United Arab Emirates][578]', 'Processed')\n"
     ]
    },
    {
     "name": "stdout",
     "output_type": "stream",
     "text": [
      "[ON_DATA] Specialist Gynecologist in DHA sector SearchPlus HR Dubai 2021-04-02 https://ae.linkedin.com/jobs/view/specialist-gynecologist-in-dha-sector-at-searchplus-hr-dubai-2486636564?refId=17424b73-0e02-46b1-b015-6b280d40b5bf&trackingId=QhwQw0Wjo%2F%2FNF9zzwUHgdA%3D%3D&position=5&pageNum=24&trk=public_jobs_job-result-card_result-card_full-click\n"
     ]
    },
    {
     "name": "stderr",
     "output_type": "stream",
     "text": [
      "INFO:li:scraper:('[healthcare][United Arab Emirates][579]', 'Processed')\n"
     ]
    },
    {
     "name": "stdout",
     "output_type": "stream",
     "text": [
      "[ON_DATA] MEP Supervisor ENGIE Cofely 2020-12-18 https://ae.linkedin.com/jobs/view/mep-supervisor-at-engie-cofely-2378175854?refId=17424b73-0e02-46b1-b015-6b280d40b5bf&trackingId=xvLyj6qDoCT%2BXVjg0ORooA%3D%3D&position=6&pageNum=24&trk=public_jobs_job-result-card_result-card_full-click\n"
     ]
    },
    {
     "name": "stderr",
     "output_type": "stream",
     "text": [
      "INFO:li:scraper:('[healthcare][United Arab Emirates][580]', 'Processed')\n"
     ]
    },
    {
     "name": "stdout",
     "output_type": "stream",
     "text": [
      "[ON_DATA] MEPT Emergency Doctor (Mali) Iqarus 2021-04-05 https://ae.linkedin.com/jobs/view/mept-emergency-doctor-mali-at-iqarus-2490412421?refId=17424b73-0e02-46b1-b015-6b280d40b5bf&trackingId=T%2Bh1N6IR%2FvLK6YLHN6mVcA%3D%3D&position=7&pageNum=24&trk=public_jobs_job-result-card_result-card_full-click\n"
     ]
    },
    {
     "name": "stderr",
     "output_type": "stream",
     "text": [
      "INFO:li:scraper:('[healthcare][United Arab Emirates][581]', 'Processed')\n"
     ]
    },
    {
     "name": "stdout",
     "output_type": "stream",
     "text": [
      "[ON_DATA] SONOGRAPHER Nmc Healthcare 2021-03-20 https://ae.linkedin.com/jobs/view/sonographer-at-nmc-healthcare-2469916327?refId=17424b73-0e02-46b1-b015-6b280d40b5bf&trackingId=utqzKl%2F3iwEkpm6GTH3Yfg%3D%3D&position=8&pageNum=24&trk=public_jobs_job-result-card_result-card_full-click\n"
     ]
    },
    {
     "name": "stderr",
     "output_type": "stream",
     "text": [
      "INFO:li:scraper:('[healthcare][United Arab Emirates][582]', 'Processed')\n"
     ]
    },
    {
     "name": "stdout",
     "output_type": "stream",
     "text": [
      "[ON_DATA] Gynaecologist Prime Source 2021-02-11 https://ae.linkedin.com/jobs/view/gynaecologist-at-prime-source-2436828888?refId=17424b73-0e02-46b1-b015-6b280d40b5bf&trackingId=QhHHxhJNuxyEQxwtOOXIqg%3D%3D&position=9&pageNum=24&trk=public_jobs_job-result-card_result-card_full-click\n"
     ]
    },
    {
     "name": "stderr",
     "output_type": "stream",
     "text": [
      "INFO:li:scraper:('[healthcare][United Arab Emirates][583]', 'Processed')\n"
     ]
    },
    {
     "name": "stdout",
     "output_type": "stream",
     "text": [
      "[ON_DATA] Digital Marketing Executive (Clinics) Middle East Executive 2021-02-08 https://ae.linkedin.com/jobs/view/digital-marketing-executive-clinics-at-middle-east-executive-2415590683?refId=17424b73-0e02-46b1-b015-6b280d40b5bf&trackingId=ls7QPtr6eBelBFu5stFMuQ%3D%3D&position=10&pageNum=24&trk=public_jobs_job-result-card_result-card_full-click\n"
     ]
    },
    {
     "name": "stderr",
     "output_type": "stream",
     "text": [
      "INFO:li:scraper:('[healthcare][United Arab Emirates][584]', 'Processed')\n"
     ]
    },
    {
     "name": "stdout",
     "output_type": "stream",
     "text": [
      "[ON_DATA] Avaya / Genesys Specialist Deerfoot It Resources Ltd 2021-03-18 https://ae.linkedin.com/jobs/view/avaya-genesys-specialist-at-deerfoot-it-resources-ltd-2466928656?refId=17424b73-0e02-46b1-b015-6b280d40b5bf&trackingId=00gxHlCvQYY7S%2FDNw0jQwA%3D%3D&position=11&pageNum=24&trk=public_jobs_job-result-card_result-card_full-click\n"
     ]
    },
    {
     "name": "stderr",
     "output_type": "stream",
     "text": [
      "INFO:li:scraper:('[healthcare][United Arab Emirates][585]', 'Processed')\n"
     ]
    },
    {
     "name": "stdout",
     "output_type": "stream",
     "text": [
      "[ON_DATA] Supply Chain Manager Gulf Marketing Group (GMG Group) 2021-01-21 https://ae.linkedin.com/jobs/view/supply-chain-manager-at-gulf-marketing-group-gmg-group-2424620808?refId=17424b73-0e02-46b1-b015-6b280d40b5bf&trackingId=KrOC3cnsZ%2BOhqq%2F8oLLyig%3D%3D&position=12&pageNum=24&trk=public_jobs_job-result-card_result-card_full-click\n"
     ]
    },
    {
     "name": "stderr",
     "output_type": "stream",
     "text": [
      "INFO:li:scraper:('[healthcare][United Arab Emirates][586]', 'Processed')\n"
     ]
    },
    {
     "name": "stdout",
     "output_type": "stream",
     "text": [
      "[ON_DATA] Consultant ObGyn (Laparoscopic) (Western educated) Davidson Management Consultants 2021-03-19 https://ae.linkedin.com/jobs/view/consultant-obgyn-laparoscopic-western-educated-at-davidson-management-consultants-2468544783?refId=17424b73-0e02-46b1-b015-6b280d40b5bf&trackingId=MM9mqSZPM2rZiIIBOqXVig%3D%3D&position=13&pageNum=24&trk=public_jobs_job-result-card_result-card_full-click\n"
     ]
    },
    {
     "name": "stderr",
     "output_type": "stream",
     "text": [
      "INFO:li:scraper:('[healthcare][United Arab Emirates][587]', 'Processed')\n"
     ]
    },
    {
     "name": "stdout",
     "output_type": "stream",
     "text": [
      "[ON_DATA] Speech & Language Therapists, Abu Dhabi Mpa Recruitment 2021-03-19 https://ae.linkedin.com/jobs/view/speech-language-therapists-abu-dhabi-at-mpa-recruitment-2468542976?refId=17424b73-0e02-46b1-b015-6b280d40b5bf&trackingId=HjtEZPCgAWE93w9ojGuOyQ%3D%3D&position=14&pageNum=24&trk=public_jobs_job-result-card_result-card_full-click\n"
     ]
    },
    {
     "name": "stderr",
     "output_type": "stream",
     "text": [
      "INFO:li:scraper:('[healthcare][United Arab Emirates][588]', 'Processed')\n"
     ]
    },
    {
     "name": "stdout",
     "output_type": "stream",
     "text": [
      "[ON_DATA] BMS/ICA Engineer VAMED Middle East 2021-01-02 https://ae.linkedin.com/jobs/view/bms-ica-engineer-at-vamed-middle-east-2366607001?refId=17424b73-0e02-46b1-b015-6b280d40b5bf&trackingId=b0%2FW6TKd1xddmW7xnJsCvg%3D%3D&position=15&pageNum=24&trk=public_jobs_job-result-card_result-card_full-click\n"
     ]
    },
    {
     "name": "stderr",
     "output_type": "stream",
     "text": [
      "INFO:li:scraper:('[healthcare][United Arab Emirates][589]', 'Processed')\n"
     ]
    },
    {
     "name": "stdout",
     "output_type": "stream",
     "text": [
      "[ON_DATA] Technical Assistant (Mechanical) Serco Plc 2021-03-19 https://ae.linkedin.com/jobs/view/technical-assistant-mechanical-at-serco-plc-2487283508?refId=17424b73-0e02-46b1-b015-6b280d40b5bf&trackingId=i1FH5l9S%2BOYmQ9w%2BSbOc7g%3D%3D&position=16&pageNum=24&trk=public_jobs_job-result-card_result-card_full-click\n"
     ]
    },
    {
     "name": "stderr",
     "output_type": "stream",
     "text": [
      "INFO:li:scraper:('[healthcare][United Arab Emirates][590]', 'Processed')\n"
     ]
    },
    {
     "name": "stdout",
     "output_type": "stream",
     "text": [
      "[ON_DATA] Cardiologist Specialist/ Consultant Search Plus Hr 2021-03-26 https://ae.linkedin.com/jobs/view/cardiologist-specialist-consultant-at-search-plus-hr-2478587550?refId=17424b73-0e02-46b1-b015-6b280d40b5bf&trackingId=qB9Z4qIIav3XbVMdLr%2BMQw%3D%3D&position=17&pageNum=24&trk=public_jobs_job-result-card_result-card_full-click\n"
     ]
    },
    {
     "name": "stderr",
     "output_type": "stream",
     "text": [
      "INFO:li:scraper:('[healthcare][United Arab Emirates][591]', 'Processed')\n"
     ]
    },
    {
     "name": "stdout",
     "output_type": "stream",
     "text": [
      "[ON_DATA] Specialist Gynecologist in DHA sector Search Plus Hr 2021-04-03 https://ae.linkedin.com/jobs/view/specialist-gynecologist-in-dha-sector-at-search-plus-hr-2488604442?refId=17424b73-0e02-46b1-b015-6b280d40b5bf&trackingId=bh%2BhLTSspSh3lYfBOPAMQg%3D%3D&position=18&pageNum=24&trk=public_jobs_job-result-card_result-card_full-click\n"
     ]
    },
    {
     "name": "stderr",
     "output_type": "stream",
     "text": [
      "INFO:li:scraper:('[healthcare][United Arab Emirates][592]', 'Processed')\n"
     ]
    },
    {
     "name": "stdout",
     "output_type": "stream",
     "text": [
      "[ON_DATA] Senior Supervisor Medical Laboratory Technologist Stem Cell / Cellular Therapy International Hospitals Recruitment Inc. 2021-03-26 https://ae.linkedin.com/jobs/view/senior-supervisor-medical-laboratory-technologist-stem-cell-cellular-therapy-at-international-hospitals-recruitment-inc-2477861117?refId=17424b73-0e02-46b1-b015-6b280d40b5bf&trackingId=Dz20XU%2B2tFcG%2BoFxRNy9nw%3D%3D&position=19&pageNum=24&trk=public_jobs_job-result-card_result-card_full-click\n"
     ]
    },
    {
     "name": "stderr",
     "output_type": "stream",
     "text": [
      "INFO:li:scraper:('[healthcare][United Arab Emirates][593]', 'Processed')\n"
     ]
    },
    {
     "name": "stdout",
     "output_type": "stream",
     "text": [
      "[ON_DATA] Ultra Sonographer - General & OB/Gynecology Experience Ain Al Khaleej Hospital 2021-02-15 https://ae.linkedin.com/jobs/view/ultra-sonographer-general-ob-gynecology-experience-at-ain-al-khaleej-hospital-2425596796?refId=17424b73-0e02-46b1-b015-6b280d40b5bf&trackingId=tnfIk1hz0AGItt3hGyNhMA%3D%3D&position=20&pageNum=24&trk=public_jobs_job-result-card_result-card_full-click\n"
     ]
    },
    {
     "name": "stderr",
     "output_type": "stream",
     "text": [
      "INFO:li:scraper:('[healthcare][United Arab Emirates][594]', 'Processed')\n"
     ]
    },
    {
     "name": "stdout",
     "output_type": "stream",
     "text": [
      "[ON_DATA] Urgent - Filipino HAAD Registered Nurse for School Clinic Via Medica Intl 2021-03-25 https://ae.linkedin.com/jobs/view/urgent-filipino-haad-registered-nurse-for-school-clinic-at-via-medica-intl-2476048388?refId=17424b73-0e02-46b1-b015-6b280d40b5bf&trackingId=VK4Ptzb5hgRyN%2FeU3Dmb8Q%3D%3D&position=21&pageNum=24&trk=public_jobs_job-result-card_result-card_full-click\n"
     ]
    },
    {
     "name": "stderr",
     "output_type": "stream",
     "text": [
      "INFO:li:scraper:('[healthcare][United Arab Emirates][595]', 'Processed')\n"
     ]
    },
    {
     "name": "stdout",
     "output_type": "stream",
     "text": [
      "[ON_DATA] Permanent Neurology Physician Job in United Arab Emirates (UAE) Cross Country Search 2021-04-01 https://ae.linkedin.com/jobs/view/permanent-neurology-physician-job-in-united-arab-emirates-uae-at-cross-country-search-2489502947?refId=17424b73-0e02-46b1-b015-6b280d40b5bf&trackingId=rTV%2BpQ7zuisFDfOR2Regzw%3D%3D&position=22&pageNum=24&trk=public_jobs_job-result-card_result-card_full-click\n"
     ]
    },
    {
     "name": "stderr",
     "output_type": "stream",
     "text": [
      "INFO:li:scraper:('[healthcare][United Arab Emirates][596]', 'Processed')\n"
     ]
    },
    {
     "name": "stdout",
     "output_type": "stream",
     "text": [
      "[ON_DATA] Specialist / Consultant Medical Oncologist SearchPlus 2020-10-04 https://ae.linkedin.com/jobs/view/specialist-consultant-medical-oncologist-at-searchplus-2253691797?refId=17424b73-0e02-46b1-b015-6b280d40b5bf&trackingId=gWsH63p4RgTpospYjMoHHQ%3D%3D&position=23&pageNum=24&trk=public_jobs_job-result-card_result-card_full-click\n"
     ]
    },
    {
     "name": "stderr",
     "output_type": "stream",
     "text": [
      "INFO:li:scraper:('[healthcare][United Arab Emirates][597]', 'Processed')\n",
      "INFO:li:scraper:('[healthcare][United Arab Emirates][597]', 'Checking for new jobs to load...')\n"
     ]
    },
    {
     "name": "stdout",
     "output_type": "stream",
     "text": [
      "[ON_DATA] Accountant (Clinic Experience Mandatory) A Leading Medical Enterprise In The UAE 2020-10-08 https://ae.linkedin.com/jobs/view/accountant-clinic-experience-mandatory-at-a-leading-medical-enterprise-in-the-uae-2268217652?refId=17424b73-0e02-46b1-b015-6b280d40b5bf&trackingId=tPt7Io1OzMpqF4xYo9NA1Q%3D%3D&position=24&pageNum=24&trk=public_jobs_job-result-card_result-card_full-click\n"
     ]
    },
    {
     "name": "stderr",
     "output_type": "stream",
     "text": [
      "INFO:li:scraper:('[healthcare][United Arab Emirates][597]', 'Found 620 jobs')\n",
      "INFO:li:scraper:('[healthcare][United Arab Emirates][598]', 'Processed')\n"
     ]
    },
    {
     "name": "stdout",
     "output_type": "stream",
     "text": [
      "[ON_DATA] Associate Professor Radiology and Medical Imaging Institute of Applied Technology 2021-02-08 https://ae.linkedin.com/jobs/view/associate-professor-radiology-and-medical-imaging-at-institute-of-applied-technology-2448014549?refId=3c8e7d96-1d87-47a4-919d-5f633af2893c&trackingId=bd48c2XFQZlf36yPQTw5nQ%3D%3D&position=1&pageNum=25&trk=public_jobs_job-result-card_result-card_full-click\n"
     ]
    },
    {
     "name": "stderr",
     "output_type": "stream",
     "text": [
      "INFO:li:scraper:('[healthcare][United Arab Emirates][599]', 'Processed')\n"
     ]
    },
    {
     "name": "stdout",
     "output_type": "stream",
     "text": [
      "[ON_DATA] BMS/ ICA Operator/ Technician VAMED Middle East 2021-01-14 https://ae.linkedin.com/jobs/view/bms-ica-operator-technician-at-vamed-middle-east-2381565555?refId=3c8e7d96-1d87-47a4-919d-5f633af2893c&trackingId=CN3G2NHZVR0zjNS6xEwqWA%3D%3D&position=2&pageNum=25&trk=public_jobs_job-result-card_result-card_full-click\n"
     ]
    },
    {
     "name": "stderr",
     "output_type": "stream",
     "text": [
      "INFO:li:scraper:('[healthcare][United Arab Emirates][600]', 'Processed')\n"
     ]
    },
    {
     "name": "stdout",
     "output_type": "stream",
     "text": [
      "[ON_DATA] SONOGRAPHER Nmc Healthcare 2021-03-19 https://ae.linkedin.com/jobs/view/sonographer-at-nmc-healthcare-2487260965?refId=3c8e7d96-1d87-47a4-919d-5f633af2893c&trackingId=kE4UL3F87XNp%2Btd4yaIEXA%3D%3D&position=3&pageNum=25&trk=public_jobs_job-result-card_result-card_full-click\n"
     ]
    },
    {
     "name": "stderr",
     "output_type": "stream",
     "text": [
      "INFO:li:scraper:('[healthcare][United Arab Emirates][601]', 'Processed')\n"
     ]
    },
    {
     "name": "stdout",
     "output_type": "stream",
     "text": [
      "[ON_DATA] Consultant Gastroenterologist (DHA) Davidson Management Consultants 2021-03-22 https://ae.linkedin.com/jobs/view/consultant-gastroenterologist-dha-at-davidson-management-consultants-2488629391?refId=3c8e7d96-1d87-47a4-919d-5f633af2893c&trackingId=Ytr8J%2BQBnvjTaIvmoUx51g%3D%3D&position=4&pageNum=25&trk=public_jobs_job-result-card_result-card_full-click\n"
     ]
    },
    {
     "name": "stderr",
     "output_type": "stream",
     "text": [
      "INFO:li:scraper:('[healthcare][United Arab Emirates][602]', 'Processed')\n"
     ]
    },
    {
     "name": "stdout",
     "output_type": "stream",
     "text": [
      "[ON_DATA] Assistant Professor in Marketing Zayed University 2021-03-18 https://ae.linkedin.com/jobs/view/assistant-professor-in-marketing-at-zayed-university-2487272779?refId=3c8e7d96-1d87-47a4-919d-5f633af2893c&trackingId=qWBJbEpXzavHdCgqxDARZA%3D%3D&position=5&pageNum=25&trk=public_jobs_job-result-card_result-card_full-click\n"
     ]
    },
    {
     "name": "stderr",
     "output_type": "stream",
     "text": [
      "INFO:li:scraper:('[healthcare][United Arab Emirates][603]', 'Processed')\n"
     ]
    },
    {
     "name": "stdout",
     "output_type": "stream",
     "text": [
      "[ON_DATA] Speech and Language Therapist - Abu Dhabi Medacs Healthcare 2021-03-28 https://ae.linkedin.com/jobs/view/speech-and-language-therapist-abu-dhabi-at-medacs-healthcare-2480561880?refId=3c8e7d96-1d87-47a4-919d-5f633af2893c&trackingId=MY20gC10MNsaAvOy8KrW%2BQ%3D%3D&position=6&pageNum=25&trk=public_jobs_job-result-card_result-card_full-click\n"
     ]
    },
    {
     "name": "stderr",
     "output_type": "stream",
     "text": [
      "INFO:li:scraper:('[healthcare][United Arab Emirates][604]', 'Processed')\n"
     ]
    },
    {
     "name": "stdout",
     "output_type": "stream",
     "text": [
      "[ON_DATA] Growth Territory Sales Lead - Infrastructure Services IBM Middle East 2021-03-03 https://ae.linkedin.com/jobs/view/growth-territory-sales-lead-infrastructure-services-at-ibm-middle-east-2446474480?refId=3c8e7d96-1d87-47a4-919d-5f633af2893c&trackingId=J%2FVXnnyNuKnFkmgp%2BS2b%2FQ%3D%3D&position=7&pageNum=25&trk=public_jobs_job-result-card_result-card_full-click\n"
     ]
    },
    {
     "name": "stderr",
     "output_type": "stream",
     "text": [
      "INFO:li:scraper:('[healthcare][United Arab Emirates][605]', 'Processed')\n"
     ]
    },
    {
     "name": "stdout",
     "output_type": "stream",
     "text": [
      "[ON_DATA] Private Duty Nurse for Home Care Via Medica Intl 2021-02-01 https://ae.linkedin.com/jobs/view/private-duty-nurse-for-home-care-at-via-medica-intl-2404194427?refId=3c8e7d96-1d87-47a4-919d-5f633af2893c&trackingId=prMl%2B1Wk%2FaYNDzJ7kxGMWQ%3D%3D&position=8&pageNum=25&trk=public_jobs_job-result-card_result-card_full-click\n"
     ]
    },
    {
     "name": "stderr",
     "output_type": "stream",
     "text": [
      "INFO:li:scraper:('[healthcare][United Arab Emirates][606]', 'Processed')\n"
     ]
    },
    {
     "name": "stdout",
     "output_type": "stream",
     "text": [
      "[ON_DATA] Consultant Pulmonology & Sleep Medicine - Abu Dhabi, UAE Medacs Healthcare 2021-03-22 https://ae.linkedin.com/jobs/view/consultant-pulmonology-sleep-medicine-abu-dhabi-uae-at-medacs-healthcare-2472018361?refId=3c8e7d96-1d87-47a4-919d-5f633af2893c&trackingId=n4OSQwFlkOtB%2FhZH6Tg2Gw%3D%3D&position=9&pageNum=25&trk=public_jobs_job-result-card_result-card_full-click\n"
     ]
    },
    {
     "name": "stderr",
     "output_type": "stream",
     "text": [
      "INFO:li:scraper:('[healthcare][United Arab Emirates][607]', 'Processed')\n"
     ]
    },
    {
     "name": "stdout",
     "output_type": "stream",
     "text": [
      "[ON_DATA] DHA On-Site (Hotel) Nurse RTC-1 Employment Services 2020-11-30 https://ae.linkedin.com/jobs/view/dha-on-site-hotel-nurse-at-rtc-1-employment-services-2327238250?refId=3c8e7d96-1d87-47a4-919d-5f633af2893c&trackingId=ZCls3NLLuW%2BtVYVB%2B3cK8g%3D%3D&position=10&pageNum=25&trk=public_jobs_job-result-card_result-card_full-click\n"
     ]
    },
    {
     "name": "stderr",
     "output_type": "stream",
     "text": [
      "INFO:li:scraper:('[healthcare][United Arab Emirates][608]', 'Processed')\n"
     ]
    },
    {
     "name": "stdout",
     "output_type": "stream",
     "text": [
      "[ON_DATA] Staff Nurse- OPD Dubai Healthcare City 2021-03-30 https://ae.linkedin.com/jobs/view/staff-nurse-opd-at-dubai-healthcare-city-2469555675?refId=3c8e7d96-1d87-47a4-919d-5f633af2893c&trackingId=9oYHJCtbIXNmgtkD%2BQAKpA%3D%3D&position=11&pageNum=25&trk=public_jobs_job-result-card_result-card_full-click\n"
     ]
    },
    {
     "name": "stderr",
     "output_type": "stream",
     "text": [
      "INFO:li:scraper:('[healthcare][United Arab Emirates][609]', 'Processed')\n"
     ]
    },
    {
     "name": "stdout",
     "output_type": "stream",
     "text": [
      "[ON_DATA] SharePoint Consultant (Arabic Speaking) Microvision 2021-04-01 https://ae.linkedin.com/jobs/view/sharepoint-consultant-arabic-speaking-at-microvision-2485760991?refId=3c8e7d96-1d87-47a4-919d-5f633af2893c&trackingId=XVBRXmCN%2FFKcV811exAY3A%3D%3D&position=12&pageNum=25&trk=public_jobs_job-result-card_result-card_full-click\n"
     ]
    },
    {
     "name": "stderr",
     "output_type": "stream",
     "text": [
      "INFO:li:scraper:('[healthcare][United Arab Emirates][610]', 'Processed')\n"
     ]
    },
    {
     "name": "stdout",
     "output_type": "stream",
     "text": [
      "[ON_DATA] Neuro Physiotherapist - Abu Dhabi Medacs Healthcare 2021-03-25 https://ae.linkedin.com/jobs/view/neuro-physiotherapist-abu-dhabi-at-medacs-healthcare-2477149912?refId=3c8e7d96-1d87-47a4-919d-5f633af2893c&trackingId=yj6HfkIuEExb%2FfNd6HvCtw%3D%3D&position=13&pageNum=25&trk=public_jobs_job-result-card_result-card_full-click\n"
     ]
    },
    {
     "name": "stderr",
     "output_type": "stream",
     "text": [
      "INFO:li:scraper:('[healthcare][United Arab Emirates][611]', 'Processed')\n"
     ]
    },
    {
     "name": "stdout",
     "output_type": "stream",
     "text": [
      "[ON_DATA] Male DHA/MOH RN for School Via Medica Intl 2021-03-20 https://ae.linkedin.com/jobs/view/male-dha-moh-rn-for-school-at-via-medica-intl-2489479556?refId=3c8e7d96-1d87-47a4-919d-5f633af2893c&trackingId=2QnVaCqq77F2pXc7ODZsUQ%3D%3D&position=14&pageNum=25&trk=public_jobs_job-result-card_result-card_full-click\n"
     ]
    },
    {
     "name": "stderr",
     "output_type": "stream",
     "text": [
      "INFO:li:scraper:('[healthcare][United Arab Emirates][612]', 'Processed')\n"
     ]
    },
    {
     "name": "stdout",
     "output_type": "stream",
     "text": [
      "[ON_DATA] Associate Professor in Marketing Zayed University 2021-03-25 https://ae.linkedin.com/jobs/view/associate-professor-in-marketing-at-zayed-university-2489506089?refId=3c8e7d96-1d87-47a4-919d-5f633af2893c&trackingId=Z6JPPh8nSvWeqJ%2FOA6ceEA%3D%3D&position=15&pageNum=25&trk=public_jobs_job-result-card_result-card_full-click\n"
     ]
    },
    {
     "name": "stderr",
     "output_type": "stream",
     "text": [
      "INFO:li:scraper:('[healthcare][United Arab Emirates][613]', 'Processed')\n"
     ]
    },
    {
     "name": "stdout",
     "output_type": "stream",
     "text": [
      "[ON_DATA] Nurse Supervisor I Healthcare I Dubai- UAE Al Futtaim 2021-03-20 https://ae.linkedin.com/jobs/view/nurse-supervisor-i-healthcare-i-dubai-uae-at-al-futtaim-2469915346?refId=3c8e7d96-1d87-47a4-919d-5f633af2893c&trackingId=DK%2BDP7BfPbNnw6OVN3mY2A%3D%3D&position=16&pageNum=25&trk=public_jobs_job-result-card_result-card_full-click\n"
     ]
    },
    {
     "name": "stderr",
     "output_type": "stream",
     "text": [
      "INFO:li:scraper:('[healthcare][United Arab Emirates][614]', 'Processed')\n"
     ]
    },
    {
     "name": "stdout",
     "output_type": "stream",
     "text": [
      "[ON_DATA] Female RN HAAD Licensed or Passer for School Via Medica Intl 2021-03-17 https://ae.linkedin.com/jobs/view/female-rn-haad-licensed-or-passer-for-school-at-via-medica-intl-2464762907?refId=3c8e7d96-1d87-47a4-919d-5f633af2893c&trackingId=%2B%2FdI%2FvkAIgtzdYZ%2FSZSrjw%3D%3D&position=17&pageNum=25&trk=public_jobs_job-result-card_result-card_full-click\n"
     ]
    },
    {
     "name": "stderr",
     "output_type": "stream",
     "text": [
      "INFO:li:scraper:('[healthcare][United Arab Emirates][615]', 'Processed')\n"
     ]
    },
    {
     "name": "stdout",
     "output_type": "stream",
     "text": [
      "[ON_DATA] Staff Nurse Nmc Royal Hospital Dip 2021-03-19 https://ae.linkedin.com/jobs/view/staff-nurse-at-nmc-royal-hospital-dip-2488635052?refId=3c8e7d96-1d87-47a4-919d-5f633af2893c&trackingId=hs1Fd86xH0q8UVnKlTxnuA%3D%3D&position=18&pageNum=25&trk=public_jobs_job-result-card_result-card_full-click\n"
     ]
    },
    {
     "name": "stderr",
     "output_type": "stream",
     "text": [
      "INFO:li:scraper:('[healthcare][United Arab Emirates][616]', 'Processed')\n"
     ]
    },
    {
     "name": "stdout",
     "output_type": "stream",
     "text": [
      "[ON_DATA] Data Governance Advisor Informatica 2021-03-16 https://ae.linkedin.com/jobs/view/data-governance-advisor-at-informatica-2451182200?refId=3c8e7d96-1d87-47a4-919d-5f633af2893c&trackingId=42bNLLEjRT%2FlqYM%2F5La6kg%3D%3D&position=19&pageNum=25&trk=public_jobs_job-result-card_result-card_full-click\n"
     ]
    },
    {
     "name": "stderr",
     "output_type": "stream",
     "text": [
      "INFO:li:scraper:('[healthcare][United Arab Emirates][617]', 'Processed')\n"
     ]
    },
    {
     "name": "stdout",
     "output_type": "stream",
     "text": [
      "[ON_DATA] URGENT HIRING!!! FILIPINA NURSE JOB HUB 2021-03-11 https://ae.linkedin.com/jobs/view/urgent-hiring%21%21%21-filipina-nurse-at-job-hub-2489590818?refId=3c8e7d96-1d87-47a4-919d-5f633af2893c&trackingId=cEW1qR3RrXRtVyytKPvYPg%3D%3D&position=20&pageNum=25&trk=public_jobs_job-result-card_result-card_full-click\n"
     ]
    },
    {
     "name": "stderr",
     "output_type": "stream",
     "text": [
      "INFO:li:scraper:('[healthcare][United Arab Emirates][618]', 'Processed')\n"
     ]
    },
    {
     "name": "stdout",
     "output_type": "stream",
     "text": [
      "[ON_DATA] Human Resources Manager Frontline Recruiters 2020-11-24 https://ae.linkedin.com/jobs/view/human-resources-manager-at-frontline-recruiters-2334288098?refId=3c8e7d96-1d87-47a4-919d-5f633af2893c&trackingId=qUeSlylyLysIKTsSTAPPZQ%3D%3D&position=21&pageNum=25&trk=public_jobs_job-result-card_result-card_full-click\n"
     ]
    },
    {
     "name": "stderr",
     "output_type": "stream",
     "text": [
      "INFO:li:scraper:('[healthcare][United Arab Emirates][619]', 'Processed')\n"
     ]
    },
    {
     "name": "stdout",
     "output_type": "stream",
     "text": [
      "[ON_DATA] Ortho Cast Technician Ain Al Khaleej Hospital 2021-02-15 https://ae.linkedin.com/jobs/view/ortho-cast-technician-at-ain-al-khaleej-hospital-2425600073?refId=3c8e7d96-1d87-47a4-919d-5f633af2893c&trackingId=N8AgLb95rchVreWWsYUP4g%3D%3D&position=22&pageNum=25&trk=public_jobs_job-result-card_result-card_full-click\n"
     ]
    },
    {
     "name": "stderr",
     "output_type": "stream",
     "text": [
      "INFO:li:scraper:('[healthcare][United Arab Emirates][620]', 'Processed')\n",
      "INFO:li:scraper:('[healthcare][United Arab Emirates][620]', 'Checking for new jobs to load...')\n"
     ]
    },
    {
     "name": "stdout",
     "output_type": "stream",
     "text": [
      "[ON_DATA] Specialist Neurologist (HAAD / Passer) Davidson Management Consultants 2021-03-19 https://ae.linkedin.com/jobs/view/specialist-neurologist-haad-passer-at-davidson-management-consultants-2468549005?refId=3c8e7d96-1d87-47a4-919d-5f633af2893c&trackingId=S9mw2qymfDxhFDy6qDZNvg%3D%3D&position=23&pageNum=25&trk=public_jobs_job-result-card_result-card_full-click\n"
     ]
    },
    {
     "name": "stderr",
     "output_type": "stream",
     "text": [
      "INFO:li:scraper:('[healthcare][United Arab Emirates][620]', 'Found 644 jobs')\n",
      "INFO:li:scraper:('[healthcare][United Arab Emirates][621]', 'Processed')\n"
     ]
    },
    {
     "name": "stdout",
     "output_type": "stream",
     "text": [
      "[ON_DATA] Specialist Neurologist (HAAD / Passer) Davidson Management Consultants 2021-03-19 https://ae.linkedin.com/jobs/view/specialist-neurologist-haad-passer-at-davidson-management-consultants-2468549005?refId=594062a0-fce0-49bf-8f52-7f07e1e13872&trackingId=%2BmoiBYRwzlAan5ds%2BHQWTg%3D%3D&position=1&pageNum=26&trk=public_jobs_job-result-card_result-card_full-click\n"
     ]
    },
    {
     "name": "stderr",
     "output_type": "stream",
     "text": [
      "INFO:li:scraper:('[healthcare][United Arab Emirates][622]', 'Processed')\n"
     ]
    },
    {
     "name": "stdout",
     "output_type": "stream",
     "text": [
      "[ON_DATA] Osteopath - Job post Fitstaff 2021-03-19 https://ae.linkedin.com/jobs/view/osteopath-job-post-at-fitstaff-2468547181?refId=594062a0-fce0-49bf-8f52-7f07e1e13872&trackingId=1U6EsZAsuQ7Obxv077ek0Q%3D%3D&position=2&pageNum=26&trk=public_jobs_job-result-card_result-card_full-click\n"
     ]
    },
    {
     "name": "stderr",
     "output_type": "stream",
     "text": [
      "INFO:li:scraper:('[healthcare][United Arab Emirates][623]', 'Processed')\n"
     ]
    },
    {
     "name": "stdout",
     "output_type": "stream",
     "text": [
      "[ON_DATA] Executive/Personal Assistant (Property/Real Estate Development) Omni International 2020-12-16 https://ae.linkedin.com/jobs/view/executive-personal-assistant-property-real-estate-development-at-omni-international-2346908433?refId=594062a0-fce0-49bf-8f52-7f07e1e13872&trackingId=ZZGPbtSEqVE36ADVOxHVeg%3D%3D&position=3&pageNum=26&trk=public_jobs_job-result-card_result-card_full-click\n"
     ]
    },
    {
     "name": "stderr",
     "output_type": "stream",
     "text": [
      "INFO:li:scraper:('[healthcare][United Arab Emirates][624]', 'Processed')\n"
     ]
    },
    {
     "name": "stdout",
     "output_type": "stream",
     "text": [
      "[ON_DATA] Executive / Personal Assistant (Property/Real Estate Development) Omni International 2020-11-18 https://ae.linkedin.com/jobs/view/executive-personal-assistant-property-real-estate-development-at-omni-international-2315943841?refId=594062a0-fce0-49bf-8f52-7f07e1e13872&trackingId=pkvp9PaDWkUaAtQ4VZD28g%3D%3D&position=4&pageNum=26&trk=public_jobs_job-result-card_result-card_full-click\n"
     ]
    },
    {
     "name": "stderr",
     "output_type": "stream",
     "text": [
      "INFO:li:scraper:('[healthcare][United Arab Emirates][625]', 'Processed')\n"
     ]
    },
    {
     "name": "stdout",
     "output_type": "stream",
     "text": [
      "[ON_DATA] Dermatologist - Western trained American Hospital Dubai 2021-03-09 https://ae.linkedin.com/jobs/view/dermatologist-western-trained-at-american-hospital-dubai-2436413417?refId=594062a0-fce0-49bf-8f52-7f07e1e13872&trackingId=oDfQlqFXR1HkD66pO2FgNQ%3D%3D&position=5&pageNum=26&trk=public_jobs_job-result-card_result-card_full-click\n"
     ]
    },
    {
     "name": "stderr",
     "output_type": "stream",
     "text": [
      "INFO:li:scraper:('[healthcare][United Arab Emirates][626]', 'Processed')\n"
     ]
    },
    {
     "name": "stdout",
     "output_type": "stream",
     "text": [
      "[ON_DATA] Affiliate Marketing Intern Cassia DWC-LLC 2021-01-12 https://ae.linkedin.com/jobs/view/affiliate-marketing-intern-at-cassia-dwc-llc-2378147109?refId=594062a0-fce0-49bf-8f52-7f07e1e13872&trackingId=bmKBe0uSkUZTjetpWf%2B80g%3D%3D&position=6&pageNum=26&trk=public_jobs_job-result-card_result-card_full-click\n"
     ]
    },
    {
     "name": "stderr",
     "output_type": "stream",
     "text": [
      "INFO:li:scraper:('[healthcare][United Arab Emirates][627]', 'Processed')\n"
     ]
    },
    {
     "name": "stdout",
     "output_type": "stream",
     "text": [
      "[ON_DATA] Senior Portfolio Management Professional, Middle East Focused Private Equity, Riyadh, Saudi Arabia Jobs via eFinancialCareers 2021-03-17 https://ae.linkedin.com/jobs/view/senior-portfolio-management-professional-middle-east-focused-private-equity-riyadh-saudi-arabia-at-jobs-via-efinancialcareers-2466389717?refId=594062a0-fce0-49bf-8f52-7f07e1e13872&trackingId=iBOwQFiaGJYB0ULK5Js%2BMw%3D%3D&position=7&pageNum=26&trk=public_jobs_job-result-card_result-card_full-click\n"
     ]
    },
    {
     "name": "stderr",
     "output_type": "stream",
     "text": [
      "INFO:li:scraper:('[healthcare][United Arab Emirates][628]', 'Processed')\n"
     ]
    },
    {
     "name": "stdout",
     "output_type": "stream",
     "text": [
      "[ON_DATA] Assistant Professor Psychology Institute of Applied Technology 2021-02-08 https://ae.linkedin.com/jobs/view/assistant-professor-psychology-at-institute-of-applied-technology-2448013572?refId=594062a0-fce0-49bf-8f52-7f07e1e13872&trackingId=dOZK6BmsYEJW8pMTQF0utw%3D%3D&position=8&pageNum=26&trk=public_jobs_job-result-card_result-card_full-click\n"
     ]
    },
    {
     "name": "stderr",
     "output_type": "stream",
     "text": [
      "INFO:li:scraper:('[healthcare][United Arab Emirates][629]', 'Processed')\n"
     ]
    },
    {
     "name": "stdout",
     "output_type": "stream",
     "text": [
      "[ON_DATA] Chiller Technician Engie Cofely 2021-03-19 https://ae.linkedin.com/jobs/view/chiller-technician-at-engie-cofely-2490427624?refId=594062a0-fce0-49bf-8f52-7f07e1e13872&trackingId=%2B8kZlxUggMt7tVSA2%2FVF3Q%3D%3D&position=9&pageNum=26&trk=public_jobs_job-result-card_result-card_full-click\n"
     ]
    },
    {
     "name": "stderr",
     "output_type": "stream",
     "text": [
      "INFO:li:scraper:('[healthcare][United Arab Emirates][630]', 'Processed')\n"
     ]
    },
    {
     "name": "stdout",
     "output_type": "stream",
     "text": [
      "[ON_DATA] Interventional Cardiologist Prime Source 2021-02-11 https://ae.linkedin.com/jobs/view/interventional-cardiologist-at-prime-source-2436812831?refId=594062a0-fce0-49bf-8f52-7f07e1e13872&trackingId=ovLt%2BQBwsxZW9FLkgisyHg%3D%3D&position=10&pageNum=26&trk=public_jobs_job-result-card_result-card_full-click\n"
     ]
    },
    {
     "name": "stderr",
     "output_type": "stream",
     "text": [
      "INFO:li:scraper:('[healthcare][United Arab Emirates][631]', 'Processed')\n"
     ]
    },
    {
     "name": "stdout",
     "output_type": "stream",
     "text": [
      "[ON_DATA] Cosmetologist (Beauty Guru) Delma Medical Center 2020-11-30 https://ae.linkedin.com/jobs/view/cosmetologist-beauty-guru-at-delma-medical-center-2336041110?refId=594062a0-fce0-49bf-8f52-7f07e1e13872&trackingId=akoMkLL3MczhQDCUTRA9oA%3D%3D&position=11&pageNum=26&trk=public_jobs_job-result-card_result-card_full-click\n"
     ]
    },
    {
     "name": "stderr",
     "output_type": "stream",
     "text": [
      "INFO:li:scraper:('[healthcare][United Arab Emirates][632]', 'Processed')\n"
     ]
    },
    {
     "name": "stdout",
     "output_type": "stream",
     "text": [
      "[ON_DATA] Male DHA/MOH RN for School Via Medica Intl 2021-03-26 https://ae.linkedin.com/jobs/view/male-dha-moh-rn-for-school-at-via-medica-intl-2490409087?refId=594062a0-fce0-49bf-8f52-7f07e1e13872&trackingId=mVt0T2PIIJba%2BPkQtz0tPQ%3D%3D&position=12&pageNum=26&trk=public_jobs_job-result-card_result-card_full-click\n"
     ]
    },
    {
     "name": "stderr",
     "output_type": "stream",
     "text": [
      "INFO:li:scraper:('[healthcare][United Arab Emirates][633]', 'Processed')\n"
     ]
    },
    {
     "name": "stdout",
     "output_type": "stream",
     "text": [
      "[ON_DATA] PODIATRIST Nmc Healthcare 2021-03-19 https://ae.linkedin.com/jobs/view/podiatrist-at-nmc-healthcare-2468545700?refId=594062a0-fce0-49bf-8f52-7f07e1e13872&trackingId=DkD2uZptCgOnP0wbyxwEkg%3D%3D&position=13&pageNum=26&trk=public_jobs_job-result-card_result-card_full-click\n"
     ]
    },
    {
     "name": "stderr",
     "output_type": "stream",
     "text": [
      "INFO:li:scraper:('[healthcare][United Arab Emirates][634]', 'Processed')\n"
     ]
    },
    {
     "name": "stdout",
     "output_type": "stream",
     "text": [
      "[ON_DATA] Chief Financial Officer (CFO) – Pharmaceutical Company (Dubai) Onepoint 2021-03-22 https://ae.linkedin.com/jobs/view/chief-financial-officer-cfo-%E2%80%93-pharmaceutical-company-dubai-at-onepoint-2490445556?refId=594062a0-fce0-49bf-8f52-7f07e1e13872&trackingId=675RJTB1%2BGBAlUg7gANGTw%3D%3D&position=14&pageNum=26&trk=public_jobs_job-result-card_result-card_full-click\n"
     ]
    },
    {
     "name": "stderr",
     "output_type": "stream",
     "text": [
      "INFO:li:scraper:('[healthcare][United Arab Emirates][635]', 'Processed')\n"
     ]
    },
    {
     "name": "stdout",
     "output_type": "stream",
     "text": [
      "[ON_DATA] Physiotherapist (Neuro) - Abu Dhabi Medacs Healthcare 2021-03-22 https://ae.linkedin.com/jobs/view/physiotherapist-neuro-abu-dhabi-at-medacs-healthcare-2472021061?refId=594062a0-fce0-49bf-8f52-7f07e1e13872&trackingId=1gDDLzYMSYn1KMWk%2FNmJ4Q%3D%3D&position=15&pageNum=26&trk=public_jobs_job-result-card_result-card_full-click\n"
     ]
    },
    {
     "name": "stderr",
     "output_type": "stream",
     "text": [
      "INFO:li:scraper:('[healthcare][United Arab Emirates][636]', 'Processed')\n"
     ]
    },
    {
     "name": "stdout",
     "output_type": "stream",
     "text": [
      "[ON_DATA] Specialist Endodontist Search Plus Hr 2021-03-29 https://ae.linkedin.com/jobs/view/specialist-endodontist-at-search-plus-hr-2489487004?refId=594062a0-fce0-49bf-8f52-7f07e1e13872&trackingId=AU8sHK8UBVfPjwQ6tLC7Ow%3D%3D&position=16&pageNum=26&trk=public_jobs_job-result-card_result-card_full-click\n"
     ]
    },
    {
     "name": "stderr",
     "output_type": "stream",
     "text": [
      "INFO:li:scraper:('[healthcare][United Arab Emirates][637]', 'Processed')\n"
     ]
    },
    {
     "name": "stdout",
     "output_type": "stream",
     "text": [
      "[ON_DATA] Inpatient Pharmacy Chief Pharmacist Royal Womens Hospital 2021-04-02 https://ae.linkedin.com/jobs/view/inpatient-pharmacy-chief-pharmacist-at-royal-womens-hospital-2490421614?refId=594062a0-fce0-49bf-8f52-7f07e1e13872&trackingId=xsfk8G50pfzaCRbv%2F%2Bjqpw%3D%3D&position=17&pageNum=26&trk=public_jobs_job-result-card_result-card_full-click\n"
     ]
    },
    {
     "name": "stderr",
     "output_type": "stream",
     "text": [
      "INFO:li:scraper:('[healthcare][United Arab Emirates][638]', 'Processed')\n"
     ]
    },
    {
     "name": "stdout",
     "output_type": "stream",
     "text": [
      "[ON_DATA] Chiller Technician ENGIE Cofely 2020-12-18 https://ae.linkedin.com/jobs/view/chiller-technician-at-engie-cofely-2378175853?refId=594062a0-fce0-49bf-8f52-7f07e1e13872&trackingId=vjZ5QjhyBf1gAvOOQ%2BXyCg%3D%3D&position=18&pageNum=26&trk=public_jobs_job-result-card_result-card_full-click\n"
     ]
    },
    {
     "name": "stderr",
     "output_type": "stream",
     "text": [
      "INFO:li:scraper:('[healthcare][United Arab Emirates][639]', 'Processed')\n"
     ]
    },
    {
     "name": "stdout",
     "output_type": "stream",
     "text": [
      "[ON_DATA] Speech Therapist (Arab or European National) Ain Al Khaleej Hospital 2021-02-15 https://ae.linkedin.com/jobs/view/speech-therapist-arab-or-european-national-at-ain-al-khaleej-hospital-2425596798?refId=594062a0-fce0-49bf-8f52-7f07e1e13872&trackingId=5ecpyXX8104JZVAGVaqjCg%3D%3D&position=19&pageNum=26&trk=public_jobs_job-result-card_result-card_full-click\n"
     ]
    },
    {
     "name": "stderr",
     "output_type": "stream",
     "text": [
      "INFO:li:scraper:('[healthcare][United Arab Emirates][640]', 'Processed')\n"
     ]
    },
    {
     "name": "stdout",
     "output_type": "stream",
     "text": [
      "[ON_DATA] Permanent Pediatric Neurology Physician Job in United Arab Emirates (UAE) Cross Country Search 2021-03-31 https://ae.linkedin.com/jobs/view/permanent-pediatric-neurology-physician-job-in-united-arab-emirates-uae-at-cross-country-search-2484065891?refId=594062a0-fce0-49bf-8f52-7f07e1e13872&trackingId=43B7RqbfPyyw4UweVQISvA%3D%3D&position=20&pageNum=26&trk=public_jobs_job-result-card_result-card_full-click\n"
     ]
    },
    {
     "name": "stderr",
     "output_type": "stream",
     "text": [
      "INFO:li:scraper:('[healthcare][United Arab Emirates][641]', 'Processed')\n"
     ]
    },
    {
     "name": "stdout",
     "output_type": "stream",
     "text": [
      "[ON_DATA] Family Medicine Physician Housecall 2021-03-10 https://ae.linkedin.com/jobs/view/family-medicine-physician-at-housecall-2360938692?refId=594062a0-fce0-49bf-8f52-7f07e1e13872&trackingId=3LX%2FY91MPm01bo6P1M%2F3Dg%3D%3D&position=21&pageNum=26&trk=public_jobs_job-result-card_result-card_full-click\n"
     ]
    },
    {
     "name": "stderr",
     "output_type": "stream",
     "text": [
      "INFO:li:scraper:('[healthcare][United Arab Emirates][642]', 'Processed')\n"
     ]
    },
    {
     "name": "stdout",
     "output_type": "stream",
     "text": [
      "[ON_DATA] Spa Receptionist Marriott International, Inc 2021-03-29 https://ae.linkedin.com/jobs/view/spa-receptionist-at-marriott-international-inc-2488630676?refId=594062a0-fce0-49bf-8f52-7f07e1e13872&trackingId=tDENZi5sJsP9IgGU%2FsuvSA%3D%3D&position=22&pageNum=26&trk=public_jobs_job-result-card_result-card_full-click\n"
     ]
    },
    {
     "name": "stderr",
     "output_type": "stream",
     "text": [
      "INFO:li:scraper:('[healthcare][United Arab Emirates][643]', 'Processed')\n"
     ]
    },
    {
     "name": "stdout",
     "output_type": "stream",
     "text": [
      "[ON_DATA] URGENTLY require NURSE for SHARJAH - UAE. IMPERIAL SCHOOL & STUDY CENTRE PRIVATE LIMITED 2021-03-08 https://ae.linkedin.com/jobs/view/urgently-require-nurse-for-sharjah-uae-at-imperial-school-study-centre-private-limited-2451859202?refId=594062a0-fce0-49bf-8f52-7f07e1e13872&trackingId=wuuGKDAxA7wn57K%2FYfOH7Q%3D%3D&position=23&pageNum=26&trk=public_jobs_job-result-card_result-card_full-click\n"
     ]
    },
    {
     "name": "stderr",
     "output_type": "stream",
     "text": [
      "INFO:li:scraper:('[healthcare][United Arab Emirates][644]', 'Processed')\n",
      "INFO:li:scraper:('[healthcare][United Arab Emirates][644]', 'Checking for new jobs to load...')\n"
     ]
    },
    {
     "name": "stdout",
     "output_type": "stream",
     "text": [
      "[ON_DATA] Rehabilitation Consultant Physician - Abu Dhabi Medacs Healthcare 2021-03-17 https://ae.linkedin.com/jobs/view/rehabilitation-consultant-physician-abu-dhabi-at-medacs-healthcare-2488623000?refId=594062a0-fce0-49bf-8f52-7f07e1e13872&trackingId=tRbpKFUszYtqFGGJnJViMw%3D%3D&position=24&pageNum=26&trk=public_jobs_job-result-card_result-card_full-click\n"
     ]
    },
    {
     "name": "stderr",
     "output_type": "stream",
     "text": [
      "INFO:li:scraper:('[healthcare][United Arab Emirates][644]', 'Found 669 jobs')\n",
      "INFO:li:scraper:('[healthcare][United Arab Emirates][645]', 'Processed')\n"
     ]
    },
    {
     "name": "stdout",
     "output_type": "stream",
     "text": [
      "[ON_DATA] Facial Therapist Delma Medical Center 2020-11-29 https://ae.linkedin.com/jobs/view/facial-therapist-at-delma-medical-center-2336037816?refId=24a6b033-3258-4c97-929a-f148391d872e&trackingId=jUeBHSBbjqhdh0XqiWIgHw%3D%3D&position=1&pageNum=27&trk=public_jobs_job-result-card_result-card_full-click\n"
     ]
    },
    {
     "name": "stderr",
     "output_type": "stream",
     "text": [
      "INFO:li:scraper:('[healthcare][United Arab Emirates][646]', 'Processed')\n"
     ]
    },
    {
     "name": "stdout",
     "output_type": "stream",
     "text": [
      "[ON_DATA] Charge Nurse l Healthcare l Dubai Al-Futtaim 2021-04-01 https://ae.linkedin.com/jobs/view/charge-nurse-l-healthcare-l-dubai-at-al-futtaim-2464290474?refId=24a6b033-3258-4c97-929a-f148391d872e&trackingId=g%2Bvot2V1cOvE6D5HuF2Gww%3D%3D&position=2&pageNum=27&trk=public_jobs_job-result-card_result-card_full-click\n"
     ]
    },
    {
     "name": "stderr",
     "output_type": "stream",
     "text": [
      "INFO:li:scraper:('[healthcare][United Arab Emirates][647]', 'Processed')\n"
     ]
    },
    {
     "name": "stdout",
     "output_type": "stream",
     "text": [
      "[ON_DATA] Legal Counsel Johnson & Johnson Family Of Companies 2021-03-19 https://ae.linkedin.com/jobs/view/legal-counsel-at-johnson-johnson-family-of-companies-2468544878?refId=24a6b033-3258-4c97-929a-f148391d872e&trackingId=pRKXPTQCzml6U1kUKNb%2Fjg%3D%3D&position=3&pageNum=27&trk=public_jobs_job-result-card_result-card_full-click\n"
     ]
    },
    {
     "name": "stderr",
     "output_type": "stream",
     "text": [
      "INFO:li:scraper:('[healthcare][United Arab Emirates][648]', 'Processed')\n"
     ]
    },
    {
     "name": "stdout",
     "output_type": "stream",
     "text": [
      "[ON_DATA] Cleaner Serco Plc 2021-04-01 https://ae.linkedin.com/jobs/view/cleaner-at-serco-plc-2485738186?refId=24a6b033-3258-4c97-929a-f148391d872e&trackingId=nRwnogJqmGTrWdgNV2PjjQ%3D%3D&position=4&pageNum=27&trk=public_jobs_job-result-card_result-card_full-click\n"
     ]
    },
    {
     "name": "stderr",
     "output_type": "stream",
     "text": [
      "INFO:li:scraper:('[healthcare][United Arab Emirates][649]', 'Processed')\n"
     ]
    },
    {
     "name": "stdout",
     "output_type": "stream",
     "text": [
      "[ON_DATA] Business Development Manager - Transport & Logistics Antal International 2021-03-19 https://ae.linkedin.com/jobs/view/business-development-manager-transport-logistics-at-antal-international-2468548151?refId=24a6b033-3258-4c97-929a-f148391d872e&trackingId=KqI%2FfgWlwWApXEWrI91ZKQ%3D%3D&position=5&pageNum=27&trk=public_jobs_job-result-card_result-card_full-click\n"
     ]
    },
    {
     "name": "stderr",
     "output_type": "stream",
     "text": [
      "INFO:li:scraper:('[healthcare][United Arab Emirates][650]', 'Processed')\n"
     ]
    },
    {
     "name": "stdout",
     "output_type": "stream",
     "text": [
      "[ON_DATA] Physics Teacher Repton School - Dubai 2021-03-26 https://ae.linkedin.com/jobs/view/physics-teacher-at-repton-school-dubai-2478586641?refId=24a6b033-3258-4c97-929a-f148391d872e&trackingId=ZMkXR44RGJ9cXcYiTxyPRQ%3D%3D&position=6&pageNum=27&trk=public_jobs_job-result-card_result-card_full-click\n"
     ]
    },
    {
     "name": "stderr",
     "output_type": "stream",
     "text": [
      "INFO:li:scraper:('[healthcare][United Arab Emirates][651]', 'Processed')\n"
     ]
    },
    {
     "name": "stdout",
     "output_type": "stream",
     "text": [
      "[ON_DATA] Male Registered Nurse for School Via Medica Intl 2021-03-03 https://ae.linkedin.com/jobs/view/male-registered-nurse-for-school-at-via-medica-intl-2445468311?refId=24a6b033-3258-4c97-929a-f148391d872e&trackingId=jzxlL1uTN4c8CcwcnAhN0Q%3D%3D&position=7&pageNum=27&trk=public_jobs_job-result-card_result-card_full-click\n"
     ]
    },
    {
     "name": "stderr",
     "output_type": "stream",
     "text": [
      "INFO:li:scraper:('[healthcare][United Arab Emirates][652]', 'Processed')\n"
     ]
    },
    {
     "name": "stdout",
     "output_type": "stream",
     "text": [
      "[ON_DATA] School Registered Nurse - Reliever Via Medica Intl 2021-03-24 https://ae.linkedin.com/jobs/view/school-registered-nurse-reliever-at-via-medica-intl-2475410878?refId=24a6b033-3258-4c97-929a-f148391d872e&trackingId=FTSkzOvxxboNSYm5%2BPik8w%3D%3D&position=8&pageNum=27&trk=public_jobs_job-result-card_result-card_full-click\n"
     ]
    },
    {
     "name": "stderr",
     "output_type": "stream",
     "text": [
      "INFO:li:scraper:('[healthcare][United Arab Emirates][653]', 'Processed')\n"
     ]
    },
    {
     "name": "stdout",
     "output_type": "stream",
     "text": [
      "[ON_DATA] Microsoft EPM Professional Najma Consultancy 2021-03-29 https://ae.linkedin.com/jobs/view/microsoft-epm-professional-at-najma-consultancy-2481041080?refId=24a6b033-3258-4c97-929a-f148391d872e&trackingId=zQUP79l1MzgELOgwYdqB4g%3D%3D&position=9&pageNum=27&trk=public_jobs_job-result-card_result-card_full-click\n"
     ]
    },
    {
     "name": "stderr",
     "output_type": "stream",
     "text": [
      "INFO:li:scraper:('[healthcare][United Arab Emirates][654]', 'Processed')\n"
     ]
    },
    {
     "name": "stdout",
     "output_type": "stream",
     "text": [
      "[ON_DATA] Consultant Cardiac Surgeon SearchPlus 2020-11-17 https://ae.linkedin.com/jobs/view/consultant-cardiac-surgeon-at-searchplus-2312726334?refId=24a6b033-3258-4c97-929a-f148391d872e&trackingId=yAkZXe7%2FccBHLrnT32BhfQ%3D%3D&position=10&pageNum=27&trk=public_jobs_job-result-card_result-card_full-click\n"
     ]
    },
    {
     "name": "stderr",
     "output_type": "stream",
     "text": [
      "INFO:li:scraper:('[healthcare][United Arab Emirates][655]', 'Processed')\n"
     ]
    },
    {
     "name": "stdout",
     "output_type": "stream",
     "text": [
      "[ON_DATA] Homecare Nurse RTC1 Recruitment Services 2021-03-27 https://ae.linkedin.com/jobs/view/homecare-nurse-at-rtc1-recruitment-services-2456640605?refId=24a6b033-3258-4c97-929a-f148391d872e&trackingId=FEk0divMpLYpgfc9CmCgFg%3D%3D&position=11&pageNum=27&trk=public_jobs_job-result-card_result-card_full-click\n"
     ]
    },
    {
     "name": "stderr",
     "output_type": "stream",
     "text": [
      "INFO:li:scraper:('[healthcare][United Arab Emirates][656]', 'Processed')\n"
     ]
    },
    {
     "name": "stdout",
     "output_type": "stream",
     "text": [
      "[ON_DATA] ICU Consultant Opportunity with International Hospital Omni International 2021-02-10 https://ae.linkedin.com/jobs/view/icu-consultant-opportunity-with-international-hospital-at-omni-international-2419338601?refId=24a6b033-3258-4c97-929a-f148391d872e&trackingId=C64oAenXd%2FaHWWeX0HL8xQ%3D%3D&position=12&pageNum=27&trk=public_jobs_job-result-card_result-card_full-click\n"
     ]
    },
    {
     "name": "stderr",
     "output_type": "stream",
     "text": [
      "INFO:li:scraper:('[healthcare][United Arab Emirates][657]', 'Processed')\n"
     ]
    },
    {
     "name": "stdout",
     "output_type": "stream",
     "text": [
      "[ON_DATA] Plant/HVAC (Heating Ventilation Air Conditioning) Engineer - Hospital Vamed Middle East 2021-03-19 https://ae.linkedin.com/jobs/view/plant-hvac-heating-ventilation-air-conditioning-engineer-hospital-at-vamed-middle-east-2468545651?refId=24a6b033-3258-4c97-929a-f148391d872e&trackingId=q%2FkEQwq4%2F%2BM9HY3OpTgSHw%3D%3D&position=13&pageNum=27&trk=public_jobs_job-result-card_result-card_full-click\n"
     ]
    },
    {
     "name": "stderr",
     "output_type": "stream",
     "text": [
      "INFO:li:scraper:('[healthcare][United Arab Emirates][658]', 'Processed')\n"
     ]
    },
    {
     "name": "stdout",
     "output_type": "stream",
     "text": [
      "[ON_DATA] HAAD Registered Nurse for School Via Medica Intl 2021-03-03 https://ae.linkedin.com/jobs/view/haad-registered-nurse-for-school-at-via-medica-intl-2445463911?refId=24a6b033-3258-4c97-929a-f148391d872e&trackingId=c1LrxJUpSSVPJYSxjJZV1g%3D%3D&position=14&pageNum=27&trk=public_jobs_job-result-card_result-card_full-click\n"
     ]
    },
    {
     "name": "stderr",
     "output_type": "stream",
     "text": [
      "INFO:li:scraper:('[healthcare][United Arab Emirates][659]', 'Processed')\n"
     ]
    },
    {
     "name": "stdout",
     "output_type": "stream",
     "text": [
      "[ON_DATA] Female Radiologist Prime Source 2021-02-11 https://ae.linkedin.com/jobs/view/female-radiologist-at-prime-source-2436817086?refId=24a6b033-3258-4c97-929a-f148391d872e&trackingId=TVCD1pQge3U7%2Fe1%2B%2FoQmng%3D%3D&position=15&pageNum=27&trk=public_jobs_job-result-card_result-card_full-click\n"
     ]
    },
    {
     "name": "stderr",
     "output_type": "stream",
     "text": [
      "INFO:li:scraper:('[healthcare][United Arab Emirates][660]', 'Processed')\n"
     ]
    },
    {
     "name": "stdout",
     "output_type": "stream",
     "text": [
      "[ON_DATA] Specialist Geriatric Medicine in DHA sector Search Plus Hr 2021-03-26 https://ae.linkedin.com/jobs/view/specialist-geriatric-medicine-in-dha-sector-at-search-plus-hr-2488617626?refId=24a6b033-3258-4c97-929a-f148391d872e&trackingId=fUzicCQPuQvvhgfLczWlJQ%3D%3D&position=16&pageNum=27&trk=public_jobs_job-result-card_result-card_full-click\n"
     ]
    },
    {
     "name": "stderr",
     "output_type": "stream",
     "text": [
      "INFO:li:scraper:('[healthcare][United Arab Emirates][661]', 'Processed')\n"
     ]
    },
    {
     "name": "stdout",
     "output_type": "stream",
     "text": [
      "[ON_DATA] Anesthesia Technician Prime Source 2021-02-11 https://ae.linkedin.com/jobs/view/anesthesia-technician-at-prime-source-2436828329?refId=24a6b033-3258-4c97-929a-f148391d872e&trackingId=KDkh7pVucHNBzezD5se1Ug%3D%3D&position=17&pageNum=27&trk=public_jobs_job-result-card_result-card_full-click\n"
     ]
    },
    {
     "name": "stderr",
     "output_type": "stream",
     "text": [
      "INFO:li:scraper:('[healthcare][United Arab Emirates][662]', 'Processed')\n"
     ]
    },
    {
     "name": "stdout",
     "output_type": "stream",
     "text": [
      "[ON_DATA] Senior Solution Architect Digital14 2021-04-02 https://ae.linkedin.com/jobs/view/senior-solution-architect-at-digital14-2487283524?refId=24a6b033-3258-4c97-929a-f148391d872e&trackingId=j%2FfjLDdbs2RjcS5pAxzrXA%3D%3D&position=18&pageNum=27&trk=public_jobs_job-result-card_result-card_full-click\n"
     ]
    },
    {
     "name": "stderr",
     "output_type": "stream",
     "text": [
      "INFO:li:scraper:('[healthcare][United Arab Emirates][663]', 'Processed')\n"
     ]
    },
    {
     "name": "stdout",
     "output_type": "stream",
     "text": [
      "[ON_DATA] Car Park Valet Pullman 2021-03-30 https://ae.linkedin.com/jobs/view/car-park-valet-at-pullman-2482548559?refId=24a6b033-3258-4c97-929a-f148391d872e&trackingId=RYhiaN6OYqnQa1DPDRi9eQ%3D%3D&position=19&pageNum=27&trk=public_jobs_job-result-card_result-card_full-click\n"
     ]
    },
    {
     "name": "stderr",
     "output_type": "stream",
     "text": [
      "INFO:li:scraper:('[healthcare][United Arab Emirates][664]', 'Processed')\n"
     ]
    },
    {
     "name": "stdout",
     "output_type": "stream",
     "text": [
      "[ON_DATA] Head of Finance Robert Walters 2021-02-11 https://ae.linkedin.com/jobs/view/head-of-finance-at-robert-walters-2420105262?refId=24a6b033-3258-4c97-929a-f148391d872e&trackingId=2p5ZCRJ8t2A5MYvyP33J9A%3D%3D&position=20&pageNum=27&trk=public_jobs_job-result-card_result-card_full-click\n"
     ]
    },
    {
     "name": "stderr",
     "output_type": "stream",
     "text": [
      "INFO:li:scraper:('[healthcare][United Arab Emirates][665]', 'Processed')\n"
     ]
    },
    {
     "name": "stdout",
     "output_type": "stream",
     "text": [
      "[ON_DATA] Consultant Radiation Oncologist Search Plus Hr 2021-03-26 https://ae.linkedin.com/jobs/view/consultant-radiation-oncologist-at-search-plus-hr-2478586644?refId=24a6b033-3258-4c97-929a-f148391d872e&trackingId=nCaL3RCUVHuKnabo64Vbug%3D%3D&position=21&pageNum=27&trk=public_jobs_job-result-card_result-card_full-click\n"
     ]
    },
    {
     "name": "stderr",
     "output_type": "stream",
     "text": [
      "INFO:li:scraper:('[healthcare][United Arab Emirates][666]', 'Processed')\n"
     ]
    },
    {
     "name": "stdout",
     "output_type": "stream",
     "text": [
      "[ON_DATA] Consultant Surgical Oncologist (DHA) Davidson Management Consultants 2021-03-20 https://ae.linkedin.com/jobs/view/consultant-surgical-oncologist-dha-at-davidson-management-consultants-2488606303?refId=24a6b033-3258-4c97-929a-f148391d872e&trackingId=bCeGR1Ji7IAhPKScfCQiyg%3D%3D&position=22&pageNum=27&trk=public_jobs_job-result-card_result-card_full-click\n"
     ]
    },
    {
     "name": "stderr",
     "output_type": "stream",
     "text": [
      "INFO:li:scraper:('[healthcare][United Arab Emirates][667]', 'Processed')\n"
     ]
    },
    {
     "name": "stdout",
     "output_type": "stream",
     "text": [
      "[ON_DATA] Car Park Valet Accor Careers 2021-04-01 https://ae.linkedin.com/jobs/view/car-park-valet-at-accor-careers-2489503707?refId=24a6b033-3258-4c97-929a-f148391d872e&trackingId=KVtdz8iT6YPlNg3piVl%2BLQ%3D%3D&position=23&pageNum=27&trk=public_jobs_job-result-card_result-card_full-click\n"
     ]
    },
    {
     "name": "stderr",
     "output_type": "stream",
     "text": [
      "INFO:li:scraper:('[healthcare][United Arab Emirates][668]', 'Processed')\n"
     ]
    },
    {
     "name": "stdout",
     "output_type": "stream",
     "text": [
      "[ON_DATA] Data Application Engineer Marc Ellis 2021-03-22 https://ae.linkedin.com/jobs/view/data-application-engineer-at-marc-ellis-2472058270?refId=24a6b033-3258-4c97-929a-f148391d872e&trackingId=nBajE2U3pWycpCbsEybk7w%3D%3D&position=24&pageNum=27&trk=public_jobs_job-result-card_result-card_full-click\n"
     ]
    },
    {
     "name": "stderr",
     "output_type": "stream",
     "text": [
      "INFO:li:scraper:('[healthcare][United Arab Emirates][669]', 'Processed')\n",
      "INFO:li:scraper:('[healthcare][United Arab Emirates][669]', 'Checking for new jobs to load...')\n"
     ]
    },
    {
     "name": "stdout",
     "output_type": "stream",
     "text": [
      "[ON_DATA] Anesthesiologist Specialist/Consultant Search Plus Hr 2021-03-26 https://ae.linkedin.com/jobs/view/anesthesiologist-specialist-consultant-at-search-plus-hr-2485757192?refId=24a6b033-3258-4c97-929a-f148391d872e&trackingId=bj4HkZoSri3rkTzUFBV%2BHw%3D%3D&position=25&pageNum=27&trk=public_jobs_job-result-card_result-card_full-click\n"
     ]
    },
    {
     "name": "stderr",
     "output_type": "stream",
     "text": [
      "INFO:li:scraper:('[healthcare][United Arab Emirates][669]', 'Found 694 jobs')\n",
      "INFO:li:scraper:('[healthcare][United Arab Emirates][670]', 'Processed')\n"
     ]
    },
    {
     "name": "stdout",
     "output_type": "stream",
     "text": [
      "[ON_DATA] Data Application Engineer Marc Ellis 2021-03-22 https://ae.linkedin.com/jobs/view/data-application-engineer-at-marc-ellis-2472058270?refId=c5633935-7b83-4c3f-9850-d8e781481b9f&trackingId=rAYzTLK0D6XVFkaLWqMKmQ%3D%3D&position=1&pageNum=28&trk=public_jobs_job-result-card_result-card_full-click\n"
     ]
    },
    {
     "name": "stderr",
     "output_type": "stream",
     "text": [
      "INFO:li:scraper:('[healthcare][United Arab Emirates][671]', 'Processed')\n"
     ]
    },
    {
     "name": "stdout",
     "output_type": "stream",
     "text": [
      "[ON_DATA] Anesthesiologist Specialist/Consultant Search Plus Hr 2021-03-26 https://ae.linkedin.com/jobs/view/anesthesiologist-specialist-consultant-at-search-plus-hr-2485757192?refId=c5633935-7b83-4c3f-9850-d8e781481b9f&trackingId=HP71COoLZ%2B70%2F043Qy25zA%3D%3D&position=2&pageNum=28&trk=public_jobs_job-result-card_result-card_full-click\n"
     ]
    },
    {
     "name": "stderr",
     "output_type": "stream",
     "text": [
      "INFO:li:scraper:('[healthcare][United Arab Emirates][672]', 'Processed')\n"
     ]
    },
    {
     "name": "stdout",
     "output_type": "stream",
     "text": [
      "[ON_DATA] Charge Nurse-Emergency Department University Hospital Sharjah 2021-03-22 https://ae.linkedin.com/jobs/view/charge-nurse-emergency-department-at-university-hospital-sharjah-2472019164?refId=c5633935-7b83-4c3f-9850-d8e781481b9f&trackingId=6VIR8d4hEAU%2FDr6FnSxBbg%3D%3D&position=3&pageNum=28&trk=public_jobs_job-result-card_result-card_full-click\n"
     ]
    },
    {
     "name": "stderr",
     "output_type": "stream",
     "text": [
      "INFO:li:scraper:('[healthcare][United Arab Emirates][673]', 'Processed')\n"
     ]
    },
    {
     "name": "stdout",
     "output_type": "stream",
     "text": [
      "[ON_DATA] Director - Turnaround Restructuring - Industrial Asset Heavy Businesses NSI & Bluefin Talent 2021-03-23 https://ae.linkedin.com/jobs/view/director-turnaround-restructuring-industrial-asset-heavy-businesses-at-nsi-bluefin-talent-2473205802?refId=c5633935-7b83-4c3f-9850-d8e781481b9f&trackingId=PMO7QAbTcFuPlOMKZ%2B70rQ%3D%3D&position=4&pageNum=28&trk=public_jobs_job-result-card_result-card_full-click\n"
     ]
    },
    {
     "name": "stderr",
     "output_type": "stream",
     "text": [
      "INFO:li:scraper:('[healthcare][United Arab Emirates][674]', 'Processed')\n"
     ]
    },
    {
     "name": "stdout",
     "output_type": "stream",
     "text": [
      "[ON_DATA] Physiotherapist Consultant Aatush Immigration Consultants 2021-03-12 https://ae.linkedin.com/jobs/view/physiotherapist-consultant-at-aatush-immigration-consultants-2491168997?refId=c5633935-7b83-4c3f-9850-d8e781481b9f&trackingId=EGYVMYPgUsJBQplO2Dk%2BPQ%3D%3D&position=5&pageNum=28&trk=public_jobs_job-result-card_result-card_full-click\n"
     ]
    },
    {
     "name": "stderr",
     "output_type": "stream",
     "text": [
      "INFO:li:scraper:('[healthcare][United Arab Emirates][675]', 'Processed')\n"
     ]
    },
    {
     "name": "stdout",
     "output_type": "stream",
     "text": [
      "[ON_DATA] Automation Engineer ll talabat 2021-03-15 https://ae.linkedin.com/jobs/view/automation-engineer-ll-at-talabat-2401651238?refId=c5633935-7b83-4c3f-9850-d8e781481b9f&trackingId=%2F%2B3wOKuqkUFZHtnpEY83RA%3D%3D&position=6&pageNum=28&trk=public_jobs_job-result-card_result-card_full-click\n"
     ]
    },
    {
     "name": "stderr",
     "output_type": "stream",
     "text": [
      "INFO:li:scraper:('[healthcare][United Arab Emirates][676]', 'Processed')\n"
     ]
    },
    {
     "name": "stdout",
     "output_type": "stream",
     "text": [
      "[ON_DATA] Palliative Care Consultant - Abu Dhabi Medacs Healthcare 2021-03-28 https://ae.linkedin.com/jobs/view/palliative-care-consultant-abu-dhabi-at-medacs-healthcare-2480564640?refId=c5633935-7b83-4c3f-9850-d8e781481b9f&trackingId=IZXga1aFUgSTgeC7KjbOFw%3D%3D&position=7&pageNum=28&trk=public_jobs_job-result-card_result-card_full-click\n"
     ]
    },
    {
     "name": "stderr",
     "output_type": "stream",
     "text": [
      "INFO:li:scraper:('[healthcare][United Arab Emirates][677]', 'Processed')\n"
     ]
    },
    {
     "name": "stdout",
     "output_type": "stream",
     "text": [
      "[ON_DATA] Sonographer Global Human Capital Group (CHCG) 2021-03-15 https://ae.linkedin.com/jobs/view/sonographer-at-global-human-capital-group-chcg-2462759261?refId=c5633935-7b83-4c3f-9850-d8e781481b9f&trackingId=LG3q2CutirYgBuzlkrN6Jw%3D%3D&position=8&pageNum=28&trk=public_jobs_job-result-card_result-card_full-click\n"
     ]
    },
    {
     "name": "stderr",
     "output_type": "stream",
     "text": [
      "INFO:li:scraper:('[healthcare][United Arab Emirates][678]', 'Processed')\n"
     ]
    },
    {
     "name": "stdout",
     "output_type": "stream",
     "text": [
      "[ON_DATA] LASER TECHNICIAN WITH HAAD/DHA Nmc Healthcare 2021-03-19 https://ae.linkedin.com/jobs/view/laser-technician-with-haad-dha-at-nmc-healthcare-2468543824?refId=c5633935-7b83-4c3f-9850-d8e781481b9f&trackingId=KzWAQTsjcU6HCKAsT7PkLQ%3D%3D&position=9&pageNum=28&trk=public_jobs_job-result-card_result-card_full-click\n"
     ]
    },
    {
     "name": "stderr",
     "output_type": "stream",
     "text": [
      "INFO:li:scraper:('[healthcare][United Arab Emirates][679]', 'Processed')\n"
     ]
    },
    {
     "name": "stdout",
     "output_type": "stream",
     "text": [
      "[ON_DATA] Senior Solution Architect Digital14 2021-03-31 https://ae.linkedin.com/jobs/view/senior-solution-architect-at-digital14-2464239774?refId=c5633935-7b83-4c3f-9850-d8e781481b9f&trackingId=dRo177S7MQ%2BbL8oZPcqHzA%3D%3D&position=10&pageNum=28&trk=public_jobs_job-result-card_result-card_full-click\n"
     ]
    },
    {
     "name": "stderr",
     "output_type": "stream",
     "text": [
      "INFO:li:scraper:('[healthcare][United Arab Emirates][680]', 'Processed')\n"
     ]
    },
    {
     "name": "stdout",
     "output_type": "stream",
     "text": [
      "[ON_DATA] Assistant Professor/Associate Professor/Full Professor, Information Systems and Security United Arab Emirates University 2021-03-09 https://ae.linkedin.com/jobs/view/assistant-professor-associate-professor-full-professor-information-systems-and-security-at-united-arab-emirates-university-2453405306?refId=c5633935-7b83-4c3f-9850-d8e781481b9f&trackingId=RtUO8el%2BJpyu82HMEo5CzQ%3D%3D&position=11&pageNum=28&trk=public_jobs_job-result-card_result-card_full-click\n"
     ]
    },
    {
     "name": "stderr",
     "output_type": "stream",
     "text": [
      "INFO:li:scraper:('[healthcare][United Arab Emirates][681]', 'Processed')\n"
     ]
    },
    {
     "name": "stdout",
     "output_type": "stream",
     "text": [
      "[ON_DATA] Occupational Therapists, Abu Dhabi MPA Recruitment 2021-03-02 https://ae.linkedin.com/jobs/view/occupational-therapists-abu-dhabi-at-mpa-recruitment-2443932257?refId=c5633935-7b83-4c3f-9850-d8e781481b9f&trackingId=BeHifeAwsycMvE0TSldbew%3D%3D&position=12&pageNum=28&trk=public_jobs_job-result-card_result-card_full-click\n"
     ]
    },
    {
     "name": "stderr",
     "output_type": "stream",
     "text": [
      "INFO:li:scraper:('[healthcare][United Arab Emirates][682]', 'Processed')\n"
     ]
    },
    {
     "name": "stdout",
     "output_type": "stream",
     "text": [
      "[ON_DATA] Occupational Therapists, Abu Dhabi Mpa Recruitment 2021-03-22 https://ae.linkedin.com/jobs/view/occupational-therapists-abu-dhabi-at-mpa-recruitment-2488630479?refId=c5633935-7b83-4c3f-9850-d8e781481b9f&trackingId=vz37DraQQOVVx0KjSOmcEw%3D%3D&position=13&pageNum=28&trk=public_jobs_job-result-card_result-card_full-click\n"
     ]
    },
    {
     "name": "stderr",
     "output_type": "stream",
     "text": [
      "INFO:li:scraper:('[healthcare][United Arab Emirates][683]', 'Processed')\n"
     ]
    },
    {
     "name": "stdout",
     "output_type": "stream",
     "text": [
      "[ON_DATA] Enterprise Data Engineer Scrips Inc. Ltd 2021-03-18 https://ae.linkedin.com/jobs/view/enterprise-data-engineer-at-scrips-inc-ltd-2466927845?refId=c5633935-7b83-4c3f-9850-d8e781481b9f&trackingId=xbPNdbTXNwmrb3IWLbnJRA%3D%3D&position=14&pageNum=28&trk=public_jobs_job-result-card_result-card_full-click\n"
     ]
    },
    {
     "name": "stderr",
     "output_type": "stream",
     "text": [
      "INFO:li:scraper:('[healthcare][United Arab Emirates][684]', 'Processed')\n"
     ]
    },
    {
     "name": "stdout",
     "output_type": "stream",
     "text": [
      "[ON_DATA] ICU Consultant Opportunity with International Hospital Omni International 2021-03-19 https://ae.linkedin.com/jobs/view/icu-consultant-opportunity-with-international-hospital-at-omni-international-2485747888?refId=c5633935-7b83-4c3f-9850-d8e781481b9f&trackingId=R8r4ZZfzSPcNUVhLyfJSHg%3D%3D&position=15&pageNum=28&trk=public_jobs_job-result-card_result-card_full-click\n"
     ]
    },
    {
     "name": "stderr",
     "output_type": "stream",
     "text": [
      "INFO:li:scraper:('[healthcare][United Arab Emirates][685]', 'Processed')\n"
     ]
    },
    {
     "name": "stdout",
     "output_type": "stream",
     "text": [
      "[ON_DATA] Male Nurse JTLI Contracting 2021-03-23 https://ae.linkedin.com/jobs/view/male-nurse-at-jtli-contracting-2473209452?refId=c5633935-7b83-4c3f-9850-d8e781481b9f&trackingId=PcTJqPOJyy9H%2BJUl11lyGQ%3D%3D&position=16&pageNum=28&trk=public_jobs_job-result-card_result-card_full-click\n"
     ]
    },
    {
     "name": "stderr",
     "output_type": "stream",
     "text": [
      "INFO:li:scraper:('[healthcare][United Arab Emirates][686]', 'Processed')\n"
     ]
    },
    {
     "name": "stdout",
     "output_type": "stream",
     "text": [
      "[ON_DATA] Nurse - DHA Registered Certificate JTLI Contracting 2021-03-24 https://ae.linkedin.com/jobs/view/nurse-dha-registered-certificate-at-jtli-contracting-2475230099?refId=c5633935-7b83-4c3f-9850-d8e781481b9f&trackingId=3V1fDukITr4ckFkNF2YcDg%3D%3D&position=17&pageNum=28&trk=public_jobs_job-result-card_result-card_full-click\n"
     ]
    },
    {
     "name": "stderr",
     "output_type": "stream",
     "text": [
      "INFO:li:scraper:('[healthcare][United Arab Emirates][687]', 'Processed')\n"
     ]
    },
    {
     "name": "stdout",
     "output_type": "stream",
     "text": [
      "[ON_DATA] Dermatologist Prime Source 2021-02-11 https://ae.linkedin.com/jobs/view/dermatologist-at-prime-source-2436825750?refId=c5633935-7b83-4c3f-9850-d8e781481b9f&trackingId=OIpPcdctBsWs2dT6PQwcCQ%3D%3D&position=18&pageNum=28&trk=public_jobs_job-result-card_result-card_full-click\n"
     ]
    },
    {
     "name": "stderr",
     "output_type": "stream",
     "text": [
      "INFO:li:scraper:('[healthcare][United Arab Emirates][688]', 'Processed')\n"
     ]
    },
    {
     "name": "stdout",
     "output_type": "stream",
     "text": [
      "[ON_DATA] Specialist / Consultant Anesthesiologist SearchPlus 2020-10-09 https://ae.linkedin.com/jobs/view/specialist-consultant-anesthesiologist-at-searchplus-2271397838?refId=c5633935-7b83-4c3f-9850-d8e781481b9f&trackingId=tkWShxwEPkXExjGmLtWQog%3D%3D&position=19&pageNum=28&trk=public_jobs_job-result-card_result-card_full-click\n"
     ]
    },
    {
     "name": "stderr",
     "output_type": "stream",
     "text": [
      "INFO:li:scraper:('[healthcare][United Arab Emirates][689]', 'Processed')\n"
     ]
    },
    {
     "name": "stdout",
     "output_type": "stream",
     "text": [
      "[ON_DATA] Track Technician - Fixed Term Serco Plc 2021-04-05 https://ae.linkedin.com/jobs/view/track-technician-fixed-term-at-serco-plc-2490441990?refId=c5633935-7b83-4c3f-9850-d8e781481b9f&trackingId=pKzfk8UT0Zfho00pPJLFjg%3D%3D&position=20&pageNum=28&trk=public_jobs_job-result-card_result-card_full-click\n"
     ]
    },
    {
     "name": "stderr",
     "output_type": "stream",
     "text": [
      "INFO:li:scraper:('[healthcare][United Arab Emirates][690]', 'Processed')\n"
     ]
    },
    {
     "name": "stdout",
     "output_type": "stream",
     "text": [
      "[ON_DATA] Laser Technician Ain Al Khaleej Hospital 2021-02-15 https://ae.linkedin.com/jobs/view/laser-technician-at-ain-al-khaleej-hospital-2425596800?refId=c5633935-7b83-4c3f-9850-d8e781481b9f&trackingId=KXrgSnGJK5EfRzbPapBqAQ%3D%3D&position=21&pageNum=28&trk=public_jobs_job-result-card_result-card_full-click\n"
     ]
    },
    {
     "name": "stderr",
     "output_type": "stream",
     "text": [
      "INFO:li:scraper:('[healthcare][United Arab Emirates][691]', 'Processed')\n"
     ]
    },
    {
     "name": "stdout",
     "output_type": "stream",
     "text": [
      "[ON_DATA] Affiliate Marketing Manager Cassia DWC-LLC 2021-01-12 https://ae.linkedin.com/jobs/view/affiliate-marketing-manager-at-cassia-dwc-llc-2378147108?refId=c5633935-7b83-4c3f-9850-d8e781481b9f&trackingId=YonB47HIkoMGXOCJpfcgmQ%3D%3D&position=22&pageNum=28&trk=public_jobs_job-result-card_result-card_full-click\n"
     ]
    },
    {
     "name": "stderr",
     "output_type": "stream",
     "text": [
      "INFO:li:scraper:('[healthcare][United Arab Emirates][692]', 'Processed')\n"
     ]
    },
    {
     "name": "stdout",
     "output_type": "stream",
     "text": [
      "[ON_DATA] Dermatologist Cassia DWC-LLC 2021-01-12 https://ae.linkedin.com/jobs/view/dermatologist-at-cassia-dwc-llc-2378142594?refId=c5633935-7b83-4c3f-9850-d8e781481b9f&trackingId=YbN3rmgBON5Uct9ZbugvVg%3D%3D&position=23&pageNum=28&trk=public_jobs_job-result-card_result-card_full-click\n"
     ]
    },
    {
     "name": "stderr",
     "output_type": "stream",
     "text": [
      "INFO:li:scraper:('[healthcare][United Arab Emirates][693]', 'Processed')\n"
     ]
    },
    {
     "name": "stdout",
     "output_type": "stream",
     "text": [
      "[ON_DATA] Specialist Orthodontist Cassia DWC-LLC 2021-02-05 https://ae.linkedin.com/jobs/view/specialist-orthodontist-at-cassia-dwc-llc-2414543927?refId=c5633935-7b83-4c3f-9850-d8e781481b9f&trackingId=LmjQPHvCJn1wi6BsHT46yw%3D%3D&position=24&pageNum=28&trk=public_jobs_job-result-card_result-card_full-click\n"
     ]
    },
    {
     "name": "stderr",
     "output_type": "stream",
     "text": [
      "INFO:li:scraper:('[healthcare][United Arab Emirates][694]', 'Processed')\n",
      "INFO:li:scraper:('[healthcare][United Arab Emirates][694]', 'Checking for new jobs to load...')\n"
     ]
    },
    {
     "name": "stdout",
     "output_type": "stream",
     "text": [
      "[ON_DATA] Charge Nurse-Avation/Family medicine University Hospital Sharjah 2021-03-20 https://ae.linkedin.com/jobs/view/charge-nurse-avation-family-medicine-at-university-hospital-sharjah-2469913708?refId=c5633935-7b83-4c3f-9850-d8e781481b9f&trackingId=HBZLkgwvEfTy7H95uniGNA%3D%3D&position=25&pageNum=28&trk=public_jobs_job-result-card_result-card_full-click\n"
     ]
    },
    {
     "name": "stderr",
     "output_type": "stream",
     "text": [
      "INFO:li:scraper:('[healthcare][United Arab Emirates][694]', 'Found 718 jobs')\n",
      "INFO:li:scraper:('[healthcare][United Arab Emirates][695]', 'Processed')\n"
     ]
    },
    {
     "name": "stdout",
     "output_type": "stream",
     "text": [
      "[ON_DATA] Consultant - Medical Oncologist Careerlink HR 2021-04-06 https://ae.linkedin.com/jobs/view/consultant-medical-oncologist-at-careerlink-hr-2491717937?refId=d3d255eb-75e1-4da4-8be9-7e11fcc35ac9&trackingId=4v0PqjWfwT5VXX8mlE8EfQ%3D%3D&position=1&pageNum=29&trk=public_jobs_job-result-card_result-card_full-click\n"
     ]
    },
    {
     "name": "stderr",
     "output_type": "stream",
     "text": [
      "INFO:li:scraper:('[healthcare][United Arab Emirates][696]', 'Processed')\n"
     ]
    },
    {
     "name": "stdout",
     "output_type": "stream",
     "text": [
      "[ON_DATA] Laser Technician Sama Alshamkha Medical Center 2021-01-21 https://ae.linkedin.com/jobs/view/laser-technician-at-sama-alshamkha-medical-center-2424621720?refId=d3d255eb-75e1-4da4-8be9-7e11fcc35ac9&trackingId=WyirX7v%2F6JKaqmdnMQF6vQ%3D%3D&position=2&pageNum=29&trk=public_jobs_job-result-card_result-card_full-click\n"
     ]
    },
    {
     "name": "stderr",
     "output_type": "stream",
     "text": [
      "INFO:li:scraper:('[healthcare][United Arab Emirates][697]', 'Processed')\n"
     ]
    },
    {
     "name": "stdout",
     "output_type": "stream",
     "text": [
      "[ON_DATA] Radiation Oncologist (North American trained) American Hospital Dubai 2021-03-08 https://ae.linkedin.com/jobs/view/radiation-oncologist-north-american-trained-at-american-hospital-dubai-2435736562?refId=d3d255eb-75e1-4da4-8be9-7e11fcc35ac9&trackingId=tqo2UA4KduhVUFiuXla%2FwQ%3D%3D&position=3&pageNum=29&trk=public_jobs_job-result-card_result-card_full-click\n"
     ]
    },
    {
     "name": "stderr",
     "output_type": "stream",
     "text": [
      "INFO:li:scraper:('[healthcare][United Arab Emirates][698]', 'Processed')\n"
     ]
    },
    {
     "name": "stdout",
     "output_type": "stream",
     "text": [
      "[ON_DATA] Consultant Ophthalmologist (Western educated) Davidson Management Consultants 2021-03-20 https://ae.linkedin.com/jobs/view/consultant-ophthalmologist-western-educated-at-davidson-management-consultants-2487287824?refId=d3d255eb-75e1-4da4-8be9-7e11fcc35ac9&trackingId=3q9hPge0QMQFvwDDzgUCog%3D%3D&position=4&pageNum=29&trk=public_jobs_job-result-card_result-card_full-click\n"
     ]
    },
    {
     "name": "stderr",
     "output_type": "stream",
     "text": [
      "INFO:li:scraper:('[healthcare][United Arab Emirates][699]', 'Processed')\n"
     ]
    },
    {
     "name": "stdout",
     "output_type": "stream",
     "text": [
      "[ON_DATA] SPECIALIST PROSTHODONTIST Search Plus Hr 2021-03-19 https://ae.linkedin.com/jobs/view/specialist-prosthodontist-at-search-plus-hr-2490428110?refId=d3d255eb-75e1-4da4-8be9-7e11fcc35ac9&trackingId=sLCKUr4uhpFAsHOXAHDEOg%3D%3D&position=5&pageNum=29&trk=public_jobs_job-result-card_result-card_full-click\n"
     ]
    },
    {
     "name": "stderr",
     "output_type": "stream",
     "text": [
      "INFO:li:scraper:('[healthcare][United Arab Emirates][700]', 'Processed')\n"
     ]
    },
    {
     "name": "stdout",
     "output_type": "stream",
     "text": [
      "[ON_DATA] Diabetes Senior Nurse Manager/ Director - Abu Dhabi Medacs Healthcare 2021-03-28 https://ae.linkedin.com/jobs/view/diabetes-senior-nurse-manager-director-abu-dhabi-at-medacs-healthcare-2480564629?refId=d3d255eb-75e1-4da4-8be9-7e11fcc35ac9&trackingId=6B7lcOu6xq7fj%2BPIHwNPlw%3D%3D&position=6&pageNum=29&trk=public_jobs_job-result-card_result-card_full-click\n"
     ]
    },
    {
     "name": "stderr",
     "output_type": "stream",
     "text": [
      "INFO:li:scraper:('[healthcare][United Arab Emirates][701]', 'Processed')\n"
     ]
    },
    {
     "name": "stdout",
     "output_type": "stream",
     "text": [
      "[ON_DATA] AWS Alliance Manager IBM Middle East 2021-01-21 https://ae.linkedin.com/jobs/view/aws-alliance-manager-at-ibm-middle-east-2390353587?refId=d3d255eb-75e1-4da4-8be9-7e11fcc35ac9&trackingId=qYkqNnCdZHsroggFos9Lxw%3D%3D&position=7&pageNum=29&trk=public_jobs_job-result-card_result-card_full-click\n"
     ]
    },
    {
     "name": "stderr",
     "output_type": "stream",
     "text": [
      "INFO:li:scraper:('[healthcare][United Arab Emirates][702]', 'Processed')\n"
     ]
    },
    {
     "name": "stdout",
     "output_type": "stream",
     "text": [
      "[ON_DATA] Graphic Design Specialist I Healthcare I Dubai- UAE Al Futtaim 2021-03-20 https://ae.linkedin.com/jobs/view/graphic-design-specialist-i-healthcare-i-dubai-uae-at-al-futtaim-2469919075?refId=d3d255eb-75e1-4da4-8be9-7e11fcc35ac9&trackingId=ExRZ3jSa1wk%2B35gtmr%2F3mA%3D%3D&position=8&pageNum=29&trk=public_jobs_job-result-card_result-card_full-click\n"
     ]
    },
    {
     "name": "stderr",
     "output_type": "stream",
     "text": [
      "INFO:li:scraper:('[healthcare][United Arab Emirates][703]', 'Processed')\n"
     ]
    },
    {
     "name": "stdout",
     "output_type": "stream",
     "text": [
      "[ON_DATA] Grounds and Gardens Technician Vamed Middle East 2021-03-19 https://ae.linkedin.com/jobs/view/grounds-and-gardens-technician-at-vamed-middle-east-2468545686?refId=d3d255eb-75e1-4da4-8be9-7e11fcc35ac9&trackingId=96M%2FJaU%2FBwOHSoPytR%2BS2w%3D%3D&position=9&pageNum=29&trk=public_jobs_job-result-card_result-card_full-click\n"
     ]
    },
    {
     "name": "stderr",
     "output_type": "stream",
     "text": [
      "INFO:li:scraper:('[healthcare][United Arab Emirates][704]', 'Processed')\n"
     ]
    },
    {
     "name": "stdout",
     "output_type": "stream",
     "text": [
      "[ON_DATA] (Senior / Mid-Level)Systems Engineer - Salesforce team (f/m/d) talabat 2021-03-26 https://ae.linkedin.com/jobs/view/senior-mid-level-systems-engineer-salesforce-team-f-m-d-at-talabat-2454878303?refId=d3d255eb-75e1-4da4-8be9-7e11fcc35ac9&trackingId=UYbroAYt4s8hz%2FxNSBLDhw%3D%3D&position=10&pageNum=29&trk=public_jobs_job-result-card_result-card_full-click\n"
     ]
    },
    {
     "name": "stderr",
     "output_type": "stream",
     "text": [
      "INFO:li:scraper:('[healthcare][United Arab Emirates][705]', 'Processed')\n"
     ]
    },
    {
     "name": "stdout",
     "output_type": "stream",
     "text": [
      "[ON_DATA] LASER TECHNICIAN WITH HAAD/DHA Nmc Healthcare 2021-03-20 https://ae.linkedin.com/jobs/view/laser-technician-with-haad-dha-at-nmc-healthcare-2490434423?refId=d3d255eb-75e1-4da4-8be9-7e11fcc35ac9&trackingId=sJ1UwqVEZiitbPVXqCg%2BKw%3D%3D&position=11&pageNum=29&trk=public_jobs_job-result-card_result-card_full-click\n"
     ]
    },
    {
     "name": "stderr",
     "output_type": "stream",
     "text": [
      "INFO:li:scraper:('[healthcare][United Arab Emirates][706]', 'Processed')\n"
     ]
    },
    {
     "name": "stdout",
     "output_type": "stream",
     "text": [
      "[ON_DATA] SAP - Data Analyst IBM Middle East 2021-02-06 https://ae.linkedin.com/jobs/view/sap-data-analyst-at-ibm-middle-east-2414540963?refId=d3d255eb-75e1-4da4-8be9-7e11fcc35ac9&trackingId=ddlCoh3CIWmuY2VWBjCsoQ%3D%3D&position=12&pageNum=29&trk=public_jobs_job-result-card_result-card_full-click\n"
     ]
    },
    {
     "name": "stderr",
     "output_type": "stream",
     "text": [
      "INFO:li:scraper:('[healthcare][United Arab Emirates][707]', 'Processed')\n"
     ]
    },
    {
     "name": "stdout",
     "output_type": "stream",
     "text": [
      "[ON_DATA] Permanent Gastroenterology Physician Job in United Arab Emirates (UAE) Cross Country Search 2021-03-22 https://ae.linkedin.com/jobs/view/permanent-gastroenterology-physician-job-in-united-arab-emirates-uae-at-cross-country-search-2490445245?refId=d3d255eb-75e1-4da4-8be9-7e11fcc35ac9&trackingId=f8jtXOgeY6DBP8P8DIZFrQ%3D%3D&position=13&pageNum=29&trk=public_jobs_job-result-card_result-card_full-click\n"
     ]
    },
    {
     "name": "stderr",
     "output_type": "stream",
     "text": [
      "INFO:li:scraper:('[healthcare][United Arab Emirates][708]', 'Processed')\n"
     ]
    },
    {
     "name": "stdout",
     "output_type": "stream",
     "text": [
      "[ON_DATA] Assistant Technician - Special Systems /ELV Systems Serco Plc 2021-03-19 https://ae.linkedin.com/jobs/view/assistant-technician-special-systems-elv-systems-at-serco-plc-2468546721?refId=d3d255eb-75e1-4da4-8be9-7e11fcc35ac9&trackingId=3xB7rcSp774bjeKCGCvoUg%3D%3D&position=14&pageNum=29&trk=public_jobs_job-result-card_result-card_full-click\n"
     ]
    },
    {
     "name": "stderr",
     "output_type": "stream",
     "text": [
      "INFO:li:scraper:('[healthcare][United Arab Emirates][709]', 'Processed')\n"
     ]
    },
    {
     "name": "stdout",
     "output_type": "stream",
     "text": [
      "[ON_DATA] Pediatric Otolaryngologist Search Plus Hr 2021-03-26 https://ae.linkedin.com/jobs/view/pediatric-otolaryngologist-at-search-plus-hr-2478588331?refId=d3d255eb-75e1-4da4-8be9-7e11fcc35ac9&trackingId=2uflTg%2FylE1rfPtA1K37gQ%3D%3D&position=15&pageNum=29&trk=public_jobs_job-result-card_result-card_full-click\n"
     ]
    },
    {
     "name": "stderr",
     "output_type": "stream",
     "text": [
      "INFO:li:scraper:('[healthcare][United Arab Emirates][710]', 'Processed')\n"
     ]
    },
    {
     "name": "stdout",
     "output_type": "stream",
     "text": [
      "[ON_DATA] General Dentist with Cosmetic Experience Cassia DWC-LLC 2021-01-12 https://ae.linkedin.com/jobs/view/general-dentist-with-cosmetic-experience-at-cassia-dwc-llc-2378145259?refId=d3d255eb-75e1-4da4-8be9-7e11fcc35ac9&trackingId=KAH5WerzKOyQSz%2FU4hsBSw%3D%3D&position=16&pageNum=29&trk=public_jobs_job-result-card_result-card_full-click\n"
     ]
    },
    {
     "name": "stderr",
     "output_type": "stream",
     "text": [
      "INFO:li:scraper:('[healthcare][United Arab Emirates][711]', 'Processed')\n"
     ]
    },
    {
     "name": "stdout",
     "output_type": "stream",
     "text": [
      "[ON_DATA] Registered Nurse - DHA Licensed First Response Healthcare 2021-04-04 https://ae.linkedin.com/jobs/view/registered-nurse-dha-licensed-at-first-response-healthcare-2420034435?refId=d3d255eb-75e1-4da4-8be9-7e11fcc35ac9&trackingId=Xv73mz%2FrAM6I%2F0P%2BL5Ntdg%3D%3D&position=17&pageNum=29&trk=public_jobs_job-result-card_result-card_full-click\n"
     ]
    },
    {
     "name": "stderr",
     "output_type": "stream",
     "text": [
      "INFO:li:scraper:('[healthcare][United Arab Emirates][712]', 'Processed')\n"
     ]
    },
    {
     "name": "stdout",
     "output_type": "stream",
     "text": [
      "[ON_DATA] Solution Architect (12-Month Contract) Al Futtaim 2021-03-19 https://ae.linkedin.com/jobs/view/solution-architect-12-month-contract-at-al-futtaim-2468543811?refId=d3d255eb-75e1-4da4-8be9-7e11fcc35ac9&trackingId=uoQOWLVl22xhHIHQHhl8WQ%3D%3D&position=18&pageNum=29&trk=public_jobs_job-result-card_result-card_full-click\n"
     ]
    },
    {
     "name": "stderr",
     "output_type": "stream",
     "text": [
      "INFO:li:scraper:('[healthcare][United Arab Emirates][713]', 'Processed')\n"
     ]
    },
    {
     "name": "stdout",
     "output_type": "stream",
     "text": [
      "[ON_DATA] Registered Nurse Ain Al Khaleej Hospital 2021-02-15 https://ae.linkedin.com/jobs/view/registered-nurse-at-ain-al-khaleej-hospital-2425600067?refId=d3d255eb-75e1-4da4-8be9-7e11fcc35ac9&trackingId=k6M9mg60ktfVfOyvf6Wjsw%3D%3D&position=19&pageNum=29&trk=public_jobs_job-result-card_result-card_full-click\n"
     ]
    },
    {
     "name": "stderr",
     "output_type": "stream",
     "text": [
      "INFO:li:scraper:('[healthcare][United Arab Emirates][714]', 'Processed')\n"
     ]
    },
    {
     "name": "stdout",
     "output_type": "stream",
     "text": [
      "[ON_DATA] Nurse Assistant Reyada Home Health Care Services L.L.C. 2021-03-05 https://ae.linkedin.com/jobs/view/nurse-assistant-at-reyada-home-health-care-services-l-l-c-2448295122?refId=d3d255eb-75e1-4da4-8be9-7e11fcc35ac9&trackingId=bhlXjZJ5xkFhspfywHi0TA%3D%3D&position=20&pageNum=29&trk=public_jobs_job-result-card_result-card_full-click\n"
     ]
    },
    {
     "name": "stderr",
     "output_type": "stream",
     "text": [
      "INFO:li:scraper:('[healthcare][United Arab Emirates][715]', 'Processed')\n"
     ]
    },
    {
     "name": "stdout",
     "output_type": "stream",
     "text": [
      "[ON_DATA] Technician - Special Airport Systems/ELV Systems Serco Plc 2021-03-19 https://ae.linkedin.com/jobs/view/technician-special-airport-systems-elv-systems-at-serco-plc-2468549140?refId=d3d255eb-75e1-4da4-8be9-7e11fcc35ac9&trackingId=uViR6gXyF5x%2BWkwB9fb%2Bbg%3D%3D&position=21&pageNum=29&trk=public_jobs_job-result-card_result-card_full-click\n"
     ]
    },
    {
     "name": "stderr",
     "output_type": "stream",
     "text": [
      "INFO:li:scraper:('[healthcare][United Arab Emirates][716]', 'Processed')\n"
     ]
    },
    {
     "name": "stdout",
     "output_type": "stream",
     "text": [
      "[ON_DATA] Respiratory Therapist - Abu Dhabi Medacs Healthcare 2021-03-24 https://ae.linkedin.com/jobs/view/respiratory-therapist-abu-dhabi-at-medacs-healthcare-2475694172?refId=d3d255eb-75e1-4da4-8be9-7e11fcc35ac9&trackingId=bYaciVA%2FTg1MyTq4JDPCnA%3D%3D&position=22&pageNum=29&trk=public_jobs_job-result-card_result-card_full-click\n"
     ]
    },
    {
     "name": "stderr",
     "output_type": "stream",
     "text": [
      "INFO:li:scraper:('[healthcare][United Arab Emirates][717]', 'Processed')\n"
     ]
    },
    {
     "name": "stdout",
     "output_type": "stream",
     "text": [
      "[ON_DATA] Oral Dental Surgeon Search Plus Hr 2021-03-24 https://ae.linkedin.com/jobs/view/oral-dental-surgeon-at-search-plus-hr-2475689956?refId=d3d255eb-75e1-4da4-8be9-7e11fcc35ac9&trackingId=mMm53kZ%2BH%2BTbPF4OY5IBRQ%3D%3D&position=23&pageNum=29&trk=public_jobs_job-result-card_result-card_full-click\n"
     ]
    },
    {
     "name": "stderr",
     "output_type": "stream",
     "text": [
      "INFO:li:scraper:('[healthcare][United Arab Emirates][718]', 'Processed')\n",
      "INFO:li:scraper:('[healthcare][United Arab Emirates][718]', 'Checking for new jobs to load...')\n"
     ]
    },
    {
     "name": "stdout",
     "output_type": "stream",
     "text": [
      "[ON_DATA] GP Dentist Cassia DWC-LLC 2021-02-14 https://ae.linkedin.com/jobs/view/gp-dentist-at-cassia-dwc-llc-2456988460?refId=d3d255eb-75e1-4da4-8be9-7e11fcc35ac9&trackingId=fjsKehJt150xYQyw5dshEA%3D%3D&position=24&pageNum=29&trk=public_jobs_job-result-card_result-card_full-click\n"
     ]
    },
    {
     "name": "stderr",
     "output_type": "stream",
     "text": [
      "INFO:li:scraper:('[healthcare][United Arab Emirates][718]', 'Found 743 jobs')\n",
      "INFO:li:scraper:('[healthcare][United Arab Emirates][719]', 'Processed')\n"
     ]
    },
    {
     "name": "stdout",
     "output_type": "stream",
     "text": [
      "[ON_DATA] Male Registered Nurse for Home Care Via Medica Intl 2021-03-25 https://ae.linkedin.com/jobs/view/male-registered-nurse-for-home-care-at-via-medica-intl-2476865310?refId=0566bb14-906f-4cbe-b2f2-f89e15530cd7&trackingId=yEShIHzULK0VdDCSSXz85Q%3D%3D&position=1&pageNum=30&trk=public_jobs_job-result-card_result-card_full-click\n"
     ]
    },
    {
     "name": "stderr",
     "output_type": "stream",
     "text": [
      "INFO:li:scraper:('[healthcare][United Arab Emirates][720]', 'Processed')\n"
     ]
    },
    {
     "name": "stdout",
     "output_type": "stream",
     "text": [
      "[ON_DATA] Android Developer KinFitz & Co. 2021-03-24 https://ae.linkedin.com/jobs/view/android-developer-at-kinfitz-co-2450998344?refId=0566bb14-906f-4cbe-b2f2-f89e15530cd7&trackingId=OuMD5pS8dj5BSTm00IzaWQ%3D%3D&position=2&pageNum=30&trk=public_jobs_job-result-card_result-card_full-click\n"
     ]
    },
    {
     "name": "stderr",
     "output_type": "stream",
     "text": [
      "INFO:li:scraper:('[healthcare][United Arab Emirates][721]', 'Processed')\n"
     ]
    },
    {
     "name": "stdout",
     "output_type": "stream",
     "text": [
      "[ON_DATA] Dermatologist - MOH Licensed Prime Source 2021-02-11 https://ae.linkedin.com/jobs/view/dermatologist-moh-licensed-at-prime-source-2436815942?refId=0566bb14-906f-4cbe-b2f2-f89e15530cd7&trackingId=96IAVJspC%2FCc4TtdVhxVbA%3D%3D&position=3&pageNum=30&trk=public_jobs_job-result-card_result-card_full-click\n"
     ]
    },
    {
     "name": "stderr",
     "output_type": "stream",
     "text": [
      "INFO:li:scraper:('[healthcare][United Arab Emirates][722]', 'Processed')\n"
     ]
    },
    {
     "name": "stdout",
     "output_type": "stream",
     "text": [
      "[ON_DATA] General Dentist SearchPlus 2020-10-04 https://ae.linkedin.com/jobs/view/general-dentist-at-searchplus-2253693461?refId=0566bb14-906f-4cbe-b2f2-f89e15530cd7&trackingId=XI7sXzA359coy5A68A5GtA%3D%3D&position=4&pageNum=30&trk=public_jobs_job-result-card_result-card_full-click\n"
     ]
    },
    {
     "name": "stderr",
     "output_type": "stream",
     "text": [
      "INFO:li:scraper:('[healthcare][United Arab Emirates][723]', 'Processed')\n"
     ]
    },
    {
     "name": "stdout",
     "output_type": "stream",
     "text": [
      "[ON_DATA] iOS Developer Housecall 2021-03-20 https://ae.linkedin.com/jobs/view/ios-developer-at-housecall-2391492373?refId=0566bb14-906f-4cbe-b2f2-f89e15530cd7&trackingId=KcmK4NhbiQf%2Brcq3i1074g%3D%3D&position=5&pageNum=30&trk=public_jobs_job-result-card_result-card_full-click\n"
     ]
    },
    {
     "name": "stderr",
     "output_type": "stream",
     "text": [
      "INFO:li:scraper:('[healthcare][United Arab Emirates][724]', 'Processed')\n"
     ]
    },
    {
     "name": "stdout",
     "output_type": "stream",
     "text": [
      "[ON_DATA] Accountant RTC-1 Employment Services 2021-01-21 https://ae.linkedin.com/jobs/view/accountant-at-rtc-1-employment-services-2424622790?refId=0566bb14-906f-4cbe-b2f2-f89e15530cd7&trackingId=bjRGtV5Epmkkf6OmazfeYQ%3D%3D&position=6&pageNum=30&trk=public_jobs_job-result-card_result-card_full-click\n"
     ]
    },
    {
     "name": "stderr",
     "output_type": "stream",
     "text": [
      "INFO:li:scraper:('[healthcare][United Arab Emirates][725]', 'Processed')\n"
     ]
    },
    {
     "name": "stdout",
     "output_type": "stream",
     "text": [
      "[ON_DATA] Cardiodiagnostics Echo Technician International Hospitals Recruitment Inc. 2021-01-16 https://ae.linkedin.com/jobs/view/cardiodiagnostics-echo-technician-at-international-hospitals-recruitment-inc-2383484755?refId=0566bb14-906f-4cbe-b2f2-f89e15530cd7&trackingId=ohgaqhynNx0Pumo9sgSsTg%3D%3D&position=7&pageNum=30&trk=public_jobs_job-result-card_result-card_full-click\n"
     ]
    },
    {
     "name": "stderr",
     "output_type": "stream",
     "text": [
      "INFO:li:scraper:('[healthcare][United Arab Emirates][726]', 'Processed')\n"
     ]
    },
    {
     "name": "stdout",
     "output_type": "stream",
     "text": [
      "[ON_DATA] Neuro Occupational Therapist - Abu Dhabi Medacs Healthcare 2021-03-28 https://ae.linkedin.com/jobs/view/neuro-occupational-therapist-abu-dhabi-at-medacs-healthcare-2480565363?refId=0566bb14-906f-4cbe-b2f2-f89e15530cd7&trackingId=H%2F2hpNi9BS8kO7IprQ%2BXcA%3D%3D&position=8&pageNum=30&trk=public_jobs_job-result-card_result-card_full-click\n"
     ]
    },
    {
     "name": "stderr",
     "output_type": "stream",
     "text": [
      "INFO:li:scraper:('[healthcare][United Arab Emirates][727]', 'Processed')\n"
     ]
    },
    {
     "name": "stdout",
     "output_type": "stream",
     "text": [
      "[ON_DATA] Buildings Segment - Senior Sales Manager Schneider Electric 2021-03-19 https://ae.linkedin.com/jobs/view/buildings-segment-senior-sales-manager-at-schneider-electric-2485772503?refId=0566bb14-906f-4cbe-b2f2-f89e15530cd7&trackingId=lW48Dh0Dx3mwS51TrFhSXg%3D%3D&position=9&pageNum=30&trk=public_jobs_job-result-card_result-card_full-click\n"
     ]
    },
    {
     "name": "stderr",
     "output_type": "stream",
     "text": [
      "INFO:li:scraper:('[healthcare][United Arab Emirates][728]', 'Processed')\n"
     ]
    },
    {
     "name": "stdout",
     "output_type": "stream",
     "text": [
      "[ON_DATA] Pediatric Dentist/Pedodontist Cassia DWC-LLC 2021-03-01 https://ae.linkedin.com/jobs/view/pediatric-dentist-pedodontist-at-cassia-dwc-llc-2442575328?refId=0566bb14-906f-4cbe-b2f2-f89e15530cd7&trackingId=KBe91XeHqnMAfRC0eQ8V9Q%3D%3D&position=10&pageNum=30&trk=public_jobs_job-result-card_result-card_full-click\n"
     ]
    },
    {
     "name": "stderr",
     "output_type": "stream",
     "text": [
      "INFO:li:scraper:('[healthcare][United Arab Emirates][729]', 'Processed')\n"
     ]
    },
    {
     "name": "stdout",
     "output_type": "stream",
     "text": [
      "[ON_DATA] Dentist - Excellent Clinic - Commission Cassia DWC-LLC 2021-01-12 https://ae.linkedin.com/jobs/view/dentist-excellent-clinic-commission-at-cassia-dwc-llc-2378142505?refId=0566bb14-906f-4cbe-b2f2-f89e15530cd7&trackingId=RM5%2Bs7Gi4vtvNhVLgRU52A%3D%3D&position=11&pageNum=30&trk=public_jobs_job-result-card_result-card_full-click\n"
     ]
    },
    {
     "name": "stderr",
     "output_type": "stream",
     "text": [
      "INFO:li:scraper:('[healthcare][United Arab Emirates][730]', 'Processed')\n"
     ]
    },
    {
     "name": "stdout",
     "output_type": "stream",
     "text": [
      "[ON_DATA] Assistant Technician - Facility Maintenance /LV Serco Plc 2021-03-24 https://ae.linkedin.com/jobs/view/assistant-technician-facility-maintenance-lv-at-serco-plc-2475696042?refId=0566bb14-906f-4cbe-b2f2-f89e15530cd7&trackingId=Ua0ZbxbbC9laAzI2tSYsWg%3D%3D&position=12&pageNum=30&trk=public_jobs_job-result-card_result-card_full-click\n"
     ]
    },
    {
     "name": "stderr",
     "output_type": "stream",
     "text": [
      "INFO:li:scraper:('[healthcare][United Arab Emirates][731]', 'Processed')\n"
     ]
    },
    {
     "name": "stdout",
     "output_type": "stream",
     "text": [
      "[ON_DATA] Nurses - Homecare Via Medica International Healthcare 2021-03-12 https://ae.linkedin.com/jobs/view/nurses-homecare-at-via-medica-international-healthcare-2487294086?refId=0566bb14-906f-4cbe-b2f2-f89e15530cd7&trackingId=z7Ajp%2FFpO4jnmTMG9XeZCw%3D%3D&position=13&pageNum=30&trk=public_jobs_job-result-card_result-card_full-click\n"
     ]
    },
    {
     "name": "stderr",
     "output_type": "stream",
     "text": [
      "INFO:li:scraper:('[healthcare][United Arab Emirates][732]', 'Processed')\n"
     ]
    },
    {
     "name": "stdout",
     "output_type": "stream",
     "text": [
      "[ON_DATA] Diabetes Nurse Educator - Abu Dhabi Medacs Healthcare 2021-03-28 https://ae.linkedin.com/jobs/view/diabetes-nurse-educator-abu-dhabi-at-medacs-healthcare-2480568051?refId=0566bb14-906f-4cbe-b2f2-f89e15530cd7&trackingId=NcBhE%2FQtCbz5t1SYlmaX7g%3D%3D&position=14&pageNum=30&trk=public_jobs_job-result-card_result-card_full-click\n"
     ]
    },
    {
     "name": "stderr",
     "output_type": "stream",
     "text": [
      "INFO:li:scraper:('[healthcare][United Arab Emirates][733]', 'Processed')\n"
     ]
    },
    {
     "name": "stdout",
     "output_type": "stream",
     "text": [
      "[ON_DATA] Permanent Neurology Physician Job in United Arab Emirates (UAE) Cross Country Search 2021-02-16 https://ae.linkedin.com/jobs/view/permanent-neurology-physician-job-in-united-arab-emirates-uae-at-cross-country-search-2426069846?refId=0566bb14-906f-4cbe-b2f2-f89e15530cd7&trackingId=pKYUIevytzmEmRIqJZsYpg%3D%3D&position=15&pageNum=30&trk=public_jobs_job-result-card_result-card_full-click\n"
     ]
    },
    {
     "name": "stderr",
     "output_type": "stream",
     "text": [
      "INFO:li:scraper:('[healthcare][United Arab Emirates][734]', 'Processed')\n"
     ]
    },
    {
     "name": "stdout",
     "output_type": "stream",
     "text": [
      "[ON_DATA] Assistant Professor Physiotherapy INSTITUTE OF APPLIED TECHNOLOGY 2021-04-06 https://ae.linkedin.com/jobs/view/assistant-professor-physiotherapy-at-institute-of-applied-technology-2490562770?refId=0566bb14-906f-4cbe-b2f2-f89e15530cd7&trackingId=%2FKQrMqKTp76tH0wVAQTh7g%3D%3D&position=16&pageNum=30&trk=public_jobs_job-result-card_result-card_full-click\n"
     ]
    },
    {
     "name": "stderr",
     "output_type": "stream",
     "text": [
      "INFO:li:scraper:('[healthcare][United Arab Emirates][735]', 'Processed')\n"
     ]
    },
    {
     "name": "stdout",
     "output_type": "stream",
     "text": [
      "[ON_DATA] Hair Transplant Technician RTC-1 Employment Services 2021-03-17 https://ae.linkedin.com/jobs/view/hair-transplant-technician-at-rtc-1-employment-services-2465330972?refId=0566bb14-906f-4cbe-b2f2-f89e15530cd7&trackingId=Io1SMr4TF3a99knoHmGHEQ%3D%3D&position=17&pageNum=30&trk=public_jobs_job-result-card_result-card_full-click\n"
     ]
    },
    {
     "name": "stderr",
     "output_type": "stream",
     "text": [
      "INFO:li:scraper:('[healthcare][United Arab Emirates][736]', 'Processed')\n"
     ]
    },
    {
     "name": "stdout",
     "output_type": "stream",
     "text": [
      "[ON_DATA] Senior Civils Technician - Hospital Vamed Middle East 2021-03-19 https://ae.linkedin.com/jobs/view/senior-civils-technician-hospital-at-vamed-middle-east-2468543799?refId=0566bb14-906f-4cbe-b2f2-f89e15530cd7&trackingId=ykoWnyGudgXa3TLiwDu%2FPg%3D%3D&position=18&pageNum=30&trk=public_jobs_job-result-card_result-card_full-click\n"
     ]
    },
    {
     "name": "stderr",
     "output_type": "stream",
     "text": [
      "INFO:li:scraper:('[healthcare][United Arab Emirates][737]', 'Processed')\n"
     ]
    },
    {
     "name": "stdout",
     "output_type": "stream",
     "text": [
      "[ON_DATA] Dermatologist Delma Medical Center 2020-12-09 https://ae.linkedin.com/jobs/view/dermatologist-at-delma-medical-center-2338807184?refId=0566bb14-906f-4cbe-b2f2-f89e15530cd7&trackingId=5KywqpgCk7Mw2XOIDm%2BUgA%3D%3D&position=19&pageNum=30&trk=public_jobs_job-result-card_result-card_full-click\n"
     ]
    },
    {
     "name": "stderr",
     "output_type": "stream",
     "text": [
      "INFO:li:scraper:('[healthcare][United Arab Emirates][738]', 'Processed')\n"
     ]
    },
    {
     "name": "stdout",
     "output_type": "stream",
     "text": [
      "[ON_DATA] NQ - 2 PQE Corporate Lawyer Taylor Root 2021-04-06 https://ae.linkedin.com/jobs/view/nq-2-pqe-corporate-lawyer-at-taylor-root-2490565248?refId=0566bb14-906f-4cbe-b2f2-f89e15530cd7&trackingId=%2BMKVtdydEs1bPuC9Sx0CUQ%3D%3D&position=20&pageNum=30&trk=public_jobs_job-result-card_result-card_full-click\n"
     ]
    },
    {
     "name": "stderr",
     "output_type": "stream",
     "text": [
      "INFO:li:scraper:('[healthcare][United Arab Emirates][739]', 'Processed')\n"
     ]
    },
    {
     "name": "stdout",
     "output_type": "stream",
     "text": [
      "[ON_DATA] Specialist Orthopedic Surgeon (HAAD) Davidson Management Consultants 2021-03-19 https://ae.linkedin.com/jobs/view/specialist-orthopedic-surgeon-haad-at-davidson-management-consultants-2468546695?refId=0566bb14-906f-4cbe-b2f2-f89e15530cd7&trackingId=hWCuNKFgBB3LeUmK9jgkDw%3D%3D&position=21&pageNum=30&trk=public_jobs_job-result-card_result-card_full-click\n"
     ]
    },
    {
     "name": "stderr",
     "output_type": "stream",
     "text": [
      "INFO:li:scraper:('[healthcare][United Arab Emirates][740]', 'Processed')\n"
     ]
    },
    {
     "name": "stdout",
     "output_type": "stream",
     "text": [
      "[ON_DATA] Grounds and Gardens Technician VAMED Middle East 2020-12-20 https://ae.linkedin.com/jobs/view/grounds-and-gardens-technician-at-vamed-middle-east-2353008001?refId=0566bb14-906f-4cbe-b2f2-f89e15530cd7&trackingId=Zf2Do%2Fh30lwRir32OyEaQw%3D%3D&position=22&pageNum=30&trk=public_jobs_job-result-card_result-card_full-click\n"
     ]
    },
    {
     "name": "stderr",
     "output_type": "stream",
     "text": [
      "INFO:li:scraper:('[healthcare][United Arab Emirates][741]', 'Processed')\n"
     ]
    },
    {
     "name": "stdout",
     "output_type": "stream",
     "text": [
      "[ON_DATA] Network Security Engineer Dubai Investments 2021-03-19 https://ae.linkedin.com/jobs/view/network-security-engineer-at-dubai-investments-2468546726?refId=0566bb14-906f-4cbe-b2f2-f89e15530cd7&trackingId=ZOqBt410d0XstEAxXYHq%2Bw%3D%3D&position=23&pageNum=30&trk=public_jobs_job-result-card_result-card_full-click\n"
     ]
    },
    {
     "name": "stderr",
     "output_type": "stream",
     "text": [
      "INFO:li:scraper:('[healthcare][United Arab Emirates][742]', 'Processed')\n"
     ]
    },
    {
     "name": "stdout",
     "output_type": "stream",
     "text": [
      "[ON_DATA] MOH Licensed Male Nurse Prime Source 2021-03-20 https://ae.linkedin.com/jobs/view/moh-licensed-male-nurse-at-prime-source-2488624372?refId=0566bb14-906f-4cbe-b2f2-f89e15530cd7&trackingId=YSfyZ6mkZusX4zS11gK5Tg%3D%3D&position=24&pageNum=30&trk=public_jobs_job-result-card_result-card_full-click\n"
     ]
    },
    {
     "name": "stderr",
     "output_type": "stream",
     "text": [
      "INFO:li:scraper:('[healthcare][United Arab Emirates][743]', 'Processed')\n",
      "INFO:li:scraper:('[healthcare][United Arab Emirates][743]', 'Checking for new jobs to load...')\n"
     ]
    },
    {
     "name": "stdout",
     "output_type": "stream",
     "text": [
      "[ON_DATA] Consultant ENT Surgeon Search Plus Hr 2021-03-23 https://ae.linkedin.com/jobs/view/consultant-ent-surgeon-at-search-plus-hr-2473862768?refId=0566bb14-906f-4cbe-b2f2-f89e15530cd7&trackingId=Dw6raY%2Btw00QXm6bdxCdiA%3D%3D&position=25&pageNum=30&trk=public_jobs_job-result-card_result-card_full-click\n"
     ]
    },
    {
     "name": "stderr",
     "output_type": "stream",
     "text": [
      "INFO:li:scraper:('[healthcare][United Arab Emirates][743]', 'Found 768 jobs')\n",
      "INFO:li:scraper:('[healthcare][United Arab Emirates][744]', 'Processed')\n"
     ]
    },
    {
     "name": "stdout",
     "output_type": "stream",
     "text": [
      "[ON_DATA] Cytogenetic Lab Technologist Prime Source 2021-02-11 https://ae.linkedin.com/jobs/view/cytogenetic-lab-technologist-at-prime-source-2436802640?refId=8b457dff-83c5-4393-8357-67aeab6f04c0&trackingId=Ez90h9X6hDtvcV%2FqtLZmZQ%3D%3D&position=1&pageNum=31&trk=public_jobs_job-result-card_result-card_full-click\n"
     ]
    },
    {
     "name": "stderr",
     "output_type": "stream",
     "text": [
      "INFO:li:scraper:('[healthcare][United Arab Emirates][745]', 'Processed')\n"
     ]
    },
    {
     "name": "stdout",
     "output_type": "stream",
     "text": [
      "[ON_DATA] Registered Midwife Ain Al Khaleej Hospital 2021-02-15 https://ae.linkedin.com/jobs/view/registered-midwife-at-ain-al-khaleej-hospital-2425594950?refId=8b457dff-83c5-4393-8357-67aeab6f04c0&trackingId=IU2gK5JiyLnEE1O8pExy8A%3D%3D&position=2&pageNum=31&trk=public_jobs_job-result-card_result-card_full-click\n"
     ]
    },
    {
     "name": "stderr",
     "output_type": "stream",
     "text": [
      "INFO:li:scraper:('[healthcare][United Arab Emirates][746]', 'Processed')\n"
     ]
    },
    {
     "name": "stdout",
     "output_type": "stream",
     "text": [
      "[ON_DATA] Female HAAD RN Licensed or Passer for School Via Medica Intl 2021-03-19 https://ae.linkedin.com/jobs/view/female-haad-rn-licensed-or-passer-for-school-at-via-medica-intl-2485776137?refId=8b457dff-83c5-4393-8357-67aeab6f04c0&trackingId=6TBCibeiobgiWS9woHt7Fg%3D%3D&position=3&pageNum=31&trk=public_jobs_job-result-card_result-card_full-click\n"
     ]
    },
    {
     "name": "stderr",
     "output_type": "stream",
     "text": [
      "INFO:li:scraper:('[healthcare][United Arab Emirates][747]', 'Processed')\n"
     ]
    },
    {
     "name": "stdout",
     "output_type": "stream",
     "text": [
      "[ON_DATA] Registered Nurse Housecall 2021-03-30 https://ae.linkedin.com/jobs/view/registered-nurse-at-housecall-2374438160?refId=8b457dff-83c5-4393-8357-67aeab6f04c0&trackingId=xCoswM6LRhhbzOfOHKWp1w%3D%3D&position=4&pageNum=31&trk=public_jobs_job-result-card_result-card_full-click\n"
     ]
    },
    {
     "name": "stderr",
     "output_type": "stream",
     "text": [
      "INFO:li:scraper:('[healthcare][United Arab Emirates][748]', 'Processed')\n"
     ]
    },
    {
     "name": "stdout",
     "output_type": "stream",
     "text": [
      "[ON_DATA] Dentist Sharma Recruitersc 2021-02-17 https://ae.linkedin.com/jobs/view/dentist-at-sharma-recruitersc-2426510997?refId=8b457dff-83c5-4393-8357-67aeab6f04c0&trackingId=SshJVud8aCKEx%2FnaBcEATw%3D%3D&position=5&pageNum=31&trk=public_jobs_job-result-card_result-card_full-click\n"
     ]
    },
    {
     "name": "stderr",
     "output_type": "stream",
     "text": [
      "INFO:li:scraper:('[healthcare][United Arab Emirates][749]', 'Processed')\n"
     ]
    },
    {
     "name": "stdout",
     "output_type": "stream",
     "text": [
      "[ON_DATA] Automation Engineer ll Talabat 2021-04-01 https://ae.linkedin.com/jobs/view/automation-engineer-ll-at-talabat-2485741356?refId=8b457dff-83c5-4393-8357-67aeab6f04c0&trackingId=W4D0g4d1VJFabOlEptstSA%3D%3D&position=6&pageNum=31&trk=public_jobs_job-result-card_result-card_full-click\n"
     ]
    },
    {
     "name": "stderr",
     "output_type": "stream",
     "text": [
      "INFO:li:scraper:('[healthcare][United Arab Emirates][750]', 'Processed')\n"
     ]
    },
    {
     "name": "stdout",
     "output_type": "stream",
     "text": [
      "[ON_DATA] IT Infrastructure Engineer II talabat 2021-03-11 https://ae.linkedin.com/jobs/view/it-infrastructure-engineer-ii-at-talabat-2437944038?refId=8b457dff-83c5-4393-8357-67aeab6f04c0&trackingId=JoV%2B%2FpfQSA4Xll%2BcCtzuUw%3D%3D&position=7&pageNum=31&trk=public_jobs_job-result-card_result-card_full-click\n"
     ]
    },
    {
     "name": "stderr",
     "output_type": "stream",
     "text": [
      "INFO:li:scraper:('[healthcare][United Arab Emirates][751]', 'Processed')\n"
     ]
    },
    {
     "name": "stdout",
     "output_type": "stream",
     "text": [
      "[ON_DATA] NURSE (OFFSHORE) SOS HR Solutions Kuwait 2021-02-08 https://ae.linkedin.com/jobs/view/nurse-offshore-at-sos-hr-solutions-kuwait-2414553932?refId=8b457dff-83c5-4393-8357-67aeab6f04c0&trackingId=MjhReI6grEt13C1K31ZDVw%3D%3D&position=8&pageNum=31&trk=public_jobs_job-result-card_result-card_full-click\n"
     ]
    },
    {
     "name": "stderr",
     "output_type": "stream",
     "text": [
      "INFO:li:scraper:('[healthcare][United Arab Emirates][752]', 'Processed')\n"
     ]
    },
    {
     "name": "stdout",
     "output_type": "stream",
     "text": [
      "[ON_DATA] Dermatologist Delma Medical Center 2021-03-22 https://ae.linkedin.com/jobs/view/dermatologist-at-delma-medical-center-2490445594?refId=8b457dff-83c5-4393-8357-67aeab6f04c0&trackingId=zsn3vjGjZVnCImBTwOkmRg%3D%3D&position=9&pageNum=31&trk=public_jobs_job-result-card_result-card_full-click\n"
     ]
    },
    {
     "name": "stderr",
     "output_type": "stream",
     "text": [
      "INFO:li:scraper:('[healthcare][United Arab Emirates][753]', 'Processed')\n"
     ]
    },
    {
     "name": "stdout",
     "output_type": "stream",
     "text": [
      "[ON_DATA] Diabetes Nurse - Abu Dhabi Medacs Healthcare 2021-03-28 https://ae.linkedin.com/jobs/view/diabetes-nurse-abu-dhabi-at-medacs-healthcare-2480563919?refId=8b457dff-83c5-4393-8357-67aeab6f04c0&trackingId=IHpQSHNU37G1BxL43gu8LA%3D%3D&position=10&pageNum=31&trk=public_jobs_job-result-card_result-card_full-click\n"
     ]
    },
    {
     "name": "stderr",
     "output_type": "stream",
     "text": [
      "INFO:li:scraper:('[healthcare][United Arab Emirates][754]', 'Processed')\n"
     ]
    },
    {
     "name": "stdout",
     "output_type": "stream",
     "text": [
      "[ON_DATA] Physiotherapist - Al Ain, UAE MPA Recruitment 2021-03-31 https://ae.linkedin.com/jobs/view/physiotherapist-al-ain-uae-at-mpa-recruitment-2483777107?refId=8b457dff-83c5-4393-8357-67aeab6f04c0&trackingId=2SnTmJLiO8kiRXGuqZguIA%3D%3D&position=11&pageNum=31&trk=public_jobs_job-result-card_result-card_full-click\n"
     ]
    },
    {
     "name": "stderr",
     "output_type": "stream",
     "text": [
      "INFO:li:scraper:('[healthcare][United Arab Emirates][755]', 'Processed')\n"
     ]
    },
    {
     "name": "stdout",
     "output_type": "stream",
     "text": [
      "[ON_DATA] Diabetes Specialist Nurse - Abu Dhabi Medacs Healthcare 2021-04-01 https://ae.linkedin.com/jobs/view/diabetes-specialist-nurse-abu-dhabi-at-medacs-healthcare-2485763057?refId=8b457dff-83c5-4393-8357-67aeab6f04c0&trackingId=ENuj7gTCVoqfps9sZB7Uew%3D%3D&position=12&pageNum=31&trk=public_jobs_job-result-card_result-card_full-click\n"
     ]
    },
    {
     "name": "stderr",
     "output_type": "stream",
     "text": [
      "INFO:li:scraper:('[healthcare][United Arab Emirates][756]', 'Processed')\n"
     ]
    },
    {
     "name": "stdout",
     "output_type": "stream",
     "text": [
      "[ON_DATA] Community Physiotherapist (western trained) - Abu Dhabi Medacs Healthcare 2021-03-26 https://ae.linkedin.com/jobs/view/community-physiotherapist-western-trained-abu-dhabi-at-medacs-healthcare-2478589316?refId=8b457dff-83c5-4393-8357-67aeab6f04c0&trackingId=SXrP1d7jpo32igPzkq9d6Q%3D%3D&position=13&pageNum=31&trk=public_jobs_job-result-card_result-card_full-click\n"
     ]
    },
    {
     "name": "stderr",
     "output_type": "stream",
     "text": [
      "INFO:li:scraper:('[healthcare][United Arab Emirates][757]', 'Processed')\n"
     ]
    },
    {
     "name": "stdout",
     "output_type": "stream",
     "text": [
      "[ON_DATA] Private Nurse Salama Healthcare Services L.L.C 2021-03-28 https://ae.linkedin.com/jobs/view/private-nurse-at-salama-healthcare-services-l-l-c-2480566199?refId=8b457dff-83c5-4393-8357-67aeab6f04c0&trackingId=75KdPh5r%2FTsXe9%2BfiGxosQ%3D%3D&position=14&pageNum=31&trk=public_jobs_job-result-card_result-card_full-click\n"
     ]
    },
    {
     "name": "stderr",
     "output_type": "stream",
     "text": [
      "INFO:li:scraper:('[healthcare][United Arab Emirates][758]', 'Processed')\n"
     ]
    },
    {
     "name": "stdout",
     "output_type": "stream",
     "text": [
      "[ON_DATA] Registered Nurse Global Human Capital Group (CHCG) 2021-03-16 https://ae.linkedin.com/jobs/view/registered-nurse-at-global-human-capital-group-chcg-2465332766?refId=8b457dff-83c5-4393-8357-67aeab6f04c0&trackingId=4aYy2niC%2B9bzcS9DSCjj0g%3D%3D&position=15&pageNum=31&trk=public_jobs_job-result-card_result-card_full-click\n"
     ]
    },
    {
     "name": "stderr",
     "output_type": "stream",
     "text": [
      "INFO:li:scraper:('[healthcare][United Arab Emirates][759]', 'Processed')\n"
     ]
    },
    {
     "name": "stdout",
     "output_type": "stream",
     "text": [
      "[ON_DATA] Technician - Facility Maintenance - HVAC Serco Plc 2021-03-25 https://ae.linkedin.com/jobs/view/technician-facility-maintenance-hvac-at-serco-plc-2477149905?refId=8b457dff-83c5-4393-8357-67aeab6f04c0&trackingId=PCv2fvDTWHPaW9LR5A%2F6aA%3D%3D&position=16&pageNum=31&trk=public_jobs_job-result-card_result-card_full-click\n"
     ]
    },
    {
     "name": "stderr",
     "output_type": "stream",
     "text": [
      "INFO:li:scraper:('[healthcare][United Arab Emirates][760]', 'Processed')\n"
     ]
    },
    {
     "name": "stdout",
     "output_type": "stream",
     "text": [
      "[ON_DATA] Respiratory/Cardiac Nurse Specialist - Abu Dhabi Medacs Healthcare 2021-03-31 https://ae.linkedin.com/jobs/view/respiratory-cardiac-nurse-specialist-abu-dhabi-at-medacs-healthcare-2484083970?refId=8b457dff-83c5-4393-8357-67aeab6f04c0&trackingId=SofCjCImfa6JMzgwRh3y3A%3D%3D&position=17&pageNum=31&trk=public_jobs_job-result-card_result-card_full-click\n"
     ]
    },
    {
     "name": "stderr",
     "output_type": "stream",
     "text": [
      "INFO:li:scraper:('[healthcare][United Arab Emirates][761]', 'Processed')\n"
     ]
    },
    {
     "name": "stdout",
     "output_type": "stream",
     "text": [
      "[ON_DATA] DHA Nurse - On Call RTC-1 Employment Services 2020-11-29 https://ae.linkedin.com/jobs/view/dha-nurse-on-call-at-rtc-1-employment-services-2326767906?refId=8b457dff-83c5-4393-8357-67aeab6f04c0&trackingId=Q9dcAr0zuWyNbryk8umyEw%3D%3D&position=18&pageNum=31&trk=public_jobs_job-result-card_result-card_full-click\n"
     ]
    },
    {
     "name": "stderr",
     "output_type": "stream",
     "text": [
      "INFO:li:scraper:('[healthcare][United Arab Emirates][762]', 'Processed')\n"
     ]
    },
    {
     "name": "stdout",
     "output_type": "stream",
     "text": [
      "[ON_DATA] Occupational Therapist Ain Al Khaleej Hospital 2021-02-15 https://ae.linkedin.com/jobs/view/occupational-therapist-at-ain-al-khaleej-hospital-2425599351?refId=8b457dff-83c5-4393-8357-67aeab6f04c0&trackingId=Iv%2FmYxMe%2BDEBAjyc0nWJdg%3D%3D&position=19&pageNum=31&trk=public_jobs_job-result-card_result-card_full-click\n"
     ]
    },
    {
     "name": "stderr",
     "output_type": "stream",
     "text": [
      "INFO:li:scraper:('[healthcare][United Arab Emirates][763]', 'Processed')\n"
     ]
    },
    {
     "name": "stdout",
     "output_type": "stream",
     "text": [
      "[ON_DATA] Chief Accountant Dubai Investments 2021-03-30 https://ae.linkedin.com/jobs/view/chief-accountant-at-dubai-investments-2482132495?refId=8b457dff-83c5-4393-8357-67aeab6f04c0&trackingId=x8SN39J2hjg1k04jEgIFKA%3D%3D&position=20&pageNum=31&trk=public_jobs_job-result-card_result-card_full-click\n"
     ]
    },
    {
     "name": "stderr",
     "output_type": "stream",
     "text": [
      "INFO:li:scraper:('[healthcare][United Arab Emirates][764]', 'Processed')\n"
     ]
    },
    {
     "name": "stdout",
     "output_type": "stream",
     "text": [
      "[ON_DATA] Female Physiotherapist RTC-1 Employment Services 2021-02-02 https://ae.linkedin.com/jobs/view/female-physiotherapist-at-rtc-1-employment-services-2406449603?refId=8b457dff-83c5-4393-8357-67aeab6f04c0&trackingId=qZWE8pHwvsbOJfo2wCaHeg%3D%3D&position=21&pageNum=31&trk=public_jobs_job-result-card_result-card_full-click\n"
     ]
    },
    {
     "name": "stderr",
     "output_type": "stream",
     "text": [
      "INFO:li:scraper:('[healthcare][United Arab Emirates][765]', 'Processed')\n"
     ]
    },
    {
     "name": "stdout",
     "output_type": "stream",
     "text": [
      "[ON_DATA] Registered Nurse - Homecare Via Medica International Healthcare 2021-03-22 https://ae.linkedin.com/jobs/view/registered-nurse-homecare-at-via-medica-international-healthcare-2447293036?refId=8b457dff-83c5-4393-8357-67aeab6f04c0&trackingId=1GptBBOShBh56EUQRe0Yrw%3D%3D&position=22&pageNum=31&trk=public_jobs_job-result-card_result-card_full-click\n"
     ]
    },
    {
     "name": "stderr",
     "output_type": "stream",
     "text": [
      "INFO:li:scraper:('[healthcare][United Arab Emirates][766]', 'Processed')\n"
     ]
    },
    {
     "name": "stdout",
     "output_type": "stream",
     "text": [
      "[ON_DATA] Western trained Intensive Care Nurses - Abu Dhabi Medacs Healthcare 2021-03-17 https://ae.linkedin.com/jobs/view/western-trained-intensive-care-nurses-abu-dhabi-at-medacs-healthcare-2485739333?refId=8b457dff-83c5-4393-8357-67aeab6f04c0&trackingId=CkIIiOJ7wGhEGKJ2SaCjFw%3D%3D&position=23&pageNum=31&trk=public_jobs_job-result-card_result-card_full-click\n"
     ]
    },
    {
     "name": "stderr",
     "output_type": "stream",
     "text": [
      "INFO:li:scraper:('[healthcare][United Arab Emirates][767]', 'Processed')\n"
     ]
    },
    {
     "name": "stdout",
     "output_type": "stream",
     "text": [
      "[ON_DATA] Respiratory Therapist Opportunity with International Hospital Omni International 2021-03-19 https://ae.linkedin.com/jobs/view/respiratory-therapist-opportunity-with-international-hospital-at-omni-international-2468543844?refId=8b457dff-83c5-4393-8357-67aeab6f04c0&trackingId=081MS4JGn3y6rqtwlR3Jeg%3D%3D&position=24&pageNum=31&trk=public_jobs_job-result-card_result-card_full-click\n"
     ]
    },
    {
     "name": "stderr",
     "output_type": "stream",
     "text": [
      "INFO:li:scraper:('[healthcare][United Arab Emirates][768]', 'Processed')\n",
      "INFO:li:scraper:('[healthcare][United Arab Emirates][768]', 'Checking for new jobs to load...')\n"
     ]
    },
    {
     "name": "stdout",
     "output_type": "stream",
     "text": [
      "[ON_DATA] Senir/Charge ICU Intensive Care Unit Nurse - Abu Dhabi Medacs Healthcare 2021-03-22 https://ae.linkedin.com/jobs/view/senir-charge-icu-intensive-care-unit-nurse-abu-dhabi-at-medacs-healthcare-2472020110?refId=8b457dff-83c5-4393-8357-67aeab6f04c0&trackingId=0Fm7VZ8RArjIoNidTRUwhQ%3D%3D&position=25&pageNum=31&trk=public_jobs_job-result-card_result-card_full-click\n"
     ]
    },
    {
     "name": "stderr",
     "output_type": "stream",
     "text": [
      "INFO:li:scraper:('[healthcare][United Arab Emirates][768]', 'Found 793 jobs')\n",
      "INFO:li:scraper:('[healthcare][United Arab Emirates][769]', 'Processed')\n"
     ]
    },
    {
     "name": "stdout",
     "output_type": "stream",
     "text": [
      "[ON_DATA] Assistant Professor Physiotherapy Institute of Applied Technology 2021-02-08 https://ae.linkedin.com/jobs/view/assistant-professor-physiotherapy-at-institute-of-applied-technology-2448018108?refId=3caa2793-4d80-4840-a329-3f4030284b42&trackingId=mGxBxd1lvMeUQwy2ooEGGw%3D%3D&position=1&pageNum=32&trk=public_jobs_job-result-card_result-card_full-click\n"
     ]
    },
    {
     "name": "stderr",
     "output_type": "stream",
     "text": [
      "INFO:li:scraper:('[healthcare][United Arab Emirates][770]', 'Processed')\n"
     ]
    },
    {
     "name": "stdout",
     "output_type": "stream",
     "text": [
      "[ON_DATA] Sonographer Global Human Capital Group 2021-03-19 https://ae.linkedin.com/jobs/view/sonographer-at-global-human-capital-group-2490443302?refId=3caa2793-4d80-4840-a329-3f4030284b42&trackingId=dOIlfkTbiXiC7B2qYWS7Fg%3D%3D&position=2&pageNum=32&trk=public_jobs_job-result-card_result-card_full-click\n"
     ]
    },
    {
     "name": "stderr",
     "output_type": "stream",
     "text": [
      "INFO:li:scraper:('[healthcare][United Arab Emirates][771]', 'Processed')\n"
     ]
    },
    {
     "name": "stdout",
     "output_type": "stream",
     "text": [
      "[ON_DATA] School Nurse Rtc1 Employment Services 2021-03-23 https://ae.linkedin.com/jobs/view/school-nurse-at-rtc1-employment-services-2487262262?refId=3caa2793-4d80-4840-a329-3f4030284b42&trackingId=KCh%2FlQSotPp5i3gH%2Ftm3ag%3D%3D&position=3&pageNum=32&trk=public_jobs_job-result-card_result-card_full-click\n"
     ]
    },
    {
     "name": "stderr",
     "output_type": "stream",
     "text": [
      "INFO:li:scraper:('[healthcare][United Arab Emirates][772]', 'Processed')\n"
     ]
    },
    {
     "name": "stdout",
     "output_type": "stream",
     "text": [
      "[ON_DATA] Specialist Obstetrics/Gynecologist Search Plus Hr 2021-03-26 https://ae.linkedin.com/jobs/view/specialist-obstetrics-gynecologist-at-search-plus-hr-2489502943?refId=3caa2793-4d80-4840-a329-3f4030284b42&trackingId=awGNID7Cd6zHFtxiPxS1Yg%3D%3D&position=4&pageNum=32&trk=public_jobs_job-result-card_result-card_full-click\n"
     ]
    },
    {
     "name": "stderr",
     "output_type": "stream",
     "text": [
      "INFO:li:scraper:('[healthcare][United Arab Emirates][773]', 'Processed')\n"
     ]
    },
    {
     "name": "stdout",
     "output_type": "stream",
     "text": [
      "[ON_DATA] Occupational Therapist- Abu Dhabi Medacs Healthcare 2021-03-31 https://ae.linkedin.com/jobs/view/occupational-therapist-abu-dhabi-at-medacs-healthcare-2487287963?refId=3caa2793-4d80-4840-a329-3f4030284b42&trackingId=c3qtti8%2FYbwLIkbsJjQzBw%3D%3D&position=5&pageNum=32&trk=public_jobs_job-result-card_result-card_full-click\n"
     ]
    },
    {
     "name": "stderr",
     "output_type": "stream",
     "text": [
      "INFO:li:scraper:('[healthcare][United Arab Emirates][774]', 'Processed')\n"
     ]
    },
    {
     "name": "stdout",
     "output_type": "stream",
     "text": [
      "[ON_DATA] Permanent Pediatric Neurology Physician Job in United Arab Emirates (UAE) Cross Country Search 2021-02-16 https://ae.linkedin.com/jobs/view/permanent-pediatric-neurology-physician-job-in-united-arab-emirates-uae-at-cross-country-search-2426070755?refId=3caa2793-4d80-4840-a329-3f4030284b42&trackingId=s2KgQpajPBJfCnGalCVTuA%3D%3D&position=6&pageNum=32&trk=public_jobs_job-result-card_result-card_full-click\n"
     ]
    },
    {
     "name": "stderr",
     "output_type": "stream",
     "text": [
      "INFO:li:scraper:('[healthcare][United Arab Emirates][775]', 'Processed')\n"
     ]
    },
    {
     "name": "stdout",
     "output_type": "stream",
     "text": [
      "[ON_DATA] Tissue Viability and Wound Care Nurse Specialist - Abu Dhabi Medacs Healthcare 2021-03-22 https://ae.linkedin.com/jobs/view/tissue-viability-and-wound-care-nurse-specialist-abu-dhabi-at-medacs-healthcare-2472014990?refId=3caa2793-4d80-4840-a329-3f4030284b42&trackingId=T%2BE6mrwTngor5KSXDKPagg%3D%3D&position=7&pageNum=32&trk=public_jobs_job-result-card_result-card_full-click\n"
     ]
    },
    {
     "name": "stderr",
     "output_type": "stream",
     "text": [
      "INFO:li:scraper:('[healthcare][United Arab Emirates][776]', 'Processed')\n"
     ]
    },
    {
     "name": "stdout",
     "output_type": "stream",
     "text": [
      "[ON_DATA] Buildings Segment - Senior Sales Manager Schneider Electric 2021-03-16 https://ae.linkedin.com/jobs/view/buildings-segment-senior-sales-manager-at-schneider-electric-2444456835?refId=3caa2793-4d80-4840-a329-3f4030284b42&trackingId=LMPj%2FaBPntSNZywWvlNsWQ%3D%3D&position=8&pageNum=32&trk=public_jobs_job-result-card_result-card_full-click\n"
     ]
    },
    {
     "name": "stderr",
     "output_type": "stream",
     "text": [
      "INFO:li:scraper:('[healthcare][United Arab Emirates][777]', 'Processed')\n"
     ]
    },
    {
     "name": "stdout",
     "output_type": "stream",
     "text": [
      "[ON_DATA] Technician (Mechanical) Serco Plc 2021-03-20 https://ae.linkedin.com/jobs/view/technician-mechanical-at-serco-plc-2489472897?refId=3caa2793-4d80-4840-a329-3f4030284b42&trackingId=e0unDlDosN9J8S%2FcaZm52w%3D%3D&position=9&pageNum=32&trk=public_jobs_job-result-card_result-card_full-click\n"
     ]
    },
    {
     "name": "stderr",
     "output_type": "stream",
     "text": [
      "INFO:li:scraper:('[healthcare][United Arab Emirates][778]', 'Processed')\n"
     ]
    },
    {
     "name": "stdout",
     "output_type": "stream",
     "text": [
      "[ON_DATA] Nursing Assistants and Ward girls for Dubai, UAE New Dimension 2021-02-28 https://ae.linkedin.com/jobs/view/nursing-assistants-and-ward-girls-for-dubai-uae-at-new-dimension-2441894819?refId=3caa2793-4d80-4840-a329-3f4030284b42&trackingId=gE%2FAxZguwFm%2BFhV9dkv0ug%3D%3D&position=10&pageNum=32&trk=public_jobs_job-result-card_result-card_full-click\n"
     ]
    },
    {
     "name": "stderr",
     "output_type": "stream",
     "text": [
      "INFO:li:scraper:('[healthcare][United Arab Emirates][779]', 'Processed')\n"
     ]
    },
    {
     "name": "stdout",
     "output_type": "stream",
     "text": [
      "[ON_DATA] Staff Nurse NICU (Ref#010) Adilstone Group 2021-02-18 https://ae.linkedin.com/jobs/view/staff-nurse-nicu-ref%23010-at-adilstone-group-2447980154?refId=3caa2793-4d80-4840-a329-3f4030284b42&trackingId=wgb1TDw8SHtgiYcrn5H8wQ%3D%3D&position=11&pageNum=32&trk=public_jobs_job-result-card_result-card_full-click\n"
     ]
    },
    {
     "name": "stderr",
     "output_type": "stream",
     "text": [
      "INFO:li:scraper:('[healthcare][United Arab Emirates][780]', 'Processed')\n"
     ]
    },
    {
     "name": "stdout",
     "output_type": "stream",
     "text": [
      "[ON_DATA] Sr. Account Executive, ERP - Middle East Territory Rimini Street 2021-03-11 https://ae.linkedin.com/jobs/view/sr-account-executive-erp-middle-east-territory-at-rimini-street-2442988496?refId=3caa2793-4d80-4840-a329-3f4030284b42&trackingId=G7ndZIMYuqWTXpck4LE0uQ%3D%3D&position=12&pageNum=32&trk=public_jobs_job-result-card_result-card_full-click\n"
     ]
    },
    {
     "name": "stderr",
     "output_type": "stream",
     "text": [
      "INFO:li:scraper:('[healthcare][United Arab Emirates][781]', 'Processed')\n"
     ]
    },
    {
     "name": "stdout",
     "output_type": "stream",
     "text": [
      "[ON_DATA] Respiratory Therapist Opportunity with International Hospital Omni International 2021-02-10 https://ae.linkedin.com/jobs/view/respiratory-therapist-opportunity-with-international-hospital-at-omni-international-2419339534?refId=3caa2793-4d80-4840-a329-3f4030284b42&trackingId=t%2FQpzQYfjdJ4Yxwhbl7qhQ%3D%3D&position=13&pageNum=32&trk=public_jobs_job-result-card_result-card_full-click\n"
     ]
    },
    {
     "name": "stderr",
     "output_type": "stream",
     "text": [
      "INFO:li:scraper:('[healthcare][United Arab Emirates][782]', 'Processed')\n"
     ]
    },
    {
     "name": "stdout",
     "output_type": "stream",
     "text": [
      "[ON_DATA] Plant/HVAC (Heating Ventilation Air Conditioning) Engineer - Hospital VAMED Middle East 2021-01-02 https://ae.linkedin.com/jobs/view/plant-hvac-heating-ventilation-air-conditioning-engineer-hospital-at-vamed-middle-east-2366601722?refId=3caa2793-4d80-4840-a329-3f4030284b42&trackingId=flTbEw6kDGnlpK%2F9CcC%2FtA%3D%3D&position=14&pageNum=32&trk=public_jobs_job-result-card_result-card_full-click\n"
     ]
    },
    {
     "name": "stderr",
     "output_type": "stream",
     "text": [
      "INFO:li:scraper:('[healthcare][United Arab Emirates][783]', 'Processed')\n"
     ]
    },
    {
     "name": "stdout",
     "output_type": "stream",
     "text": [
      "[ON_DATA] HVAC Technician ENGIE Cofely 2020-12-18 https://ae.linkedin.com/jobs/view/hvac-technician-at-engie-cofely-2378176588?refId=3caa2793-4d80-4840-a329-3f4030284b42&trackingId=BStt1IpwaVBcu2Q6eGDU3A%3D%3D&position=15&pageNum=32&trk=public_jobs_job-result-card_result-card_full-click\n"
     ]
    },
    {
     "name": "stderr",
     "output_type": "stream",
     "text": [
      "INFO:li:scraper:('[healthcare][United Arab Emirates][784]', 'Processed')\n"
     ]
    },
    {
     "name": "stdout",
     "output_type": "stream",
     "text": [
      "[ON_DATA] Cerebral Palsy Nurse Specialist - Abu Dhabi Medacs Healthcare 2021-03-29 https://ae.linkedin.com/jobs/view/cerebral-palsy-nurse-specialist-abu-dhabi-at-medacs-healthcare-2481514709?refId=3caa2793-4d80-4840-a329-3f4030284b42&trackingId=nsSgQXueT8Q5pF%2BemSLkdg%3D%3D&position=16&pageNum=32&trk=public_jobs_job-result-card_result-card_full-click\n"
     ]
    },
    {
     "name": "stderr",
     "output_type": "stream",
     "text": [
      "INFO:li:scraper:('[healthcare][United Arab Emirates][785]', 'Processed')\n"
     ]
    },
    {
     "name": "stdout",
     "output_type": "stream",
     "text": [
      "[ON_DATA] SAP Project Manager IBM Middle East 2021-02-05 https://ae.linkedin.com/jobs/view/sap-project-manager-at-ibm-middle-east-2414548029?refId=3caa2793-4d80-4840-a329-3f4030284b42&trackingId=AphSGdW%2Bqkgpu%2F6XxGMD%2BQ%3D%3D&position=17&pageNum=32&trk=public_jobs_job-result-card_result-card_full-click\n"
     ]
    },
    {
     "name": "stderr",
     "output_type": "stream",
     "text": [
      "INFO:li:scraper:('[healthcare][United Arab Emirates][786]', 'Processed')\n"
     ]
    },
    {
     "name": "stdout",
     "output_type": "stream",
     "text": [
      "[ON_DATA] Western trained ICU Nurses - Abu Dhabi Medacs Healthcare 2021-03-23 https://ae.linkedin.com/jobs/view/western-trained-icu-nurses-abu-dhabi-at-medacs-healthcare-2473863402?refId=3caa2793-4d80-4840-a329-3f4030284b42&trackingId=SNXXrzGzb0RVDafoYAYxyg%3D%3D&position=18&pageNum=32&trk=public_jobs_job-result-card_result-card_full-click\n"
     ]
    },
    {
     "name": "stderr",
     "output_type": "stream",
     "text": [
      "INFO:li:scraper:('[healthcare][United Arab Emirates][787]', 'Processed')\n"
     ]
    },
    {
     "name": "stdout",
     "output_type": "stream",
     "text": [
      "[ON_DATA] Staff Nurse, Long Term Acute Care, UAE Mpa Recruitment 2021-03-22 https://ae.linkedin.com/jobs/view/staff-nurse-long-term-acute-care-uae-at-mpa-recruitment-2472019147?refId=3caa2793-4d80-4840-a329-3f4030284b42&trackingId=j2KAmurtf2GryBHRaAeb2g%3D%3D&position=19&pageNum=32&trk=public_jobs_job-result-card_result-card_full-click\n"
     ]
    },
    {
     "name": "stderr",
     "output_type": "stream",
     "text": [
      "INFO:li:scraper:('[healthcare][United Arab Emirates][788]', 'Processed')\n"
     ]
    },
    {
     "name": "stdout",
     "output_type": "stream",
     "text": [
      "[ON_DATA] Homecare Nurse RTC-1 Employment Services 2021-02-14 https://ae.linkedin.com/jobs/view/homecare-nurse-at-rtc-1-employment-services-2424468626?refId=3caa2793-4d80-4840-a329-3f4030284b42&trackingId=AhqaFJ9%2FbuXhO0VSECR0dw%3D%3D&position=20&pageNum=32&trk=public_jobs_job-result-card_result-card_full-click\n"
     ]
    },
    {
     "name": "stderr",
     "output_type": "stream",
     "text": [
      "INFO:li:scraper:('[healthcare][United Arab Emirates][789]', 'Processed')\n"
     ]
    },
    {
     "name": "stdout",
     "output_type": "stream",
     "text": [
      "[ON_DATA] Staff Nurse (Intensive Care/ICU) Opportunity with Field Hospital Omni International 2021-02-16 https://ae.linkedin.com/jobs/view/staff-nurse-intensive-care-icu-opportunity-with-field-hospital-at-omni-international-2426814158?refId=3caa2793-4d80-4840-a329-3f4030284b42&trackingId=dcO6%2FVpjq9LQOsD7R1GuCg%3D%3D&position=21&pageNum=32&trk=public_jobs_job-result-card_result-card_full-click\n"
     ]
    },
    {
     "name": "stderr",
     "output_type": "stream",
     "text": [
      "INFO:li:scraper:('[healthcare][United Arab Emirates][790]', 'Processed')\n"
     ]
    },
    {
     "name": "stdout",
     "output_type": "stream",
     "text": [
      "[ON_DATA] HAAD Licensed Registered Nurse Prime Source 2021-02-11 https://ae.linkedin.com/jobs/view/haad-licensed-registered-nurse-at-prime-source-2436834558?refId=3caa2793-4d80-4840-a329-3f4030284b42&trackingId=1XLOF9ragoB2wdzFR7NDJA%3D%3D&position=22&pageNum=32&trk=public_jobs_job-result-card_result-card_full-click\n"
     ]
    },
    {
     "name": "stderr",
     "output_type": "stream",
     "text": [
      "INFO:li:scraper:('[healthcare][United Arab Emirates][791]', 'Processed')\n"
     ]
    },
    {
     "name": "stdout",
     "output_type": "stream",
     "text": [
      "[ON_DATA] Registered Nurse for Home Care Division Via Medica Intl 2021-03-17 https://ae.linkedin.com/jobs/view/registered-nurse-for-home-care-division-at-via-medica-intl-2464763850?refId=3caa2793-4d80-4840-a329-3f4030284b42&trackingId=MwIZ0QQqPKlqF%2FxA2leHew%3D%3D&position=23&pageNum=32&trk=public_jobs_job-result-card_result-card_full-click\n"
     ]
    },
    {
     "name": "stderr",
     "output_type": "stream",
     "text": [
      "INFO:li:scraper:('[healthcare][United Arab Emirates][792]', 'Processed')\n"
     ]
    },
    {
     "name": "stdout",
     "output_type": "stream",
     "text": [
      "[ON_DATA] Conceptual Designer Robinson Faris Jones HR Dubai 2021-01-20 https://ae.linkedin.com/jobs/view/conceptual-designer-at-robinson-faris-jones-hr-dubai-2388904931?refId=3caa2793-4d80-4840-a329-3f4030284b42&trackingId=VmVXQtB5cYiXuMEbEbaj4Q%3D%3D&position=24&pageNum=32&trk=public_jobs_job-result-card_result-card_full-click\n"
     ]
    },
    {
     "name": "stderr",
     "output_type": "stream",
     "text": [
      "INFO:li:scraper:('[healthcare][United Arab Emirates][793]', 'Processed')\n",
      "INFO:li:scraper:('[healthcare][United Arab Emirates][793]', 'Checking for new jobs to load...')\n"
     ]
    },
    {
     "name": "stdout",
     "output_type": "stream",
     "text": [
      "[ON_DATA] Painter Serco Plc 2021-03-20 https://ae.linkedin.com/jobs/view/painter-at-serco-plc-2469917263?refId=3caa2793-4d80-4840-a329-3f4030284b42&trackingId=VGrfvMJpJFoOafr7qpLaig%3D%3D&position=25&pageNum=32&trk=public_jobs_job-result-card_result-card_full-click\n"
     ]
    },
    {
     "name": "stderr",
     "output_type": "stream",
     "text": [
      "INFO:li:scraper:('[healthcare][United Arab Emirates][793]', 'Found 818 jobs')\n",
      "INFO:li:scraper:('[healthcare][United Arab Emirates][794]', 'Processed')\n"
     ]
    },
    {
     "name": "stdout",
     "output_type": "stream",
     "text": [
      "[ON_DATA] Registered Nurse for Home Care Division Via Medica Intl 2021-03-17 https://ae.linkedin.com/jobs/view/registered-nurse-for-home-care-division-at-via-medica-intl-2464763850?refId=035d7ad8-94fc-4d59-814b-379493fe392c&trackingId=mi1CL7p812ocwhLVScjDEw%3D%3D&position=1&pageNum=33&trk=public_jobs_job-result-card_result-card_full-click\n"
     ]
    },
    {
     "name": "stderr",
     "output_type": "stream",
     "text": [
      "INFO:li:scraper:('[healthcare][United Arab Emirates][795]', 'Processed')\n"
     ]
    },
    {
     "name": "stdout",
     "output_type": "stream",
     "text": [
      "[ON_DATA] Conceptual Designer Robinson Faris Jones HR Dubai 2021-01-20 https://ae.linkedin.com/jobs/view/conceptual-designer-at-robinson-faris-jones-hr-dubai-2388904931?refId=035d7ad8-94fc-4d59-814b-379493fe392c&trackingId=d7a%2FbMXuNo659snzflFSuQ%3D%3D&position=2&pageNum=33&trk=public_jobs_job-result-card_result-card_full-click\n"
     ]
    },
    {
     "name": "stderr",
     "output_type": "stream",
     "text": [
      "INFO:li:scraper:('[healthcare][United Arab Emirates][796]', 'Processed')\n"
     ]
    },
    {
     "name": "stdout",
     "output_type": "stream",
     "text": [
      "[ON_DATA] Painter Serco Plc 2021-03-20 https://ae.linkedin.com/jobs/view/painter-at-serco-plc-2469917263?refId=035d7ad8-94fc-4d59-814b-379493fe392c&trackingId=i3yaAL1YLqEemSzMccByNg%3D%3D&position=3&pageNum=33&trk=public_jobs_job-result-card_result-card_full-click\n"
     ]
    },
    {
     "name": "stderr",
     "output_type": "stream",
     "text": [
      "INFO:li:scraper:('[healthcare][United Arab Emirates][797]', 'Processed')\n"
     ]
    },
    {
     "name": "stdout",
     "output_type": "stream",
     "text": [
      "[ON_DATA] Senior Product Designer Halian - Uae 2021-03-20 https://ae.linkedin.com/jobs/view/senior-product-designer-at-halian-uae-2488629616?refId=035d7ad8-94fc-4d59-814b-379493fe392c&trackingId=1YYRCVn3Dk0apW%2FyYj4p6w%3D%3D&position=4&pageNum=33&trk=public_jobs_job-result-card_result-card_full-click\n"
     ]
    },
    {
     "name": "stderr",
     "output_type": "stream",
     "text": [
      "INFO:li:scraper:('[healthcare][United Arab Emirates][798]', 'Processed')\n"
     ]
    },
    {
     "name": "stdout",
     "output_type": "stream",
     "text": [
      "[ON_DATA] Senior Azure Specialist- Infrastructure Microsoft 2021-03-23 https://ae.linkedin.com/jobs/view/senior-azure-specialist-infrastructure-at-microsoft-2475556184?refId=035d7ad8-94fc-4d59-814b-379493fe392c&trackingId=60ZxZNpZtbMNDH3nJ0Az1w%3D%3D&position=5&pageNum=33&trk=public_jobs_job-result-card_result-card_full-click\n"
     ]
    },
    {
     "name": "stderr",
     "output_type": "stream",
     "text": [
      "INFO:li:scraper:('[healthcare][United Arab Emirates][799]', 'Processed')\n"
     ]
    },
    {
     "name": "stdout",
     "output_type": "stream",
     "text": [
      "[ON_DATA] Registered Nurse I Healthcare I Dubai- UAE Al-Futtaim 2021-04-01 https://ae.linkedin.com/jobs/view/registered-nurse-i-healthcare-i-dubai-uae-at-al-futtaim-2464290473?refId=035d7ad8-94fc-4d59-814b-379493fe392c&trackingId=t38YhivHyMOmx5wfG%2FmRhg%3D%3D&position=6&pageNum=33&trk=public_jobs_job-result-card_result-card_full-click\n"
     ]
    },
    {
     "name": "stderr",
     "output_type": "stream",
     "text": [
      "INFO:li:scraper:('[healthcare][United Arab Emirates][800]', 'Processed')\n"
     ]
    },
    {
     "name": "stdout",
     "output_type": "stream",
     "text": [
      "[ON_DATA] Electrical Engineer ENGIE Cofely 2020-12-18 https://ae.linkedin.com/jobs/view/electrical-engineer-at-engie-cofely-2378175856?refId=035d7ad8-94fc-4d59-814b-379493fe392c&trackingId=ElOR6ikvtWOAo6zFSXpB9g%3D%3D&position=7&pageNum=33&trk=public_jobs_job-result-card_result-card_full-click\n"
     ]
    },
    {
     "name": "stderr",
     "output_type": "stream",
     "text": [
      "INFO:li:scraper:('[healthcare][United Arab Emirates][801]', 'Processed')\n"
     ]
    },
    {
     "name": "stdout",
     "output_type": "stream",
     "text": [
      "[ON_DATA] Sr. Associate - Turnaround Restructuring - Industrial Asset Heavy Businesses NSI & Bluefin Talent 2021-03-23 https://ae.linkedin.com/jobs/view/sr-associate-turnaround-restructuring-industrial-asset-heavy-businesses-at-nsi-bluefin-talent-2473205804?refId=035d7ad8-94fc-4d59-814b-379493fe392c&trackingId=20GokBLpW5Mb3nBwUdxG%2Bg%3D%3D&position=8&pageNum=33&trk=public_jobs_job-result-card_result-card_full-click\n"
     ]
    },
    {
     "name": "stderr",
     "output_type": "stream",
     "text": [
      "INFO:li:scraper:('[healthcare][United Arab Emirates][802]', 'Processed')\n"
     ]
    },
    {
     "name": "stdout",
     "output_type": "stream",
     "text": [
      "[ON_DATA] Storage Brand Sales Partner Specialist IBM Middle East 2021-02-12 https://ae.linkedin.com/jobs/view/storage-brand-sales-partner-specialist-at-ibm-middle-east-2424474063?refId=035d7ad8-94fc-4d59-814b-379493fe392c&trackingId=JCkuM5tJ2ZgeW%2FcIB6BLjg%3D%3D&position=9&pageNum=33&trk=public_jobs_job-result-card_result-card_full-click\n"
     ]
    },
    {
     "name": "stderr",
     "output_type": "stream",
     "text": [
      "INFO:li:scraper:('[healthcare][United Arab Emirates][803]', 'Processed')\n"
     ]
    },
    {
     "name": "stdout",
     "output_type": "stream",
     "text": [
      "[ON_DATA] Senior Software Engineer talabat 2021-03-15 https://ae.linkedin.com/jobs/view/senior-software-engineer-at-talabat-2401650624?refId=035d7ad8-94fc-4d59-814b-379493fe392c&trackingId=TZ%2BkO%2BLOUBU%2FPRuSwCRI2w%3D%3D&position=10&pageNum=33&trk=public_jobs_job-result-card_result-card_full-click\n"
     ]
    },
    {
     "name": "stderr",
     "output_type": "stream",
     "text": [
      "INFO:li:scraper:('[healthcare][United Arab Emirates][804]', 'Processed')\n"
     ]
    },
    {
     "name": "stdout",
     "output_type": "stream",
     "text": [
      "[ON_DATA] GP Doctor - Cosmetic/Aesthetic Cassia DWC-LLC 2021-01-12 https://ae.linkedin.com/jobs/view/gp-doctor-cosmetic-aesthetic-at-cassia-dwc-llc-2378143594?refId=035d7ad8-94fc-4d59-814b-379493fe392c&trackingId=Q3SqRhZOgBHM%2FhqLuqVoXA%3D%3D&position=11&pageNum=33&trk=public_jobs_job-result-card_result-card_full-click\n"
     ]
    },
    {
     "name": "stderr",
     "output_type": "stream",
     "text": [
      "INFO:li:scraper:('[healthcare][United Arab Emirates][805]', 'Processed')\n"
     ]
    },
    {
     "name": "stdout",
     "output_type": "stream",
     "text": [
      "[ON_DATA] School Nurse RTC-1 Employment Services 2021-02-14 https://ae.linkedin.com/jobs/view/school-nurse-at-rtc-1-employment-services-2424469591?refId=035d7ad8-94fc-4d59-814b-379493fe392c&trackingId=lb7XQUk2ujKpKxUz3aevFQ%3D%3D&position=12&pageNum=33&trk=public_jobs_job-result-card_result-card_full-click\n"
     ]
    },
    {
     "name": "stderr",
     "output_type": "stream",
     "text": [
      "INFO:li:scraper:('[healthcare][United Arab Emirates][806]', 'Processed')\n"
     ]
    },
    {
     "name": "stdout",
     "output_type": "stream",
     "text": [
      "[ON_DATA] Consultant Pulmonologist & Sleep Medicine - Abu Dhabi, UAE Medacs Healthcare 2021-03-22 https://ae.linkedin.com/jobs/view/consultant-pulmonologist-sleep-medicine-abu-dhabi-uae-at-medacs-healthcare-2472018355?refId=035d7ad8-94fc-4d59-814b-379493fe392c&trackingId=LmIYTjltoZi1Zn8oqbWUQQ%3D%3D&position=13&pageNum=33&trk=public_jobs_job-result-card_result-card_full-click\n"
     ]
    },
    {
     "name": "stderr",
     "output_type": "stream",
     "text": [
      "INFO:li:scraper:('[healthcare][United Arab Emirates][807]', 'Processed')\n"
     ]
    },
    {
     "name": "stdout",
     "output_type": "stream",
     "text": [
      "[ON_DATA] Vascular Surgeon (Specialist/Consultant) Search Plus Hr 2021-03-26 https://ae.linkedin.com/jobs/view/vascular-surgeon-specialist-consultant-at-search-plus-hr-2485739073?refId=035d7ad8-94fc-4d59-814b-379493fe392c&trackingId=YyV8suN0V9NF9AT%2FlxLR4w%3D%3D&position=14&pageNum=33&trk=public_jobs_job-result-card_result-card_full-click\n"
     ]
    },
    {
     "name": "stderr",
     "output_type": "stream",
     "text": [
      "INFO:li:scraper:('[healthcare][United Arab Emirates][808]', 'Processed')\n"
     ]
    },
    {
     "name": "stdout",
     "output_type": "stream",
     "text": [
      "[ON_DATA] Physiotherapist RTC-1 Employment Services 2020-12-27 https://ae.linkedin.com/jobs/view/physiotherapist-at-rtc-1-employment-services-2359850800?refId=035d7ad8-94fc-4d59-814b-379493fe392c&trackingId=i305t2caRpN8%2FGx2gDEydQ%3D%3D&position=15&pageNum=33&trk=public_jobs_job-result-card_result-card_full-click\n"
     ]
    },
    {
     "name": "stderr",
     "output_type": "stream",
     "text": [
      "INFO:li:scraper:('[healthcare][United Arab Emirates][809]', 'Processed')\n"
     ]
    },
    {
     "name": "stdout",
     "output_type": "stream",
     "text": [
      "[ON_DATA] DOH Nurse Rtc1 Employment Services 2021-03-19 https://ae.linkedin.com/jobs/view/doh-nurse-at-rtc1-employment-services-2468547254?refId=035d7ad8-94fc-4d59-814b-379493fe392c&trackingId=UsT05oC9Y7vBXUqStvck5g%3D%3D&position=16&pageNum=33&trk=public_jobs_job-result-card_result-card_full-click\n"
     ]
    },
    {
     "name": "stderr",
     "output_type": "stream",
     "text": [
      "INFO:li:scraper:('[healthcare][United Arab Emirates][810]', 'Processed')\n"
     ]
    },
    {
     "name": "stdout",
     "output_type": "stream",
     "text": [
      "[ON_DATA] Assistant Technician -Facility Maintenance /HVAC Serco Plc 2021-03-20 https://ae.linkedin.com/jobs/view/assistant-technician-facility-maintenance-hvac-at-serco-plc-2489505646?refId=035d7ad8-94fc-4d59-814b-379493fe392c&trackingId=BhTC0R8SRGi0KOmYqL1Frg%3D%3D&position=17&pageNum=33&trk=public_jobs_job-result-card_result-card_full-click\n"
     ]
    },
    {
     "name": "stderr",
     "output_type": "stream",
     "text": [
      "INFO:li:scraper:('[healthcare][United Arab Emirates][811]', 'Processed')\n"
     ]
    },
    {
     "name": "stdout",
     "output_type": "stream",
     "text": [
      "[ON_DATA] Technical Assistant (Painter) Serco Plc 2021-03-30 https://ae.linkedin.com/jobs/view/technical-assistant-painter-at-serco-plc-2482548553?refId=035d7ad8-94fc-4d59-814b-379493fe392c&trackingId=C5wZPnvmk0aN4qHKEaE0%2FQ%3D%3D&position=18&pageNum=33&trk=public_jobs_job-result-card_result-card_full-click\n"
     ]
    },
    {
     "name": "stderr",
     "output_type": "stream",
     "text": [
      "INFO:li:scraper:('[healthcare][United Arab Emirates][812]', 'Processed')\n"
     ]
    },
    {
     "name": "stdout",
     "output_type": "stream",
     "text": [
      "[ON_DATA] Software Engineer II - Android talabat 2021-03-15 https://ae.linkedin.com/jobs/view/software-engineer-ii-android-at-talabat-2401649816?refId=035d7ad8-94fc-4d59-814b-379493fe392c&trackingId=PhzWLMRYQ1gCuJyWMvRTIA%3D%3D&position=19&pageNum=33&trk=public_jobs_job-result-card_result-card_full-click\n"
     ]
    },
    {
     "name": "stderr",
     "output_type": "stream",
     "text": [
      "INFO:li:scraper:('[healthcare][United Arab Emirates][813]', 'Processed')\n"
     ]
    },
    {
     "name": "stdout",
     "output_type": "stream",
     "text": [
      "[ON_DATA] ICU/Anesthesia Specialist Urgently Required Omni International 2021-02-09 https://ae.linkedin.com/jobs/view/icu-anesthesia-specialist-urgently-required-at-omni-international-2417570154?refId=035d7ad8-94fc-4d59-814b-379493fe392c&trackingId=trywAQAfK4hv8ivlsqBDpg%3D%3D&position=20&pageNum=33&trk=public_jobs_job-result-card_result-card_full-click\n"
     ]
    },
    {
     "name": "stderr",
     "output_type": "stream",
     "text": [
      "INFO:li:scraper:('[healthcare][United Arab Emirates][814]', 'Processed')\n"
     ]
    },
    {
     "name": "stdout",
     "output_type": "stream",
     "text": [
      "[ON_DATA] Cleaner Serco 2021-03-30 https://ae.linkedin.com/jobs/view/cleaner-at-serco-2470504582?refId=035d7ad8-94fc-4d59-814b-379493fe392c&trackingId=0wPrKxmTmOvrPIsU2uBGJw%3D%3D&position=21&pageNum=33&trk=public_jobs_job-result-card_result-card_full-click\n"
     ]
    },
    {
     "name": "stderr",
     "output_type": "stream",
     "text": [
      "INFO:li:scraper:('[healthcare][United Arab Emirates][815]', 'Processed')\n"
     ]
    },
    {
     "name": "stdout",
     "output_type": "stream",
     "text": [
      "[ON_DATA] IT Infrastructure Engineer II Talabat 2021-03-12 https://ae.linkedin.com/jobs/view/it-infrastructure-engineer-ii-at-talabat-2485747740?refId=035d7ad8-94fc-4d59-814b-379493fe392c&trackingId=VWBFl5sIVnmUlVMXia%2Bi3w%3D%3D&position=22&pageNum=33&trk=public_jobs_job-result-card_result-card_full-click\n"
     ]
    },
    {
     "name": "stderr",
     "output_type": "stream",
     "text": [
      "INFO:li:scraper:('[healthcare][United Arab Emirates][816]', 'Processed')\n"
     ]
    },
    {
     "name": "stdout",
     "output_type": "stream",
     "text": [
      "[ON_DATA] Permanent Gastroenterology Physician Job in United Arab Emirates (UAE) Cross Country Search 2021-02-16 https://ae.linkedin.com/jobs/view/permanent-gastroenterology-physician-job-in-united-arab-emirates-uae-at-cross-country-search-2426076060?refId=035d7ad8-94fc-4d59-814b-379493fe392c&trackingId=KcQWG8B3rJwWe7iM2WfFXQ%3D%3D&position=23&pageNum=33&trk=public_jobs_job-result-card_result-card_full-click\n"
     ]
    },
    {
     "name": "stderr",
     "output_type": "stream",
     "text": [
      "INFO:li:scraper:('[healthcare][United Arab Emirates][817]', 'Processed')\n"
     ]
    },
    {
     "name": "stdout",
     "output_type": "stream",
     "text": [
      "[ON_DATA] Graphic Designer Davidson Management Consultants 2021-03-19 https://ae.linkedin.com/jobs/view/graphic-designer-at-davidson-management-consultants-2468547274?refId=035d7ad8-94fc-4d59-814b-379493fe392c&trackingId=qLeDu1ULpYSabXCJXGMn5A%3D%3D&position=24&pageNum=33&trk=public_jobs_job-result-card_result-card_full-click\n"
     ]
    },
    {
     "name": "stderr",
     "output_type": "stream",
     "text": [
      "INFO:li:scraper:('[healthcare][United Arab Emirates][818]', 'Processed')\n",
      "INFO:li:scraper:('[healthcare][United Arab Emirates][818]', 'Checking for new jobs to load...')\n"
     ]
    },
    {
     "name": "stdout",
     "output_type": "stream",
     "text": [
      "[ON_DATA] (Senior / Mid-Level)Systems Engineer - Salesforce team (f/m/d) Talabat 2021-03-28 https://ae.linkedin.com/jobs/view/senior-mid-level-systems-engineer-salesforce-team-f-m-d-at-talabat-2490421962?refId=035d7ad8-94fc-4d59-814b-379493fe392c&trackingId=q%2F%2FfA1s0hZ50LstUhLR%2FZg%3D%3D&position=25&pageNum=33&trk=public_jobs_job-result-card_result-card_full-click\n"
     ]
    },
    {
     "name": "stderr",
     "output_type": "stream",
     "text": [
      "INFO:li:scraper:('[healthcare][United Arab Emirates][818]', 'Found 843 jobs')\n",
      "INFO:li:scraper:('[healthcare][United Arab Emirates][819]', 'Processed')\n"
     ]
    },
    {
     "name": "stdout",
     "output_type": "stream",
     "text": [
      "[ON_DATA] DHA Laser Therapist RTC-1 Employment Services 2021-03-29 https://ae.linkedin.com/jobs/view/dha-laser-therapist-at-rtc-1-employment-services-2482134322?refId=ce2fe91d-abcb-4f8e-8cc0-48c69bd702da&trackingId=MORB7tJNR9r5PHF1gP60Tg%3D%3D&position=1&pageNum=34&trk=public_jobs_job-result-card_result-card_full-click\n"
     ]
    },
    {
     "name": "stderr",
     "output_type": "stream",
     "text": [
      "INFO:li:scraper:('[healthcare][United Arab Emirates][820]', 'Processed')\n"
     ]
    },
    {
     "name": "stdout",
     "output_type": "stream",
     "text": [
      "[ON_DATA] Pediatric Physical Therapist at Multidisciplenary Outpatient Clinic in Dubai, UAE Turas Group 2020-10-16 https://ae.linkedin.com/jobs/view/pediatric-physical-therapist-at-multidisciplenary-outpatient-clinic-in-dubai-uae-at-turas-group-2295830135?refId=ce2fe91d-abcb-4f8e-8cc0-48c69bd702da&trackingId=McuyYRFqjyHOuwbHivphVw%3D%3D&position=2&pageNum=34&trk=public_jobs_job-result-card_result-card_full-click\n"
     ]
    },
    {
     "name": "stderr",
     "output_type": "stream",
     "text": [
      "INFO:li:scraper:('[healthcare][United Arab Emirates][821]', 'Processed')\n"
     ]
    },
    {
     "name": "stdout",
     "output_type": "stream",
     "text": [
      "[ON_DATA] Charge Nurse Operating Room Sheikh Shakhbout Medical City (Ssmc) 2021-03-20 https://ae.linkedin.com/jobs/view/charge-nurse-operating-room-at-sheikh-shakhbout-medical-city-ssmc-2489509268?refId=ce2fe91d-abcb-4f8e-8cc0-48c69bd702da&trackingId=JTzJh8o9yT5gfvkB%2F%2FY%2Big%3D%3D&position=3&pageNum=34&trk=public_jobs_job-result-card_result-card_full-click\n"
     ]
    },
    {
     "name": "stderr",
     "output_type": "stream",
     "text": [
      "INFO:li:scraper:('[healthcare][United Arab Emirates][822]', 'Processed')\n"
     ]
    },
    {
     "name": "stdout",
     "output_type": "stream",
     "text": [
      "[ON_DATA] Senior Legal Counsel IBM Middle East 2021-01-28 https://ae.linkedin.com/jobs/view/senior-legal-counsel-at-ibm-middle-east-2403643873?refId=ce2fe91d-abcb-4f8e-8cc0-48c69bd702da&trackingId=8ZWp%2FbHfsbU0D9aKWX0HBg%3D%3D&position=4&pageNum=34&trk=public_jobs_job-result-card_result-card_full-click\n"
     ]
    },
    {
     "name": "stderr",
     "output_type": "stream",
     "text": [
      "INFO:li:scraper:('[healthcare][United Arab Emirates][823]', 'Processed')\n"
     ]
    },
    {
     "name": "stdout",
     "output_type": "stream",
     "text": [
      "[ON_DATA] Registered Nurse (HAAD) A Leading Medical Enterprise In The UAE 2021-02-03 https://ae.linkedin.com/jobs/view/registered-nurse-haad-at-a-leading-medical-enterprise-in-the-uae-2408310217?refId=ce2fe91d-abcb-4f8e-8cc0-48c69bd702da&trackingId=UZo7Ct%2BwNcJwpZQXapGxDA%3D%3D&position=5&pageNum=34&trk=public_jobs_job-result-card_result-card_full-click\n"
     ]
    },
    {
     "name": "stderr",
     "output_type": "stream",
     "text": [
      "INFO:li:scraper:('[healthcare][United Arab Emirates][824]', 'Processed')\n"
     ]
    },
    {
     "name": "stdout",
     "output_type": "stream",
     "text": [
      "[ON_DATA] Consultant Paediatric Pulmonology & Sleep Medicine - Abu Dhabi, UAE Medacs Healthcare 2021-03-30 https://ae.linkedin.com/jobs/view/consultant-paediatric-pulmonology-sleep-medicine-abu-dhabi-uae-at-medacs-healthcare-2482544940?refId=ce2fe91d-abcb-4f8e-8cc0-48c69bd702da&trackingId=moktLsQfKLzzVw3dLuTMKA%3D%3D&position=6&pageNum=34&trk=public_jobs_job-result-card_result-card_full-click\n"
     ]
    },
    {
     "name": "stderr",
     "output_type": "stream",
     "text": [
      "INFO:li:scraper:('[healthcare][United Arab Emirates][825]', 'Processed')\n"
     ]
    },
    {
     "name": "stdout",
     "output_type": "stream",
     "text": [
      "[ON_DATA] Community Nurse Balsam International Hospitals Recruitment Inc. 2021-02-12 https://ae.linkedin.com/jobs/view/community-nurse-balsam-at-international-hospitals-recruitment-inc-2420688631?refId=ce2fe91d-abcb-4f8e-8cc0-48c69bd702da&trackingId=R7s8TFUowIVYgevKJudm%2Fg%3D%3D&position=7&pageNum=34&trk=public_jobs_job-result-card_result-card_full-click\n"
     ]
    },
    {
     "name": "stderr",
     "output_type": "stream",
     "text": [
      "INFO:li:scraper:('[healthcare][United Arab Emirates][826]', 'Processed')\n"
     ]
    },
    {
     "name": "stdout",
     "output_type": "stream",
     "text": [
      "[ON_DATA] Staff Nurse Emergency Room Sheikh Shakhbout Medical City (Ssmc) 2021-03-20 https://ae.linkedin.com/jobs/view/staff-nurse-emergency-room-at-sheikh-shakhbout-medical-city-ssmc-2489458900?refId=ce2fe91d-abcb-4f8e-8cc0-48c69bd702da&trackingId=TboLovGUOzLWjsbyCzprMA%3D%3D&position=8&pageNum=34&trk=public_jobs_job-result-card_result-card_full-click\n"
     ]
    },
    {
     "name": "stderr",
     "output_type": "stream",
     "text": [
      "INFO:li:scraper:('[healthcare][United Arab Emirates][827]', 'Processed')\n"
     ]
    },
    {
     "name": "stdout",
     "output_type": "stream",
     "text": [
      "[ON_DATA] Electrician / Plumber Ain Al Khaleej Hospital 2021-02-15 https://ae.linkedin.com/jobs/view/electrician-plumber-at-ain-al-khaleej-hospital-2425600076?refId=ce2fe91d-abcb-4f8e-8cc0-48c69bd702da&trackingId=ZSvxVA6VTbXVIVAYl5pkjw%3D%3D&position=9&pageNum=34&trk=public_jobs_job-result-card_result-card_full-click\n"
     ]
    },
    {
     "name": "stderr",
     "output_type": "stream",
     "text": [
      "INFO:li:scraper:('[healthcare][United Arab Emirates][828]', 'Processed')\n"
     ]
    },
    {
     "name": "stdout",
     "output_type": "stream",
     "text": [
      "[ON_DATA] HAAD Certified Nurse Required for International Hospital Omni International 2021-01-31 https://ae.linkedin.com/jobs/view/haad-certified-nurse-required-for-international-hospital-at-omni-international-2403641883?refId=ce2fe91d-abcb-4f8e-8cc0-48c69bd702da&trackingId=srlVwGZYaE%2BI%2BM%2F1sGHMug%3D%3D&position=10&pageNum=34&trk=public_jobs_job-result-card_result-card_full-click\n"
     ]
    },
    {
     "name": "stderr",
     "output_type": "stream",
     "text": [
      "INFO:li:scraper:('[healthcare][United Arab Emirates][829]', 'Processed')\n"
     ]
    },
    {
     "name": "stdout",
     "output_type": "stream",
     "text": [
      "[ON_DATA] Physiotherapist - Al Ain, UAE Mpa Recruitment 2021-04-05 https://ae.linkedin.com/jobs/view/physiotherapist-al-ain-uae-at-mpa-recruitment-2490440110?refId=ce2fe91d-abcb-4f8e-8cc0-48c69bd702da&trackingId=o9FW3va3KirC76CQKU0UBA%3D%3D&position=11&pageNum=34&trk=public_jobs_job-result-card_result-card_full-click\n"
     ]
    },
    {
     "name": "stderr",
     "output_type": "stream",
     "text": [
      "INFO:li:scraper:('[healthcare][United Arab Emirates][830]', 'Processed')\n"
     ]
    },
    {
     "name": "stdout",
     "output_type": "stream",
     "text": [
      "[ON_DATA] Technician - Power Distribution Serco Plc 2021-03-20 https://ae.linkedin.com/jobs/view/technician-power-distribution-at-serco-plc-2485733277?refId=ce2fe91d-abcb-4f8e-8cc0-48c69bd702da&trackingId=%2FE7ryC2ZATatKhCwVdHbqw%3D%3D&position=12&pageNum=34&trk=public_jobs_job-result-card_result-card_full-click\n"
     ]
    },
    {
     "name": "stderr",
     "output_type": "stream",
     "text": [
      "INFO:li:scraper:('[healthcare][United Arab Emirates][831]', 'Processed')\n"
     ]
    },
    {
     "name": "stdout",
     "output_type": "stream",
     "text": [
      "[ON_DATA] Dental Nurse RTC-1 Employment Services 2021-03-24 https://ae.linkedin.com/jobs/view/dental-nurse-at-rtc-1-employment-services-2475225499?refId=ce2fe91d-abcb-4f8e-8cc0-48c69bd702da&trackingId=%2BOVE9bgZt637b38BIKGFLA%3D%3D&position=13&pageNum=34&trk=public_jobs_job-result-card_result-card_full-click\n"
     ]
    },
    {
     "name": "stderr",
     "output_type": "stream",
     "text": [
      "INFO:li:scraper:('[healthcare][United Arab Emirates][832]', 'Processed')\n"
     ]
    },
    {
     "name": "stdout",
     "output_type": "stream",
     "text": [
      "[ON_DATA] Senior Civils Technician - Hospital VAMED Middle East 2021-01-21 https://ae.linkedin.com/jobs/view/senior-civils-technician-hospital-at-vamed-middle-east-2390347983?refId=ce2fe91d-abcb-4f8e-8cc0-48c69bd702da&trackingId=5M5%2BjzQwOZzJy0Sjv3KWBA%3D%3D&position=14&pageNum=34&trk=public_jobs_job-result-card_result-card_full-click\n"
     ]
    },
    {
     "name": "stderr",
     "output_type": "stream",
     "text": [
      "INFO:li:scraper:('[healthcare][United Arab Emirates][833]', 'Processed')\n"
     ]
    },
    {
     "name": "stdout",
     "output_type": "stream",
     "text": [
      "[ON_DATA] Staff Nurse Emergency Room International Hospitals Recruitment Inc. 2021-03-19 https://ae.linkedin.com/jobs/view/staff-nurse-emergency-room-at-international-hospitals-recruitment-inc-2468480962?refId=ce2fe91d-abcb-4f8e-8cc0-48c69bd702da&trackingId=As886cqIciE5Kw%2Bkkb1ONg%3D%3D&position=15&pageNum=34&trk=public_jobs_job-result-card_result-card_full-click\n"
     ]
    },
    {
     "name": "stderr",
     "output_type": "stream",
     "text": [
      "INFO:li:scraper:('[healthcare][United Arab Emirates][834]', 'Processed')\n"
     ]
    },
    {
     "name": "stdout",
     "output_type": "stream",
     "text": [
      "[ON_DATA] Technician - Facility Maintenance - Plumbing Serco Plc 2021-03-25 https://ae.linkedin.com/jobs/view/technician-facility-maintenance-plumbing-at-serco-plc-2477152688?refId=ce2fe91d-abcb-4f8e-8cc0-48c69bd702da&trackingId=vpCpi1a8d3xpeZaLAQXDlA%3D%3D&position=16&pageNum=34&trk=public_jobs_job-result-card_result-card_full-click\n"
     ]
    },
    {
     "name": "stderr",
     "output_type": "stream",
     "text": [
      "INFO:li:scraper:('[healthcare][United Arab Emirates][835]', 'Processed')\n"
     ]
    },
    {
     "name": "stdout",
     "output_type": "stream",
     "text": [
      "[ON_DATA] Oracle Sales and Project Manager IBM Middle East 2021-02-05 https://ae.linkedin.com/jobs/view/oracle-sales-and-project-manager-at-ibm-middle-east-2414541999?refId=ce2fe91d-abcb-4f8e-8cc0-48c69bd702da&trackingId=RaxJDBT%2BGiTkhl%2Fs%2FBJtPQ%3D%3D&position=17&pageNum=34&trk=public_jobs_job-result-card_result-card_full-click\n"
     ]
    },
    {
     "name": "stderr",
     "output_type": "stream",
     "text": [
      "INFO:li:scraper:('[healthcare][United Arab Emirates][836]', 'Processed')\n"
     ]
    },
    {
     "name": "stdout",
     "output_type": "stream",
     "text": [
      "[ON_DATA] Assistant Technician -Facility Maintenance /HVAC Serco 2021-02-28 https://ae.linkedin.com/jobs/view/assistant-technician-facility-maintenance-hvac-at-serco-2464842553?refId=ce2fe91d-abcb-4f8e-8cc0-48c69bd702da&trackingId=iQT3tkVNpwznkToPMdOE2w%3D%3D&position=18&pageNum=34&trk=public_jobs_job-result-card_result-card_full-click\n"
     ]
    },
    {
     "name": "stderr",
     "output_type": "stream",
     "text": [
      "INFO:li:scraper:('[healthcare][United Arab Emirates][837]', 'Processed')\n"
     ]
    },
    {
     "name": "stdout",
     "output_type": "stream",
     "text": [
      "[ON_DATA] Senior Software Engineer Talabat 2021-04-01 https://ae.linkedin.com/jobs/view/senior-software-engineer-at-talabat-2485731807?refId=ce2fe91d-abcb-4f8e-8cc0-48c69bd702da&trackingId=CR%2FDhZWkGZxCAfzeWT7IOg%3D%3D&position=19&pageNum=34&trk=public_jobs_job-result-card_result-card_full-click\n"
     ]
    },
    {
     "name": "stderr",
     "output_type": "stream",
     "text": [
      "INFO:li:scraper:('[healthcare][United Arab Emirates][838]', 'Processed')\n"
     ]
    },
    {
     "name": "stdout",
     "output_type": "stream",
     "text": [
      "[ON_DATA] Operator - Heavy Equipment (FM) Serco Plc 2021-03-19 https://ae.linkedin.com/jobs/view/operator-heavy-equipment-fm-at-serco-plc-2490436726?refId=ce2fe91d-abcb-4f8e-8cc0-48c69bd702da&trackingId=MvYG7%2F%2F7hsvRsAv72l0m%2FQ%3D%3D&position=20&pageNum=34&trk=public_jobs_job-result-card_result-card_full-click\n"
     ]
    },
    {
     "name": "stderr",
     "output_type": "stream",
     "text": [
      "INFO:li:scraper:('[healthcare][United Arab Emirates][839]', 'Processed')\n"
     ]
    },
    {
     "name": "stdout",
     "output_type": "stream",
     "text": [
      "[ON_DATA] Physiotherapist RTC-1 Employment Services 2020-12-21 https://ae.linkedin.com/jobs/view/physiotherapist-at-rtc-1-employment-services-2353664985?refId=ce2fe91d-abcb-4f8e-8cc0-48c69bd702da&trackingId=22wx%2FNuFDDk%2BoSREy15zPQ%3D%3D&position=21&pageNum=34&trk=public_jobs_job-result-card_result-card_full-click\n"
     ]
    },
    {
     "name": "stderr",
     "output_type": "stream",
     "text": [
      "INFO:li:scraper:('[healthcare][United Arab Emirates][840]', 'Processed')\n"
     ]
    },
    {
     "name": "stdout",
     "output_type": "stream",
     "text": [
      "[ON_DATA] Filipino Nurse Assistant for Home Care - Dubai Via Medica Intl 2021-01-25 https://ae.linkedin.com/jobs/view/filipino-nurse-assistant-for-home-care-dubai-at-via-medica-intl-2394853113?refId=ce2fe91d-abcb-4f8e-8cc0-48c69bd702da&trackingId=C7RVVVNHKIR2yYM5fP4T0w%3D%3D&position=22&pageNum=34&trk=public_jobs_job-result-card_result-card_full-click\n"
     ]
    },
    {
     "name": "stderr",
     "output_type": "stream",
     "text": [
      "INFO:li:scraper:('[healthcare][United Arab Emirates][841]', 'Processed')\n"
     ]
    },
    {
     "name": "stdout",
     "output_type": "stream",
     "text": [
      "[ON_DATA] CS Cart Developer Careers International 2021-03-09 https://ae.linkedin.com/jobs/view/cs-cart-developer-at-careers-international-2453702674?refId=ce2fe91d-abcb-4f8e-8cc0-48c69bd702da&trackingId=RryeGjCzgGO1GYorZFYF9A%3D%3D&position=23&pageNum=34&trk=public_jobs_job-result-card_result-card_full-click\n"
     ]
    },
    {
     "name": "stderr",
     "output_type": "stream",
     "text": [
      "INFO:li:scraper:('[healthcare][United Arab Emirates][842]', 'Processed')\n"
     ]
    },
    {
     "name": "stdout",
     "output_type": "stream",
     "text": [
      "[ON_DATA] Private Duty Nurse for Home Care Via Medica Intl 2021-03-19 https://ae.linkedin.com/jobs/view/private-duty-nurse-for-home-care-at-via-medica-intl-2490440389?refId=ce2fe91d-abcb-4f8e-8cc0-48c69bd702da&trackingId=zlHcDHu3kC0LgAWB2RPQXQ%3D%3D&position=24&pageNum=34&trk=public_jobs_job-result-card_result-card_full-click\n"
     ]
    },
    {
     "name": "stderr",
     "output_type": "stream",
     "text": [
      "INFO:li:scraper:('[healthcare][United Arab Emirates][843]', 'Processed')\n",
      "INFO:li:scraper:('[healthcare][United Arab Emirates][843]', 'Checking for new jobs to load...')\n"
     ]
    },
    {
     "name": "stdout",
     "output_type": "stream",
     "text": [
      "[ON_DATA] Nurse Manager Jobs in Dubai Multispecialty Hospital (Western Trained applicants) Turas Group 2020-10-16 https://ae.linkedin.com/jobs/view/nurse-manager-jobs-in-dubai-multispecialty-hospital-western-trained-applicants-at-turas-group-2295829296?refId=ce2fe91d-abcb-4f8e-8cc0-48c69bd702da&trackingId=KCiYaUHieLNWNDZs40JQUQ%3D%3D&position=25&pageNum=34&trk=public_jobs_job-result-card_result-card_full-click\n"
     ]
    },
    {
     "name": "stderr",
     "output_type": "stream",
     "text": [
      "INFO:li:scraper:('[healthcare][United Arab Emirates][843]', 'Found 868 jobs')\n",
      "INFO:li:scraper:('[healthcare][United Arab Emirates][844]', 'Processed')\n"
     ]
    },
    {
     "name": "stdout",
     "output_type": "stream",
     "text": [
      "[ON_DATA] CS Cart Developer Careers International 2021-03-09 https://ae.linkedin.com/jobs/view/cs-cart-developer-at-careers-international-2453702674?refId=9482a329-8cd7-4c5c-9e31-0024dd07f8f0&trackingId=aBKVTD0TZGAhVJinbedhwA%3D%3D&position=1&pageNum=35&trk=public_jobs_job-result-card_result-card_full-click\n"
     ]
    },
    {
     "name": "stderr",
     "output_type": "stream",
     "text": [
      "INFO:li:scraper:('[healthcare][United Arab Emirates][845]', 'Processed')\n"
     ]
    },
    {
     "name": "stdout",
     "output_type": "stream",
     "text": [
      "[ON_DATA] Private Duty Nurse for Home Care Via Medica Intl 2021-03-19 https://ae.linkedin.com/jobs/view/private-duty-nurse-for-home-care-at-via-medica-intl-2490440389?refId=9482a329-8cd7-4c5c-9e31-0024dd07f8f0&trackingId=2oRojI4%2BW01XY52%2FTn7Wrw%3D%3D&position=2&pageNum=35&trk=public_jobs_job-result-card_result-card_full-click\n"
     ]
    },
    {
     "name": "stderr",
     "output_type": "stream",
     "text": [
      "INFO:li:scraper:('[healthcare][United Arab Emirates][846]', 'Processed')\n"
     ]
    },
    {
     "name": "stdout",
     "output_type": "stream",
     "text": [
      "[ON_DATA] Nurse Manager Jobs in Dubai Multispecialty Hospital (Western Trained applicants) Turas Group 2020-10-16 https://ae.linkedin.com/jobs/view/nurse-manager-jobs-in-dubai-multispecialty-hospital-western-trained-applicants-at-turas-group-2295829296?refId=9482a329-8cd7-4c5c-9e31-0024dd07f8f0&trackingId=DyFgXC5ihPSVRZ%2FM%2FMKMag%3D%3D&position=3&pageNum=35&trk=public_jobs_job-result-card_result-card_full-click\n"
     ]
    },
    {
     "name": "stderr",
     "output_type": "stream",
     "text": [
      "INFO:li:scraper:('[healthcare][United Arab Emirates][847]', 'Processed')\n"
     ]
    },
    {
     "name": "stdout",
     "output_type": "stream",
     "text": [
      "[ON_DATA] Charge Nurse (Intensive Care/ICU) Opportunity with Field Hospital Omni International 2021-02-16 https://ae.linkedin.com/jobs/view/charge-nurse-intensive-care-icu-opportunity-with-field-hospital-at-omni-international-2426813200?refId=9482a329-8cd7-4c5c-9e31-0024dd07f8f0&trackingId=yu3MmQX0SCFm3OxTUdlP5g%3D%3D&position=4&pageNum=35&trk=public_jobs_job-result-card_result-card_full-click\n"
     ]
    },
    {
     "name": "stderr",
     "output_type": "stream",
     "text": [
      "INFO:li:scraper:('[healthcare][United Arab Emirates][848]', 'Processed')\n"
     ]
    },
    {
     "name": "stdout",
     "output_type": "stream",
     "text": [
      "[ON_DATA] Staff Nurse: Urgent Care Clinic Kanad Hospital 2021-03-17 https://ae.linkedin.com/jobs/view/staff-nurse-urgent-care-clinic-at-kanad-hospital-2490436929?refId=9482a329-8cd7-4c5c-9e31-0024dd07f8f0&trackingId=32aCHLPxtWERbLLKoa8t3g%3D%3D&position=5&pageNum=35&trk=public_jobs_job-result-card_result-card_full-click\n"
     ]
    },
    {
     "name": "stderr",
     "output_type": "stream",
     "text": [
      "INFO:li:scraper:('[healthcare][United Arab Emirates][849]', 'Processed')\n"
     ]
    },
    {
     "name": "stdout",
     "output_type": "stream",
     "text": [
      "[ON_DATA] Mechanical Technician VAMED Middle East 2020-11-29 https://ae.linkedin.com/jobs/view/mechanical-technician-at-vamed-middle-east-2326771516?refId=9482a329-8cd7-4c5c-9e31-0024dd07f8f0&trackingId=JrUzHdkh%2FPhe%2FTH%2FWa3Wgw%3D%3D&position=6&pageNum=35&trk=public_jobs_job-result-card_result-card_full-click\n"
     ]
    },
    {
     "name": "stderr",
     "output_type": "stream",
     "text": [
      "INFO:li:scraper:('[healthcare][United Arab Emirates][850]', 'Processed')\n"
     ]
    },
    {
     "name": "stdout",
     "output_type": "stream",
     "text": [
      "[ON_DATA] Senior Acute Medical Nurse - Abu Dhabi Medacs Healthcare 2021-03-29 https://ae.linkedin.com/jobs/view/senior-acute-medical-nurse-abu-dhabi-at-medacs-healthcare-2481513774?refId=9482a329-8cd7-4c5c-9e31-0024dd07f8f0&trackingId=ClRPjZCNjLhbq4M39g0TRw%3D%3D&position=7&pageNum=35&trk=public_jobs_job-result-card_result-card_full-click\n"
     ]
    },
    {
     "name": "stderr",
     "output_type": "stream",
     "text": [
      "INFO:li:scraper:('[healthcare][United Arab Emirates][851]', 'Processed')\n"
     ]
    },
    {
     "name": "stdout",
     "output_type": "stream",
     "text": [
      "[ON_DATA] Female Homecare Registered Nurse -Dubai Via Medica Intl 2021-03-20 https://ae.linkedin.com/jobs/view/female-homecare-registered-nurse-dubai-at-via-medica-intl-2485738596?refId=9482a329-8cd7-4c5c-9e31-0024dd07f8f0&trackingId=0wN44bFG2R9jK9e5Zpxyfg%3D%3D&position=8&pageNum=35&trk=public_jobs_job-result-card_result-card_full-click\n"
     ]
    },
    {
     "name": "stderr",
     "output_type": "stream",
     "text": [
      "INFO:li:scraper:('[healthcare][United Arab Emirates][852]', 'Processed')\n"
     ]
    },
    {
     "name": "stdout",
     "output_type": "stream",
     "text": [
      "[ON_DATA] Female Home Care Nurse Oilexec 2021-03-19 https://ae.linkedin.com/jobs/view/female-home-care-nurse-at-oilexec-2468543883?refId=9482a329-8cd7-4c5c-9e31-0024dd07f8f0&trackingId=00Kagax%2BNXRtf625QyWlBw%3D%3D&position=9&pageNum=35&trk=public_jobs_job-result-card_result-card_full-click\n"
     ]
    },
    {
     "name": "stderr",
     "output_type": "stream",
     "text": [
      "INFO:li:scraper:('[healthcare][United Arab Emirates][853]', 'Processed')\n"
     ]
    },
    {
     "name": "stdout",
     "output_type": "stream",
     "text": [
      "[ON_DATA] Assistant Professor Nursing (Midwifery) Institute of Applied Technology 2021-02-24 https://ae.linkedin.com/jobs/view/assistant-professor-nursing-midwifery-at-institute-of-applied-technology-2437747449?refId=9482a329-8cd7-4c5c-9e31-0024dd07f8f0&trackingId=hR8%2BeCOsC2fcI6pPlrcUeA%3D%3D&position=10&pageNum=35&trk=public_jobs_job-result-card_result-card_full-click\n"
     ]
    },
    {
     "name": "stderr",
     "output_type": "stream",
     "text": [
      "INFO:li:scraper:('[healthcare][United Arab Emirates][854]', 'Processed')\n"
     ]
    },
    {
     "name": "stdout",
     "output_type": "stream",
     "text": [
      "[ON_DATA] Technician - Power Generation & Distribution- Power Generation Serco Plc 2021-03-24 https://ae.linkedin.com/jobs/view/technician-power-generation-distribution-power-generation-at-serco-plc-2475691492?refId=9482a329-8cd7-4c5c-9e31-0024dd07f8f0&trackingId=Tls6SPV84zziaMlsUHjtnQ%3D%3D&position=11&pageNum=35&trk=public_jobs_job-result-card_result-card_full-click\n"
     ]
    },
    {
     "name": "stderr",
     "output_type": "stream",
     "text": [
      "INFO:li:scraper:('[healthcare][United Arab Emirates][855]', 'Processed')\n"
     ]
    },
    {
     "name": "stdout",
     "output_type": "stream",
     "text": [
      "[ON_DATA] IOS Engineer ll (Automation) talabat 2021-03-11 https://ae.linkedin.com/jobs/view/ios-engineer-ll-automation-at-talabat-2437939968?refId=9482a329-8cd7-4c5c-9e31-0024dd07f8f0&trackingId=wElLxgCa1QMdTVXB98qyXw%3D%3D&position=12&pageNum=35&trk=public_jobs_job-result-card_result-card_full-click\n"
     ]
    },
    {
     "name": "stderr",
     "output_type": "stream",
     "text": [
      "INFO:li:scraper:('[healthcare][United Arab Emirates][856]', 'Processed')\n"
     ]
    },
    {
     "name": "stdout",
     "output_type": "stream",
     "text": [
      "[ON_DATA] Assistant Technician - Power Distribution Serco Plc 2021-03-24 https://ae.linkedin.com/jobs/view/assistant-technician-power-distribution-at-serco-plc-2485766048?refId=9482a329-8cd7-4c5c-9e31-0024dd07f8f0&trackingId=e%2Bzm7KsvZ%2FvSqw4jj5Bd0A%3D%3D&position=13&pageNum=35&trk=public_jobs_job-result-card_result-card_full-click\n"
     ]
    },
    {
     "name": "stderr",
     "output_type": "stream",
     "text": [
      "INFO:li:scraper:('[healthcare][United Arab Emirates][857]', 'Processed')\n"
     ]
    },
    {
     "name": "stdout",
     "output_type": "stream",
     "text": [
      "[ON_DATA] Software Engineer II - IOS talabat 2021-03-15 https://ae.linkedin.com/jobs/view/software-engineer-ii-ios-at-talabat-2401650627?refId=9482a329-8cd7-4c5c-9e31-0024dd07f8f0&trackingId=rkGCX9t%2BAq9VyI%2B%2B75Eh2g%3D%3D&position=14&pageNum=35&trk=public_jobs_job-result-card_result-card_full-click\n"
     ]
    },
    {
     "name": "stderr",
     "output_type": "stream",
     "text": [
      "INFO:li:scraper:('[healthcare][United Arab Emirates][858]', 'Processed')\n"
     ]
    },
    {
     "name": "stdout",
     "output_type": "stream",
     "text": [
      "[ON_DATA] Nurse Manager Acute Care International Hospitals Recruitment Inc. 2021-04-01 https://ae.linkedin.com/jobs/view/nurse-manager-acute-care-at-international-hospitals-recruitment-inc-2484942435?refId=9482a329-8cd7-4c5c-9e31-0024dd07f8f0&trackingId=Ct%2B6%2FGAYsHouIpP6zep4zw%3D%3D&position=15&pageNum=35&trk=public_jobs_job-result-card_result-card_full-click\n"
     ]
    },
    {
     "name": "stderr",
     "output_type": "stream",
     "text": [
      "INFO:li:scraper:('[healthcare][United Arab Emirates][859]', 'Processed')\n"
     ]
    },
    {
     "name": "stdout",
     "output_type": "stream",
     "text": [
      "[ON_DATA] Registered Nurse Sama Alshamkha Medical Center 2021-01-21 https://ae.linkedin.com/jobs/view/registered-nurse-at-sama-alshamkha-medical-center-2424621719?refId=9482a329-8cd7-4c5c-9e31-0024dd07f8f0&trackingId=2dbMyy9SX1eD1vViTJjyKQ%3D%3D&position=16&pageNum=35&trk=public_jobs_job-result-card_result-card_full-click\n"
     ]
    },
    {
     "name": "stderr",
     "output_type": "stream",
     "text": [
      "INFO:li:scraper:('[healthcare][United Arab Emirates][860]', 'Processed')\n"
     ]
    },
    {
     "name": "stdout",
     "output_type": "stream",
     "text": [
      "[ON_DATA] SAP Ariba Consultant IBM Middle East 2021-02-06 https://ae.linkedin.com/jobs/view/sap-ariba-consultant-at-ibm-middle-east-2414545247?refId=9482a329-8cd7-4c5c-9e31-0024dd07f8f0&trackingId=xDoOnX8Lz8XcazcO2wMArg%3D%3D&position=17&pageNum=35&trk=public_jobs_job-result-card_result-card_full-click\n"
     ]
    },
    {
     "name": "stderr",
     "output_type": "stream",
     "text": [
      "INFO:li:scraper:('[healthcare][United Arab Emirates][861]', 'Processed')\n"
     ]
    },
    {
     "name": "stdout",
     "output_type": "stream",
     "text": [
      "[ON_DATA] Business Sales & Delivery Executive - SAP Program Director IBM Middle East 2021-02-08 https://ae.linkedin.com/jobs/view/business-sales-delivery-executive-sap-program-director-at-ibm-middle-east-2415594275?refId=9482a329-8cd7-4c5c-9e31-0024dd07f8f0&trackingId=3cb5PzrQ9L%2FcAVP9aze4lQ%3D%3D&position=18&pageNum=35&trk=public_jobs_job-result-card_result-card_full-click\n"
     ]
    },
    {
     "name": "stderr",
     "output_type": "stream",
     "text": [
      "INFO:li:scraper:('[healthcare][United Arab Emirates][862]', 'Processed')\n"
     ]
    },
    {
     "name": "stdout",
     "output_type": "stream",
     "text": [
      "[ON_DATA] Accountant Black Pearl 2021-01-03 https://ae.linkedin.com/jobs/view/accountant-at-black-pearl-2367505718?refId=9482a329-8cd7-4c5c-9e31-0024dd07f8f0&trackingId=ggJJSl9dFqQ%2BZgAeqvCaMg%3D%3D&position=19&pageNum=35&trk=public_jobs_job-result-card_result-card_full-click\n"
     ]
    },
    {
     "name": "stderr",
     "output_type": "stream",
     "text": [
      "INFO:li:scraper:('[healthcare][United Arab Emirates][863]', 'Processed')\n"
     ]
    },
    {
     "name": "stdout",
     "output_type": "stream",
     "text": [
      "[ON_DATA] Paediatric Clinical Nurse Educator - Abu Dhabi Medacs Healthcare 2021-03-19 https://ae.linkedin.com/jobs/view/paediatric-clinical-nurse-educator-abu-dhabi-at-medacs-healthcare-2468548099?refId=9482a329-8cd7-4c5c-9e31-0024dd07f8f0&trackingId=0Zua69KBWM9JiOEDzuXYOQ%3D%3D&position=20&pageNum=35&trk=public_jobs_job-result-card_result-card_full-click\n"
     ]
    },
    {
     "name": "stderr",
     "output_type": "stream",
     "text": [
      "INFO:li:scraper:('[healthcare][United Arab Emirates][864]', 'Processed')\n"
     ]
    },
    {
     "name": "stdout",
     "output_type": "stream",
     "text": [
      "[ON_DATA] Interior Designer - Immediate Start Robinson Faris Jones HR Dubai 2020-12-15 https://ae.linkedin.com/jobs/view/interior-designer-immediate-start-at-robinson-faris-jones-hr-dubai-2345517292?refId=9482a329-8cd7-4c5c-9e31-0024dd07f8f0&trackingId=K4TSJ0WCpjXLtASt7k6Xhw%3D%3D&position=21&pageNum=35&trk=public_jobs_job-result-card_result-card_full-click\n"
     ]
    },
    {
     "name": "stderr",
     "output_type": "stream",
     "text": [
      "INFO:li:scraper:('[healthcare][United Arab Emirates][865]', 'Processed')\n"
     ]
    },
    {
     "name": "stdout",
     "output_type": "stream",
     "text": [
      "[ON_DATA] Registered Nurse (Locum)I Healthcare I Dubai- UAE Al Futtaim 2021-03-19 https://ae.linkedin.com/jobs/view/registered-nurse-locum-i-healthcare-i-dubai-uae-at-al-futtaim-2468547183?refId=9482a329-8cd7-4c5c-9e31-0024dd07f8f0&trackingId=OreEmCZ%2B5MbctGzHS9%2BCdw%3D%3D&position=22&pageNum=35&trk=public_jobs_job-result-card_result-card_full-click\n"
     ]
    },
    {
     "name": "stderr",
     "output_type": "stream",
     "text": [
      "INFO:li:scraper:('[healthcare][United Arab Emirates][866]', 'Processed')\n"
     ]
    },
    {
     "name": "stdout",
     "output_type": "stream",
     "text": [
      "[ON_DATA] Senior Palliative Care Nurse - Abu Dhabi Medacs Healthcare 2021-03-31 https://ae.linkedin.com/jobs/view/senior-palliative-care-nurse-abu-dhabi-at-medacs-healthcare-2484078657?refId=9482a329-8cd7-4c5c-9e31-0024dd07f8f0&trackingId=aUmgmXxpXN4cJHLxuXQDBQ%3D%3D&position=23&pageNum=35&trk=public_jobs_job-result-card_result-card_full-click\n"
     ]
    },
    {
     "name": "stderr",
     "output_type": "stream",
     "text": [
      "INFO:li:scraper:('[healthcare][United Arab Emirates][867]', 'Processed')\n"
     ]
    },
    {
     "name": "stdout",
     "output_type": "stream",
     "text": [
      "[ON_DATA] Respiratory Therapist (Intensive Care/ICU) Omni International 2021-02-16 https://ae.linkedin.com/jobs/view/respiratory-therapist-intensive-care-icu-at-omni-international-2426815136?refId=9482a329-8cd7-4c5c-9e31-0024dd07f8f0&trackingId=b%2BT2c545iHmrC5v8rdHiPg%3D%3D&position=24&pageNum=35&trk=public_jobs_job-result-card_result-card_full-click\n"
     ]
    },
    {
     "name": "stderr",
     "output_type": "stream",
     "text": [
      "INFO:li:scraper:('[healthcare][United Arab Emirates][868]', 'Processed')\n",
      "INFO:li:scraper:('[healthcare][United Arab Emirates][868]', 'Checking for new jobs to load...')\n"
     ]
    },
    {
     "name": "stdout",
     "output_type": "stream",
     "text": [
      "[ON_DATA] Dialysis Nurse Prime Source 2021-02-11 https://ae.linkedin.com/jobs/view/dialysis-nurse-at-prime-source-2436815114?refId=9482a329-8cd7-4c5c-9e31-0024dd07f8f0&trackingId=Bg72FXpuLPZnK%2BnA3o9WQQ%3D%3D&position=25&pageNum=35&trk=public_jobs_job-result-card_result-card_full-click\n"
     ]
    },
    {
     "name": "stderr",
     "output_type": "stream",
     "text": [
      "INFO:li:scraper:('[healthcare][United Arab Emirates][868]', 'Found 893 jobs')\n",
      "INFO:li:scraper:('[healthcare][United Arab Emirates][869]', 'Processed')\n"
     ]
    },
    {
     "name": "stdout",
     "output_type": "stream",
     "text": [
      "[ON_DATA] Senior Palliative Care Nurse - Abu Dhabi Medacs Healthcare 2021-03-31 https://ae.linkedin.com/jobs/view/senior-palliative-care-nurse-abu-dhabi-at-medacs-healthcare-2484078657?refId=6d82121e-d442-4842-bed6-cf1e87ea9231&trackingId=ysrLg6U8CbVc3NCmC3iK2g%3D%3D&position=1&pageNum=36&trk=public_jobs_job-result-card_result-card_full-click\n"
     ]
    },
    {
     "name": "stderr",
     "output_type": "stream",
     "text": [
      "INFO:li:scraper:('[healthcare][United Arab Emirates][870]', 'Processed')\n"
     ]
    },
    {
     "name": "stdout",
     "output_type": "stream",
     "text": [
      "[ON_DATA] Accounts cum Admin Assistant Rounak Computers 2020-11-28 https://ae.linkedin.com/jobs/view/accounts-cum-admin-assistant-at-rounak-computers-2325176657?refId=6d82121e-d442-4842-bed6-cf1e87ea9231&trackingId=devyLUEk86QdKsk%2BdGyVzw%3D%3D&position=2&pageNum=36&trk=public_jobs_job-result-card_result-card_full-click\n"
     ]
    },
    {
     "name": "stderr",
     "output_type": "stream",
     "text": [
      "INFO:li:scraper:('[healthcare][United Arab Emirates][871]', 'Processed')\n"
     ]
    },
    {
     "name": "stdout",
     "output_type": "stream",
     "text": [
      "[ON_DATA] Staff Nurse Urgent Base Recruitment AB Consultancy 2021-03-12 https://ae.linkedin.com/jobs/view/staff-nurse-urgent-base-recruitment-at-ab-consultancy-2491199801?refId=6d82121e-d442-4842-bed6-cf1e87ea9231&trackingId=9SN%2Bhx%2FggrPvbpZVgXtk3Q%3D%3D&position=3&pageNum=36&trk=public_jobs_job-result-card_result-card_full-click\n"
     ]
    },
    {
     "name": "stderr",
     "output_type": "stream",
     "text": [
      "INFO:li:scraper:('[healthcare][United Arab Emirates][872]', 'Processed')\n"
     ]
    },
    {
     "name": "stdout",
     "output_type": "stream",
     "text": [
      "[ON_DATA] Staff Nurse Urgent Base Recruitment AB Consultancy 2021-03-12 https://ae.linkedin.com/jobs/view/staff-nurse-urgent-base-recruitment-at-ab-consultancy-2491201513?refId=6d82121e-d442-4842-bed6-cf1e87ea9231&trackingId=9SjnFRuevSupQBYBxYm2Bg%3D%3D&position=4&pageNum=36&trk=public_jobs_job-result-card_result-card_full-click\n"
     ]
    },
    {
     "name": "stderr",
     "output_type": "stream",
     "text": [
      "INFO:li:scraper:('[healthcare][United Arab Emirates][873]', 'Processed')\n"
     ]
    },
    {
     "name": "stdout",
     "output_type": "stream",
     "text": [
      "[ON_DATA] ICU Intensive Care Unit Nurse - Abu Dhabi Medacs Healthcare 2021-03-20 https://ae.linkedin.com/jobs/view/icu-intensive-care-unit-nurse-abu-dhabi-at-medacs-healthcare-2469914506?refId=6d82121e-d442-4842-bed6-cf1e87ea9231&trackingId=iZZbAEHgwiYXdHj9%2BZA76w%3D%3D&position=5&pageNum=36&trk=public_jobs_job-result-card_result-card_full-click\n"
     ]
    },
    {
     "name": "stderr",
     "output_type": "stream",
     "text": [
      "INFO:li:scraper:('[healthcare][United Arab Emirates][874]', 'Processed')\n"
     ]
    },
    {
     "name": "stdout",
     "output_type": "stream",
     "text": [
      "[ON_DATA] Assistant Technician - Structured Cabling Network Copper / Fiber (SCN) Serco Plc 2021-03-25 https://ae.linkedin.com/jobs/view/assistant-technician-structured-cabling-network-copper-fiber-scn-at-serco-plc-2487253967?refId=6d82121e-d442-4842-bed6-cf1e87ea9231&trackingId=gec7YTi35q7vQCH1gSzwFQ%3D%3D&position=6&pageNum=36&trk=public_jobs_job-result-card_result-card_full-click\n"
     ]
    },
    {
     "name": "stderr",
     "output_type": "stream",
     "text": [
      "INFO:li:scraper:('[healthcare][United Arab Emirates][875]', 'Processed')\n"
     ]
    },
    {
     "name": "stdout",
     "output_type": "stream",
     "text": [
      "[ON_DATA] Staff Nurse Urgent Base Recruitment AB Consultancy 2021-03-12 https://ae.linkedin.com/jobs/view/staff-nurse-urgent-base-recruitment-at-ab-consultancy-2491201517?refId=6d82121e-d442-4842-bed6-cf1e87ea9231&trackingId=B6F0uykKcJU91%2FZ0IKqjsw%3D%3D&position=7&pageNum=36&trk=public_jobs_job-result-card_result-card_full-click\n"
     ]
    },
    {
     "name": "stderr",
     "output_type": "stream",
     "text": [
      "INFO:li:scraper:('[healthcare][United Arab Emirates][876]', 'Processed')\n"
     ]
    },
    {
     "name": "stdout",
     "output_type": "stream",
     "text": [
      "[ON_DATA] Senior Metallurgy/ Welding Engineer - Dubia Brevan Oil & Gas Services 2021-03-19 https://ae.linkedin.com/jobs/view/senior-metallurgy-welding-engineer-dubia-at-brevan-oil-gas-services-2468545643?refId=6d82121e-d442-4842-bed6-cf1e87ea9231&trackingId=Rma828mPU8v0xA8q1BeKlA%3D%3D&position=8&pageNum=36&trk=public_jobs_job-result-card_result-card_full-click\n"
     ]
    },
    {
     "name": "stderr",
     "output_type": "stream",
     "text": [
      "INFO:li:scraper:('[healthcare][United Arab Emirates][877]', 'Processed')\n"
     ]
    },
    {
     "name": "stdout",
     "output_type": "stream",
     "text": [
      "[ON_DATA] NURSE SOS HR Solutions Kuwait 2021-02-08 https://ae.linkedin.com/jobs/view/nurse-at-sos-hr-solutions-kuwait-2414556638?refId=6d82121e-d442-4842-bed6-cf1e87ea9231&trackingId=wua5q4PWBHKeD5LHBpZ9Rg%3D%3D&position=9&pageNum=36&trk=public_jobs_job-result-card_result-card_full-click\n"
     ]
    },
    {
     "name": "stderr",
     "output_type": "stream",
     "text": [
      "INFO:li:scraper:('[healthcare][United Arab Emirates][878]', 'Processed')\n"
     ]
    },
    {
     "name": "stdout",
     "output_type": "stream",
     "text": [
      "[ON_DATA] Male Home Care Nurse Via Medica Intl 2021-03-19 https://ae.linkedin.com/jobs/view/male-home-care-nurse-at-via-medica-intl-2468549093?refId=6d82121e-d442-4842-bed6-cf1e87ea9231&trackingId=umcOAStVPHV2NwHoq7lDxA%3D%3D&position=10&pageNum=36&trk=public_jobs_job-result-card_result-card_full-click\n"
     ]
    },
    {
     "name": "stderr",
     "output_type": "stream",
     "text": [
      "INFO:li:scraper:('[healthcare][United Arab Emirates][879]', 'Processed')\n"
     ]
    },
    {
     "name": "stdout",
     "output_type": "stream",
     "text": [
      "[ON_DATA] Technical Assistant (Painter) Serco 2021-03-30 https://ae.linkedin.com/jobs/view/technical-assistant-painter-at-serco-2469552421?refId=6d82121e-d442-4842-bed6-cf1e87ea9231&trackingId=8C8MZortYzXLcX60q3dnQQ%3D%3D&position=11&pageNum=36&trk=public_jobs_job-result-card_result-card_full-click\n"
     ]
    },
    {
     "name": "stderr",
     "output_type": "stream",
     "text": [
      "INFO:li:scraper:('[healthcare][United Arab Emirates][880]', 'Processed')\n"
     ]
    },
    {
     "name": "stdout",
     "output_type": "stream",
     "text": [
      "[ON_DATA] Registered Nurse SearchPlus 2020-11-18 https://ae.linkedin.com/jobs/view/registered-nurse-at-searchplus-2313830486?refId=6d82121e-d442-4842-bed6-cf1e87ea9231&trackingId=B3cBkbTjBoUR%2BaqRp4jNFA%3D%3D&position=12&pageNum=36&trk=public_jobs_job-result-card_result-card_full-click\n"
     ]
    },
    {
     "name": "stderr",
     "output_type": "stream",
     "text": [
      "INFO:li:scraper:('[healthcare][United Arab Emirates][881]', 'Processed')\n"
     ]
    },
    {
     "name": "stdout",
     "output_type": "stream",
     "text": [
      "[ON_DATA] Female School Nurse RTC-1 Employment Services 2020-12-06 https://ae.linkedin.com/jobs/view/female-school-nurse-at-rtc-1-employment-services-2334275345?refId=6d82121e-d442-4842-bed6-cf1e87ea9231&trackingId=80uK00xKXSNX%2FuBmyIQ0Mg%3D%3D&position=13&pageNum=36&trk=public_jobs_job-result-card_result-card_full-click\n"
     ]
    },
    {
     "name": "stderr",
     "output_type": "stream",
     "text": [
      "INFO:li:scraper:('[healthcare][United Arab Emirates][882]', 'Processed')\n"
     ]
    },
    {
     "name": "stdout",
     "output_type": "stream",
     "text": [
      "[ON_DATA] SAP Analytics (Pre-sales and Delivery) IBM Middle East 2021-02-06 https://ae.linkedin.com/jobs/view/sap-analytics-pre-sales-and-delivery-at-ibm-middle-east-2414546027?refId=6d82121e-d442-4842-bed6-cf1e87ea9231&trackingId=puWnHL9z5vg%2Bjzh4OE71cw%3D%3D&position=14&pageNum=36&trk=public_jobs_job-result-card_result-card_full-click\n"
     ]
    },
    {
     "name": "stderr",
     "output_type": "stream",
     "text": [
      "INFO:li:scraper:('[healthcare][United Arab Emirates][883]', 'Processed')\n"
     ]
    },
    {
     "name": "stdout",
     "output_type": "stream",
     "text": [
      "[ON_DATA] Assistant Technician - Facility Maintenance/Plumbing Serco Plc 2021-03-20 https://ae.linkedin.com/jobs/view/assistant-technician-facility-maintenance-plumbing-at-serco-plc-2490409139?refId=6d82121e-d442-4842-bed6-cf1e87ea9231&trackingId=HgCDfFqEwm0RtWOESw3%2FVg%3D%3D&position=15&pageNum=36&trk=public_jobs_job-result-card_result-card_full-click\n"
     ]
    },
    {
     "name": "stderr",
     "output_type": "stream",
     "text": [
      "INFO:li:scraper:('[healthcare][United Arab Emirates][884]', 'Processed')\n"
     ]
    },
    {
     "name": "stdout",
     "output_type": "stream",
     "text": [
      "[ON_DATA] Painter / Tiler VAMED Middle East 2020-11-29 https://ae.linkedin.com/jobs/view/painter-tiler-at-vamed-middle-east-2326769693?refId=6d82121e-d442-4842-bed6-cf1e87ea9231&trackingId=mb5Wdjgj1G3uosDwcH36cw%3D%3D&position=16&pageNum=36&trk=public_jobs_job-result-card_result-card_full-click\n"
     ]
    },
    {
     "name": "stderr",
     "output_type": "stream",
     "text": [
      "INFO:li:scraper:('[healthcare][United Arab Emirates][885]', 'Processed')\n"
     ]
    },
    {
     "name": "stdout",
     "output_type": "stream",
     "text": [
      "[ON_DATA] Principal Software Engineer - IOS talabat 2021-03-15 https://ae.linkedin.com/jobs/view/principal-software-engineer-ios-at-talabat-2401649809?refId=6d82121e-d442-4842-bed6-cf1e87ea9231&trackingId=Iwre4NH6CIyC6JJ8Kb9r5Q%3D%3D&position=17&pageNum=36&trk=public_jobs_job-result-card_result-card_full-click\n"
     ]
    },
    {
     "name": "stderr",
     "output_type": "stream",
     "text": [
      "INFO:li:scraper:('[healthcare][United Arab Emirates][886]', 'Processed')\n"
     ]
    },
    {
     "name": "stdout",
     "output_type": "stream",
     "text": [
      "[ON_DATA] Specialist Dentist Orthodontist Cassia DWC-LLC 2021-01-12 https://ae.linkedin.com/jobs/view/specialist-dentist-orthodontist-at-cassia-dwc-llc-2378142595?refId=6d82121e-d442-4842-bed6-cf1e87ea9231&trackingId=79eT4a8TYze3%2F7LjwCPwiQ%3D%3D&position=18&pageNum=36&trk=public_jobs_job-result-card_result-card_full-click\n"
     ]
    },
    {
     "name": "stderr",
     "output_type": "stream",
     "text": [
      "INFO:li:scraper:('[healthcare][United Arab Emirates][887]', 'Processed')\n"
     ]
    },
    {
     "name": "stdout",
     "output_type": "stream",
     "text": [
      "[ON_DATA] Nurse ( Female ) M I Enterprises 2021-03-20 https://ae.linkedin.com/jobs/view/nurse-female-at-m-i-enterprises-2469680594?refId=6d82121e-d442-4842-bed6-cf1e87ea9231&trackingId=Z1bDd49og%2F%2ByE4XQ9Eng%2FQ%3D%3D&position=19&pageNum=36&trk=public_jobs_job-result-card_result-card_full-click\n"
     ]
    },
    {
     "name": "stderr",
     "output_type": "stream",
     "text": [
      "INFO:li:scraper:('[healthcare][United Arab Emirates][888]', 'Processed')\n"
     ]
    },
    {
     "name": "stdout",
     "output_type": "stream",
     "text": [
      "[ON_DATA] Senior Biostatistician Faculty, Balsam International Hospitals Recruitment Inc. 2020-11-25 https://ae.linkedin.com/jobs/view/senior-biostatistician-faculty-balsam-at-international-hospitals-recruitment-inc-2321858330?refId=6d82121e-d442-4842-bed6-cf1e87ea9231&trackingId=G%2BWBP51w1tzvbsIkeRoz3g%3D%3D&position=20&pageNum=36&trk=public_jobs_job-result-card_result-card_full-click\n"
     ]
    },
    {
     "name": "stderr",
     "output_type": "stream",
     "text": [
      "INFO:li:scraper:('[healthcare][United Arab Emirates][889]', 'Processed')\n"
     ]
    },
    {
     "name": "stdout",
     "output_type": "stream",
     "text": [
      "[ON_DATA] Front-End Developer- Greenfield Project Sowelo Consulting 2021-01-03 https://ae.linkedin.com/jobs/view/front-end-developer-greenfield-project-at-sowelo-consulting-2398781360?refId=6d82121e-d442-4842-bed6-cf1e87ea9231&trackingId=o9L5qHGjzbRvwrMmEUa3SQ%3D%3D&position=21&pageNum=36&trk=public_jobs_job-result-card_result-card_full-click\n"
     ]
    },
    {
     "name": "stderr",
     "output_type": "stream",
     "text": [
      "INFO:li:scraper:('[healthcare][United Arab Emirates][890]', 'Processed')\n"
     ]
    },
    {
     "name": "stdout",
     "output_type": "stream",
     "text": [
      "[ON_DATA] SAP IBP Team Leader (Sales & Delivery) IBM Middle East 2021-02-06 https://ae.linkedin.com/jobs/view/sap-ibp-team-leader-sales-delivery-at-ibm-middle-east-2414546026?refId=6d82121e-d442-4842-bed6-cf1e87ea9231&trackingId=SGZG0O3RqZDmsVlccZbBUg%3D%3D&position=22&pageNum=36&trk=public_jobs_job-result-card_result-card_full-click\n"
     ]
    },
    {
     "name": "stderr",
     "output_type": "stream",
     "text": [
      "INFO:li:scraper:('[healthcare][United Arab Emirates][891]', 'Processed')\n"
     ]
    },
    {
     "name": "stdout",
     "output_type": "stream",
     "text": [
      "[ON_DATA] Software Engineer II - Android Talabat 2021-04-01 https://ae.linkedin.com/jobs/view/software-engineer-ii-android-at-talabat-2485755182?refId=6d82121e-d442-4842-bed6-cf1e87ea9231&trackingId=p1asBi4n6%2FSUdFmj4FPc6g%3D%3D&position=23&pageNum=36&trk=public_jobs_job-result-card_result-card_full-click\n"
     ]
    },
    {
     "name": "stderr",
     "output_type": "stream",
     "text": [
      "INFO:li:scraper:('[healthcare][United Arab Emirates][892]', 'Processed')\n"
     ]
    },
    {
     "name": "stdout",
     "output_type": "stream",
     "text": [
      "[ON_DATA] Consultant Oral maxillofacial surgeon in DOH sector Search Plus Hr 2021-03-26 https://ae.linkedin.com/jobs/view/consultant-oral-maxillofacial-surgeon-in-doh-sector-at-search-plus-hr-2489514008?refId=6d82121e-d442-4842-bed6-cf1e87ea9231&trackingId=TeRrURDRFEkNmu%2FsCpvE%2FQ%3D%3D&position=24&pageNum=36&trk=public_jobs_job-result-card_result-card_full-click\n"
     ]
    },
    {
     "name": "stderr",
     "output_type": "stream",
     "text": [
      "INFO:li:scraper:('[healthcare][United Arab Emirates][893]', 'Processed')\n",
      "INFO:li:scraper:('[healthcare][United Arab Emirates][893]', 'Checking for new jobs to load...')\n"
     ]
    },
    {
     "name": "stdout",
     "output_type": "stream",
     "text": [
      "[ON_DATA] Female Home Care Nurse OilExec 2020-12-14 https://ae.linkedin.com/jobs/view/female-home-care-nurse-at-oilexec-2344467801?refId=6d82121e-d442-4842-bed6-cf1e87ea9231&trackingId=e8iHdh7s6JRAx4IpPnifkA%3D%3D&position=25&pageNum=36&trk=public_jobs_job-result-card_result-card_full-click\n"
     ]
    },
    {
     "name": "stderr",
     "output_type": "stream",
     "text": [
      "INFO:li:scraper:('[healthcare][United Arab Emirates][893]', 'Found 917 jobs')\n",
      "INFO:li:scraper:('[healthcare][United Arab Emirates][894]', 'Processed')\n"
     ]
    },
    {
     "name": "stdout",
     "output_type": "stream",
     "text": [
      "[ON_DATA] Consultant Plastic Surgeon (DHA licensed) - Dubai Medacs Healthcare 2021-03-31 https://ae.linkedin.com/jobs/view/consultant-plastic-surgeon-dha-licensed-dubai-at-medacs-healthcare-2488619558?refId=283adc20-d9b4-4ca9-b0cf-7b4eb6e1fb6d&trackingId=X3s32QOooFe2EPmqSBvJCA%3D%3D&position=1&pageNum=37&trk=public_jobs_job-result-card_result-card_full-click\n"
     ]
    },
    {
     "name": "stderr",
     "output_type": "stream",
     "text": [
      "INFO:li:scraper:('[healthcare][United Arab Emirates][895]', 'Processed')\n"
     ]
    },
    {
     "name": "stdout",
     "output_type": "stream",
     "text": [
      "[ON_DATA] Assistant Technician - Power Distribution Serco 2021-03-25 https://ae.linkedin.com/jobs/view/assistant-technician-power-distribution-at-serco-2453091571?refId=283adc20-d9b4-4ca9-b0cf-7b4eb6e1fb6d&trackingId=B%2Bc9xFHabooQba4fPLtY7g%3D%3D&position=2&pageNum=37&trk=public_jobs_job-result-card_result-card_full-click\n"
     ]
    },
    {
     "name": "stderr",
     "output_type": "stream",
     "text": [
      "INFO:li:scraper:('[healthcare][United Arab Emirates][896]', 'Processed')\n"
     ]
    },
    {
     "name": "stdout",
     "output_type": "stream",
     "text": [
      "[ON_DATA] Dental Assistant / Nurse Cassia DWC-LLC 2020-12-15 https://ae.linkedin.com/jobs/view/dental-assistant-nurse-at-cassia-dwc-llc-2345515372?refId=283adc20-d9b4-4ca9-b0cf-7b4eb6e1fb6d&trackingId=5QkjD6G6gsIcSyOczhEI1g%3D%3D&position=3&pageNum=37&trk=public_jobs_job-result-card_result-card_full-click\n"
     ]
    },
    {
     "name": "stderr",
     "output_type": "stream",
     "text": [
      "INFO:li:scraper:('[healthcare][United Arab Emirates][897]', 'Processed')\n"
     ]
    },
    {
     "name": "stdout",
     "output_type": "stream",
     "text": [
      "[ON_DATA] Nurse Manager (Intensive Care/ICU) Omni International 2021-02-16 https://ae.linkedin.com/jobs/view/nurse-manager-intensive-care-icu-at-omni-international-2426814159?refId=283adc20-d9b4-4ca9-b0cf-7b4eb6e1fb6d&trackingId=fybwlWauEgWvf2AozzQ2Wg%3D%3D&position=4&pageNum=37&trk=public_jobs_job-result-card_result-card_full-click\n"
     ]
    },
    {
     "name": "stderr",
     "output_type": "stream",
     "text": [
      "INFO:li:scraper:('[healthcare][United Arab Emirates][898]', 'Processed')\n"
     ]
    },
    {
     "name": "stdout",
     "output_type": "stream",
     "text": [
      "[ON_DATA] Assistant Technician - FM Civil & Furniture/Sign Writer Serco Plc 2021-03-20 https://ae.linkedin.com/jobs/view/assistant-technician-fm-civil-furniture-sign-writer-at-serco-plc-2469918175?refId=283adc20-d9b4-4ca9-b0cf-7b4eb6e1fb6d&trackingId=hJtXOiJs07AyENT5pvVkOQ%3D%3D&position=5&pageNum=37&trk=public_jobs_job-result-card_result-card_full-click\n"
     ]
    },
    {
     "name": "stderr",
     "output_type": "stream",
     "text": [
      "INFO:li:scraper:('[healthcare][United Arab Emirates][899]', 'Processed')\n"
     ]
    },
    {
     "name": "stdout",
     "output_type": "stream",
     "text": [
      "[ON_DATA] Technician / Equipment Operator - ACW - Road / Runway Sweepers Serco Plc 2021-03-20 https://ae.linkedin.com/jobs/view/technician-equipment-operator-acw-road-runway-sweepers-at-serco-plc-2485750032?refId=283adc20-d9b4-4ca9-b0cf-7b4eb6e1fb6d&trackingId=p%2FOvxnH5re3xDCNhgaB79Q%3D%3D&position=6&pageNum=37&trk=public_jobs_job-result-card_result-card_full-click\n"
     ]
    },
    {
     "name": "stderr",
     "output_type": "stream",
     "text": [
      "INFO:li:scraper:('[healthcare][United Arab Emirates][900]', 'Processed')\n"
     ]
    },
    {
     "name": "stdout",
     "output_type": "stream",
     "text": [
      "[ON_DATA] Assistant Technician - Facility Maintenance/Pump Mechanic Serco Plc 2021-03-20 https://ae.linkedin.com/jobs/view/assistant-technician-facility-maintenance-pump-mechanic-at-serco-plc-2489468981?refId=283adc20-d9b4-4ca9-b0cf-7b4eb6e1fb6d&trackingId=q8TIFPeV35ssXhjmy879iw%3D%3D&position=7&pageNum=37&trk=public_jobs_job-result-card_result-card_full-click\n"
     ]
    },
    {
     "name": "stderr",
     "output_type": "stream",
     "text": [
      "INFO:li:scraper:('[healthcare][United Arab Emirates][901]', 'Processed')\n"
     ]
    },
    {
     "name": "stdout",
     "output_type": "stream",
     "text": [
      "[ON_DATA] Paediatric Nurse - Abu Dhabi Medacs Healthcare 2021-03-24 https://ae.linkedin.com/jobs/view/paediatric-nurse-abu-dhabi-at-medacs-healthcare-2475689938?refId=283adc20-d9b4-4ca9-b0cf-7b4eb6e1fb6d&trackingId=wv6JP8K7DOHQspIEdPrhlg%3D%3D&position=8&pageNum=37&trk=public_jobs_job-result-card_result-card_full-click\n"
     ]
    },
    {
     "name": "stderr",
     "output_type": "stream",
     "text": [
      "INFO:li:scraper:('[healthcare][United Arab Emirates][902]', 'Processed')\n"
     ]
    },
    {
     "name": "stdout",
     "output_type": "stream",
     "text": [
      "[ON_DATA] SAP MES Project Manager IBM Middle East 2021-02-05 https://ae.linkedin.com/jobs/view/sap-mes-project-manager-at-ibm-middle-east-2414543928?refId=283adc20-d9b4-4ca9-b0cf-7b4eb6e1fb6d&trackingId=AMMIvfVJa2fSgPI6iRxRVg%3D%3D&position=9&pageNum=37&trk=public_jobs_job-result-card_result-card_full-click\n"
     ]
    },
    {
     "name": "stderr",
     "output_type": "stream",
     "text": [
      "INFO:li:scraper:('[healthcare][United Arab Emirates][903]', 'Processed')\n"
     ]
    },
    {
     "name": "stdout",
     "output_type": "stream",
     "text": [
      "[ON_DATA] Consultant Paediatric Pulmonologist / Respiratory Medicine - Abu Dhabi Medacs Healthcare 2021-03-17 https://ae.linkedin.com/jobs/view/consultant-paediatric-pulmonologist-respiratory-medicine-abu-dhabi-at-medacs-healthcare-2465294713?refId=283adc20-d9b4-4ca9-b0cf-7b4eb6e1fb6d&trackingId=OTiNI4sdSkmjrhQA0fbU%2FQ%3D%3D&position=10&pageNum=37&trk=public_jobs_job-result-card_result-card_full-click\n"
     ]
    },
    {
     "name": "stderr",
     "output_type": "stream",
     "text": [
      "INFO:li:scraper:('[healthcare][United Arab Emirates][904]', 'Processed')\n"
     ]
    },
    {
     "name": "stdout",
     "output_type": "stream",
     "text": [
      "[ON_DATA] Registered Homecare Nurse Florida Home Care 2020-11-25 https://ae.linkedin.com/jobs/view/registered-homecare-nurse-at-florida-home-care-2323307117?refId=283adc20-d9b4-4ca9-b0cf-7b4eb6e1fb6d&trackingId=pTGZmiXC7X3cV5Pioh%2FFJg%3D%3D&position=11&pageNum=37&trk=public_jobs_job-result-card_result-card_full-click\n"
     ]
    },
    {
     "name": "stderr",
     "output_type": "stream",
     "text": [
      "INFO:li:scraper:('[healthcare][United Arab Emirates][905]', 'Processed')\n"
     ]
    },
    {
     "name": "stdout",
     "output_type": "stream",
     "text": [
      "[ON_DATA] Oracle Fusion DBA ECS ME LLC 2021-03-09 https://ae.linkedin.com/jobs/view/oracle-fusion-dba-at-ecs-me-llc-2453351546?refId=283adc20-d9b4-4ca9-b0cf-7b4eb6e1fb6d&trackingId=pVuiH1g9VbEQNVMnuVmubA%3D%3D&position=12&pageNum=37&trk=public_jobs_job-result-card_result-card_full-click\n"
     ]
    },
    {
     "name": "stderr",
     "output_type": "stream",
     "text": [
      "INFO:li:scraper:('[healthcare][United Arab Emirates][906]', 'Processed')\n"
     ]
    },
    {
     "name": "stdout",
     "output_type": "stream",
     "text": [
      "[ON_DATA] Dental Assistant/Nurse Cassia DWC-LLC 2021-01-12 https://ae.linkedin.com/jobs/view/dental-assistant-nurse-at-cassia-dwc-llc-2378141485?refId=283adc20-d9b4-4ca9-b0cf-7b4eb6e1fb6d&trackingId=RpA7zS8c8nfJcWVpYHQ6aw%3D%3D&position=13&pageNum=37&trk=public_jobs_job-result-card_result-card_full-click\n"
     ]
    },
    {
     "name": "stderr",
     "output_type": "stream",
     "text": [
      "INFO:li:scraper:('[healthcare][United Arab Emirates][907]', 'Processed')\n"
     ]
    },
    {
     "name": "stdout",
     "output_type": "stream",
     "text": [
      "[ON_DATA] Nurse Manager Critical Care International Hospitals Recruitment Inc. 2021-01-28 https://ae.linkedin.com/jobs/view/nurse-manager-critical-care-at-international-hospitals-recruitment-inc-2398453722?refId=283adc20-d9b4-4ca9-b0cf-7b4eb6e1fb6d&trackingId=W2MXmuxExPXVYfi%2BsxP95A%3D%3D&position=14&pageNum=37&trk=public_jobs_job-result-card_result-card_full-click\n"
     ]
    },
    {
     "name": "stderr",
     "output_type": "stream",
     "text": [
      "INFO:li:scraper:('[healthcare][United Arab Emirates][908]', 'Processed')\n"
     ]
    },
    {
     "name": "stdout",
     "output_type": "stream",
     "text": [
      "[ON_DATA] Technician - Motor Transport / Automobile Mechanic Serco Plc 2021-03-26 https://ae.linkedin.com/jobs/view/technician-motor-transport-automobile-mechanic-at-serco-plc-2478586652?refId=283adc20-d9b4-4ca9-b0cf-7b4eb6e1fb6d&trackingId=tnc5JtHhoquyQKFNv6k%2BZg%3D%3D&position=15&pageNum=37&trk=public_jobs_job-result-card_result-card_full-click\n"
     ]
    },
    {
     "name": "stderr",
     "output_type": "stream",
     "text": [
      "INFO:li:scraper:('[healthcare][United Arab Emirates][909]', 'Processed')\n"
     ]
    },
    {
     "name": "stdout",
     "output_type": "stream",
     "text": [
      "[ON_DATA] Dentist Specialist Implantology - Part-Time Cassia DWC-LLC 2021-01-12 https://ae.linkedin.com/jobs/view/dentist-specialist-implantology-part-time-at-cassia-dwc-llc-2378140740?refId=283adc20-d9b4-4ca9-b0cf-7b4eb6e1fb6d&trackingId=5II4dZ%2FwylMRwVUDNFI%2BRQ%3D%3D&position=16&pageNum=37&trk=public_jobs_job-result-card_result-card_full-click\n"
     ]
    },
    {
     "name": "stderr",
     "output_type": "stream",
     "text": [
      "INFO:li:scraper:('[healthcare][United Arab Emirates][910]', 'Processed')\n"
     ]
    },
    {
     "name": "stdout",
     "output_type": "stream",
     "text": [
      "[ON_DATA] Registered Nurse- PCR Swab (Locum)I Healthcare I Dubai- UAE Al-Futtaim 2021-04-06 https://ae.linkedin.com/jobs/view/registered-nurse-pcr-swab-locum-i-healthcare-i-dubai-uae-at-al-futtaim-2477264841?refId=283adc20-d9b4-4ca9-b0cf-7b4eb6e1fb6d&trackingId=3rZDkhPm4%2FV7icrdbDexOQ%3D%3D&position=17&pageNum=37&trk=public_jobs_job-result-card_result-card_full-click\n"
     ]
    },
    {
     "name": "stderr",
     "output_type": "stream",
     "text": [
      "INFO:li:scraper:('[healthcare][United Arab Emirates][911]', 'Processed')\n"
     ]
    },
    {
     "name": "stdout",
     "output_type": "stream",
     "text": [
      "[ON_DATA] Carpenter VAMED Middle East 2020-11-29 https://ae.linkedin.com/jobs/view/carpenter-at-vamed-middle-east-2326768858?refId=283adc20-d9b4-4ca9-b0cf-7b4eb6e1fb6d&trackingId=qhcHn8aQHrkFFotR1wfyhA%3D%3D&position=18&pageNum=37&trk=public_jobs_job-result-card_result-card_full-click\n"
     ]
    },
    {
     "name": "stderr",
     "output_type": "stream",
     "text": [
      "INFO:li:scraper:('[healthcare][United Arab Emirates][912]', 'Processed')\n"
     ]
    },
    {
     "name": "stdout",
     "output_type": "stream",
     "text": [
      "[ON_DATA] Filipino Nurse Prime Source 2021-02-11 https://ae.linkedin.com/jobs/view/filipino-nurse-at-prime-source-2436807496?refId=283adc20-d9b4-4ca9-b0cf-7b4eb6e1fb6d&trackingId=WZNAzV7nSrwV%2BTCZTFKuKA%3D%3D&position=19&pageNum=37&trk=public_jobs_job-result-card_result-card_full-click\n"
     ]
    },
    {
     "name": "stderr",
     "output_type": "stream",
     "text": [
      "INFO:li:scraper:('[healthcare][United Arab Emirates][913]', 'Processed')\n"
     ]
    },
    {
     "name": "stdout",
     "output_type": "stream",
     "text": [
      "[ON_DATA] Registered Nurse (RN) Sharma Recruitersc 2021-02-17 https://ae.linkedin.com/jobs/view/registered-nurse-rn-at-sharma-recruitersc-2426515580?refId=283adc20-d9b4-4ca9-b0cf-7b4eb6e1fb6d&trackingId=6TI0HloRzcMpWpVpwTh2cQ%3D%3D&position=20&pageNum=37&trk=public_jobs_job-result-card_result-card_full-click\n"
     ]
    },
    {
     "name": "stderr",
     "output_type": "stream",
     "text": [
      "INFO:li:scraper:('[healthcare][United Arab Emirates][914]', 'Processed')\n"
     ]
    },
    {
     "name": "stdout",
     "output_type": "stream",
     "text": [
      "[ON_DATA] Assistant Technician - Outdoor Lighting (ODL) Serco Plc 2021-03-20 https://ae.linkedin.com/jobs/view/assistant-technician-outdoor-lighting-odl-at-serco-plc-2469913731?refId=283adc20-d9b4-4ca9-b0cf-7b4eb6e1fb6d&trackingId=1p%2FYNKNypfT6kwqPMrO0Dg%3D%3D&position=21&pageNum=37&trk=public_jobs_job-result-card_result-card_full-click\n"
     ]
    },
    {
     "name": "stderr",
     "output_type": "stream",
     "text": [
      "INFO:li:scraper:('[healthcare][United Arab Emirates][915]', 'Processed')\n"
     ]
    },
    {
     "name": "stdout",
     "output_type": "stream",
     "text": [
      "[ON_DATA] SAP Planning and Supply Chain Leader (Warehouse Management) IBM Middle East 2021-02-05 https://ae.linkedin.com/jobs/view/sap-planning-and-supply-chain-leader-warehouse-management-at-ibm-middle-east-2414543929?refId=283adc20-d9b4-4ca9-b0cf-7b4eb6e1fb6d&trackingId=ZBjsYvzRmAyD%2BrGJ3jF0tA%3D%3D&position=22&pageNum=37&trk=public_jobs_job-result-card_result-card_full-click\n"
     ]
    },
    {
     "name": "stderr",
     "output_type": "stream",
     "text": [
      "INFO:li:scraper:('[healthcare][United Arab Emirates][916]', 'Processed')\n"
     ]
    },
    {
     "name": "stdout",
     "output_type": "stream",
     "text": [
      "[ON_DATA] Software Architect - Greenfield Project Sowelo Consulting 2021-04-01 https://ae.linkedin.com/jobs/view/software-architect-greenfield-project-at-sowelo-consulting-2473933963?refId=283adc20-d9b4-4ca9-b0cf-7b4eb6e1fb6d&trackingId=p0lSJa%2BelvksuTS7t9t%2Fvw%3D%3D&position=23&pageNum=37&trk=public_jobs_job-result-card_result-card_full-click\n"
     ]
    },
    {
     "name": "stderr",
     "output_type": "stream",
     "text": [
      "INFO:li:scraper:('[healthcare][United Arab Emirates][917]', 'Processed')\n",
      "INFO:li:scraper:('[healthcare][United Arab Emirates][917]', 'Checking for new jobs to load...')\n"
     ]
    },
    {
     "name": "stdout",
     "output_type": "stream",
     "text": [
      "[ON_DATA] PICU Nurse - Abu Dhabi. Medacs Healthcare 2021-03-20 https://ae.linkedin.com/jobs/view/picu-nurse-abu-dhabi-at-medacs-healthcare-2485749181?refId=283adc20-d9b4-4ca9-b0cf-7b4eb6e1fb6d&trackingId=omQvtRJA%2BpAm8XbRy8JWKQ%3D%3D&position=24&pageNum=37&trk=public_jobs_job-result-card_result-card_full-click\n"
     ]
    },
    {
     "name": "stderr",
     "output_type": "stream",
     "text": [
      "INFO:li:scraper:('[healthcare][United Arab Emirates][917]', 'Found 942 jobs')\n",
      "INFO:li:scraper:('[healthcare][United Arab Emirates][918]', 'Processed')\n"
     ]
    },
    {
     "name": "stdout",
     "output_type": "stream",
     "text": [
      "[ON_DATA] Assistant Technician - Motor Transport / Automobile Mechanic (Electrical) Serco Plc 2021-03-25 https://ae.linkedin.com/jobs/view/assistant-technician-motor-transport-automobile-mechanic-electrical-at-serco-plc-2477152599?refId=04bee474-7669-43ba-9906-9e1ad0721fcd&trackingId=V96mRGKc7r%2FngMJTAVo2kw%3D%3D&position=1&pageNum=38&trk=public_jobs_job-result-card_result-card_full-click\n"
     ]
    },
    {
     "name": "stderr",
     "output_type": "stream",
     "text": [
      "INFO:li:scraper:('[healthcare][United Arab Emirates][919]', 'Processed')\n"
     ]
    },
    {
     "name": "stdout",
     "output_type": "stream",
     "text": [
      "[ON_DATA] Dental Assistant/Nurse Cassia DWC-LLC 2021-01-12 https://ae.linkedin.com/jobs/view/dental-assistant-nurse-at-cassia-dwc-llc-2378143517?refId=04bee474-7669-43ba-9906-9e1ad0721fcd&trackingId=FrRK1%2BNQEkACCXGuqeb7sg%3D%3D&position=2&pageNum=38&trk=public_jobs_job-result-card_result-card_full-click\n"
     ]
    },
    {
     "name": "stderr",
     "output_type": "stream",
     "text": [
      "INFO:li:scraper:('[healthcare][United Arab Emirates][920]', 'Processed')\n"
     ]
    },
    {
     "name": "stdout",
     "output_type": "stream",
     "text": [
      "[ON_DATA] Male Homecare Nurse RTC-1 Employment Services 2021-01-21 https://ae.linkedin.com/jobs/view/male-homecare-nurse-at-rtc-1-employment-services-2424624652?refId=04bee474-7669-43ba-9906-9e1ad0721fcd&trackingId=p7HOrP8Hi9Tm5lxI23V0tA%3D%3D&position=3&pageNum=38&trk=public_jobs_job-result-card_result-card_full-click\n"
     ]
    },
    {
     "name": "stderr",
     "output_type": "stream",
     "text": [
      "INFO:li:scraper:('[healthcare][United Arab Emirates][921]', 'Processed')\n"
     ]
    },
    {
     "name": "stdout",
     "output_type": "stream",
     "text": [
      "[ON_DATA] Assistant Technician - Water Network - Pump Mechanic Serco Plc 2021-04-03 https://ae.linkedin.com/jobs/view/assistant-technician-water-network-pump-mechanic-at-serco-plc-2488624404?refId=04bee474-7669-43ba-9906-9e1ad0721fcd&trackingId=ucg%2FBVWKQGkKacQ4KqaQ4Q%3D%3D&position=4&pageNum=38&trk=public_jobs_job-result-card_result-card_full-click\n"
     ]
    },
    {
     "name": "stderr",
     "output_type": "stream",
     "text": [
      "INFO:li:scraper:('[healthcare][United Arab Emirates][922]', 'Processed')\n"
     ]
    },
    {
     "name": "stdout",
     "output_type": "stream",
     "text": [
      "[ON_DATA] DOH Nurse RTC-1 Employment Services 2020-12-21 https://ae.linkedin.com/jobs/view/doh-nurse-at-rtc-1-employment-services-2353668768?refId=04bee474-7669-43ba-9906-9e1ad0721fcd&trackingId=Iaq2B2jhQmultmIEDZ%2FPfA%3D%3D&position=5&pageNum=38&trk=public_jobs_job-result-card_result-card_full-click\n"
     ]
    },
    {
     "name": "stderr",
     "output_type": "stream",
     "text": [
      "INFO:li:scraper:('[healthcare][United Arab Emirates][923]', 'Processed')\n"
     ]
    },
    {
     "name": "stdout",
     "output_type": "stream",
     "text": [
      "[ON_DATA] Interior Designer (Joinery and Fit Out) RTC-1 Employment Services 2021-03-18 https://ae.linkedin.com/jobs/view/interior-designer-joinery-and-fit-out-at-rtc-1-employment-services-2466992047?refId=04bee474-7669-43ba-9906-9e1ad0721fcd&trackingId=MkK1ciohVO8%2FdIBaE%2BgBVw%3D%3D&position=6&pageNum=38&trk=public_jobs_job-result-card_result-card_full-click\n"
     ]
    },
    {
     "name": "stderr",
     "output_type": "stream",
     "text": [
      "INFO:li:scraper:('[healthcare][United Arab Emirates][924]', 'Processed')\n"
     ]
    },
    {
     "name": "stdout",
     "output_type": "stream",
     "text": [
      "[ON_DATA] BackEnd Developer Sowelo Consulting 2020-01-23 https://ae.linkedin.com/jobs/view/backend-developer-at-sowelo-consulting-1695598050?refId=04bee474-7669-43ba-9906-9e1ad0721fcd&trackingId=EKlS34OzeaLWhFrDpC7%2BJQ%3D%3D&position=7&pageNum=38&trk=public_jobs_job-result-card_result-card_full-click\n"
     ]
    },
    {
     "name": "stderr",
     "output_type": "stream",
     "text": [
      "INFO:li:scraper:('[healthcare][United Arab Emirates][925]', 'Processed')\n"
     ]
    },
    {
     "name": "stdout",
     "output_type": "stream",
     "text": [
      "[ON_DATA] Maintenance Technician (HVAC) - Fixed Term Serco Plc 2021-03-28 https://ae.linkedin.com/jobs/view/maintenance-technician-hvac-fixed-term-at-serco-plc-2480564652?refId=04bee474-7669-43ba-9906-9e1ad0721fcd&trackingId=lt81W8yJFcIvLf%2BvI6n3EQ%3D%3D&position=8&pageNum=38&trk=public_jobs_job-result-card_result-card_full-click\n"
     ]
    },
    {
     "name": "stderr",
     "output_type": "stream",
     "text": [
      "INFO:li:scraper:('[healthcare][United Arab Emirates][926]', 'Processed')\n"
     ]
    },
    {
     "name": "stdout",
     "output_type": "stream",
     "text": [
      "[ON_DATA] Senior Design Architect / Associate Architect AE Recruitment Ltd 2021-03-30 https://ae.linkedin.com/jobs/view/senior-design-architect-associate-architect-at-ae-recruitment-ltd-2482143039?refId=04bee474-7669-43ba-9906-9e1ad0721fcd&trackingId=mEpITkGHa8wKUAOXLdfxww%3D%3D&position=9&pageNum=38&trk=public_jobs_job-result-card_result-card_full-click\n"
     ]
    },
    {
     "name": "stderr",
     "output_type": "stream",
     "text": [
      "INFO:li:scraper:('[healthcare][United Arab Emirates][927]', 'Processed')\n"
     ]
    },
    {
     "name": "stdout",
     "output_type": "stream",
     "text": [
      "[ON_DATA] DHA Registered Nurse RTC-1 Employment Services 2020-12-29 https://ae.linkedin.com/jobs/view/dha-registered-nurse-at-rtc-1-employment-services-2361375328?refId=04bee474-7669-43ba-9906-9e1ad0721fcd&trackingId=XgkQVXykq84aYlAmoOa8Dg%3D%3D&position=10&pageNum=38&trk=public_jobs_job-result-card_result-card_full-click\n"
     ]
    },
    {
     "name": "stderr",
     "output_type": "stream",
     "text": [
      "INFO:li:scraper:('[healthcare][United Arab Emirates][928]', 'Processed')\n"
     ]
    },
    {
     "name": "stdout",
     "output_type": "stream",
     "text": [
      "[ON_DATA] Registered Nurse Delma Medical Center 2021-03-20 https://ae.linkedin.com/jobs/view/registered-nurse-at-delma-medical-center-2469919028?refId=04bee474-7669-43ba-9906-9e1ad0721fcd&trackingId=5wXWtVjkKXmL0f8TADJj2g%3D%3D&position=11&pageNum=38&trk=public_jobs_job-result-card_result-card_full-click\n"
     ]
    },
    {
     "name": "stderr",
     "output_type": "stream",
     "text": [
      "INFO:li:scraper:('[healthcare][United Arab Emirates][929]', 'Processed')\n"
     ]
    },
    {
     "name": "stdout",
     "output_type": "stream",
     "text": [
      "[ON_DATA] Charge Nurse Operating Room International Hospitals Recruitment Inc. 2021-03-19 https://ae.linkedin.com/jobs/view/charge-nurse-operating-room-at-international-hospitals-recruitment-inc-2468484241?refId=04bee474-7669-43ba-9906-9e1ad0721fcd&trackingId=mfrZMyKWcQF1Jd2bvGXNIw%3D%3D&position=12&pageNum=38&trk=public_jobs_job-result-card_result-card_full-click\n"
     ]
    },
    {
     "name": "stderr",
     "output_type": "stream",
     "text": [
      "INFO:li:scraper:('[healthcare][United Arab Emirates][930]', 'Processed')\n"
     ]
    },
    {
     "name": "stdout",
     "output_type": "stream",
     "text": [
      "[ON_DATA] Registered Nurses Jobskey Search and Selection 2020-10-15 https://ae.linkedin.com/jobs/view/registered-nurses-at-jobskey-search-and-selection-2279474718?refId=04bee474-7669-43ba-9906-9e1ad0721fcd&trackingId=DDekTf4HQtA2gIV1ESURxg%3D%3D&position=13&pageNum=38&trk=public_jobs_job-result-card_result-card_full-click\n"
     ]
    },
    {
     "name": "stderr",
     "output_type": "stream",
     "text": [
      "INFO:li:scraper:('[healthcare][United Arab Emirates][931]', 'Processed')\n"
     ]
    },
    {
     "name": "stdout",
     "output_type": "stream",
     "text": [
      "[ON_DATA] ICU Nurse Prime Source 2021-02-11 https://ae.linkedin.com/jobs/view/icu-nurse-at-prime-source-2436825338?refId=04bee474-7669-43ba-9906-9e1ad0721fcd&trackingId=XZs1CS%2B%2F326E%2FH2BbFaTBQ%3D%3D&position=14&pageNum=38&trk=public_jobs_job-result-card_result-card_full-click\n"
     ]
    },
    {
     "name": "stderr",
     "output_type": "stream",
     "text": [
      "INFO:li:scraper:('[healthcare][United Arab Emirates][932]', 'Processed')\n"
     ]
    },
    {
     "name": "stdout",
     "output_type": "stream",
     "text": [
      "[ON_DATA] Consultant Paediatric Neurologist - Abu Dhabi Medacs Healthcare 2021-03-20 https://ae.linkedin.com/jobs/view/consultant-paediatric-neurologist-abu-dhabi-at-medacs-healthcare-2487275356?refId=04bee474-7669-43ba-9906-9e1ad0721fcd&trackingId=aZgZqLHbYv%2BMA%2BkiUhjyhg%3D%3D&position=15&pageNum=38&trk=public_jobs_job-result-card_result-card_full-click\n"
     ]
    },
    {
     "name": "stderr",
     "output_type": "stream",
     "text": [
      "INFO:li:scraper:('[healthcare][United Arab Emirates][933]', 'Processed')\n"
     ]
    },
    {
     "name": "stdout",
     "output_type": "stream",
     "text": [
      "[ON_DATA] Software Engineer II - IOS Talabat 2021-04-01 https://ae.linkedin.com/jobs/view/software-engineer-ii-ios-at-talabat-2485731528?refId=04bee474-7669-43ba-9906-9e1ad0721fcd&trackingId=PbupUUBojZLusfOakwOqBA%3D%3D&position=16&pageNum=38&trk=public_jobs_job-result-card_result-card_full-click\n"
     ]
    },
    {
     "name": "stderr",
     "output_type": "stream",
     "text": [
      "INFO:li:scraper:('[healthcare][United Arab Emirates][934]', 'Processed')\n"
     ]
    },
    {
     "name": "stdout",
     "output_type": "stream",
     "text": [
      "[ON_DATA] Assistant Technician - Chillers & Plants (Mechanical) Serco 2021-03-25 https://ae.linkedin.com/jobs/view/assistant-technician-chillers-plants-mechanical-at-serco-2473953090?refId=04bee474-7669-43ba-9906-9e1ad0721fcd&trackingId=yYnlriUd91CGUbwzkKNfrA%3D%3D&position=17&pageNum=38&trk=public_jobs_job-result-card_result-card_full-click\n"
     ]
    },
    {
     "name": "stderr",
     "output_type": "stream",
     "text": [
      "INFO:li:scraper:('[healthcare][United Arab Emirates][935]', 'Processed')\n"
     ]
    },
    {
     "name": "stdout",
     "output_type": "stream",
     "text": [
      "[ON_DATA] Assistant Technician - Chillers & Plants (Electrical) Serco Plc 2021-03-19 https://ae.linkedin.com/jobs/view/assistant-technician-chillers-plants-electrical-at-serco-plc-2468550019?refId=04bee474-7669-43ba-9906-9e1ad0721fcd&trackingId=i4Gr34yyfXd34lDWx5Jvhw%3D%3D&position=18&pageNum=38&trk=public_jobs_job-result-card_result-card_full-click\n"
     ]
    },
    {
     "name": "stderr",
     "output_type": "stream",
     "text": [
      "INFO:li:scraper:('[healthcare][United Arab Emirates][936]', 'Processed')\n"
     ]
    },
    {
     "name": "stdout",
     "output_type": "stream",
     "text": [
      "[ON_DATA] Senior Software Engineer I - Android Talabat 2021-04-01 https://ae.linkedin.com/jobs/view/senior-software-engineer-i-android-at-talabat-2485760388?refId=04bee474-7669-43ba-9906-9e1ad0721fcd&trackingId=qEqXk5JsGeAcuQbJDFXRYw%3D%3D&position=19&pageNum=38&trk=public_jobs_job-result-card_result-card_full-click\n"
     ]
    },
    {
     "name": "stderr",
     "output_type": "stream",
     "text": [
      "INFO:li:scraper:('[healthcare][United Arab Emirates][937]', 'Processed')\n"
     ]
    },
    {
     "name": "stdout",
     "output_type": "stream",
     "text": [
      "[ON_DATA] Frontend Engineer (ReactJS NextJS) - Remote Meddy 2021-04-01 https://ae.linkedin.com/jobs/view/frontend-engineer-reactjs-nextjs-remote-at-meddy-2490441256?refId=04bee474-7669-43ba-9906-9e1ad0721fcd&trackingId=RAwnCvZqjLNIxQsFGqPx6Q%3D%3D&position=20&pageNum=38&trk=public_jobs_job-result-card_result-card_full-click\n"
     ]
    },
    {
     "name": "stderr",
     "output_type": "stream",
     "text": [
      "INFO:li:scraper:('[healthcare][United Arab Emirates][938]', 'Processed')\n"
     ]
    },
    {
     "name": "stdout",
     "output_type": "stream",
     "text": [
      "[ON_DATA] Dental Assistant / Nurse Cassia DWC-LLC 2020-12-15 https://ae.linkedin.com/jobs/view/dental-assistant-nurse-at-cassia-dwc-llc-2345515373?refId=04bee474-7669-43ba-9906-9e1ad0721fcd&trackingId=os5VxJ3pOyQptxsw6CTGlQ%3D%3D&position=21&pageNum=38&trk=public_jobs_job-result-card_result-card_full-click\n"
     ]
    },
    {
     "name": "stderr",
     "output_type": "stream",
     "text": [
      "INFO:li:scraper:('[healthcare][United Arab Emirates][939]', 'Processed')\n"
     ]
    },
    {
     "name": "stdout",
     "output_type": "stream",
     "text": [
      "[ON_DATA] Home Care Nurse (HAAD Certified) Opportunity with Leading Hospital Omni International 2021-03-19 https://ae.linkedin.com/jobs/view/home-care-nurse-haad-certified-opportunity-with-leading-hospital-at-omni-international-2489496422?refId=04bee474-7669-43ba-9906-9e1ad0721fcd&trackingId=bjAZhhShIQ5%2Bv%2Fhjefz3Xw%3D%3D&position=22&pageNum=38&trk=public_jobs_job-result-card_result-card_full-click\n"
     ]
    },
    {
     "name": "stderr",
     "output_type": "stream",
     "text": [
      "INFO:li:scraper:('[healthcare][United Arab Emirates][940]', 'Processed')\n"
     ]
    },
    {
     "name": "stdout",
     "output_type": "stream",
     "text": [
      "[ON_DATA] Oral Maxillofacial Surgeon - Specialist/ Consultant Search Plus Hr 2021-03-25 https://ae.linkedin.com/jobs/view/oral-maxillofacial-surgeon-specialist-consultant-at-search-plus-hr-2477155153?refId=04bee474-7669-43ba-9906-9e1ad0721fcd&trackingId=k0CrwEpaH%2B9pRUvOLzOU3A%3D%3D&position=23&pageNum=38&trk=public_jobs_job-result-card_result-card_full-click\n"
     ]
    },
    {
     "name": "stderr",
     "output_type": "stream",
     "text": [
      "INFO:li:scraper:('[healthcare][United Arab Emirates][941]', 'Processed')\n"
     ]
    },
    {
     "name": "stdout",
     "output_type": "stream",
     "text": [
      "[ON_DATA] Mechanical Design Engineer (HVAC) Stantec 2021-03-24 https://ae.linkedin.com/jobs/view/mechanical-design-engineer-hvac-at-stantec-2475690551?refId=04bee474-7669-43ba-9906-9e1ad0721fcd&trackingId=ijWd5vjGGEzP954HUX4XJQ%3D%3D&position=24&pageNum=38&trk=public_jobs_job-result-card_result-card_full-click\n"
     ]
    },
    {
     "name": "stderr",
     "output_type": "stream",
     "text": [
      "INFO:li:scraper:('[healthcare][United Arab Emirates][942]', 'Processed')\n",
      "INFO:li:scraper:('[healthcare][United Arab Emirates][942]', 'Checking for new jobs to load...')\n"
     ]
    },
    {
     "name": "stdout",
     "output_type": "stream",
     "text": [
      "[ON_DATA] Oral & Maxillofacial Surgeon Search Plus Hr 2021-04-04 https://ae.linkedin.com/jobs/view/oral-maxillofacial-surgeon-at-search-plus-hr-2489502283?refId=04bee474-7669-43ba-9906-9e1ad0721fcd&trackingId=xerbirfeKOJBzwXnIViQWw%3D%3D&position=25&pageNum=38&trk=public_jobs_job-result-card_result-card_full-click\n"
     ]
    },
    {
     "name": "stderr",
     "output_type": "stream",
     "text": [
      "INFO:li:scraper:('[healthcare][United Arab Emirates][942]', 'Found 967 jobs')\n",
      "INFO:li:scraper:('[healthcare][United Arab Emirates][943]', 'Processed')\n"
     ]
    },
    {
     "name": "stdout",
     "output_type": "stream",
     "text": [
      "[ON_DATA] Mechanical Design Engineer (HVAC) Stantec 2021-03-24 https://ae.linkedin.com/jobs/view/mechanical-design-engineer-hvac-at-stantec-2475690551?refId=2084d253-020e-4d76-8486-71e206dda0cb&trackingId=yp5WyGtM1LQucbp7BlswBw%3D%3D&position=1&pageNum=39&trk=public_jobs_job-result-card_result-card_full-click\n"
     ]
    },
    {
     "name": "stderr",
     "output_type": "stream",
     "text": [
      "INFO:li:scraper:('[healthcare][United Arab Emirates][944]', 'Processed')\n"
     ]
    },
    {
     "name": "stdout",
     "output_type": "stream",
     "text": [
      "[ON_DATA] Oral & Maxillofacial Surgeon Search Plus Hr 2021-04-04 https://ae.linkedin.com/jobs/view/oral-maxillofacial-surgeon-at-search-plus-hr-2489502283?refId=2084d253-020e-4d76-8486-71e206dda0cb&trackingId=uH5niCzyXh14eX2TIYpOHA%3D%3D&position=2&pageNum=39&trk=public_jobs_job-result-card_result-card_full-click\n"
     ]
    },
    {
     "name": "stderr",
     "output_type": "stream",
     "text": [
      "INFO:li:scraper:('[healthcare][United Arab Emirates][945]', 'Processed')\n"
     ]
    },
    {
     "name": "stdout",
     "output_type": "stream",
     "text": [
      "[ON_DATA] Assistant Technician - Chillers & Plants - Fitter Serco Plc 2021-03-24 https://ae.linkedin.com/jobs/view/assistant-technician-chillers-plants-fitter-at-serco-plc-2475695133?refId=2084d253-020e-4d76-8486-71e206dda0cb&trackingId=iLgDvKmz%2Fiq04l8Hm16BeA%3D%3D&position=3&pageNum=39&trk=public_jobs_job-result-card_result-card_full-click\n"
     ]
    },
    {
     "name": "stderr",
     "output_type": "stream",
     "text": [
      "INFO:li:scraper:('[healthcare][United Arab Emirates][946]', 'Processed')\n"
     ]
    },
    {
     "name": "stdout",
     "output_type": "stream",
     "text": [
      "[ON_DATA] Assistant Technician - Chillers & Plants (Mechanical) Serco Plc 2021-03-24 https://ae.linkedin.com/jobs/view/assistant-technician-chillers-plants-mechanical-at-serco-plc-2490411974?refId=2084d253-020e-4d76-8486-71e206dda0cb&trackingId=g3nPvVhBntDixW2n7NMlsg%3D%3D&position=4&pageNum=39&trk=public_jobs_job-result-card_result-card_full-click\n"
     ]
    },
    {
     "name": "stderr",
     "output_type": "stream",
     "text": [
      "INFO:li:scraper:('[healthcare][United Arab Emirates][947]', 'Processed')\n"
     ]
    },
    {
     "name": "stdout",
     "output_type": "stream",
     "text": [
      "[ON_DATA] IOS Engineer ll (Automation) Talabat 2021-04-01 https://ae.linkedin.com/jobs/view/ios-engineer-ll-automation-at-talabat-2485736957?refId=2084d253-020e-4d76-8486-71e206dda0cb&trackingId=Wr%2FIysfzpXKOaX13ANKTRA%3D%3D&position=5&pageNum=39&trk=public_jobs_job-result-card_result-card_full-click\n"
     ]
    },
    {
     "name": "stderr",
     "output_type": "stream",
     "text": [
      "INFO:li:scraper:('[healthcare][United Arab Emirates][948]', 'Processed')\n"
     ]
    },
    {
     "name": "stdout",
     "output_type": "stream",
     "text": [
      "[ON_DATA] Principal Software Engineer - IOS Talabat 2021-04-01 https://ae.linkedin.com/jobs/view/principal-software-engineer-ios-at-talabat-2485761439?refId=2084d253-020e-4d76-8486-71e206dda0cb&trackingId=Gwl88td8GL1Ysp59FlSH2g%3D%3D&position=6&pageNum=39&trk=public_jobs_job-result-card_result-card_full-click\n"
     ]
    },
    {
     "name": "stderr",
     "output_type": "stream",
     "text": [
      "INFO:li:scraper:('[healthcare][United Arab Emirates][949]', 'Processed')\n"
     ]
    },
    {
     "name": "stdout",
     "output_type": "stream",
     "text": [
      "[ON_DATA] Maintenance Technician (HVAC) - Fixed Term Serco 2021-03-10 https://ae.linkedin.com/jobs/view/maintenance-technician-hvac-fixed-term-at-serco-2476427051?refId=2084d253-020e-4d76-8486-71e206dda0cb&trackingId=R0ytDpFL0ccTV57%2BcWVptw%3D%3D&position=7&pageNum=39&trk=public_jobs_job-result-card_result-card_full-click\n"
     ]
    },
    {
     "name": "stderr",
     "output_type": "stream",
     "text": [
      "INFO:li:scraper:('[healthcare][United Arab Emirates][950]', 'Processed')\n"
     ]
    },
    {
     "name": "stdout",
     "output_type": "stream",
     "text": [
      "[ON_DATA] Senior Android Developer - Greenfield Project Sowelo Consulting 2021-03-06 https://ae.linkedin.com/jobs/view/senior-android-developer-greenfield-project-at-sowelo-consulting-2483853133?refId=2084d253-020e-4d76-8486-71e206dda0cb&trackingId=ignnEUjvNxJu39da%2B29XAw%3D%3D&position=8&pageNum=39&trk=public_jobs_job-result-card_result-card_full-click\n"
     ]
    },
    {
     "name": "stderr",
     "output_type": "stream",
     "text": [
      "INFO:li:scraper:('[healthcare][United Arab Emirates][951]', 'Processed')\n"
     ]
    },
    {
     "name": "stdout",
     "output_type": "stream",
     "text": [
      "[ON_DATA] Oral Maxillofacial Surgeon Careerlink Hr 2021-03-25 https://ae.linkedin.com/jobs/view/oral-maxillofacial-surgeon-at-careerlink-hr-2489496760?refId=2084d253-020e-4d76-8486-71e206dda0cb&trackingId=wOZ%2FoGZvz7jXBhjQb8Vb4w%3D%3D&position=9&pageNum=39&trk=public_jobs_job-result-card_result-card_full-click\n"
     ]
    },
    {
     "name": "stderr",
     "output_type": "stream",
     "text": [
      "INFO:li:scraper:('[healthcare][United Arab Emirates][952]', 'Processed')\n"
     ]
    },
    {
     "name": "stdout",
     "output_type": "stream",
     "text": [
      "[ON_DATA] Assistant Technician - Water Network - Pump Mechanic Serco 2021-04-02 https://ae.linkedin.com/jobs/view/assistant-technician-water-network-pump-mechanic-at-serco-2474422120?refId=2084d253-020e-4d76-8486-71e206dda0cb&trackingId=e%2B%2FM83F1b6%2BLBS2IsCnPSA%3D%3D&position=10&pageNum=39&trk=public_jobs_job-result-card_result-card_full-click\n"
     ]
    },
    {
     "name": "stderr",
     "output_type": "stream",
     "text": [
      "INFO:li:scraper:('[healthcare][United Arab Emirates][953]', 'Processed')\n"
     ]
    },
    {
     "name": "stdout",
     "output_type": "stream",
     "text": [
      "[ON_DATA] Dialysis Nurse with ICU experience - Abu Dhabi Medacs Healthcare 2021-03-20 https://ae.linkedin.com/jobs/view/dialysis-nurse-with-icu-experience-abu-dhabi-at-medacs-healthcare-2488619432?refId=2084d253-020e-4d76-8486-71e206dda0cb&trackingId=5LAz4Tzq%2FEA0g51nDBAr2A%3D%3D&position=11&pageNum=39&trk=public_jobs_job-result-card_result-card_full-click\n"
     ]
    },
    {
     "name": "stderr",
     "output_type": "stream",
     "text": [
      "INFO:li:scraper:('[healthcare][United Arab Emirates][954]', 'Processed')\n"
     ]
    },
    {
     "name": "stdout",
     "output_type": "stream",
     "text": [
      "[ON_DATA] SAP Technical Architect IBM Middle East 2021-02-06 https://ae.linkedin.com/jobs/view/sap-technical-architect-at-ibm-middle-east-2414546028?refId=2084d253-020e-4d76-8486-71e206dda0cb&trackingId=OUTGthUci1xlTDimtQZnmQ%3D%3D&position=12&pageNum=39&trk=public_jobs_job-result-card_result-card_full-click\n"
     ]
    },
    {
     "name": "stderr",
     "output_type": "stream",
     "text": [
      "INFO:li:scraper:('[healthcare][United Arab Emirates][955]', 'Processed')\n"
     ]
    },
    {
     "name": "stdout",
     "output_type": "stream",
     "text": [
      "[ON_DATA] Assistant Technician - FM Civil & Furniture/Key Cutter Serco Plc 2021-03-22 https://ae.linkedin.com/jobs/view/assistant-technician-fm-civil-furniture-key-cutter-at-serco-plc-2485742225?refId=2084d253-020e-4d76-8486-71e206dda0cb&trackingId=cCMgnSu9vuC9dvBSvj2K7A%3D%3D&position=13&pageNum=39&trk=public_jobs_job-result-card_result-card_full-click\n"
     ]
    },
    {
     "name": "stderr",
     "output_type": "stream",
     "text": [
      "INFO:li:scraper:('[healthcare][United Arab Emirates][956]', 'Processed')\n"
     ]
    },
    {
     "name": "stdout",
     "output_type": "stream",
     "text": [
      "[ON_DATA] Registered Nurse Delma Medical Center 2021-01-18 https://ae.linkedin.com/jobs/view/registered-nurse-at-delma-medical-center-2385824288?refId=2084d253-020e-4d76-8486-71e206dda0cb&trackingId=aceGDPuszlTGS%2BhFrHKVRw%3D%3D&position=14&pageNum=39&trk=public_jobs_job-result-card_result-card_full-click\n"
     ]
    },
    {
     "name": "stderr",
     "output_type": "stream",
     "text": [
      "INFO:li:scraper:('[healthcare][United Arab Emirates][957]', 'Processed')\n"
     ]
    },
    {
     "name": "stdout",
     "output_type": "stream",
     "text": [
      "[ON_DATA] Mechanical Design Engineer (HVAC) Stantec 2021-02-15 https://ae.linkedin.com/jobs/view/mechanical-design-engineer-hvac-at-stantec-2407188486?refId=2084d253-020e-4d76-8486-71e206dda0cb&trackingId=6ELj%2B2c2lUjCj5VcJMMWAA%3D%3D&position=15&pageNum=39&trk=public_jobs_job-result-card_result-card_full-click\n"
     ]
    },
    {
     "name": "stderr",
     "output_type": "stream",
     "text": [
      "INFO:li:scraper:('[healthcare][United Arab Emirates][958]', 'Processed')\n"
     ]
    },
    {
     "name": "stdout",
     "output_type": "stream",
     "text": [
      "[ON_DATA] Full Stack Open edX Developer- Greenfield Project Sowelo Consulting 2020-10-31 https://ae.linkedin.com/jobs/view/full-stack-open-edx-developer-greenfield-project-at-sowelo-consulting-2304934843?refId=2084d253-020e-4d76-8486-71e206dda0cb&trackingId=DzVVwx977N1thZzrc%2BqA9Q%3D%3D&position=16&pageNum=39&trk=public_jobs_job-result-card_result-card_full-click\n"
     ]
    },
    {
     "name": "stderr",
     "output_type": "stream",
     "text": [
      "INFO:li:scraper:('[healthcare][United Arab Emirates][959]', 'Processed')\n"
     ]
    },
    {
     "name": "stdout",
     "output_type": "stream",
     "text": [
      "[ON_DATA] Financial Consultant (Russian Speaking) eMagine Solutions 2021-03-19 https://ae.linkedin.com/jobs/view/financial-consultant-russian-speaking-at-emagine-solutions-2469916811?refId=2084d253-020e-4d76-8486-71e206dda0cb&trackingId=ZMe5zLrf0KNzOwcgDyetwA%3D%3D&position=17&pageNum=39&trk=public_jobs_job-result-card_result-card_full-click\n"
     ]
    },
    {
     "name": "stderr",
     "output_type": "stream",
     "text": [
      "INFO:li:scraper:('[healthcare][United Arab Emirates][960]', 'Processed')\n"
     ]
    },
    {
     "name": "stdout",
     "output_type": "stream",
     "text": [
      "[ON_DATA] Paediatric Charge Nurse/ Manager - Abu Dhabi Medacs Healthcare 2021-03-22 https://ae.linkedin.com/jobs/view/paediatric-charge-nurse-manager-abu-dhabi-at-medacs-healthcare-2490435449?refId=2084d253-020e-4d76-8486-71e206dda0cb&trackingId=vM%2Fo6IfJi%2B9kyfNrarAeKg%3D%3D&position=18&pageNum=39&trk=public_jobs_job-result-card_result-card_full-click\n"
     ]
    },
    {
     "name": "stderr",
     "output_type": "stream",
     "text": [
      "INFO:li:scraper:('[healthcare][United Arab Emirates][961]', 'Processed')\n"
     ]
    },
    {
     "name": "stdout",
     "output_type": "stream",
     "text": [
      "[ON_DATA] Full Stack Magento Developer - Greenfield Project Sowelo Consulting 2021-01-20 https://ae.linkedin.com/jobs/view/full-stack-magento-developer-greenfield-project-at-sowelo-consulting-2367086237?refId=2084d253-020e-4d76-8486-71e206dda0cb&trackingId=bvM1xLo%2BPQVjtUZV%2BgeqJQ%3D%3D&position=19&pageNum=39&trk=public_jobs_job-result-card_result-card_full-click\n"
     ]
    },
    {
     "name": "stderr",
     "output_type": "stream",
     "text": [
      "INFO:li:scraper:('[healthcare][United Arab Emirates][962]', 'Processed')\n"
     ]
    },
    {
     "name": "stdout",
     "output_type": "stream",
     "text": [
      "[ON_DATA] Registered Nurse ICU / MS / ER Fakeeh University Hospital 2021-03-19 https://ae.linkedin.com/jobs/view/registered-nurse-icu-ms-er-at-fakeeh-university-hospital-2489505516?refId=2084d253-020e-4d76-8486-71e206dda0cb&trackingId=EmvBe9PAV9xWY89%2F9Apxhw%3D%3D&position=20&pageNum=39&trk=public_jobs_job-result-card_result-card_full-click\n"
     ]
    },
    {
     "name": "stderr",
     "output_type": "stream",
     "text": [
      "INFO:li:scraper:('[healthcare][United Arab Emirates][963]', 'Processed')\n"
     ]
    },
    {
     "name": "stdout",
     "output_type": "stream",
     "text": [
      "[ON_DATA] Technician (Carpenter / Painter / Mason) Serco Plc 2021-03-20 https://ae.linkedin.com/jobs/view/technician-carpenter-painter-mason-at-serco-plc-2469917240?refId=2084d253-020e-4d76-8486-71e206dda0cb&trackingId=hLber8NG97odu3tF5unNXA%3D%3D&position=21&pageNum=39&trk=public_jobs_job-result-card_result-card_full-click\n"
     ]
    },
    {
     "name": "stderr",
     "output_type": "stream",
     "text": [
      "INFO:li:scraper:('[healthcare][United Arab Emirates][964]', 'Processed')\n"
     ]
    },
    {
     "name": "stdout",
     "output_type": "stream",
     "text": [
      "[ON_DATA] Full Stack Magento Developer and Mobile Developer - Greenfield Project Sowelo Consulting 2020-12-24 https://ae.linkedin.com/jobs/view/full-stack-magento-developer-and-mobile-developer-greenfield-project-at-sowelo-consulting-2372846159?refId=2084d253-020e-4d76-8486-71e206dda0cb&trackingId=xcCq%2BTQdrVdaSTnJe6M2DA%3D%3D&position=22&pageNum=39&trk=public_jobs_job-result-card_result-card_full-click\n"
     ]
    },
    {
     "name": "stderr",
     "output_type": "stream",
     "text": [
      "INFO:li:scraper:('[healthcare][United Arab Emirates][965]', 'Processed')\n"
     ]
    },
    {
     "name": "stdout",
     "output_type": "stream",
     "text": [
      "[ON_DATA] Assistant Technician - Airfield Civil Works/Painter Serco Plc 2021-03-20 https://ae.linkedin.com/jobs/view/assistant-technician-airfield-civil-works-painter-at-serco-plc-2469916314?refId=2084d253-020e-4d76-8486-71e206dda0cb&trackingId=XnS1e9plf2pQyzidVxKIAw%3D%3D&position=23&pageNum=39&trk=public_jobs_job-result-card_result-card_full-click\n"
     ]
    },
    {
     "name": "stderr",
     "output_type": "stream",
     "text": [
      "INFO:li:scraper:('[healthcare][United Arab Emirates][966]', 'Processed')\n"
     ]
    },
    {
     "name": "stdout",
     "output_type": "stream",
     "text": [
      "[ON_DATA] Home Care Nurse (HAAD Certified) Opportunity with Leading Hospital Omni International 2021-02-01 https://ae.linkedin.com/jobs/view/home-care-nurse-haad-certified-opportunity-with-leading-hospital-at-omni-international-2404999657?refId=2084d253-020e-4d76-8486-71e206dda0cb&trackingId=q9eO29cwWU0LTKQSr2Aohw%3D%3D&position=24&pageNum=39&trk=public_jobs_job-result-card_result-card_full-click\n"
     ]
    },
    {
     "name": "stderr",
     "output_type": "stream",
     "text": [
      "INFO:li:scraper:('[healthcare][United Arab Emirates][967]', 'Processed')\n",
      "INFO:li:scraper:('[healthcare][United Arab Emirates][967]', 'Checking for new jobs to load...')\n"
     ]
    },
    {
     "name": "stdout",
     "output_type": "stream",
     "text": [
      "[ON_DATA] SAP Plan Maintenance Lead IBM Middle East 2021-02-06 https://ae.linkedin.com/jobs/view/sap-plan-maintenance-lead-at-ibm-middle-east-2414545248?refId=2084d253-020e-4d76-8486-71e206dda0cb&trackingId=F8UKwPALyi24hiLOqWcZDg%3D%3D&position=25&pageNum=39&trk=public_jobs_job-result-card_result-card_full-click\n"
     ]
    },
    {
     "name": "stderr",
     "output_type": "stream",
     "text": [
      "WARNING:li:scraper:('[healthcare][United Arab Emirates]', 'Error in response', 'request_id=4996.7272 status=400 type=XHR mime_type=text/plain url=https://www.linkedin.com/jobs-guest/jobs/api/seeMoreJobPostings/search?keywords=healthcare&location=United%2BArab%2BEmirates&start=1000')\n",
      "INFO:li:scraper:('[healthcare][United Arab Emirates][967]', \"Couldn't find more jobs for the running query\")\n"
     ]
    },
    {
     "name": "stdout",
     "output_type": "stream",
     "text": [
      "[ON_END]\n"
     ]
    }
   ],
   "source": [
    "import logging\n",
    "from linkedin_jobs_scraper import LinkedinScraper\n",
    "from linkedin_jobs_scraper.events import Events, EventData\n",
    "from linkedin_jobs_scraper.query import Query, QueryOptions, QueryFilters\n",
    "from linkedin_jobs_scraper.filters import RelevanceFilters, TimeFilters, TypeFilters, ExperienceLevelFilters\n",
    "\n",
    "# Change root logger level (default is WARN)\n",
    "logging.basicConfig(level = logging.INFO)\n",
    "\n",
    "def on_data(data: EventData):\n",
    "    print('[ON_DATA]', data.title, data.company, data.date, data.link)\n",
    "    new_row = {'Title':data.title, 'Company':data.company, 'Date':data.date,\n",
    "               'Link':data.link, 'Description': data.description}\n",
    "    df.append(new_row, ignore_index=True)\n",
    "\n",
    "\n",
    "def on_error(error):\n",
    "    print('[ON_ERROR]', error)\n",
    "\n",
    "\n",
    "def on_end():\n",
    "    print('[ON_END]')\n",
    "\n",
    "\n",
    "scraper = LinkedinScraper(\n",
    "    chrome_executable_path= r'C:/Users/Admin/AppData/Local/Temp/Temp1_chromedriver_win32/chromedriver.exe', \n",
    "    chrome_options=None,  # Custom Chrome options here\n",
    "    headless=True,  # Overrides headless mode only if chrome_options is None\n",
    "    max_workers=1,  # How many threads will be spawned to run queries concurrently (one Chrome driver for each thread)\n",
    "    slow_mo=1.3,  # Slow down the scraper to avoid 'Too many requests (429)' errors\n",
    ")\n",
    "\n",
    "# Add event listeners\n",
    "scraper.on(Events.DATA, on_data)\n",
    "scraper.on(Events.ERROR, on_error)\n",
    "scraper.on(Events.END, on_end)\n",
    "\n",
    "queries = [\n",
    "    \n",
    "    Query(\n",
    "        query='healthcare',\n",
    "        options=QueryOptions(\n",
    "            locations=['United Arab Emirates'],\n",
    "            optimize=True,  # Blocks requests for resources like images and stylesheet\n",
    "            limit=1500  # Limit the number of jobs to scrape\n",
    "            \n",
    "        )\n",
    "    ),\n",
    "]\n",
    "\n",
    "scraper.run(queries)"
   ]
  },
  {
   "cell_type": "code",
   "execution_count": 14,
   "metadata": {},
   "outputs": [
    {
     "data": {
      "text/html": [
       "<div>\n",
       "<style scoped>\n",
       "    .dataframe tbody tr th:only-of-type {\n",
       "        vertical-align: middle;\n",
       "    }\n",
       "\n",
       "    .dataframe tbody tr th {\n",
       "        vertical-align: top;\n",
       "    }\n",
       "\n",
       "    .dataframe thead th {\n",
       "        text-align: right;\n",
       "    }\n",
       "</style>\n",
       "<table border=\"1\" class=\"dataframe\">\n",
       "  <thead>\n",
       "    <tr style=\"text-align: right;\">\n",
       "      <th></th>\n",
       "      <th>Title</th>\n",
       "      <th>Company</th>\n",
       "      <th>Date</th>\n",
       "      <th>Link</th>\n",
       "      <th>Description</th>\n",
       "    </tr>\n",
       "  </thead>\n",
       "  <tbody>\n",
       "  </tbody>\n",
       "</table>\n",
       "</div>"
      ],
      "text/plain": [
       "Empty DataFrame\n",
       "Columns: [Title, Company, Date, Link, Description]\n",
       "Index: []"
      ]
     },
     "execution_count": 14,
     "metadata": {},
     "output_type": "execute_result"
    }
   ],
   "source": [
    "df"
   ]
  },
  {
   "cell_type": "code",
   "execution_count": 4,
   "metadata": {},
   "outputs": [
    {
     "ename": "AttributeError",
     "evalue": "'LinkedinScraper' object has no attribute 'o'",
     "output_type": "error",
     "traceback": [
      "\u001b[1;31m---------------------------------------------------------------------------\u001b[0m",
      "\u001b[1;31mAttributeError\u001b[0m                            Traceback (most recent call last)",
      "\u001b[1;32m<ipython-input-4-e36b05bf6343>\u001b[0m in \u001b[0;36m<module>\u001b[1;34m\u001b[0m\n\u001b[1;32m----> 1\u001b[1;33m \u001b[0mscraper\u001b[0m\u001b[1;33m.\u001b[0m\u001b[0mo\u001b[0m\u001b[1;33m\u001b[0m\u001b[1;33m\u001b[0m\u001b[0m\n\u001b[0m",
      "\u001b[1;31mAttributeError\u001b[0m: 'LinkedinScraper' object has no attribute 'o'"
     ]
    }
   ],
   "source": [
    "scraper."
   ]
  },
  {
   "cell_type": "code",
   "execution_count": null,
   "metadata": {},
   "outputs": [],
   "source": []
  }
 ],
 "metadata": {
  "kernelspec": {
   "display_name": "Python 3",
   "language": "python",
   "name": "python3"
  },
  "language_info": {
   "codemirror_mode": {
    "name": "ipython",
    "version": 3
   },
   "file_extension": ".py",
   "mimetype": "text/x-python",
   "name": "python",
   "nbconvert_exporter": "python",
   "pygments_lexer": "ipython3",
   "version": "3.8.8"
  }
 },
 "nbformat": 4,
 "nbformat_minor": 2
}
